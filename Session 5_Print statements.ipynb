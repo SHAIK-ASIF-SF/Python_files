{
 "cells": [
  {
   "cell_type": "markdown",
   "id": "4e5c23be",
   "metadata": {},
   "source": [
    "### print statement"
   ]
  },
  {
   "cell_type": "code",
   "execution_count": 1,
   "id": "77c51270",
   "metadata": {},
   "outputs": [
    {
     "data": {
      "text/plain": [
       "10"
      ]
     },
     "execution_count": 1,
     "metadata": {},
     "output_type": "execute_result"
    }
   ],
   "source": [
    "num1=10\n",
    "num1"
   ]
  },
  {
   "cell_type": "code",
   "execution_count": 2,
   "id": "696a7fac",
   "metadata": {},
   "outputs": [
    {
     "name": "stdout",
     "output_type": "stream",
     "text": [
      "10\n"
     ]
    }
   ],
   "source": [
    "print(num1)"
   ]
  },
  {
   "cell_type": "code",
   "execution_count": 3,
   "id": "6a09ae1b",
   "metadata": {},
   "outputs": [
    {
     "name": "stdout",
     "output_type": "stream",
     "text": [
      "10\n",
      "20\n"
     ]
    }
   ],
   "source": [
    "num1=10\n",
    "num2=20\n",
    "print(num1)\n",
    "print(num2)"
   ]
  },
  {
   "cell_type": "code",
   "execution_count": 4,
   "id": "fb684cf2",
   "metadata": {},
   "outputs": [
    {
     "name": "stdout",
     "output_type": "stream",
     "text": [
      "hai how are you =======\n"
     ]
    }
   ],
   "source": [
    "print(\"hai how are you =======\")"
   ]
  },
  {
   "cell_type": "code",
   "execution_count": 5,
   "id": "ecd2f1f0",
   "metadata": {},
   "outputs": [
    {
     "name": "stdout",
     "output_type": "stream",
     "text": [
      "10 20 30\n"
     ]
    }
   ],
   "source": [
    "print(10,20,30)"
   ]
  },
  {
   "cell_type": "code",
   "execution_count": 6,
   "id": "63bb6e5f",
   "metadata": {},
   "outputs": [
    {
     "name": "stdout",
     "output_type": "stream",
     "text": [
      "10 and 20\n"
     ]
    }
   ],
   "source": [
    "print(10,'and',20)     #10 and 20"
   ]
  },
  {
   "cell_type": "code",
   "execution_count": 7,
   "id": "19d13f9b",
   "metadata": {},
   "outputs": [
    {
     "name": "stdout",
     "output_type": "stream",
     "text": [
      "10 and 20\n"
     ]
    }
   ],
   "source": [
    "print('10 and 20')"
   ]
  },
  {
   "cell_type": "code",
   "execution_count": 3,
   "id": "f5d9cf7b",
   "metadata": {},
   "outputs": [
    {
     "name": "stdout",
     "output_type": "stream",
     "text": [
      "10 20\n",
      "10 20\n",
      "10 and 20\n",
      "10 and 20\n",
      "10 and 20\n",
      "10'and'20\n"
     ]
    }
   ],
   "source": [
    "num1=10\n",
    "num2=20\n",
    "print(num1,num2)\n",
    "print(10,20)\n",
    "print(num1,'and',num2)\n",
    "print(10,'and',20)\n",
    "print('10 and 20')\n",
    "print(f\"{num1}'and'{num2}\")"
   ]
  },
  {
   "cell_type": "code",
   "execution_count": 5,
   "id": "fddfc710",
   "metadata": {},
   "outputs": [
    {
     "name": "stdout",
     "output_type": "stream",
     "text": [
      "10 20\n",
      "10 20\n",
      "10 and 20\n",
      ", 20\n",
      "10 and 20\n",
      "10,'and',20\n"
     ]
    }
   ],
   "source": [
    "num1=10\n",
    "num2=20\n",
    "print(num1,num2)\n",
    "print(10,20)\n",
    "print(num1,'and',num2)\n",
    "print('10,'and', 20')\n",
    "print('10 and 20')\n",
    "print(f\"{num1},'and',{num2}\")"
   ]
  },
  {
   "cell_type": "code",
   "execution_count": 11,
   "id": "dd9030f8",
   "metadata": {},
   "outputs": [
    {
     "name": "stdout",
     "output_type": "stream",
     "text": [
      "the addition of 10 and 20 is 30\n"
     ]
    }
   ],
   "source": [
    "a=10\n",
    "b=20\n",
    "c=a+b\n",
    "# the addition of 10 and 20 is 30\n",
    "print(\"the addition of\",a,'and',b,'is',c)"
   ]
  },
  {
   "cell_type": "code",
   "execution_count": 7,
   "id": "0b153476",
   "metadata": {},
   "outputs": [
    {
     "name": "stdout",
     "output_type": "stream",
     "text": [
      "the addition numbers of  200 and 300\n"
     ]
    }
   ],
   "source": [
    "a=200\n",
    "b=300\n",
    "print(\"the addition numbers of \",a,'and',b)"
   ]
  },
  {
   "cell_type": "code",
   "execution_count": 12,
   "id": "9100576f",
   "metadata": {},
   "outputs": [],
   "source": [
    "# take your name in a variable\n",
    "# take you city in a variable\n",
    "# take your age in a age variable\n",
    "# my name is python, im from hyderabad and im 10 years old"
   ]
  },
  {
   "cell_type": "code",
   "execution_count": 14,
   "id": "d3815d37",
   "metadata": {},
   "outputs": [
    {
     "name": "stdout",
     "output_type": "stream",
     "text": [
      "my name is python\n",
      "im from hyderabad\n",
      "im 10 years old\n",
      "my name is python , im from hyderabad and im 10 yearsold.\n"
     ]
    }
   ],
   "source": [
    "name=\"python\"\n",
    "city=\"hyderabad\"\n",
    "age=10\n",
    "print(\"my name is\",name)\n",
    "print(\"im from\",city)\n",
    "print(\"im\",age,'years old')\n",
    "print(\"my name is\",name,',','im from',city,'and im',age,'yearsold.')\n",
    "      "
   ]
  },
  {
   "cell_type": "code",
   "execution_count": 1,
   "id": "f2df1125",
   "metadata": {},
   "outputs": [
    {
     "name": "stdout",
     "output_type": "stream",
     "text": [
      "i am asif,and i am from kmr,i cmpleated my m.com,recently  and  i am good,i am happy\n"
     ]
    }
   ],
   "source": [
    "name=\"asif\"\n",
    "city=\"kmr\"\n",
    "study=\"m.com\"\n",
    "qualities=\"good\"\n",
    "print(f\"i am {name},and i am from {city},i cmpleated my {study},recently  and  i am {qualities},i am happy\")"
   ]
  },
  {
   "cell_type": "markdown",
   "id": "9aaae7e4",
   "metadata": {},
   "source": [
    "### Method-2"
   ]
  },
  {
   "cell_type": "markdown",
   "id": "1c1e30ab",
   "metadata": {},
   "source": [
    "### format"
   ]
  },
  {
   "cell_type": "code",
   "execution_count": 15,
   "id": "f34ab204",
   "metadata": {},
   "outputs": [
    {
     "name": "stdout",
     "output_type": "stream",
     "text": [
      "the addition of 10 and 20 is 30.\n"
     ]
    }
   ],
   "source": [
    "a=10\n",
    "b=20\n",
    "c=a+b\n",
    "\n",
    "# the addition of 10 and 20 is 30.\n",
    "\n",
    "print(\"the addition of {} and {} is {}.\".format(a,b,c))"
   ]
  },
  {
   "cell_type": "code",
   "execution_count": 26,
   "id": "fdc09a5c",
   "metadata": {},
   "outputs": [
    {
     "name": "stdout",
     "output_type": "stream",
     "text": [
      "my name is python, im from hyd and im 10 years old\n"
     ]
    }
   ],
   "source": [
    "name='python'\n",
    "city='hyd'\n",
    "age=10\n",
    "print(\"my name is {}, im from {} and im {} years old\".format(name,city,age))"
   ]
  },
  {
   "cell_type": "code",
   "execution_count": 13,
   "id": "89f53f5c",
   "metadata": {},
   "outputs": [
    {
     "name": "stdout",
     "output_type": "stream",
     "text": [
      "i am asif, and i am from kmr, i cmpleated my m.com, recently and good,i am happy\n"
     ]
    }
   ],
   "source": [
    "name=\"asif\"\n",
    "city=\"kmr\"\n",
    "study=\"m.com\"\n",
    "qualities=\"good\"\n",
    "print(\"i am {}, and i am from {}, i cmpleated my {}, recently and {},i am happy\".format(name,city,study,qualities))"
   ]
  },
  {
   "cell_type": "markdown",
   "id": "b6e5c9d7",
   "metadata": {},
   "source": [
    "### Methoud-2"
   ]
  },
  {
   "cell_type": "code",
   "execution_count": 9,
   "id": "17c62043",
   "metadata": {},
   "outputs": [
    {
     "name": "stdout",
     "output_type": "stream",
     "text": [
      "the addition of 10 and 20 is 30\n"
     ]
    }
   ],
   "source": [
    "a=10\n",
    "b=20\n",
    "c=a+b\n",
    "\n",
    "# the addition of 10and 20 is 30.\n",
    "\n",
    "print(f\"the addition of {a} and {b} is {c}\")"
   ]
  },
  {
   "cell_type": "code",
   "execution_count": 10,
   "id": "d0db187a",
   "metadata": {},
   "outputs": [
    {
     "name": "stdout",
     "output_type": "stream",
     "text": [
      "my name is python\n"
     ]
    }
   ],
   "source": [
    "name='python'\n",
    "print(f\"my name is {name}\")"
   ]
  },
  {
   "cell_type": "code",
   "execution_count": 11,
   "id": "110f7a13",
   "metadata": {},
   "outputs": [
    {
     "name": "stdout",
     "output_type": "stream",
     "text": [
      "my name is python, im from hyd and im 10 years old\n"
     ]
    }
   ],
   "source": [
    "name='python'\n",
    "city='hyd'\n",
    "age=10\n",
    "print(f\"my name is {name}, im from {city} and im {age} years old\")"
   ]
  },
  {
   "cell_type": "markdown",
   "id": "c1eeda18",
   "metadata": {},
   "source": [
    "### end"
   ]
  },
  {
   "cell_type": "code",
   "execution_count": 12,
   "id": "f182312b",
   "metadata": {},
   "outputs": [
    {
     "name": "stdout",
     "output_type": "stream",
     "text": [
      "hai------->hello\n"
     ]
    }
   ],
   "source": [
    "print(\"hai\",end='------->')\n",
    "print('hello')"
   ]
  },
  {
   "cell_type": "code",
   "execution_count": 14,
   "id": "7ab9ea49",
   "metadata": {},
   "outputs": [
    {
     "name": "stdout",
     "output_type": "stream",
     "text": [
      "hai baby how are you i am so lucky because of i met you--------->"
     ]
    }
   ],
   "source": [
    "print(\"hai baby how are you i am so lucky because of i met you\",end='--------->')"
   ]
  },
  {
   "cell_type": "code",
   "execution_count": 18,
   "id": "520053a0",
   "metadata": {},
   "outputs": [
    {
     "name": "stdout",
     "output_type": "stream",
     "text": [
      "asiflearningpython\n"
     ]
    }
   ],
   "source": [
    "print('asif',end='learning')\n",
    "print('python')"
   ]
  },
  {
   "cell_type": "markdown",
   "id": "b0a1f037",
   "metadata": {},
   "source": [
    "### sep"
   ]
  },
  {
   "cell_type": "code",
   "execution_count": 19,
   "id": "ff75f977",
   "metadata": {},
   "outputs": [
    {
     "name": "stdout",
     "output_type": "stream",
     "text": [
      "helloandhai\n",
      "hello and hai\n"
     ]
    }
   ],
   "source": [
    "print(\"hello\",'hai',sep='and')\n",
    "\n",
    "print(\"hello\",'and','hai')"
   ]
  },
  {
   "cell_type": "code",
   "execution_count": 21,
   "id": "101dff39",
   "metadata": {},
   "outputs": [
    {
     "name": "stdout",
     "output_type": "stream",
     "text": [
      "1---->2---->3---->4---->5---->6\n"
     ]
    }
   ],
   "source": [
    "print(1,2,3,4,5,6,sep='---->')\n",
    "# 1---->2---->3---->4---->5----->6"
   ]
  },
  {
   "cell_type": "markdown",
   "id": "b2697bf5",
   "metadata": {},
   "source": [
    "- foormat\n",
    "- fstring\n",
    "- end\n",
    "- sep"
   ]
  },
  {
   "cell_type": "code",
   "execution_count": null,
   "id": "5ca6361e",
   "metadata": {},
   "outputs": [],
   "source": []
  }
 ],
 "metadata": {
  "kernelspec": {
   "display_name": "Python 3 (ipykernel)",
   "language": "python",
   "name": "python3"
  },
  "language_info": {
   "codemirror_mode": {
    "name": "ipython",
    "version": 3
   },
   "file_extension": ".py",
   "mimetype": "text/x-python",
   "name": "python",
   "nbconvert_exporter": "python",
   "pygments_lexer": "ipython3",
   "version": "3.11.5"
  }
 },
 "nbformat": 4,
 "nbformat_minor": 5
}
