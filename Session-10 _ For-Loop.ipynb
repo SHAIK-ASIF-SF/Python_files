{
 "cells": [
  {
   "cell_type": "markdown",
   "id": "114c6ec6",
   "metadata": {},
   "source": [
    "- Basic python\n",
    "- Conditional statement if-else\n",
    "- Try-exception\n",
    "- function\n",
    "- packages vs functions\n",
    "- loop\n",
    "for while\n",
    "any programe"
   ]
  },
  {
   "cell_type": "raw",
   "id": "5ac5cab3",
   "metadata": {},
   "source": [
    "\n",
    "# Loop : repeated task\n",
    "# function : reuse\n",
    "\n",
    "I want to calculate tax\n",
    "\n",
    "def tax_pay(100):\n",
    "    salary\n",
    "    taxper\n",
    "    tax_amount\n",
    "\n"
   ]
  },
  {
   "cell_type": "code",
   "execution_count": null,
   "id": "bc3dbbf1",
   "metadata": {},
   "outputs": [],
   "source": [
    "tax_pay ==== 100"
   ]
  },
  {
   "cell_type": "code",
   "execution_count": null,
   "id": "53ecdadc",
   "metadata": {},
   "outputs": [],
   "source": [
    "3---1   100  100line"
   ]
  },
  {
   "cell_type": "code",
   "execution_count": null,
   "id": "0eb8637d",
   "metadata": {},
   "outputs": [],
   "source": [
    "step-1: tax pay\n",
    "salary\n",
    "taxper\n",
    "tax_amount       3\n",
    "\n",
    "100 x3=300\n",
    "\n",
    "# 3 lines to one line ============function\n",
    "100 x1=100\n",
    "\n",
    "\n",
    "# 100 lines 1 =======Loop\n"
   ]
  },
  {
   "cell_type": "code",
   "execution_count": 3,
   "id": "eb96a4a8",
   "metadata": {},
   "outputs": [
    {
     "name": "stdout",
     "output_type": "stream",
     "text": [
      "0\n",
      "1\n",
      "2\n",
      "3\n",
      "4\n"
     ]
    }
   ],
   "source": [
    "for i in range(5):\n",
    "    print(i)"
   ]
  },
  {
   "cell_type": "markdown",
   "id": "7443b123",
   "metadata": {},
   "source": [
    "If you want to run any loop we want 3 things\n",
    "\n",
    "- intial point: to start the loop\n",
    "- increment or decrement: gap\n",
    "- condition: to stop the loop\n",
    "\n",
    "\n",
    "\n",
    "i want to start with 1\n",
    "i want to stop at 10\n",
    "i want to go step by step by 2 unit\n",
    "\n",
    "1  3  5  7  9"
   ]
  },
  {
   "cell_type": "code",
   "execution_count": null,
   "id": "22eee23b",
   "metadata": {},
   "outputs": [],
   "source": [
    "in for loop there 3 lines represent only one line"
   ]
  },
  {
   "cell_type": "markdown",
   "id": "4f7ca9f3",
   "metadata": {},
   "source": [
    "## pattern-1:\n",
    "    \n",
    "range(stop)\n",
    "\n",
    "- start value by default is 0\n",
    "\n",
    "- in python index starts with zero\n",
    "\n",
    "- by default it is increment by 1\n",
    "\n",
    "- last = stop-1\n",
    "\n",
    "\n",
    "range (5) start=0 incre=1 last=4  # \n",
    "\n"
   ]
  },
  {
   "cell_type": "code",
   "execution_count": 6,
   "id": "26102e28",
   "metadata": {},
   "outputs": [
    {
     "name": "stdout",
     "output_type": "stream",
     "text": [
      "0\n",
      "1\n",
      "2\n",
      "3\n",
      "4\n",
      "5\n",
      "6\n",
      "7\n",
      "8\n",
      "9\n"
     ]
    }
   ],
   "source": [
    "for i in range(10):    # start=0  last=9\n",
    "    print(i)"
   ]
  },
  {
   "cell_type": "code",
   "execution_count": 47,
   "id": "c18150d6",
   "metadata": {},
   "outputs": [
    {
     "name": "stdout",
     "output_type": "stream",
     "text": [
      "1 2 3 8 "
     ]
    }
   ],
   "source": [
    "print(1,end=' ')\n",
    "print(2,end=' ')\n",
    "print(3,end=' ')\n",
    "\n",
    "print(i,end=' ')"
   ]
  },
  {
   "cell_type": "code",
   "execution_count": 1,
   "id": "b59ca79b",
   "metadata": {},
   "outputs": [
    {
     "name": "stdout",
     "output_type": "stream",
     "text": [
      "0 0\n",
      "0\n",
      "1 1\n",
      "1\n",
      "2 4\n",
      "2\n",
      "3 9\n",
      "3\n",
      "4 16\n",
      "4\n",
      "5 25\n",
      "5\n",
      "6 36\n",
      "6\n",
      "7 49\n",
      "7\n",
      "8 64\n",
      "8\n",
      "9 81\n",
      "9\n"
     ]
    }
   ],
   "source": [
    "for i in range (10):\n",
    "    print(i,end=' ')\n",
    "    print(i*i)\n",
    "    \n",
    "    print(i)\n",
    "    \n",
    "# 0  0\n",
    "# 1  1\n",
    "# 2  4\n",
    "# 3  9\n"
   ]
  },
  {
   "cell_type": "code",
   "execution_count": 3,
   "id": "a9aeb1d4",
   "metadata": {},
   "outputs": [
    {
     "name": "stdout",
     "output_type": "stream",
     "text": [
      "1\n",
      "2\n",
      "3\n",
      "4 5\n"
     ]
    }
   ],
   "source": [
    "print(1)\n",
    "print(2)\n",
    "print(3)\n",
    "print(4,end=' ')\n",
    "print(5)\n",
    "\n"
   ]
  },
  {
   "cell_type": "code",
   "execution_count": 7,
   "id": "d603f75b",
   "metadata": {},
   "outputs": [
    {
     "name": "stdout",
     "output_type": "stream",
     "text": [
      "0 1 2 3 4 5 6 7 8 9 "
     ]
    }
   ],
   "source": [
    "for i in range(10):\n",
    "    print(i,end=' ')"
   ]
  },
  {
   "cell_type": "code",
   "execution_count": 21,
   "id": "4d4b132d",
   "metadata": {},
   "outputs": [
    {
     "name": "stdout",
     "output_type": "stream",
     "text": [
      "0 1 2 3 4 5 6 7 8 "
     ]
    }
   ],
   "source": [
    "for i in range(9):\n",
    "    print(i,end=' ')\n"
   ]
  },
  {
   "cell_type": "markdown",
   "id": "7b51b6aa",
   "metadata": {},
   "source": [
    "# pattern-2"
   ]
  },
  {
   "cell_type": "markdown",
   "id": "dd49d0f0",
   "metadata": {},
   "source": [
    "range(start,stop)\n",
    "\n",
    "- start value taken as start mention inside the range\n",
    "\n",
    "- increment by default it will take one:1\n",
    "    \n",
    "- last = stop- 1\n",
    "\n",
    "range(5,11)  start=5 inc=1 last=11-1=10       # 5,6,7,8,9,10"
   ]
  },
  {
   "cell_type": "code",
   "execution_count": null,
   "id": "8f70bd2e",
   "metadata": {},
   "outputs": [],
   "source": [
    "# range(5,11) start=5 inc=1  last=11-1=10      "
   ]
  },
  {
   "cell_type": "code",
   "execution_count": 23,
   "id": "250a366d",
   "metadata": {},
   "outputs": [
    {
     "name": "stdout",
     "output_type": "stream",
     "text": [
      "5 6 7 8 9 "
     ]
    }
   ],
   "source": [
    "for i in range(5,10):\n",
    "    print(i,end=' ')"
   ]
  },
  {
   "cell_type": "markdown",
   "id": "82e03177",
   "metadata": {},
   "source": [
    "## Patern-3 "
   ]
  },
  {
   "cell_type": "markdown",
   "id": "8faf6442",
   "metadata": {},
   "source": [
    "range(start,stop,step)\n",
    "\n",
    "- start=start\n",
    "\n",
    "- step : how much gap?\n",
    "    - if step sixe is positive value as positive direction\n",
    "    \n",
    "    - if slep size is negitive value consider as negitive direction\n",
    "    \n",
    "- last:\n",
    "    last = stop-1   if step size is negitive value\n",
    "    \n",
    "    last =stop+1  if step size is negitive value\n",
    "    "
   ]
  },
  {
   "cell_type": "code",
   "execution_count": 1,
   "id": "120e4c07",
   "metadata": {},
   "outputs": [
    {
     "name": "stdout",
     "output_type": "stream",
     "text": [
      "3 5 7 9 11 13 "
     ]
    }
   ],
   "source": [
    "for i in range(3,15,2):\n",
    "    print(i,end=' ')\n",
    "    \n",
    "    \n",
    "# start=3\n",
    "# step=2\n",
    "# direction (+ve)\n",
    "# last=15-1=14\n",
    "# 3 to 14 by give 2 units gap"
   ]
  },
  {
   "cell_type": "code",
   "execution_count": 2,
   "id": "b5a9d9f3",
   "metadata": {},
   "outputs": [],
   "source": [
    "for i in range(3,-15,2):\n",
    "    print(i,end=' ')\n",
    "    \n",
    "# start=3, step=-2  dire=(-)ve  Last=15+1=16\n",
    "# 3 to 16 in  reverse direction\n",
    "\n",
    "# it will work so no error and no answer"
   ]
  },
  {
   "cell_type": "code",
   "execution_count": 26,
   "id": "beb39074",
   "metadata": {},
   "outputs": [
    {
     "name": "stdout",
     "output_type": "stream",
     "text": [
      "3 5 7 9 11 13 "
     ]
    }
   ],
   "source": [
    "for i in range(3,15,2):\n",
    "    print(i,end=' ')\n",
    "    \n",
    "    \n",
    "# start=3 step=2 (+ve ) last =-15  -16\n",
    "# 3 to -16"
   ]
  },
  {
   "cell_type": "code",
   "execution_count": null,
   "id": "adaa8810",
   "metadata": {},
   "outputs": [],
   "source": [
    "range(5,15,3)       # p\n",
    "range(5,15,-3)      # starts=5      step-3 np\n",
    "range(5,-15,-3)     # p\n",
    "range(-5,-15,-3)    # p\n",
    "range(5,-15,3)      # np\n",
    "range(-5,-15,3)     # np\n",
    "range(-5,15,-3)     # np\n",
    "range(-5,15,3)      # p\n",
    "range(5,15,3)       # p\n",
    "range(-5,15)        # p\n",
    "range(-5,-5)        #np\n",
    "range(5,15)         # np\n",
    "range(-15,5)        # p\n",
    "range(15,-5)        # np"
   ]
  },
  {
   "cell_type": "code",
   "execution_count": 1,
   "id": "62ab2108",
   "metadata": {},
   "outputs": [
    {
     "name": "stdout",
     "output_type": "stream",
     "text": [
      "the square of 5 is 25\n",
      "the square of 6 is 36\n",
      "the square of 7 is 49\n",
      "the square of 8 is 64\n",
      "the square of 9 is 81\n",
      "the square of 10 is 100\n",
      "the square of 11 is 121\n",
      "the square of 12 is 144\n",
      "the square of 13 is 169\n",
      "the square of 14 is 196\n",
      "the square of 15 is 225\n",
      "the square of 16 is 256\n",
      "the square of 17 is 289\n",
      "the square of 18 is 324\n",
      "the square of 19 is 361\n",
      "the square of 20 is 400\n",
      "the square of 21 is 441\n",
      "the square of 22 is 484\n",
      "the square of 23 is 529\n",
      "the square of 24 is 576\n",
      "the square of 25 is 625\n"
     ]
    }
   ],
   "source": [
    "# wap ask the print square of the numbers between 5 to 10\n",
    "# print (the square of 5 is 25)\n",
    "\n",
    "for i in range(5,26):\n",
    "     print(f\"the square of {i} is {i*i}\")"
   ]
  },
  {
   "cell_type": "code",
   "execution_count": 1,
   "id": "9ce8bbe9",
   "metadata": {},
   "outputs": [
    {
     "name": "stdout",
     "output_type": "stream",
     "text": [
      "5 8 11 14 "
     ]
    }
   ],
   "source": [
    "for i in range (5,15,3):\n",
    "    print(i,end=' ')\n"
   ]
  },
  {
   "cell_type": "code",
   "execution_count": 6,
   "id": "ec792019",
   "metadata": {},
   "outputs": [],
   "source": [
    "for i in range (5,15,-3):\n",
    "    print(i,end=' ')\n",
    "# not possible"
   ]
  },
  {
   "cell_type": "code",
   "execution_count": 4,
   "id": "181b8ea1",
   "metadata": {},
   "outputs": [
    {
     "name": "stdout",
     "output_type": "stream",
     "text": [
      "5 2 -1 -4 -7 -10 -13 "
     ]
    }
   ],
   "source": [
    "for i in range (5,-15,-3):\n",
    "    print(i,end=' ')\n"
   ]
  },
  {
   "cell_type": "code",
   "execution_count": 5,
   "id": "1b33b321",
   "metadata": {},
   "outputs": [
    {
     "name": "stdout",
     "output_type": "stream",
     "text": [
      "-5 -8 -11 -14 "
     ]
    }
   ],
   "source": [
    "for i in range (-5,-15,-3):\n",
    "    print(i,end=' ')\n"
   ]
  },
  {
   "cell_type": "code",
   "execution_count": null,
   "id": "fd68edb7",
   "metadata": {},
   "outputs": [],
   "source": []
  },
  {
   "cell_type": "code",
   "execution_count": 6,
   "id": "63a25991",
   "metadata": {},
   "outputs": [],
   "source": [
    "for i in range (5,-15,3):\n",
    "    print(i,end=' ')\n"
   ]
  },
  {
   "cell_type": "code",
   "execution_count": 17,
   "id": "fb1b9f89",
   "metadata": {},
   "outputs": [],
   "source": [
    "# not passing data"
   ]
  },
  {
   "cell_type": "code",
   "execution_count": 7,
   "id": "e6377a85",
   "metadata": {},
   "outputs": [],
   "source": [
    "for i in range (-5,-15,3):\n",
    "    print(i,end=' ')\n"
   ]
  },
  {
   "cell_type": "code",
   "execution_count": 18,
   "id": "9365b20e",
   "metadata": {},
   "outputs": [],
   "source": [
    "# Not passing data"
   ]
  },
  {
   "cell_type": "code",
   "execution_count": 8,
   "id": "c5fab61f",
   "metadata": {},
   "outputs": [],
   "source": [
    "for i in range (-5,15,-3):\n",
    "    print(i,end=' ')\n"
   ]
  },
  {
   "cell_type": "code",
   "execution_count": 19,
   "id": "60c71018",
   "metadata": {},
   "outputs": [],
   "source": [
    "# Not passing data"
   ]
  },
  {
   "cell_type": "code",
   "execution_count": 9,
   "id": "d417f124",
   "metadata": {},
   "outputs": [
    {
     "name": "stdout",
     "output_type": "stream",
     "text": [
      "-5 -2 1 4 7 10 13 "
     ]
    }
   ],
   "source": [
    "for i in range (-5,15,3):\n",
    "    print(i,end=' ')\n"
   ]
  },
  {
   "cell_type": "code",
   "execution_count": 10,
   "id": "3797ec93",
   "metadata": {},
   "outputs": [
    {
     "name": "stdout",
     "output_type": "stream",
     "text": [
      "5 8 11 14 "
     ]
    }
   ],
   "source": [
    "for i in range (5,15,3):\n",
    "    print(i,end=' ')\n"
   ]
  },
  {
   "cell_type": "code",
   "execution_count": 11,
   "id": "bd282ded",
   "metadata": {},
   "outputs": [
    {
     "name": "stdout",
     "output_type": "stream",
     "text": [
      "-5 -4 -3 -2 -1 0 1 2 3 4 5 6 7 8 9 10 11 12 13 14 "
     ]
    }
   ],
   "source": [
    "for i in range (-5,15,):\n",
    "    print(i,end=' ')\n"
   ]
  },
  {
   "cell_type": "code",
   "execution_count": 12,
   "id": "b6f77a04",
   "metadata": {},
   "outputs": [],
   "source": [
    "for i in range (-5,-15,):\n",
    "    print(i,end=' ')\n"
   ]
  },
  {
   "cell_type": "code",
   "execution_count": 20,
   "id": "3743e51e",
   "metadata": {},
   "outputs": [],
   "source": [
    "# Not passing data"
   ]
  },
  {
   "cell_type": "code",
   "execution_count": 13,
   "id": "5e3bec4e",
   "metadata": {},
   "outputs": [
    {
     "name": "stdout",
     "output_type": "stream",
     "text": [
      "5 6 7 8 9 10 11 12 13 14 "
     ]
    }
   ],
   "source": [
    "for i in range (5,15,):\n",
    "    print(i,end=' ')\n"
   ]
  },
  {
   "cell_type": "code",
   "execution_count": 15,
   "id": "bee06e3a",
   "metadata": {},
   "outputs": [
    {
     "name": "stdout",
     "output_type": "stream",
     "text": [
      "-5 -4 -3 -2 -1 0 1 2 3 4 5 6 7 8 9 10 11 12 13 14 "
     ]
    }
   ],
   "source": [
    "for i in range (-5,15):\n",
    "    print(i,end=' ')\n"
   ]
  },
  {
   "cell_type": "code",
   "execution_count": 38,
   "id": "03e8e245",
   "metadata": {},
   "outputs": [
    {
     "name": "stdout",
     "output_type": "stream",
     "text": [
      "enter the multiplication number you want:19\n",
      "19x1=19\n",
      "19x2=38\n",
      "19x3=57\n",
      "19x4=76\n",
      "19x5=95\n",
      "19x6=114\n",
      "19x7=133\n",
      "19x8=152\n",
      "19x9=171\n",
      "19x10=190\n"
     ]
    }
   ],
   "source": [
    "# implement the 9th table\n",
    "# 9 x1=9\n",
    "# 9 x2=18\n",
    "# 9 x3=27\n",
    "\n",
    "# 9 x10 =90\n",
    "\n",
    "num=eval(input(\"enter the multiplication number you want:\"))\n",
    "for i in range(1,11):\n",
    "    print(f\"{num}x{i}={num*i}\")"
   ]
  },
  {
   "cell_type": "code",
   "execution_count": 9,
   "id": "777eb573",
   "metadata": {},
   "outputs": [
    {
     "name": "stdout",
     "output_type": "stream",
     "text": [
      "enter the multiplication you want:3\n",
      "3x1=3\n",
      "3x2=6\n",
      "3x3=9\n",
      "3x4=12\n",
      "3x5=15\n",
      "3x6=18\n",
      "3x7=21\n",
      "3x8=24\n",
      "3x9=27\n",
      "3x10=30\n"
     ]
    }
   ],
   "source": [
    "num=eval(input(\"enter the multiplication you want:\"))\n",
    "for i in range(1,11):\n",
    "    print(f\"{num}x{i}={num*i}\")"
   ]
  },
  {
   "cell_type": "code",
   "execution_count": 39,
   "id": "db18b200",
   "metadata": {},
   "outputs": [
    {
     "name": "stdout",
     "output_type": "stream",
     "text": [
      "the square 31 is 961\n",
      "the square 26 is 676\n",
      "the square 25 is 625\n",
      "the square 34 is 1156\n",
      "the square 5 is 25\n"
     ]
    }
   ],
   "source": [
    "# wap ask the user get 5 random numbers between 5 to 50\n",
    "# and print the squar of those numbers\n",
    "\n",
    "\n",
    "# 5 random numbers means : Loop should run 5 times\n",
    "# to get random number we need to use random package\n",
    "# random.randint we need to keep inside the for loop \n",
    "\n",
    "import random\n",
    "for i in range(5):\n",
    "    num=random.randint(5,50)\n",
    "    print(f\"the square {num} is {num*num}\")\n"
   ]
  },
  {
   "cell_type": "code",
   "execution_count": null,
   "id": "ad9ec0e2",
   "metadata": {},
   "outputs": [],
   "source": [
    "import random\n",
    "\n",
    "for i in range(5):\n",
    "    num=random.randint(5,50)\n",
    "    print(f\"the square of {num} is {num*num}\")\n",
    "    \n",
    "###################################################\n",
    "\n",
    "num=random.randint(5,50)  # num\n",
    "for i in range(5):\n",
    "    print(f\"the square of {num} is {num*num}\")"
   ]
  },
  {
   "cell_type": "code",
   "execution_count": 41,
   "id": "e2bcd4dd",
   "metadata": {},
   "outputs": [
    {
     "name": "stdout",
     "output_type": "stream",
     "text": [
      "the square of 39 is 1521\n",
      "the square of 41 is 1681\n",
      "the square of 16 is 256\n",
      "the square of 11 is 121\n",
      "the square of 30 is 900\n"
     ]
    }
   ],
   "source": [
    "for i in range(5):\n",
    "    num=random.randint(5,50)\n",
    "    print(f\"the square of {num} is {num*num}\")"
   ]
  },
  {
   "cell_type": "code",
   "execution_count": 3,
   "id": "801eba93",
   "metadata": {},
   "outputs": [
    {
     "name": "stdout",
     "output_type": "stream",
     "text": [
      "the squares of10 is 100\n",
      "the squares of10 is 100\n",
      "the squares of10 is 100\n",
      "the squares of10 is 100\n",
      "the squares of10 is 100\n"
     ]
    }
   ],
   "source": [
    "for i in range(5):\n",
    "    num=10\n",
    "    print(f\"the squares of{num} is {num*num}\")"
   ]
  },
  {
   "cell_type": "code",
   "execution_count": 4,
   "id": "5b43e19e",
   "metadata": {},
   "outputs": [
    {
     "name": "stdout",
     "output_type": "stream",
     "text": [
      "enter the number you want:6\n",
      "the squares of6 is 36\n",
      "enter the number you want:8\n",
      "the squares of8 is 64\n",
      "enter the number you want:222\n",
      "the squares of222 is 49284\n",
      "enter the number you want:55\n",
      "the squares of55 is 3025\n",
      "enter the number you want:34\n",
      "the squares of34 is 1156\n"
     ]
    }
   ],
   "source": [
    "for i in range(5):\n",
    "    num=eval(input(\"enter the number you want:\"))\n",
    "    print(f\"the squares of{num} is {num*num}\")"
   ]
  },
  {
   "cell_type": "code",
   "execution_count": null,
   "id": "81d1599c",
   "metadata": {},
   "outputs": [],
   "source": [
    "for i in range(5,11):\n",
    "    print(f\"the square of {i} is {i*i}\")"
   ]
  },
  {
   "cell_type": "code",
   "execution_count": 46,
   "id": "2eaaaaeb",
   "metadata": {},
   "outputs": [
    {
     "name": "stdout",
     "output_type": "stream",
     "text": [
      "good morning\n",
      "good morning\n",
      "good morning\n",
      "good morning\n",
      "good morning\n",
      "good morning\n",
      "good morning\n",
      "good morning\n",
      "good morning\n"
     ]
    }
   ],
   "source": [
    "# print(\"good morning\")\n",
    "# print(\"good morning\")\n",
    "# print(\"good morning\")\n",
    "\n",
    "for i in range(9):\n",
    "    print(\"good morning\")"
   ]
  },
  {
   "cell_type": "code",
   "execution_count": 18,
   "id": "f6d2440f",
   "metadata": {},
   "outputs": [
    {
     "name": "stdout",
     "output_type": "stream",
     "text": [
      "the square of 1 is 1\n",
      "the square of 2 is 4\n",
      "the square of 3 is 9\n",
      "the square of 4 is 16\n",
      "the square of 5 is 25\n",
      "the square of 6 is 36\n",
      "the square of 7 is 49\n",
      "the square of 8 is 64\n",
      "the square of 9 is 81\n",
      "the square of 10 is 100\n"
     ]
    }
   ],
   "source": [
    "for i in range(1,11):\n",
    "    print(f\"the square of {i} is {i*i}\")"
   ]
  },
  {
   "cell_type": "code",
   "execution_count": null,
   "id": "d4e95c26",
   "metadata": {},
   "outputs": [],
   "source": [
    "# wap a program as the user print square of the numbers \n",
    "# between 5 to 10\n",
    "\n",
    "\n",
    "# wap ask the user enter a numbr and print it is even or odd\n",
    "# ask the  user to enter a number 5 times\n",
    "\n",
    "# wap ask the user get a 5 random numbers between 5,50\n",
    "# print it is a even or odd\n"
   ]
  },
  {
   "cell_type": "code",
   "execution_count": 48,
   "id": "747b7f79",
   "metadata": {},
   "outputs": [
    {
     "name": "stdout",
     "output_type": "stream",
     "text": [
      "5 is an odd\n",
      "6 is an even\n",
      "7 is an odd\n",
      "8 is an even\n",
      "9 is an odd\n",
      "10 is an even\n"
     ]
    }
   ],
   "source": [
    "for i in range(5,11):\n",
    "    if i%2==0:\n",
    "        print(f\"{i} is an even\")\n",
    "    else:\n",
    "        print(f\"{i} is an odd\")"
   ]
  },
  {
   "cell_type": "code",
   "execution_count": 22,
   "id": "9d5fa21d",
   "metadata": {},
   "outputs": [
    {
     "name": "stdout",
     "output_type": "stream",
     "text": [
      "enter a number:5\n",
      "0 is an odd\n",
      "enter a number:7\n",
      "1 is an odd\n",
      "enter a number:6\n",
      "2 is an odd\n",
      "enter a number:11\n",
      "3 is an odd\n",
      "enter a number:54\n",
      "4 is an odd\n"
     ]
    }
   ],
   "source": [
    "for i in range(5):\n",
    "    numm=eval(input(\"enter a number:\"))\n",
    "    if num%2==0:\n",
    "        print(f\"{i} is an even\")\n",
    "    else:\n",
    "        print(f\"{i} is an odd\")"
   ]
  },
  {
   "cell_type": "code",
   "execution_count": 49,
   "id": "fdea8a91",
   "metadata": {},
   "outputs": [
    {
     "name": "stdout",
     "output_type": "stream",
     "text": [
      "enter a num:20\n",
      "20 is an even\n",
      "enter a num:56\n",
      "56 is an even\n",
      "enter a num:76\n",
      "76 is an even\n",
      "enter a num:45\n",
      "45 is an odd\n",
      "enter a num:67\n",
      "67 is an odd\n"
     ]
    }
   ],
   "source": [
    "for i in range(5):\n",
    "    num=eval(input(\"enter a num:\"))\n",
    "    if num%2==0:\n",
    "        print(f\"{num} is an even\")\n",
    "    else:\n",
    "        print(f\"{num} is an odd\")"
   ]
  },
  {
   "cell_type": "code",
   "execution_count": 52,
   "id": "25f0b861",
   "metadata": {},
   "outputs": [
    {
     "name": "stdout",
     "output_type": "stream",
     "text": [
      "22 is an even\n",
      "32 is an even\n",
      "6 is an even\n",
      "38 is an even\n",
      "5 is an odd\n"
     ]
    }
   ],
   "source": [
    "for i in range(5):\n",
    "    num=random.randint(5,50)\n",
    "    if num%2==0:\n",
    "        print(f\"{num} is an even\")\n",
    "    else:\n",
    "        print(f\"{num} is an odd\")"
   ]
  },
  {
   "cell_type": "code",
   "execution_count": 6,
   "id": "a82b11d2",
   "metadata": {},
   "outputs": [
    {
     "name": "stdout",
     "output_type": "stream",
     "text": [
      "hi\n",
      "who are you\n",
      "who are you\n",
      "hi\n",
      "who are you\n",
      "who are you\n"
     ]
    }
   ],
   "source": [
    "import random\n",
    "for i in range(6):\n",
    "    num=random.randint(1,100)\n",
    "    if num%3==0:\n",
    "        print(\"hi\")\n",
    "    else:\n",
    "        print(\"who are you\")"
   ]
  },
  {
   "cell_type": "code",
   "execution_count": 7,
   "id": "e2d1e996",
   "metadata": {},
   "outputs": [
    {
     "name": "stdout",
     "output_type": "stream",
     "text": [
      "the square of 5 is 25\n",
      "the square of 6 is 36\n",
      "the square of 7 is 49\n",
      "the square of 8 is 64\n",
      "the square of 9 is 81\n",
      "the square of 10 is 100\n"
     ]
    }
   ],
   "source": [
    "\n",
    "# print : the square of 5 is 25\n",
    "\n",
    "\n",
    "for i in range(5,11):\n",
    "    print(f\"the square of {i} is {i*i}\")\n",
    "    \n",
    "    "
   ]
  },
  {
   "cell_type": "code",
   "execution_count": 3,
   "id": "a97c9519",
   "metadata": {},
   "outputs": [
    {
     "name": "stdout",
     "output_type": "stream",
     "text": [
      "the square of {i} is {i*i}\n",
      "the square of {i} is {i*i}\n",
      "the square of {i} is {i*i}\n",
      "the square of {i} is {i*i}\n",
      "the square of {i} is {i*i}\n",
      "the square of {i} is {i*i}\n"
     ]
    }
   ],
   "source": [
    "# print : the square of 5 is 25\n",
    "\n",
    "\n",
    "for i in range(5,11):\n",
    "    print(\"the square of {i} is {i*i}\")\n",
    "    \n",
    "    "
   ]
  },
  {
   "cell_type": "code",
   "execution_count": null,
   "id": "3fa8f1d7",
   "metadata": {},
   "outputs": [],
   "source": [
    "# implement the 9th table\n",
    "\n",
    "\n",
    "9*=9\n",
    "9*2=18\n",
    "9*3=27\n",
    "\n",
    "\n",
    "9*10=90"
   ]
  },
  {
   "cell_type": "code",
   "execution_count": 9,
   "id": "2e03782d",
   "metadata": {},
   "outputs": [
    {
     "name": "stdout",
     "output_type": "stream",
     "text": [
      "9x1=9\n",
      "9x2=18\n",
      "9x3=27\n",
      "9x4=36\n",
      "9x5=45\n",
      "9x6=54\n",
      "9x7=63\n",
      "9x8=72\n",
      "9x9=81\n",
      "9x10=90\n"
     ]
    }
   ],
   "source": [
    "for i in range(1,11):\n",
    "    print(f\"9x{i}={9*i}\")\n"
   ]
  },
  {
   "cell_type": "code",
   "execution_count": 28,
   "id": "6d1c2d1c",
   "metadata": {},
   "outputs": [
    {
     "name": "stdout",
     "output_type": "stream",
     "text": [
      "enter the multiplication number you want10\n",
      "10\n",
      "10*1=10\n",
      "20\n",
      "10*2=20\n",
      "30\n",
      "10*3=30\n",
      "40\n",
      "10*4=40\n",
      "50\n",
      "10*5=50\n",
      "60\n",
      "10*6=60\n",
      "70\n",
      "10*7=70\n",
      "80\n",
      "10*8=80\n",
      "90\n",
      "10*9=90\n",
      "100\n",
      "10*10=100\n"
     ]
    }
   ],
   "source": [
    "num=eval(input(\"enter the multiplication number you want\"))\n",
    "for i in range(1,11):\n",
    "    print(num*i)\n",
    "    print(f\"{num}*{i}={num*i}\")\n"
   ]
  },
  {
   "cell_type": "code",
   "execution_count": null,
   "id": "3a6f765c",
   "metadata": {},
   "outputs": [],
   "source": [
    "# wap ask the user print it is even number or odd number\n",
    "# between 5  to 10\n",
    "\n",
    "# wap ask the user enter number and print it is even or odd\n",
    "# ask the user to enter a number 5 times\n",
    "\n",
    "# wap ask the user get 5 random numbers between 5,50\n",
    "# print it is a even or odd"
   ]
  },
  {
   "cell_type": "code",
   "execution_count": 35,
   "id": "bd639dea",
   "metadata": {},
   "outputs": [
    {
     "name": "stdout",
     "output_type": "stream",
     "text": [
      "1 is an odd\n",
      "2 is an even\n",
      "3 is an odd\n",
      "4 is an even\n",
      "5 is an odd\n",
      "6 is an even\n",
      "7 is an odd\n",
      "8 is an even\n",
      "9 is an odd\n",
      "10 is an even\n",
      "11 is an odd\n",
      "12 is an even\n",
      "13 is an odd\n",
      "14 is an even\n"
     ]
    }
   ],
   "source": [
    "for i in range(1,15):\n",
    "    if i%2==0:\n",
    "        print(f\"{i} is an even\")\n",
    "    else:\n",
    "        print(f\"{i} is an odd\")\n",
    "        "
   ]
  },
  {
   "cell_type": "code",
   "execution_count": 36,
   "id": "4a7079db",
   "metadata": {},
   "outputs": [
    {
     "name": "stdout",
     "output_type": "stream",
     "text": [
      "enter a num:54\n",
      "54 is an even\n",
      "enter a num:56\n",
      "56 is an even\n",
      "enter a num:3\n",
      "3 is an odd\n",
      "enter a num:76\n",
      "76 is an even\n",
      "enter a num:100\n",
      "100 is an even\n"
     ]
    }
   ],
   "source": [
    "for i in range(5):\n",
    "    num=eval(input(\"enter a num:\"))\n",
    "    if num%2==0:\n",
    "        print(f\"{num} is an even\")\n",
    "    else:\n",
    "        print(f\"{num} is an odd\")"
   ]
  },
  {
   "cell_type": "code",
   "execution_count": 38,
   "id": "6ca6215b",
   "metadata": {},
   "outputs": [
    {
     "name": "stdout",
     "output_type": "stream",
     "text": [
      "93 is an odd\n",
      "21 is an odd\n",
      "56 is an rven\n",
      "30 is an rven\n",
      "54 is an rven\n"
     ]
    }
   ],
   "source": [
    "import random\n",
    "for i in range(5):\n",
    "    num=random.randint(1,100)\n",
    "    if num%2==0:\n",
    "        print(f\"{num} is an rven\")\n",
    "    else:\n",
    "        print(f\"{num} is an odd\")"
   ]
  },
  {
   "cell_type": "code",
   "execution_count": null,
   "id": "39e5f501",
   "metadata": {},
   "outputs": [],
   "source": [
    "# improvise the above code\n",
    "# find out how many even numbers are there\n",
    "# how many odd numbers are there\n",
    "\n",
    "# counter proggram"
   ]
  },
  {
   "cell_type": "code",
   "execution_count": 10,
   "id": "561358b5",
   "metadata": {},
   "outputs": [
    {
     "name": "stdout",
     "output_type": "stream",
     "text": [
      "38 is a even\n",
      "the num of even numbers are: 1\n",
      "the num of odd numbers are: 0\n",
      "the num of even numbers are: 1\n",
      "the num of odd numbers are: 0\n",
      "10 is a even\n",
      "the num of even numbers are: 2\n",
      "the num of odd numbers are: 0\n"
     ]
    }
   ],
   "source": [
    "even_count=0\n",
    "odd_count=0\n",
    "for i in range(5):\n",
    "    num=random.randint(5,60)\n",
    "    if num%2==0:\n",
    "        print(f\"{num} is a even\")\n",
    "        even_count=even_count+1\n",
    "    else:\n",
    "        print(\"the num of even numbers are:\",even_count)  \n",
    "        print(\"the num of odd numbers are:\",odd_count)"
   ]
  },
  {
   "cell_type": "code",
   "execution_count": 40,
   "id": "7a00278f",
   "metadata": {},
   "outputs": [
    {
     "data": {
      "text/plain": [
       "3"
      ]
     },
     "execution_count": 40,
     "metadata": {},
     "output_type": "execute_result"
    }
   ],
   "source": [
    "count=0\n",
    "for i in range(3):\n",
    "    count=count+1\n",
    "    \n",
    "# step-1 :   count=0\n",
    "#  i=0         count=count+1    count=0+1=1\n",
    "#  i=1         count=1+1   2\n",
    "#  i=3         count=2+1   3\n",
    "\n",
    "count\n",
    "    "
   ]
  },
  {
   "cell_type": "code",
   "execution_count": 41,
   "id": "df533655",
   "metadata": {},
   "outputs": [
    {
     "data": {
      "text/plain": [
       "1234"
      ]
     },
     "execution_count": 41,
     "metadata": {},
     "output_type": "execute_result"
    }
   ],
   "source": [
    "n1=1234\n",
    "d1=n1%10\n",
    "#n2=n1//10\n",
    "#n2=n2%10\n",
    "n1"
   ]
  },
  {
   "cell_type": "code",
   "execution_count": 11,
   "id": "4bd9a7b4",
   "metadata": {},
   "outputs": [
    {
     "data": {
      "text/plain": [
       "3"
      ]
     },
     "execution_count": 11,
     "metadata": {},
     "output_type": "execute_result"
    }
   ],
   "source": [
    "n1=1234\n",
    "d1=n1%10\n",
    "n2=n1//10\n",
    "n2=n2%10\n",
    "n2"
   ]
  },
  {
   "cell_type": "code",
   "execution_count": 12,
   "id": "3086fc36",
   "metadata": {},
   "outputs": [
    {
     "data": {
      "text/plain": [
       "3"
      ]
     },
     "execution_count": 12,
     "metadata": {},
     "output_type": "execute_result"
    }
   ],
   "source": [
    "#n1=1234\n",
    "#d1=n1%10\n",
    "n2=n1//10\n",
    "n2=n2%10\n",
    "n2"
   ]
  },
  {
   "cell_type": "code",
   "execution_count": 49,
   "id": "578e00f3",
   "metadata": {},
   "outputs": [],
   "source": [
    "for i in range(3,25,-3):\n",
    "    print(i)\n",
    "    \n",
    "    \n",
    "#start-3\n",
    "# step-3 negitive\n",
    "# last= stop+1  25+1=26\n",
    "\n",
    "# <------3    ======== > 26\n",
    "\n",
    " "
   ]
  },
  {
   "cell_type": "code",
   "execution_count": 13,
   "id": "350e6639",
   "metadata": {},
   "outputs": [
    {
     "name": "stdout",
     "output_type": "stream",
     "text": [
      "10\n"
     ]
    }
   ],
   "source": [
    "# wap ask the user sum of first 10 natural numbers\n",
    "\n",
    "# step-1: summ=0\n",
    "# step-2:summ=0\n",
    "# step-3 summ=summ+1\n",
    "\n",
    "# same like counter programe \n",
    "count=0\n",
    "for i in range(1,11):\n",
    "    count=count+1\n",
    "    \n",
    "print(count)\n",
    "\n"
   ]
  },
  {
   "cell_type": "code",
   "execution_count": 50,
   "id": "e1fee958",
   "metadata": {},
   "outputs": [
    {
     "name": "stdout",
     "output_type": "stream",
     "text": [
      "11\n"
     ]
    }
   ],
   "source": [
    "count=0\n",
    "for i in range (1,12):\n",
    "    count=count+1\n",
    "    \n",
    "print(count)"
   ]
  },
  {
   "cell_type": "code",
   "execution_count": 7,
   "id": "36180d4b",
   "metadata": {},
   "outputs": [
    {
     "name": "stdout",
     "output_type": "stream",
     "text": [
      "10\n"
     ]
    }
   ],
   "source": [
    "summ=0\n",
    "for i in range(1,11):\n",
    "    summ=summ=i\n",
    "print(summ)\n",
    "\n",
    "\n",
    "# step-1: i=1     summ=0  summ=summ+i=0+1=1\n",
    "# step-2  i-2     summ-1  summ=1+2=3\n",
    "# step-3  i-3     summ-2  summ=3+3=6\n",
    "# step-4  i-4     summ-3  summ=6+4=10\n",
    "\n",
    "# step-10  i-10   summ-45 summ=45+10=55"
   ]
  },
  {
   "cell_type": "code",
   "execution_count": 8,
   "id": "705fb845",
   "metadata": {},
   "outputs": [
    {
     "name": "stdout",
     "output_type": "stream",
     "text": [
      "55\n"
     ]
    }
   ],
   "source": [
    "summ=0\n",
    "for i in range(1,11):\n",
    "    summ=summ+i\n",
    "    \n",
    "    \n",
    "print(summ)    \n",
    "    \n",
    "    \n",
    "    "
   ]
  },
  {
   "cell_type": "code",
   "execution_count": 10,
   "id": "48203436",
   "metadata": {},
   "outputs": [
    {
     "name": "stdout",
     "output_type": "stream",
     "text": [
      "which divisors you want:45\n",
      "1 is the divisior for 45\n",
      "3 is the divisior for 45\n",
      "5 is the divisior for 45\n",
      "9 is the divisior for 45\n",
      "15 is the divisior for 45\n",
      "45 is the divisior for 45\n",
      "the number of divisors are: 6\n"
     ]
    }
   ],
   "source": [
    "# wap ask the user to find the divisors of a given number\n",
    "# how many to know divisors of 10\n",
    "# step-1: choose your start and stop\n",
    "# step-2: iterate through loop\n",
    "# step-3:   if  num%i==0:\n",
    "# step-4: print(i)\n",
    "\n",
    "\n",
    "num=eval(input(\"which divisors you want:\"))\n",
    "start=1\n",
    "stop=num+1\n",
    "count=0\n",
    "for i in range(start,stop):\n",
    "    if num%i==0:\n",
    "        print(f\"{i} is the divisior for {num}\")\n",
    "        count=count+1\n",
    "        \n",
    "print(\"the number of divisors are:\",count)        \n",
    "\n",
    "\n"
   ]
  },
  {
   "cell_type": "code",
   "execution_count": null,
   "id": "3f5adfed",
   "metadata": {},
   "outputs": [],
   "source": [
    "create a function for above code\n",
    "num as aargument\n",
    "count as return"
   ]
  },
  {
   "cell_type": "code",
   "execution_count": 13,
   "id": "76fa2b96",
   "metadata": {},
   "outputs": [
    {
     "name": "stdout",
     "output_type": "stream",
     "text": [
      "which divisors you want:10\n",
      "1 is the divisior for 10\n",
      "2 is the divisior for 10\n",
      "5 is the divisior for 10\n",
      "10 is the divisior for 10\n"
     ]
    }
   ],
   "source": [
    "\n",
    "def divisors(num):\n",
    "    num=eval(input(\"which divisors you want:\"))\n",
    "    start=1\n",
    "    stop=num+1\n",
    "    count=0\n",
    "    for i in range(start,stop):\n",
    "        if num%i==0:\n",
    "            print(f\"{i} is the divisior for {num}\")\n",
    "            count=count+1\n",
    "        \n",
    "    return(\"the number of divisors are:\",count)    \n",
    "\n",
    "\n",
    "count=divisors(10)\n",
    "\n"
   ]
  },
  {
   "cell_type": "code",
   "execution_count": 14,
   "id": "01138d67",
   "metadata": {},
   "outputs": [
    {
     "name": "stdout",
     "output_type": "stream",
     "text": [
      "('the number of divisors are:', 4)\n"
     ]
    }
   ],
   "source": [
    "print(count)"
   ]
  },
  {
   "cell_type": "code",
   "execution_count": null,
   "id": "ac224b2e",
   "metadata": {},
   "outputs": [],
   "source": [
    "# wap ask the user get a random number 1,10\n",
    "#   ask the user enter a number  \n",
    "#   if both are matchung print you won\n",
    "#    else print you lost\n",
    "# give 3 chances\n",
    "\n",
    "# step-1: import <>\n",
    "# step-2: random.randint.randint()\n",
    "# step-3: user_num=eval()\n",
    "# step-4: if <>: print(won)\n",
    "# step-5: else: print(lost)"
   ]
  },
  {
   "cell_type": "code",
   "execution_count": 15,
   "id": "4c187407",
   "metadata": {},
   "outputs": [
    {
     "name": "stdout",
     "output_type": "stream",
     "text": [
      "7\n",
      "guess the number1\n",
      "out\n",
      "1\n",
      "guess the number4\n",
      "out\n",
      "8\n",
      "guess the number6\n",
      "out\n"
     ]
    }
   ],
   "source": [
    "import random\n",
    "for i in range(3):\n",
    "    random_number=random.randint(1,10)\n",
    "    print(random_number)\n",
    "    user_number=eval(input(\"guess the number\"))\n",
    "    if random_number==user_number:\n",
    "        print(\"in\")\n",
    "    else:\n",
    "        print(\"out\")\n",
    "        \n",
    "# The problem: if you correct or wrong, it is asking again\n",
    "# we need to avoid that \n",
    "# improvise the above code\n",
    "# when you guess correct number prompt should come  whenever you out"
   ]
  },
  {
   "cell_type": "code",
   "execution_count": 52,
   "id": "3d4a7234",
   "metadata": {},
   "outputs": [
    {
     "name": "stdout",
     "output_type": "stream",
     "text": [
      "2\n",
      "guess the number\n"
     ]
    },
    {
     "ename": "SyntaxError",
     "evalue": "invalid syntax (<string>, line 0)",
     "output_type": "error",
     "traceback": [
      "Traceback \u001b[1;36m(most recent call last)\u001b[0m:\n",
      "\u001b[0m  File \u001b[0;32m~\\anaconda3\\Lib\\site-packages\\IPython\\core\\interactiveshell.py:3526\u001b[0m in \u001b[0;35mrun_code\u001b[0m\n    exec(code_obj, self.user_global_ns, self.user_ns)\u001b[0m\n",
      "\u001b[1;36m  Cell \u001b[1;32mIn[52], line 5\u001b[1;36m\n\u001b[1;33m    user_number=eval(input(\"guess the number\"))\u001b[1;36m\n",
      "\u001b[1;36m  File \u001b[1;32m<string>\u001b[1;36m\u001b[0m\n\u001b[1;33m    \u001b[0m\n\u001b[1;37m    ^\u001b[0m\n\u001b[1;31mSyntaxError\u001b[0m\u001b[1;31m:\u001b[0m invalid syntax\n"
     ]
    }
   ],
   "source": [
    "import random\n",
    "for i in range(5):\n",
    "    random_number=random.randint(1,10)\n",
    "    print(random_number)\n",
    "    user_number=eval(input(\"guess the number\"))\n",
    "    if random_number==user_number:\n",
    "        print(\"in\")\n",
    "        break\n",
    "    else:\n",
    "        print(\"out\")\n",
    "   \n",
    "\n",
    "\n",
    "    # Improvise the above code ,to communicate the user\n",
    "    # about number of chances left\n",
    "    # whenever he failed to  guess a number ,which means he already \n",
    "    # you need to display , number of chances left is "
   ]
  },
  {
   "cell_type": "code",
   "execution_count": 21,
   "id": "b039082a",
   "metadata": {},
   "outputs": [
    {
     "name": "stdout",
     "output_type": "stream",
     "text": [
      "how many number you want:5\n",
      "9\n",
      "guess the number6\n",
      "out\n",
      "the number of chances left is: 4\n",
      "9\n",
      "guess the number8\n",
      "out\n",
      "the number of chances left is: 3\n",
      "5\n",
      "guess the number3\n",
      "out\n",
      "the number of chances left is: 2\n",
      "2\n",
      "guess the number9\n",
      "out\n",
      "the number of chances left is: 1\n",
      "9\n",
      "guess the number7\n",
      "out\n",
      "the number of chances left is: 0\n",
      "you lost all the chances\n",
      "pls try after some time\n"
     ]
    }
   ],
   "source": [
    "# import random\n",
    "chances=eval(input(\"how many number you want:\"))\n",
    "for i in range(chances):\n",
    "    random_number=random.randint(1,10)\n",
    "    print(random_number)\n",
    "    user_number=eval(input(\"guess the number\"))\n",
    "    if random_number==user_number:\n",
    "        print(\"in\")\n",
    "        break\n",
    "    else:\n",
    "        print(\"out\")\n",
    "        print(\"the number of chances left is:\",chances-i-1)\n",
    "        if chances-i-1==0:\n",
    "            print(\"you lost all the chances\")\n",
    "            print('pls try after some time')\n",
    "  \n",
    "\n",
    "# improvise your above code\n",
    "# when user lost all the chances,\n",
    "\n",
    "# you all chances are ovre  ,\n",
    "# pls try after 30 min"
   ]
  },
  {
   "cell_type": "code",
   "execution_count": 56,
   "id": "32c40a64",
   "metadata": {},
   "outputs": [
    {
     "ename": "IndentationError",
     "evalue": "expected an indented block after 'if' statement on line 16 (1571787665.py, line 19)",
     "output_type": "error",
     "traceback": [
      "\u001b[1;36m  Cell \u001b[1;32mIn[56], line 19\u001b[1;36m\u001b[0m\n\u001b[1;33m    won_out(eval(input(\"no of tri:\"))\u001b[0m\n\u001b[1;37m    ^\u001b[0m\n\u001b[1;31mIndentationError\u001b[0m\u001b[1;31m:\u001b[0m expected an indented block after 'if' statement on line 16\n"
     ]
    }
   ],
   "source": [
    "import random\n",
    "def won_out(tri):\n",
    "    #count=3\n",
    "    for i in range(1,10):\n",
    "        num1=random.randint(1,10)\n",
    "        num2=eval(input(\"enter the guess\"))\n",
    "        #count=count-1\n",
    "        if num1==num2:\n",
    "            print(\"you won\",num1)\n",
    "            break\n",
    "\n",
    "        else:\n",
    "            print(\"you lose\",num1)\n",
    "            # print(\"chances left:\",3-i)\n",
    "            print(\"chances left:\",tri-i)\n",
    "            if(i==(tri+1)):\n",
    "            #print(\"try again after 30 mins\")\n",
    "            \n",
    "            won_out(eval(input(\"no of tri:\"))\n",
    "        \n",
    "range(1,3)  # 1,2        "
   ]
  },
  {
   "cell_type": "code",
   "execution_count": null,
   "id": "1f1e1a52",
   "metadata": {},
   "outputs": [],
   "source": []
  },
  {
   "cell_type": "code",
   "execution_count": null,
   "id": "d496e3c9",
   "metadata": {},
   "outputs": [],
   "source": []
  },
  {
   "cell_type": "code",
   "execution_count": 57,
   "id": "8aeb5905",
   "metadata": {},
   "outputs": [
    {
     "data": {
      "text/plain": [
       "2"
      ]
     },
     "execution_count": 57,
     "metadata": {},
     "output_type": "execute_result"
    }
   ],
   "source": [
    "i=0\n",
    "3-i-1"
   ]
  },
  {
   "cell_type": "code",
   "execution_count": 26,
   "id": "c04b5ba4",
   "metadata": {},
   "outputs": [
    {
     "name": "stdout",
     "output_type": "stream",
     "text": [
      "1\n",
      "guess the number:5\n",
      "out\n",
      "guess the number:6\n",
      "out\n",
      "guess the number:3\n",
      "out\n"
     ]
    }
   ],
   "source": [
    "import random\n",
    "random_number=random.randint(1,10)\n",
    "print(random_number)\n",
    "\n",
    "for i in range(3):\n",
    "    user_number=eval(input(\"guess the number:\"))\n",
    "    if random_number==user_number:\n",
    "        print(\"in\")\n",
    "    else:\n",
    "        print(\"out\")\n",
    "               "
   ]
  },
  {
   "cell_type": "code",
   "execution_count": null,
   "id": "2766aca2",
   "metadata": {},
   "outputs": [],
   "source": [
    "import random\n",
    "for i in range(3):\n",
    "    random_number=random.randint(1,10)\n",
    "    print(random_number)\n",
    "    user_number=eval(input(\"guess the number\"))\n",
    "    if random_number==user_number:\n",
    "        print(\"in\")\n",
    "    else:\n",
    "        print(\"out\")\n",
    "\n",
    "####################################################################################\n",
    "\n",
    "import random\n",
    "for i in range(3):\n",
    "    random_number=random.randint(1,10)\n",
    "    print(random_number)\n",
    "    user_number=eval(input(\"guess the number\"))\n",
    "    if random_number==user_number:\n",
    "        print(\"in\")\n",
    "        break\n",
    "    else:\n",
    "        print(\"out\")\n",
    "        \n",
    "        \n",
    "####################################################################################        \n",
    "\n",
    "import random\n",
    "chances=eval(input(\"how many number you want:\"))\n",
    "for i in range(chances):\n",
    "    random_number=random.randint(1,10)\n",
    "    print(random_number)\n",
    "    user_number=eval(input(\"guess the number\"))\n",
    "    if random_number==user_number:\n",
    "        print(\"in\")\n",
    "        break\n",
    "    else:\n",
    "        print(\"out\")\n",
    "        print(\"the number of chances left is:\",chances-i-1)\n",
    "        if chances\n",
    "\n",
    "\n",
    "\n",
    "\n",
    "######################################################################################\n",
    "import random\n",
    "chances=eval(input(\"how many number you want:\"))\n",
    "for i in range(chances):\n",
    "    random_number=random.randint(1,10)\n",
    "    print(random_number)\n",
    "    user_number=eval(input(\"guess the number\"))\n",
    "    if random_number==user_number:\n",
    "        print(\"in\")\n",
    "        break\n",
    "    else:\n",
    "        print(\"out\")\n",
    "        print(\"the number of chances left is:\",chances-i-1)\n",
    "        if chances-i-1==0:\n",
    "            print(\"you lost all the chances\")\n",
    "            print('pls try after some time')\n",
    " \n",
    "\n",
    "################################################################################################3\n",
    "\n"
   ]
  },
  {
   "cell_type": "code",
   "execution_count": null,
   "id": "fdebf1ec",
   "metadata": {},
   "outputs": [],
   "source": []
  }
 ],
 "metadata": {
  "kernelspec": {
   "display_name": "Python 3 (ipykernel)",
   "language": "python",
   "name": "python3"
  },
  "language_info": {
   "codemirror_mode": {
    "name": "ipython",
    "version": 3
   },
   "file_extension": ".py",
   "mimetype": "text/x-python",
   "name": "python",
   "nbconvert_exporter": "python",
   "pygments_lexer": "ipython3",
   "version": "3.11.5"
  }
 },
 "nbformat": 4,
 "nbformat_minor": 5
}
