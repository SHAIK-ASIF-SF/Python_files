{
 "cells": [
  {
   "cell_type": "code",
   "execution_count": 1,
   "id": "14684e94",
   "metadata": {},
   "outputs": [
    {
     "name": "stdout",
     "output_type": "stream",
     "text": [
      "hello\n",
      "hai\n",
      "enter a num1:200\n",
      "enter a num2:453\n",
      "653\n",
      "over\n"
     ]
    }
   ],
   "source": [
    "print(\"hello\")\n",
    "print(\"hai\")\n",
    "num1=eval(input(\"enter a num1:\"))\n",
    "num2=eval(input(\"enter a num2:\"))\n",
    "print(num1+num2)\n",
    "print(\"over\")\n",
    "\n",
    "# 6 lines\n",
    "# 3rd line\n",
    "# 4 5 6 will not run\n",
    "\n",
    "\n",
    "# 3rd line does not matter\n",
    "# even i will get the error\n",
    "# i want to execute 4 5 6\n",
    "\n"
   ]
  },
  {
   "cell_type": "markdown",
   "id": "b67324f9",
   "metadata": {},
   "source": [
    "**Exception handling**"
   ]
  },
  {
   "cell_type": "code",
   "execution_count": null,
   "id": "5dc961a9",
   "metadata": {},
   "outputs": [],
   "source": [
    "try-except"
   ]
  },
  {
   "cell_type": "code",
   "execution_count": null,
   "id": "941a731f",
   "metadata": {},
   "outputs": [],
   "source": [
    "try:\n",
    "    ###actual code###\n",
    "except:\n",
    "    #### whenever you will encounter error in try block\n",
    "    ### then youwill be in except block"
   ]
  },
  {
   "cell_type": "code",
   "execution_count": 3,
   "id": "9cd0416d",
   "metadata": {},
   "outputs": [
    {
     "ename": "ZeroDivisionError",
     "evalue": "division by zero",
     "output_type": "error",
     "traceback": [
      "\u001b[1;31m---------------------------------------------------------------------------\u001b[0m",
      "\u001b[1;31mZeroDivisionError\u001b[0m                         Traceback (most recent call last)",
      "Cell \u001b[1;32mIn[3], line 2\u001b[0m\n\u001b[0;32m      1\u001b[0m \u001b[38;5;66;03m# 0/20  # 0\u001b[39;00m\n\u001b[1;32m----> 2\u001b[0m \u001b[38;5;241m20\u001b[39m\u001b[38;5;241m/\u001b[39m\u001b[38;5;241m0\u001b[39m\n",
      "\u001b[1;31mZeroDivisionError\u001b[0m: division by zero"
     ]
    }
   ],
   "source": [
    "# 0/20  # 0\n",
    "20/0    # not defined"
   ]
  },
  {
   "cell_type": "code",
   "execution_count": 1,
   "id": "35b98069",
   "metadata": {},
   "outputs": [
    {
     "name": "stdout",
     "output_type": "stream",
     "text": [
      "enter a num1:30\n",
      "enter a num2:40\n",
      "0.75\n"
     ]
    }
   ],
   "source": [
    "num1=eval(input(\"enter a num1:\"))  \n",
    "num2=eval(input(\"enter a num2:\"))  \n",
    "print(num1/num2) \n",
    "\n",
    "\n",
    "\n",
    "# how many types\n",
    "# syntax error\n",
    "# Name error\n",
    "# undefined error\n",
    "#zero devision error"
   ]
  },
  {
   "cell_type": "code",
   "execution_count": 2,
   "id": "5a05f6c9",
   "metadata": {},
   "outputs": [
    {
     "name": "stdout",
     "output_type": "stream",
     "text": [
      "enter a num1:20\n",
      "enter a num2:0\n"
     ]
    },
    {
     "ename": "ZeroDivisionError",
     "evalue": "division by zero",
     "output_type": "error",
     "traceback": [
      "\u001b[1;31m---------------------------------------------------------------------------\u001b[0m",
      "\u001b[1;31mZeroDivisionError\u001b[0m                         Traceback (most recent call last)",
      "Cell \u001b[1;32mIn[2], line 3\u001b[0m\n\u001b[0;32m      1\u001b[0m num1\u001b[38;5;241m=\u001b[39m\u001b[38;5;28meval\u001b[39m(\u001b[38;5;28minput\u001b[39m(\u001b[38;5;124m\"\u001b[39m\u001b[38;5;124menter a num1:\u001b[39m\u001b[38;5;124m\"\u001b[39m))  \n\u001b[0;32m      2\u001b[0m num2\u001b[38;5;241m=\u001b[39m\u001b[38;5;28meval\u001b[39m(\u001b[38;5;28minput\u001b[39m(\u001b[38;5;124m\"\u001b[39m\u001b[38;5;124menter a num2:\u001b[39m\u001b[38;5;124m\"\u001b[39m))  \n\u001b[1;32m----> 3\u001b[0m \u001b[38;5;28mprint\u001b[39m(num1\u001b[38;5;241m/\u001b[39mnum2)\n",
      "\u001b[1;31mZeroDivisionError\u001b[0m: division by zero"
     ]
    }
   ],
   "source": [
    "num1=eval(input(\"enter a num1:\"))  \n",
    "num2=eval(input(\"enter a num2:\"))  \n",
    "print(num1/num2) \n",
    "\n",
    "\n",
    "\n",
    "# how many types\n",
    "# syntax error\n",
    "# Name error\n",
    "# undefined error\n",
    "#zero devision error"
   ]
  },
  {
   "cell_type": "code",
   "execution_count": 16,
   "id": "f7a37eaa",
   "metadata": {},
   "outputs": [
    {
     "name": "stdout",
     "output_type": "stream",
     "text": [
      "enter a num1:20\n",
      "enter a num2:0\n",
      "zero division error\n",
      "hello\n"
     ]
    }
   ],
   "source": [
    "try:\n",
    "    num1=eval(input(\"enter a num1:\"))  \n",
    "    num2=eval(input(\"enter a num2:\"))  \n",
    "    print(num1/num2) \n",
    "    \n",
    "except:\n",
    "    print(\"zero division error\")\n",
    "    print(\"hello\")"
   ]
  },
  {
   "cell_type": "code",
   "execution_count": 3,
   "id": "593be94b",
   "metadata": {},
   "outputs": [
    {
     "name": "stdout",
     "output_type": "stream",
     "text": [
      "now im in try block\n",
      "enter a num1:200\n",
      "enter a num2:30\n",
      "6.666666666666667\n",
      "hello\n",
      "python\n"
     ]
    }
   ],
   "source": [
    "try:\n",
    "    print(\"now im in try block\")\n",
    "    num1=eval(input(\"enter a num1:\"))\n",
    "    num2=eval(input(\"enter a num2:\"))\n",
    "    print(num1/num2)\n",
    "    print(\"hello\")\n",
    "    print(\"python\")\n",
    "    \n",
    "except:\n",
    "    print(\"you got error in try block\")\n",
    "    print(\"now im in except block\")\n",
    "    print(\"now i will show the error\")\n",
    "    print(\"zero division error\")\n",
    "    num1=eval(input(\"enter a num1:\"))\n",
    "    num2=eval(input(\"enter a num2:\"))\n",
    "    print(num1+num2)\n",
    "    \n",
    "    "
   ]
  },
  {
   "cell_type": "code",
   "execution_count": 11,
   "id": "d226372f",
   "metadata": {},
   "outputs": [
    {
     "name": "stdout",
     "output_type": "stream",
     "text": [
      "hello\n",
      "python\n",
      "zero division error\n",
      "okay\n",
      "1\n",
      "2\n",
      "hellopython\n"
     ]
    }
   ],
   "source": [
    "str1='hello'\n",
    "str2='python'\n",
    "print(str1)\n",
    "print(str2)\n",
    "#############################################################\n",
    "try:\n",
    "    n1=20\n",
    "    n2=0\n",
    "    print(n1/n2)  # 20/0   error\n",
    "except:\n",
    "    print(\"zero division error\")\n",
    "    print(\"okay\")\n",
    "###################################################################\n",
    "\n",
    "print(1)\n",
    "print(2)\n",
    "print(str1+str2)\n",
    "\n",
    "\n",
    "# hello\n",
    "# python\n",
    "# 0.1\n",
    "# 1\n",
    "# 2\n",
    "# hellopython\n",
    "    "
   ]
  },
  {
   "cell_type": "code",
   "execution_count": 15,
   "id": "4f656061",
   "metadata": {},
   "outputs": [
    {
     "name": "stdout",
     "output_type": "stream",
     "text": [
      "enter a num1:20\n",
      "enter a num2:0\n",
      "division by zero\n"
     ]
    }
   ],
   "source": [
    "try:\n",
    "    num1=eval(input(\"enter a num1:\"))\n",
    "    num2=eval(input(\"enter a num2:\"))\n",
    "    print(num1/num2)\n",
    "    \n",
    "except Exception as e:\n",
    "    print(e)"
   ]
  },
  {
   "cell_type": "code",
   "execution_count": 17,
   "id": "7d0d11b0",
   "metadata": {},
   "outputs": [
    {
     "name": "stdout",
     "output_type": "stream",
     "text": [
      "enter a num1:python\n"
     ]
    },
    {
     "ename": "NameError",
     "evalue": "name 'python' is not defined",
     "output_type": "error",
     "traceback": [
      "\u001b[1;31m---------------------------------------------------------------------------\u001b[0m",
      "\u001b[1;31mNameError\u001b[0m                                 Traceback (most recent call last)",
      "Cell \u001b[1;32mIn[17], line 1\u001b[0m\n\u001b[1;32m----> 1\u001b[0m num1\u001b[38;5;241m=\u001b[39m\u001b[38;5;28meval\u001b[39m(\u001b[38;5;28minput\u001b[39m(\u001b[38;5;124m\"\u001b[39m\u001b[38;5;124menter a num1:\u001b[39m\u001b[38;5;124m\"\u001b[39m))\n\u001b[0;32m      2\u001b[0m num2\u001b[38;5;241m=\u001b[39m\u001b[38;5;28meval\u001b[39m(\u001b[38;5;28minput\u001b[39m(\u001b[38;5;124m\"\u001b[39m\u001b[38;5;124menter a num2:\u001b[39m\u001b[38;5;124m\"\u001b[39m))\n\u001b[0;32m      3\u001b[0m \u001b[38;5;28mprint\u001b[39m(num1\u001b[38;5;241m/\u001b[39mnum2)\n",
      "File \u001b[1;32m<string>:1\u001b[0m\n",
      "\u001b[1;31mNameError\u001b[0m: name 'python' is not defined"
     ]
    }
   ],
   "source": [
    "num1=eval(input(\"enter a num1:\"))\n",
    "num2=eval(input(\"enter a num2:\"))\n",
    "print(num1/num2)"
   ]
  },
  {
   "cell_type": "code",
   "execution_count": 2,
   "id": "13f51f64",
   "metadata": {},
   "outputs": [
    {
     "name": "stdout",
     "output_type": "stream",
     "text": [
      "enter a number55\n",
      "55 is an odd\n"
     ]
    }
   ],
   "source": [
    "\n",
    "try:\n",
    "    num=eval(input(\"enter a number\"))\n",
    "    if num%2==0:\n",
    "        print(f\"{num} is an even\")\n",
    "    else:\n",
    "        print(f\"{num} is an odd\") \n",
    "\n",
    "except Exception as e: \n",
    "    print(e)\n",
    "    \n",
    "    "
   ]
  },
  {
   "cell_type": "code",
   "execution_count": 9,
   "id": "9c9b3d4f",
   "metadata": {},
   "outputs": [
    {
     "name": "stdout",
     "output_type": "stream",
     "text": [
      "enter a number50\n",
      "greater than or equal to 50\n"
     ]
    }
   ],
   "source": [
    "try:\n",
    "    num=eval(input(\"enter a number\"))\n",
    "    if num>=50:\n",
    "        print(\"greater than or equal to 50\")\n",
    "    else:\n",
    "        print(\"less than 50\")\n",
    "except Exception as e:\n",
    "    print(e)"
   ]
  },
  {
   "cell_type": "code",
   "execution_count": 13,
   "id": "158e6cb4",
   "metadata": {},
   "outputs": [],
   "source": [
    "# Every code try-except"
   ]
  },
  {
   "cell_type": "code",
   "execution_count": null,
   "id": "d751588a",
   "metadata": {},
   "outputs": [],
   "source": [
    "try:\n",
    "    input(\"conducter:\")\n",
    "    id1=input(\"mother:\")\n",
    "    if id1=='yes':\n",
    "        print(\"enjoy the free trip\")\n",
    "\n",
    "    else:\n",
    "        input(\"conducter:\")     # pay the money \n",
    "        input(\"mother:\")        # how much \n",
    "        input(\"conducter:\")        # how many km\n",
    "        dis=equal(input(\"mother:\"))  #25k\n",
    "        input(\"mother:\")              #  how much fare for km\n",
    "        fare=equal(input(\"conducter:\"))  #  2hr : fare\n",
    "        total=dis*fare\n",
    "        print(f\"for the distance {dis}, total charge is {total}\")\n",
    "        \n",
    "     \n",
    "    \n",
    "except Exception as e:\n",
    "    print(e)"
   ]
  },
  {
   "cell_type": "code",
   "execution_count": null,
   "id": "00a57c82",
   "metadata": {},
   "outputs": [],
   "source": []
  },
  {
   "cell_type": "code",
   "execution_count": null,
   "id": "70784d38",
   "metadata": {},
   "outputs": [],
   "source": []
  }
 ],
 "metadata": {
  "kernelspec": {
   "display_name": "Python 3 (ipykernel)",
   "language": "python",
   "name": "python3"
  },
  "language_info": {
   "codemirror_mode": {
    "name": "ipython",
    "version": 3
   },
   "file_extension": ".py",
   "mimetype": "text/x-python",
   "name": "python",
   "nbconvert_exporter": "python",
   "pygments_lexer": "ipython3",
   "version": "3.11.5"
  }
 },
 "nbformat": 4,
 "nbformat_minor": 5
}
