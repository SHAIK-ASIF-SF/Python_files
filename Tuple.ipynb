{
 "cells": [
  {
   "cell_type": "code",
   "execution_count": 2,
   "id": "d65a5ade",
   "metadata": {},
   "outputs": [
    {
     "name": "stdout",
     "output_type": "stream",
     "text": [
      "<class 'tuple'>\n",
      "<class 'tuple'>\n",
      "<class 'tuple'>\n",
      "<class 'tuple'>\n",
      "<class 'int'>\n"
     ]
    }
   ],
   "source": [
    "tuple1=(10,-3,1,15,28)\n",
    "tuple2=(\"python\",\"data\",\"idea\")\n",
    "tuple3=(10,\"apple\",\"Time\")\n",
    "tuple4=(10,)\n",
    "tuple5=(10)\n",
    "print(type(tuple1))\n",
    "print(type(tuple2))\n",
    "print(type(tuple3))\n",
    "print(type(tuple4))\n",
    "print(type(tuple5))"
   ]
  },
  {
   "cell_type": "code",
   "execution_count": 9,
   "id": "031f41de",
   "metadata": {},
   "outputs": [
    {
     "name": "stdout",
     "output_type": "stream",
     "text": [
      "<class 'tuple'>\n"
     ]
    }
   ],
   "source": [
    "tuple6=(1,2,-7,6,'home',True)\n",
    "#print(tuple6[2])\n",
    "#print(type(tuple6)) #  tuple are immutable\n",
    "# means we can not change / add anything its not possible in tuple\n"
   ]
  },
  {
   "cell_type": "code",
   "execution_count": 13,
   "id": "53bc3411",
   "metadata": {},
   "outputs": [
    {
     "ename": "TypeError",
     "evalue": "'tuple' object does not support item assignment",
     "output_type": "error",
     "traceback": [
      "\u001b[1;31m---------------------------------------------------------------------------\u001b[0m",
      "\u001b[1;31mTypeError\u001b[0m                                 Traceback (most recent call last)",
      "Cell \u001b[1;32mIn[13], line 2\u001b[0m\n\u001b[0;32m      1\u001b[0m tuple9\u001b[38;5;241m=\u001b[39m(\u001b[38;5;241m1\u001b[39m,\u001b[38;5;241m2\u001b[39m,\u001b[38;5;241m0\u001b[39m,\u001b[38;5;241m-\u001b[39m\u001b[38;5;241m7\u001b[39m, \u001b[38;5;124m'\u001b[39m\u001b[38;5;124mcar\u001b[39m\u001b[38;5;124m'\u001b[39m,\u001b[38;5;124m'\u001b[39m\u001b[38;5;124mboy\u001b[39m\u001b[38;5;124m'\u001b[39m,\u001b[38;5;241m6\u001b[39m,\u001b[38;5;124m'\u001b[39m\u001b[38;5;124mhome\u001b[39m\u001b[38;5;124m'\u001b[39m,\u001b[38;5;28;01mTrue\u001b[39;00m)\n\u001b[1;32m----> 2\u001b[0m tuple9[\u001b[38;5;241m0\u001b[39m]\u001b[38;5;241m=\u001b[39m\u001b[38;5;241m13\u001b[39m\n",
      "\u001b[1;31mTypeError\u001b[0m: 'tuple' object does not support item assignment"
     ]
    }
   ],
   "source": [
    "tuple9=(1,2,0,-7, 'car','boy',6,'home',True)\n",
    "#tuple9[0]=13  #'tuple' object does not support item assignment\n",
    "   "
   ]
  },
  {
   "cell_type": "code",
   "execution_count": 14,
   "id": "27656a53",
   "metadata": {},
   "outputs": [],
   "source": [
    "tuple1=(10,-3,1,3,1,15,28)\n",
    "tuple2=(\"python\",\"data\",\"idea\")\n",
    "tuple3=(10,\"apple\",\"Time\")\n",
    "tuple4=(10,)\n",
    "tuple5=(10)\n"
   ]
  },
  {
   "cell_type": "code",
   "execution_count": 16,
   "id": "d7efc590",
   "metadata": {},
   "outputs": [
    {
     "name": "stdout",
     "output_type": "stream",
     "text": [
      "(10, -3, 1, 15, 28)\n"
     ]
    }
   ],
   "source": [
    "print(tuple1)"
   ]
  },
  {
   "cell_type": "code",
   "execution_count": 17,
   "id": "485819da",
   "metadata": {},
   "outputs": [
    {
     "name": "stdout",
     "output_type": "stream",
     "text": [
      "(10, -3, 1, 3, 1, 15, 28)\n"
     ]
    }
   ],
   "source": [
    "tuple1=(10,-3,1,3,1,15,28)\n",
    "print(tuple1)"
   ]
  },
  {
   "cell_type": "code",
   "execution_count": 21,
   "id": "ce1fb7a1",
   "metadata": {},
   "outputs": [
    {
     "name": "stdout",
     "output_type": "stream",
     "text": [
      "(-3, 1, 3, 1, 15)\n"
     ]
    }
   ],
   "source": [
    "tuple1=(10,-3,1,3,1,15,28)\n",
    "print(tuple1[1:6])"
   ]
  },
  {
   "cell_type": "code",
   "execution_count": 25,
   "id": "6aa55b3c",
   "metadata": {},
   "outputs": [
    {
     "name": "stdout",
     "output_type": "stream",
     "text": [
      "(10, 1, 1, 28)\n"
     ]
    }
   ],
   "source": [
    "print(tuple1[::2])"
   ]
  },
  {
   "cell_type": "code",
   "execution_count": 26,
   "id": "8c322b7e",
   "metadata": {},
   "outputs": [
    {
     "name": "stdout",
     "output_type": "stream",
     "text": [
      "7\n"
     ]
    }
   ],
   "source": [
    "print(len(tuple1))"
   ]
  },
  {
   "cell_type": "code",
   "execution_count": 30,
   "id": "04cf414c",
   "metadata": {},
   "outputs": [
    {
     "name": "stdout",
     "output_type": "stream",
     "text": [
      "2\n"
     ]
    }
   ],
   "source": [
    "tuple2=[45,67,79]\n",
    "#tuple3=(tuple1,tuple2)\n",
    "print(len(tuple3))"
   ]
  },
  {
   "cell_type": "code",
   "execution_count": 58,
   "id": "1d9fde2c",
   "metadata": {},
   "outputs": [],
   "source": [
    "tuple1=[1,1,2,6,-8,'hello',True,12,6]\n",
    "tuple2=[45,67,90]\n",
    "tuple3=tuple1 + tuple2"
   ]
  },
  {
   "cell_type": "code",
   "execution_count": 43,
   "id": "4d9a46a5",
   "metadata": {},
   "outputs": [
    {
     "name": "stdout",
     "output_type": "stream",
     "text": [
      "[1, 1, 2, 6, -8, 'hello', True, 12, 6, 45, 67, 90]\n"
     ]
    }
   ],
   "source": [
    "print(tuple3)"
   ]
  },
  {
   "cell_type": "code",
   "execution_count": 44,
   "id": "489ccc3a",
   "metadata": {},
   "outputs": [
    {
     "ename": "TypeError",
     "evalue": "'<' not supported between instances of 'str' and 'int'",
     "output_type": "error",
     "traceback": [
      "\u001b[1;31m---------------------------------------------------------------------------\u001b[0m",
      "\u001b[1;31mTypeError\u001b[0m                                 Traceback (most recent call last)",
      "Cell \u001b[1;32mIn[44], line 1\u001b[0m\n\u001b[1;32m----> 1\u001b[0m \u001b[38;5;28mprint\u001b[39m(\u001b[38;5;28mmin\u001b[39m(tuple1))\n",
      "\u001b[1;31mTypeError\u001b[0m: '<' not supported between instances of 'str' and 'int'"
     ]
    }
   ],
   "source": [
    "print(min(tuple1))   # it will not worrk str and int"
   ]
  },
  {
   "cell_type": "code",
   "execution_count": 45,
   "id": "fde9daea",
   "metadata": {},
   "outputs": [
    {
     "name": "stdout",
     "output_type": "stream",
     "text": [
      "45\n"
     ]
    }
   ],
   "source": [
    "print(min(tuple2))"
   ]
  },
  {
   "cell_type": "code",
   "execution_count": 46,
   "id": "857f98a4",
   "metadata": {},
   "outputs": [
    {
     "name": "stdout",
     "output_type": "stream",
     "text": [
      "90\n"
     ]
    }
   ],
   "source": [
    "print(max(tuple2))"
   ]
  },
  {
   "cell_type": "markdown",
   "id": "05575c20",
   "metadata": {},
   "source": [
    "##  count"
   ]
  },
  {
   "cell_type": "code",
   "execution_count": 49,
   "id": "6149218a",
   "metadata": {},
   "outputs": [
    {
     "name": "stdout",
     "output_type": "stream",
     "text": [
      "3\n"
     ]
    }
   ],
   "source": [
    "print(tuple1.count(1))"
   ]
  },
  {
   "cell_type": "code",
   "execution_count": 51,
   "id": "a0e219fb",
   "metadata": {},
   "outputs": [
    {
     "name": "stdout",
     "output_type": "stream",
     "text": [
      "7\n"
     ]
    }
   ],
   "source": [
    "print(tuple1.index(12))"
   ]
  },
  {
   "cell_type": "code",
   "execution_count": 56,
   "id": "0916d56d",
   "metadata": {},
   "outputs": [],
   "source": [
    "tuple5=('jerry')*5"
   ]
  },
  {
   "cell_type": "code",
   "execution_count": 57,
   "id": "3d776735",
   "metadata": {},
   "outputs": [
    {
     "name": "stdout",
     "output_type": "stream",
     "text": [
      "jerryjerryjerryjerryjerry\n"
     ]
    }
   ],
   "source": [
    "print(tuple5)"
   ]
  },
  {
   "cell_type": "code",
   "execution_count": 55,
   "id": "56899f2e",
   "metadata": {},
   "outputs": [
    {
     "name": "stdout",
     "output_type": "stream",
     "text": [
      "50\n"
     ]
    }
   ],
   "source": [
    "print(tuple5)   # 10 into 50"
   ]
  },
  {
   "cell_type": "code",
   "execution_count": 59,
   "id": "892e1bbc",
   "metadata": {},
   "outputs": [
    {
     "ename": "NameError",
     "evalue": "name 'list1' is not defined",
     "output_type": "error",
     "traceback": [
      "\u001b[1;31m---------------------------------------------------------------------------\u001b[0m",
      "\u001b[1;31mNameError\u001b[0m                                 Traceback (most recent call last)",
      "Cell \u001b[1;32mIn[59], line 1\u001b[0m\n\u001b[1;32m----> 1\u001b[0m \u001b[38;5;28mprint\u001b[39m(\u001b[38;5;28mtuple\u001b[39m(list1))\n",
      "\u001b[1;31mNameError\u001b[0m: name 'list1' is not defined"
     ]
    }
   ],
   "source": [
    "print(tuple(list1))"
   ]
  },
  {
   "cell_type": "code",
   "execution_count": null,
   "id": "ae683106",
   "metadata": {},
   "outputs": [],
   "source": []
  },
  {
   "cell_type": "markdown",
   "id": "5cc5f66c",
   "metadata": {},
   "source": [
    "$sets$"
   ]
  },
  {
   "cell_type": "code",
   "execution_count": 60,
   "id": "ab6f5185",
   "metadata": {},
   "outputs": [
    {
     "name": "stdout",
     "output_type": "stream",
     "text": [
      "{True, 10, 'hello', 1.11}\n"
     ]
    }
   ],
   "source": [
    "set1={10,True,'hello',1.11}    # duplicates  not allowed\n",
    "set2={1,2,10,0,53}\n",
    "print(set1)                    # un order \n",
    "                               # indexing not allowed\n",
    "                                # set items are unchange able\n",
    "                               # ayou can able to add/and remove \n",
    "           # hegoneeous valuse also "
   ]
  },
  {
   "cell_type": "code",
   "execution_count": null,
   "id": "c42aafc3",
   "metadata": {},
   "outputs": [],
   "source": []
  },
  {
   "cell_type": "code",
   "execution_count": 62,
   "id": "f257e93e",
   "metadata": {},
   "outputs": [
    {
     "name": "stdout",
     "output_type": "stream",
     "text": [
      "{True, 10, 'hello', 1.11}\n"
     ]
    }
   ],
   "source": [
    "se1={1,2,3,4,5,88,6,7,'python',True}  # slicing not allowed\n",
    "print(set1)"
   ]
  },
  {
   "cell_type": "code",
   "execution_count": 63,
   "id": "396ee547",
   "metadata": {},
   "outputs": [
    {
     "name": "stdout",
     "output_type": "stream",
     "text": [
      "<class 'set'>\n"
     ]
    }
   ],
   "source": [
    "print(type(set1))  # set"
   ]
  },
  {
   "cell_type": "code",
   "execution_count": 64,
   "id": "8ed88fe5",
   "metadata": {},
   "outputs": [
    {
     "name": "stdout",
     "output_type": "stream",
     "text": [
      "<class 'dict'>\n"
     ]
    }
   ],
   "source": [
    "set2={}\n",
    "print(type(set2))   # dictionary"
   ]
  },
  {
   "cell_type": "code",
   "execution_count": 70,
   "id": "853ecd94",
   "metadata": {},
   "outputs": [],
   "source": [
    "se1={1,2,3,4,5,8,8,6,7,'python',True}"
   ]
  },
  {
   "cell_type": "code",
   "execution_count": 65,
   "id": "98b82e92",
   "metadata": {},
   "outputs": [
    {
     "ename": "TypeError",
     "evalue": "'set' object does not support item assignment",
     "output_type": "error",
     "traceback": [
      "\u001b[1;31m---------------------------------------------------------------------------\u001b[0m",
      "\u001b[1;31mTypeError\u001b[0m                                 Traceback (most recent call last)",
      "Cell \u001b[1;32mIn[65], line 1\u001b[0m\n\u001b[1;32m----> 1\u001b[0m set1[\u001b[38;5;241m2\u001b[39m]\u001b[38;5;241m=\u001b[39m\u001b[38;5;241m2\u001b[39m\n",
      "\u001b[1;31mTypeError\u001b[0m: 'set' object does not support item assignment"
     ]
    }
   ],
   "source": [
    "set1[2]=2  # TypeError: 'set' object does not support item assignment\n"
   ]
  },
  {
   "cell_type": "code",
   "execution_count": 66,
   "id": "90188846",
   "metadata": {},
   "outputs": [],
   "source": [
    "set1.add(99)"
   ]
  },
  {
   "cell_type": "code",
   "execution_count": 67,
   "id": "9ed5051a",
   "metadata": {},
   "outputs": [
    {
     "name": "stdout",
     "output_type": "stream",
     "text": [
      "{True, 1.11, 99, 'hello', 10}\n"
     ]
    }
   ],
   "source": [
    "print(set1)"
   ]
  },
  {
   "cell_type": "code",
   "execution_count": 71,
   "id": "c0d19255",
   "metadata": {},
   "outputs": [
    {
     "name": "stdout",
     "output_type": "stream",
     "text": [
      "5\n"
     ]
    }
   ],
   "source": [
    "print(len(set1))"
   ]
  },
  {
   "cell_type": "code",
   "execution_count": 69,
   "id": "8bef1730",
   "metadata": {},
   "outputs": [
    {
     "name": "stdout",
     "output_type": "stream",
     "text": [
      "<class 'set'>\n"
     ]
    }
   ],
   "source": [
    "print(type(set1))"
   ]
  },
  {
   "cell_type": "code",
   "execution_count": 74,
   "id": "15f9187b",
   "metadata": {},
   "outputs": [
    {
     "ename": "KeyError",
     "evalue": "68",
     "output_type": "error",
     "traceback": [
      "\u001b[1;31m---------------------------------------------------------------------------\u001b[0m",
      "\u001b[1;31mKeyError\u001b[0m                                  Traceback (most recent call last)",
      "Cell \u001b[1;32mIn[74], line 1\u001b[0m\n\u001b[1;32m----> 1\u001b[0m set1\u001b[38;5;241m.\u001b[39mremove(\u001b[38;5;241m68\u001b[39m)\n",
      "\u001b[1;31mKeyError\u001b[0m: 68"
     ]
    }
   ],
   "source": [
    "set1.remove(68)"
   ]
  },
  {
   "cell_type": "code",
   "execution_count": 73,
   "id": "e0bcb16b",
   "metadata": {},
   "outputs": [
    {
     "name": "stdout",
     "output_type": "stream",
     "text": [
      "{True, 1.11, 99, 'hello'}\n"
     ]
    }
   ],
   "source": [
    "print(set1)"
   ]
  },
  {
   "cell_type": "code",
   "execution_count": 76,
   "id": "1672559b",
   "metadata": {},
   "outputs": [
    {
     "ename": "AttributeError",
     "evalue": "'builtin_function_or_method' object has no attribute 'discard'",
     "output_type": "error",
     "traceback": [
      "\u001b[1;31m---------------------------------------------------------------------------\u001b[0m",
      "\u001b[1;31mAttributeError\u001b[0m                            Traceback (most recent call last)",
      "Cell \u001b[1;32mIn[76], line 1\u001b[0m\n\u001b[1;32m----> 1\u001b[0m \u001b[38;5;28mprint\u001b[39m\u001b[38;5;241m.\u001b[39mdiscard(\u001b[38;5;241m99\u001b[39m)\n",
      "\u001b[1;31mAttributeError\u001b[0m: 'builtin_function_or_method' object has no attribute 'discard'"
     ]
    }
   ],
   "source": [
    "print.discard(99)"
   ]
  },
  {
   "cell_type": "code",
   "execution_count": 77,
   "id": "f406a994",
   "metadata": {},
   "outputs": [
    {
     "data": {
      "text/plain": [
       "True"
      ]
     },
     "execution_count": 77,
     "metadata": {},
     "output_type": "execute_result"
    }
   ],
   "source": [
    "set1.pop()  # it will remove randomly "
   ]
  },
  {
   "cell_type": "code",
   "execution_count": 78,
   "id": "e821e2c0",
   "metadata": {},
   "outputs": [
    {
     "name": "stdout",
     "output_type": "stream",
     "text": [
      "{1.11, 99, 'hello'}\n"
     ]
    }
   ],
   "source": [
    "print(set1)"
   ]
  },
  {
   "cell_type": "code",
   "execution_count": 79,
   "id": "52499228",
   "metadata": {},
   "outputs": [
    {
     "name": "stdout",
     "output_type": "stream",
     "text": [
      "1.11\n"
     ]
    }
   ],
   "source": [
    "print(set1.pop())"
   ]
  },
  {
   "cell_type": "code",
   "execution_count": 80,
   "id": "3cc49825",
   "metadata": {},
   "outputs": [
    {
     "name": "stdout",
     "output_type": "stream",
     "text": [
      "{99, 'hello'}\n"
     ]
    }
   ],
   "source": [
    "print(set1)"
   ]
  },
  {
   "cell_type": "code",
   "execution_count": 82,
   "id": "7374e89b",
   "metadata": {},
   "outputs": [],
   "source": [
    "set1.add((13,14,15))"
   ]
  },
  {
   "cell_type": "code",
   "execution_count": 83,
   "id": "db7d733e",
   "metadata": {},
   "outputs": [
    {
     "name": "stdout",
     "output_type": "stream",
     "text": [
      "{99, 'hello', (13, 14, 15)}\n"
     ]
    }
   ],
   "source": [
    "print(set1)   "
   ]
  },
  {
   "cell_type": "code",
   "execution_count": null,
   "id": "37498f58",
   "metadata": {},
   "outputs": [],
   "source": []
  },
  {
   "cell_type": "code",
   "execution_count": null,
   "id": "bd19eeb8",
   "metadata": {},
   "outputs": [],
   "source": []
  },
  {
   "cell_type": "code",
   "execution_count": null,
   "id": "fe74b1ff",
   "metadata": {},
   "outputs": [],
   "source": []
  },
  {
   "cell_type": "code",
   "execution_count": null,
   "id": "26e12f43",
   "metadata": {},
   "outputs": [],
   "source": []
  },
  {
   "cell_type": "code",
   "execution_count": null,
   "id": "e8c765b7",
   "metadata": {},
   "outputs": [],
   "source": []
  },
  {
   "cell_type": "code",
   "execution_count": null,
   "id": "47923fed",
   "metadata": {},
   "outputs": [],
   "source": []
  }
 ],
 "metadata": {
  "kernelspec": {
   "display_name": "Python 3 (ipykernel)",
   "language": "python",
   "name": "python3"
  },
  "language_info": {
   "codemirror_mode": {
    "name": "ipython",
    "version": 3
   },
   "file_extension": ".py",
   "mimetype": "text/x-python",
   "name": "python",
   "nbconvert_exporter": "python",
   "pygments_lexer": "ipython3",
   "version": "3.11.5"
  }
 },
 "nbformat": 4,
 "nbformat_minor": 5
}
