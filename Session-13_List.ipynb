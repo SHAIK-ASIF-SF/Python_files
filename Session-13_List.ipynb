{
 "cells": [
  {
   "cell_type": "markdown",
   "id": "008e5484",
   "metadata": {},
   "source": [
    "- How to read\n",
    "\n",
    "- How many ways we can represent\n",
    "\n",
    "- Type\n",
    "\n",
    "- len\n",
    "\n",
    "- min\n",
    "\n",
    "- max\n",
    "\n",
    "- sorted\n",
    "\n",
    "- reversed\n",
    "\n",
    "- Concatenation\n",
    "\n",
    "- in\n",
    "\n",
    "- index\n",
    "\n",
    "- for loop interation\n",
    "\n",
    "- mutable-immutable\n",
    "\n",
    "- slice\n",
    "\n",
    "- Methoud\n"
   ]
  },
  {
   "cell_type": "code",
   "execution_count": null,
   "id": "8aa21b4e",
   "metadata": {},
   "outputs": [],
   "source": [
    "str1=''"
   ]
  },
  {
   "cell_type": "code",
   "execution_count": 1,
   "id": "641c011a",
   "metadata": {},
   "outputs": [],
   "source": [
    "l1=[1,2,3,4,]"
   ]
  },
  {
   "cell_type": "code",
   "execution_count": 2,
   "id": "5725cf23",
   "metadata": {},
   "outputs": [
    {
     "data": {
      "text/plain": [
       "list"
      ]
     },
     "execution_count": 2,
     "metadata": {},
     "output_type": "execute_result"
    }
   ],
   "source": [
    "type(l1)"
   ]
  },
  {
   "cell_type": "code",
   "execution_count": null,
   "id": "b42f1140",
   "metadata": {},
   "outputs": [],
   "source": [
    "i2=['A','B','C']"
   ]
  },
  {
   "cell_type": "code",
   "execution_count": 3,
   "id": "e875034e",
   "metadata": {},
   "outputs": [
    {
     "data": {
      "text/plain": [
       "['Apple', 'Banana', 'Cherry']"
      ]
     },
     "execution_count": 3,
     "metadata": {},
     "output_type": "execute_result"
    }
   ],
   "source": [
    "l2=['Apple','Banana','Cherry']\n",
    "l2"
   ]
  },
  {
   "cell_type": "code",
   "execution_count": 4,
   "id": "c5da8ebf",
   "metadata": {},
   "outputs": [
    {
     "data": {
      "text/plain": [
       "[1, 2, 3, 'A', 'B', 'C']"
      ]
     },
     "execution_count": 4,
     "metadata": {},
     "output_type": "execute_result"
    }
   ],
   "source": [
    "l3=[1,2,3,'A','B','C']\n",
    "l3"
   ]
  },
  {
   "cell_type": "code",
   "execution_count": 6,
   "id": "2362bf3c",
   "metadata": {},
   "outputs": [
    {
     "data": {
      "text/plain": [
       "[1, 2, 3, 'A', 'B', 'C', 10.5, True, (20+30j)]"
      ]
     },
     "execution_count": 6,
     "metadata": {},
     "output_type": "execute_result"
    }
   ],
   "source": [
    "l4=[1,2,3,'A','B','C',10.5,True, (20+30j)]\n",
    "l4"
   ]
  },
  {
   "cell_type": "code",
   "execution_count": 1,
   "id": "6eb2279a",
   "metadata": {},
   "outputs": [
    {
     "data": {
      "text/plain": [
       "[100, 100, 100]"
      ]
     },
     "execution_count": 1,
     "metadata": {},
     "output_type": "execute_result"
    }
   ],
   "source": [
    "l5=[100,100,100]    # duplicates are  allowed in lst\n",
    "l5"
   ]
  },
  {
   "cell_type": "code",
   "execution_count": 3,
   "id": "21867ed9",
   "metadata": {},
   "outputs": [
    {
     "data": {
      "text/plain": [
       "[1, 2, 3, ['A', 'B', 'C']]"
      ]
     },
     "execution_count": 3,
     "metadata": {},
     "output_type": "execute_result"
    }
   ],
   "source": [
    "l6=[1,2,3,['A','B','C']]\n",
    "l6"
   ]
  },
  {
   "cell_type": "code",
   "execution_count": 2,
   "id": "b50d465e",
   "metadata": {},
   "outputs": [],
   "source": [
    "l1=[1,2,3,4,]\n",
    "l2=['A','B','C']\n",
    "l3=[1,2,3,'A','B','C']\n",
    "l4=[1,2,3,'A','B','C',10.5,True, (20+30j)]\n",
    "l5=[100,100,100]\n",
    "l6=[1,2,3,['A','B','C']]\n"
   ]
  },
  {
   "cell_type": "code",
   "execution_count": 21,
   "id": "286aac1e",
   "metadata": {},
   "outputs": [
    {
     "data": {
      "text/plain": [
       "[[[[[[[['%', '^']]]]]]]]"
      ]
     },
     "execution_count": 21,
     "metadata": {},
     "output_type": "execute_result"
    }
   ],
   "source": [
    "l8=[_]\n",
    "l8"
   ]
  },
  {
   "cell_type": "code",
   "execution_count": 22,
   "id": "7acf5525",
   "metadata": {},
   "outputs": [
    {
     "data": {
      "text/plain": [
       "[[[[[[[[['%', '^']]]]]]]]]"
      ]
     },
     "execution_count": 22,
     "metadata": {},
     "output_type": "execute_result"
    }
   ],
   "source": [
    "l9=[_]\n",
    "l9"
   ]
  },
  {
   "cell_type": "markdown",
   "id": "872c5f38",
   "metadata": {},
   "source": [
    "- List is array of element\n",
    "- That eliment can be any data type\n",
    "- Heterogeneous\n",
    "- List allows duplicates\n",
    "- List can extend with any values\n",
    "- List in List possible\n",
    "- List of underscore , is nothing but list in list"
   ]
  },
  {
   "cell_type": "code",
   "execution_count": 26,
   "id": "3bf866bb",
   "metadata": {},
   "outputs": [
    {
     "data": {
      "text/plain": [
       "[1, 2, 3, 4]"
      ]
     },
     "execution_count": 26,
     "metadata": {},
     "output_type": "execute_result"
    }
   ],
   "source": [
    "l1\n"
   ]
  },
  {
   "cell_type": "code",
   "execution_count": 25,
   "id": "d3d3c4a4",
   "metadata": {},
   "outputs": [
    {
     "data": {
      "text/plain": [
       "(4, 1, 4, 10)"
      ]
     },
     "execution_count": 25,
     "metadata": {},
     "output_type": "execute_result"
    }
   ],
   "source": [
    "l1\n",
    "\n",
    "# len\n",
    "# min\n",
    "# max\n",
    "# sum\n",
    "\n",
    "len(l1),min(l1),max(l1),sum(l1)"
   ]
  },
  {
   "cell_type": "code",
   "execution_count": 33,
   "id": "0903e93a",
   "metadata": {},
   "outputs": [
    {
     "data": {
      "text/plain": [
       "(3, 'Apple', 'Cherry')"
      ]
     },
     "execution_count": 33,
     "metadata": {},
     "output_type": "execute_result"
    }
   ],
   "source": [
    "l2\n",
    "len(l2),min(l2),max(l2)"
   ]
  },
  {
   "cell_type": "code",
   "execution_count": 38,
   "id": "76142f89",
   "metadata": {},
   "outputs": [
    {
     "data": {
      "text/plain": [
       "6"
      ]
     },
     "execution_count": 38,
     "metadata": {},
     "output_type": "execute_result"
    }
   ],
   "source": [
    "l3\n",
    "len(l3)"
   ]
  },
  {
   "cell_type": "code",
   "execution_count": 4,
   "id": "d1e50355",
   "metadata": {},
   "outputs": [
    {
     "data": {
      "text/plain": [
       "[1, 2, 3, 'A', 'B', 'C']"
      ]
     },
     "execution_count": 4,
     "metadata": {},
     "output_type": "execute_result"
    }
   ],
   "source": [
    "l3"
   ]
  },
  {
   "cell_type": "code",
   "execution_count": 39,
   "id": "228fe1a7",
   "metadata": {},
   "outputs": [
    {
     "data": {
      "text/plain": [
       "9"
      ]
     },
     "execution_count": 39,
     "metadata": {},
     "output_type": "execute_result"
    }
   ],
   "source": [
    "l4\n",
    "len(l4)"
   ]
  },
  {
   "cell_type": "code",
   "execution_count": 3,
   "id": "7b93bdc0",
   "metadata": {},
   "outputs": [
    {
     "data": {
      "text/plain": [
       "[1, 2, 3, 'A', 'B', 'C', 10.5, True, (20+30j)]"
      ]
     },
     "execution_count": 3,
     "metadata": {},
     "output_type": "execute_result"
    }
   ],
   "source": [
    "l4"
   ]
  },
  {
   "cell_type": "code",
   "execution_count": 30,
   "id": "c1577122",
   "metadata": {},
   "outputs": [
    {
     "data": {
      "text/plain": [
       "(3, 100, 100, 300)"
      ]
     },
     "execution_count": 30,
     "metadata": {},
     "output_type": "execute_result"
    }
   ],
   "source": [
    "l5\n",
    "len(l5),min(l5),max(l5),sum(l5)"
   ]
  },
  {
   "cell_type": "code",
   "execution_count": 5,
   "id": "dd3ff270",
   "metadata": {},
   "outputs": [
    {
     "data": {
      "text/plain": [
       "[100, 100, 100]"
      ]
     },
     "execution_count": 5,
     "metadata": {},
     "output_type": "execute_result"
    }
   ],
   "source": [
    "l5"
   ]
  },
  {
   "cell_type": "code",
   "execution_count": 40,
   "id": "3115dc8e",
   "metadata": {},
   "outputs": [
    {
     "data": {
      "text/plain": [
       "[1, 2, 3, ['A', 'B', 'C']]"
      ]
     },
     "execution_count": 40,
     "metadata": {},
     "output_type": "execute_result"
    }
   ],
   "source": [
    "l6"
   ]
  },
  {
   "cell_type": "code",
   "execution_count": 41,
   "id": "60494134",
   "metadata": {},
   "outputs": [
    {
     "data": {
      "text/plain": [
       "4"
      ]
     },
     "execution_count": 41,
     "metadata": {},
     "output_type": "execute_result"
    }
   ],
   "source": [
    "len(l6)"
   ]
  },
  {
   "cell_type": "code",
   "execution_count": 42,
   "id": "2360837c",
   "metadata": {},
   "outputs": [
    {
     "data": {
      "text/plain": [
       "[[1, 2, 3], [4, 5, 6]]"
      ]
     },
     "execution_count": 42,
     "metadata": {},
     "output_type": "execute_result"
    }
   ],
   "source": [
    "l66=[[1,2,3],[4,5,6]]\n",
    "l66"
   ]
  },
  {
   "cell_type": "code",
   "execution_count": 43,
   "id": "067506fc",
   "metadata": {},
   "outputs": [
    {
     "data": {
      "text/plain": [
       "[[[[[[['%', '^']]]]]]]"
      ]
     },
     "execution_count": 43,
     "metadata": {},
     "output_type": "execute_result"
    }
   ],
   "source": [
    "l7"
   ]
  },
  {
   "cell_type": "code",
   "execution_count": 37,
   "id": "b65d3062",
   "metadata": {},
   "outputs": [
    {
     "data": {
      "text/plain": [
       "(3, 100, 100, 300)"
      ]
     },
     "execution_count": 37,
     "metadata": {},
     "output_type": "execute_result"
    }
   ],
   "source": [
    "l6\n",
    "len(l5),min(l5),max(l5),sum(l5)"
   ]
  },
  {
   "cell_type": "code",
   "execution_count": 8,
   "id": "c7e2e3a0",
   "metadata": {},
   "outputs": [
    {
     "data": {
      "text/plain": [
       "[1, 2, 3, ['A', 'B', 'C']]"
      ]
     },
     "execution_count": 8,
     "metadata": {},
     "output_type": "execute_result"
    }
   ],
   "source": [
    "l6"
   ]
  },
  {
   "cell_type": "markdown",
   "id": "4ca3e370",
   "metadata": {},
   "source": [
    "$sorted$"
   ]
  },
  {
   "cell_type": "code",
   "execution_count": 2,
   "id": "7815102f",
   "metadata": {},
   "outputs": [
    {
     "data": {
      "text/plain": [
       "[1, 2, 3, 4]"
      ]
     },
     "execution_count": 2,
     "metadata": {},
     "output_type": "execute_result"
    }
   ],
   "source": [
    "l1=[1,2,3,4,]\n",
    "sorted(l1)"
   ]
  },
  {
   "cell_type": "code",
   "execution_count": 4,
   "id": "da6c8af4",
   "metadata": {},
   "outputs": [
    {
     "data": {
      "text/plain": [
       "[4, 3, 2, 1]"
      ]
     },
     "execution_count": 4,
     "metadata": {},
     "output_type": "execute_result"
    }
   ],
   "source": [
    "sorted(l1,reverse=True)"
   ]
  },
  {
   "cell_type": "code",
   "execution_count": 12,
   "id": "ddab0c55",
   "metadata": {},
   "outputs": [
    {
     "data": {
      "text/plain": [
       "([4, 3, 2, 1], [1, 2, 3], [1, 2, 3, 4], [1, 2, 3, 4], [3], 4)"
      ]
     },
     "execution_count": 12,
     "metadata": {},
     "output_type": "execute_result"
    }
   ],
   "source": [
    "l1[::-1],l1[0:3],l1[:],l1[::],l1[2:3],l1[3]"
   ]
  },
  {
   "cell_type": "code",
   "execution_count": 5,
   "id": "153e20d3",
   "metadata": {},
   "outputs": [
    {
     "data": {
      "text/plain": [
       "[1, 2, 3, 4]"
      ]
     },
     "execution_count": 5,
     "metadata": {},
     "output_type": "execute_result"
    }
   ],
   "source": [
    "sorted(l1,reverse=False)"
   ]
  },
  {
   "cell_type": "code",
   "execution_count": 50,
   "id": "964c6db6",
   "metadata": {},
   "outputs": [
    {
     "data": {
      "text/plain": [
       "[4, 3, 2, 1]"
      ]
     },
     "execution_count": 50,
     "metadata": {},
     "output_type": "execute_result"
    }
   ],
   "source": [
    "# If you want to do desending order\n",
    "# reverse=True\n",
    "sorted(l1,reverse=True)"
   ]
  },
  {
   "cell_type": "code",
   "execution_count": null,
   "id": "4c6fbd79",
   "metadata": {},
   "outputs": [],
   "source": [
    "# l5=[1,2,3,4,5]\n",
    "#  l5[::-1]        #without using sort it can revers the list values"
   ]
  },
  {
   "cell_type": "code",
   "execution_count": 51,
   "id": "9bd9efb1",
   "metadata": {},
   "outputs": [
    {
     "data": {
      "text/plain": [
       "['Cherry', 'Banana', 'Apple']"
      ]
     },
     "execution_count": 51,
     "metadata": {},
     "output_type": "execute_result"
    }
   ],
   "source": [
    "sorted(l2,reverse=True)"
   ]
  },
  {
   "cell_type": "code",
   "execution_count": 53,
   "id": "2eabcd5a",
   "metadata": {},
   "outputs": [
    {
     "ename": "TypeError",
     "evalue": "'<' not supported between instances of 'str' and 'int'",
     "output_type": "error",
     "traceback": [
      "\u001b[1;31m---------------------------------------------------------------------------\u001b[0m",
      "\u001b[1;31mTypeError\u001b[0m                                 Traceback (most recent call last)",
      "Cell \u001b[1;32mIn[53], line 1\u001b[0m\n\u001b[1;32m----> 1\u001b[0m \u001b[38;5;28msorted\u001b[39m(l3)\n",
      "\u001b[1;31mTypeError\u001b[0m: '<' not supported between instances of 'str' and 'int'"
     ]
    }
   ],
   "source": [
    "sorted(l3)  #reverse=l3)"
   ]
  },
  {
   "cell_type": "code",
   "execution_count": 56,
   "id": "0524ea8d",
   "metadata": {},
   "outputs": [
    {
     "ename": "TypeError",
     "evalue": "'<' not supported between instances of 'int' and 'str'",
     "output_type": "error",
     "traceback": [
      "\u001b[1;31m---------------------------------------------------------------------------\u001b[0m",
      "\u001b[1;31mTypeError\u001b[0m                                 Traceback (most recent call last)",
      "Cell \u001b[1;32mIn[56], line 1\u001b[0m\n\u001b[1;32m----> 1\u001b[0m \u001b[38;5;28msorted\u001b[39m(l3,reverse\u001b[38;5;241m=\u001b[39m\u001b[38;5;28;01mTrue\u001b[39;00m)\n",
      "\u001b[1;31mTypeError\u001b[0m: '<' not supported between instances of 'int' and 'str'"
     ]
    }
   ],
   "source": [
    "sorted(l3,reverse=True)"
   ]
  },
  {
   "cell_type": "code",
   "execution_count": null,
   "id": "906329c6",
   "metadata": {},
   "outputs": [],
   "source": [
    "# list object is not callable ===== magicc of python"
   ]
  },
  {
   "cell_type": "code",
   "execution_count": 55,
   "id": "592d0242",
   "metadata": {},
   "outputs": [
    {
     "ename": "TypeError",
     "evalue": "'<' not supported between instances of 'bool' and 'complex'",
     "output_type": "error",
     "traceback": [
      "\u001b[1;31m---------------------------------------------------------------------------\u001b[0m",
      "\u001b[1;31mTypeError\u001b[0m                                 Traceback (most recent call last)",
      "Cell \u001b[1;32mIn[55], line 1\u001b[0m\n\u001b[1;32m----> 1\u001b[0m \u001b[38;5;28msorted\u001b[39m(l4,reverse\u001b[38;5;241m=\u001b[39m\u001b[38;5;28;01mTrue\u001b[39;00m)\n",
      "\u001b[1;31mTypeError\u001b[0m: '<' not supported between instances of 'bool' and 'complex'"
     ]
    }
   ],
   "source": [
    "sorted(l4,reverse=True)"
   ]
  },
  {
   "cell_type": "code",
   "execution_count": 57,
   "id": "1e928ebc",
   "metadata": {},
   "outputs": [
    {
     "data": {
      "text/plain": [
       "[100, 100, 100]"
      ]
     },
     "execution_count": 57,
     "metadata": {},
     "output_type": "execute_result"
    }
   ],
   "source": [
    "l5"
   ]
  },
  {
   "cell_type": "code",
   "execution_count": 60,
   "id": "8bfbbae1",
   "metadata": {},
   "outputs": [
    {
     "data": {
      "text/plain": [
       "[100, 100, 100]"
      ]
     },
     "execution_count": 60,
     "metadata": {},
     "output_type": "execute_result"
    }
   ],
   "source": [
    "sorted(l5,reverse=True)"
   ]
  },
  {
   "cell_type": "code",
   "execution_count": 61,
   "id": "b228c86c",
   "metadata": {},
   "outputs": [
    {
     "data": {
      "text/plain": [
       "[1, 2, 3, ['A', 'B', 'C']]"
      ]
     },
     "execution_count": 61,
     "metadata": {},
     "output_type": "execute_result"
    }
   ],
   "source": [
    "l6"
   ]
  },
  {
   "cell_type": "code",
   "execution_count": 62,
   "id": "88ff972f",
   "metadata": {},
   "outputs": [
    {
     "ename": "TypeError",
     "evalue": "'<' not supported between instances of 'int' and 'list'",
     "output_type": "error",
     "traceback": [
      "\u001b[1;31m---------------------------------------------------------------------------\u001b[0m",
      "\u001b[1;31mTypeError\u001b[0m                                 Traceback (most recent call last)",
      "Cell \u001b[1;32mIn[62], line 1\u001b[0m\n\u001b[1;32m----> 1\u001b[0m \u001b[38;5;28msorted\u001b[39m(l6,reverse\u001b[38;5;241m=\u001b[39m\u001b[38;5;28;01mTrue\u001b[39;00m)\n",
      "\u001b[1;31mTypeError\u001b[0m: '<' not supported between instances of 'int' and 'list'"
     ]
    }
   ],
   "source": [
    "sorted(l6,reverse=True)"
   ]
  },
  {
   "cell_type": "markdown",
   "id": "f87bcb47",
   "metadata": {},
   "source": [
    "$reversed$"
   ]
  },
  {
   "cell_type": "code",
   "execution_count": 10,
   "id": "746fb09e",
   "metadata": {},
   "outputs": [
    {
     "data": {
      "text/plain": [
       "[1, 2, 3, 4]"
      ]
     },
     "execution_count": 10,
     "metadata": {},
     "output_type": "execute_result"
    }
   ],
   "source": [
    "l1"
   ]
  },
  {
   "cell_type": "code",
   "execution_count": 64,
   "id": "bb7276ce",
   "metadata": {},
   "outputs": [],
   "source": [
    "val=reversed(l1)"
   ]
  },
  {
   "cell_type": "code",
   "execution_count": 65,
   "id": "672f358c",
   "metadata": {},
   "outputs": [
    {
     "name": "stdout",
     "output_type": "stream",
     "text": [
      "4\n",
      "3\n",
      "2\n",
      "1\n"
     ]
    }
   ],
   "source": [
    "for i in val:\n",
    "    print(i)"
   ]
  },
  {
   "cell_type": "code",
   "execution_count": 66,
   "id": "f65cba6c",
   "metadata": {},
   "outputs": [],
   "source": [
    "val=reversed(l2)"
   ]
  },
  {
   "cell_type": "code",
   "execution_count": 68,
   "id": "2c9d5aa4",
   "metadata": {},
   "outputs": [
    {
     "name": "stdout",
     "output_type": "stream",
     "text": [
      "Cherry\n",
      "Banana\n",
      "Apple\n"
     ]
    }
   ],
   "source": [
    "for i in val:\n",
    "    print(i)"
   ]
  },
  {
   "cell_type": "code",
   "execution_count": 8,
   "id": "c98d488b",
   "metadata": {},
   "outputs": [],
   "source": [
    "l3=[1,2,3,4,5,'a','b']"
   ]
  },
  {
   "cell_type": "code",
   "execution_count": 9,
   "id": "36060409",
   "metadata": {},
   "outputs": [],
   "source": [
    "val=reversed(l3)"
   ]
  },
  {
   "cell_type": "code",
   "execution_count": null,
   "id": "e304a0d9",
   "metadata": {},
   "outputs": [],
   "source": []
  },
  {
   "cell_type": "code",
   "execution_count": null,
   "id": "f3089155",
   "metadata": {},
   "outputs": [],
   "source": []
  },
  {
   "cell_type": "code",
   "execution_count": 71,
   "id": "c3f379bf",
   "metadata": {},
   "outputs": [],
   "source": [
    "val=reversed(l4)"
   ]
  },
  {
   "cell_type": "code",
   "execution_count": 72,
   "id": "d1976000",
   "metadata": {},
   "outputs": [
    {
     "name": "stdout",
     "output_type": "stream",
     "text": [
      "(20+30j)\n",
      "True\n",
      "10.5\n",
      "C\n",
      "B\n",
      "A\n",
      "3\n",
      "2\n",
      "1\n"
     ]
    }
   ],
   "source": [
    "for i in val:\n",
    "    print(i)"
   ]
  },
  {
   "cell_type": "code",
   "execution_count": 73,
   "id": "b1d6462a",
   "metadata": {},
   "outputs": [],
   "source": [
    "val=reversed(l5)"
   ]
  },
  {
   "cell_type": "code",
   "execution_count": 75,
   "id": "232b92a0",
   "metadata": {},
   "outputs": [
    {
     "name": "stdout",
     "output_type": "stream",
     "text": [
      "100\n",
      "100\n",
      "100\n"
     ]
    }
   ],
   "source": [
    "for i in val:\n",
    "    print(i)"
   ]
  },
  {
   "cell_type": "code",
   "execution_count": 76,
   "id": "2a7e0462",
   "metadata": {},
   "outputs": [],
   "source": [
    "val=reversed(l6)"
   ]
  },
  {
   "cell_type": "code",
   "execution_count": 77,
   "id": "7e0579c1",
   "metadata": {},
   "outputs": [
    {
     "name": "stdout",
     "output_type": "stream",
     "text": [
      "['A', 'B', 'C']\n",
      "3\n",
      "2\n",
      "1\n"
     ]
    }
   ],
   "source": [
    "for i in val:\n",
    "    print(i)"
   ]
  },
  {
   "cell_type": "code",
   "execution_count": 78,
   "id": "ada3ae86",
   "metadata": {},
   "outputs": [],
   "source": [
    "val=reversed(l7)"
   ]
  },
  {
   "cell_type": "code",
   "execution_count": 79,
   "id": "3d254578",
   "metadata": {},
   "outputs": [
    {
     "name": "stdout",
     "output_type": "stream",
     "text": [
      "[[[[[['%', '^']]]]]]\n"
     ]
    }
   ],
   "source": [
    "for i in val:\n",
    "    print(i)"
   ]
  },
  {
   "cell_type": "code",
   "execution_count": 80,
   "id": "fb2fce61",
   "metadata": {},
   "outputs": [
    {
     "data": {
      "text/plain": [
       "[1, 2, 3, 4, 'Apple', 'Banana', 'Cherry']"
      ]
     },
     "execution_count": 80,
     "metadata": {},
     "output_type": "execute_result"
    }
   ],
   "source": [
    "l1+l2"
   ]
  },
  {
   "cell_type": "code",
   "execution_count": 81,
   "id": "d9677235",
   "metadata": {},
   "outputs": [
    {
     "ename": "TypeError",
     "evalue": "unsupported operand type(s) for -: 'list' and 'list'",
     "output_type": "error",
     "traceback": [
      "\u001b[1;31m---------------------------------------------------------------------------\u001b[0m",
      "\u001b[1;31mTypeError\u001b[0m                                 Traceback (most recent call last)",
      "Cell \u001b[1;32mIn[81], line 1\u001b[0m\n\u001b[1;32m----> 1\u001b[0m l1\u001b[38;5;241m-\u001b[39ml2\n",
      "\u001b[1;31mTypeError\u001b[0m: unsupported operand type(s) for -: 'list' and 'list'"
     ]
    }
   ],
   "source": [
    "l1-l2"
   ]
  },
  {
   "cell_type": "code",
   "execution_count": 85,
   "id": "6e0a2239",
   "metadata": {},
   "outputs": [
    {
     "data": {
      "text/plain": [
       "[1, 2, 3, 4, 1, 2, 3, 4, 1, 2, 3, 4]"
      ]
     },
     "execution_count": 85,
     "metadata": {},
     "output_type": "execute_result"
    }
   ],
   "source": [
    "l1*3  # l1+l1+l1"
   ]
  },
  {
   "cell_type": "markdown",
   "id": "761a2039",
   "metadata": {},
   "source": []
  },
  {
   "cell_type": "markdown",
   "id": "ffba0978",
   "metadata": {},
   "source": [
    "$in$"
   ]
  },
  {
   "cell_type": "code",
   "execution_count": 86,
   "id": "c23e2a73",
   "metadata": {},
   "outputs": [
    {
     "name": "stdout",
     "output_type": "stream",
     "text": [
      "p\n",
      "y\n",
      "t\n",
      "h\n",
      "o\n",
      "n\n"
     ]
    }
   ],
   "source": [
    "s1='python'\n",
    "for i in s1:\n",
    "    print(i)"
   ]
  },
  {
   "cell_type": "code",
   "execution_count": 87,
   "id": "95e4bb03",
   "metadata": {},
   "outputs": [
    {
     "name": "stdout",
     "output_type": "stream",
     "text": [
      "1\n",
      "2\n",
      "3\n",
      "4\n"
     ]
    }
   ],
   "source": [
    "for i in l1:\n",
    "    print(i)"
   ]
  },
  {
   "cell_type": "code",
   "execution_count": 88,
   "id": "bc626c01",
   "metadata": {},
   "outputs": [
    {
     "name": "stdout",
     "output_type": "stream",
     "text": [
      "Apple\n",
      "Banana\n",
      "Cherry\n"
     ]
    }
   ],
   "source": [
    "for i in l2:\n",
    "    print(i)"
   ]
  },
  {
   "cell_type": "code",
   "execution_count": 89,
   "id": "b34aa5e0",
   "metadata": {},
   "outputs": [
    {
     "name": "stdout",
     "output_type": "stream",
     "text": [
      "1\n",
      "2\n",
      "3\n",
      "A\n",
      "B\n",
      "C\n"
     ]
    }
   ],
   "source": [
    "for i in l3:\n",
    "    print(i)"
   ]
  },
  {
   "cell_type": "code",
   "execution_count": 90,
   "id": "40ffc52e",
   "metadata": {},
   "outputs": [
    {
     "name": "stdout",
     "output_type": "stream",
     "text": [
      "1\n",
      "2\n",
      "3\n",
      "A\n",
      "B\n",
      "C\n",
      "10.5\n",
      "True\n",
      "(20+30j)\n"
     ]
    }
   ],
   "source": [
    "for i in l4:\n",
    "    print(i)"
   ]
  },
  {
   "cell_type": "code",
   "execution_count": 91,
   "id": "e7148039",
   "metadata": {},
   "outputs": [
    {
     "name": "stdout",
     "output_type": "stream",
     "text": [
      "100\n",
      "100\n",
      "100\n"
     ]
    }
   ],
   "source": [
    "for i in l5:\n",
    "    print(i)"
   ]
  },
  {
   "cell_type": "code",
   "execution_count": 92,
   "id": "6930a567",
   "metadata": {},
   "outputs": [
    {
     "name": "stdout",
     "output_type": "stream",
     "text": [
      "1\n",
      "2\n",
      "3\n",
      "['A', 'B', 'C']\n"
     ]
    }
   ],
   "source": [
    "for i in l6:\n",
    "    print(i)"
   ]
  },
  {
   "cell_type": "code",
   "execution_count": 93,
   "id": "affd65c7",
   "metadata": {},
   "outputs": [
    {
     "name": "stdout",
     "output_type": "stream",
     "text": [
      "[[[[[['%', '^']]]]]]\n"
     ]
    }
   ],
   "source": [
    "for i in l7:\n",
    "    print(i)"
   ]
  },
  {
   "cell_type": "code",
   "execution_count": null,
   "id": "39dceca0",
   "metadata": {},
   "outputs": [],
   "source": []
  },
  {
   "cell_type": "markdown",
   "id": "64debd9a",
   "metadata": {},
   "source": [
    "$index$"
   ]
  },
  {
   "cell_type": "code",
   "execution_count": null,
   "id": "0dd1cbd6",
   "metadata": {},
   "outputs": [],
   "source": [
    "-6 -5 -4 -3 -2 -2\n",
    "p  y   t  h  o  n\n",
    "0  1  2   3  4  5"
   ]
  },
  {
   "cell_type": "code",
   "execution_count": null,
   "id": "c2223afe",
   "metadata": {},
   "outputs": [],
   "source": [
    "-3     -2      -1\n",
    "Apple  Banana  Cherry\n",
    "0      1       2"
   ]
  },
  {
   "cell_type": "code",
   "execution_count": 15,
   "id": "a61254ad",
   "metadata": {},
   "outputs": [
    {
     "data": {
      "text/plain": [
       "('Appple', 'Banana', 'Cherry')"
      ]
     },
     "execution_count": 15,
     "metadata": {},
     "output_type": "execute_result"
    }
   ],
   "source": [
    "l2=['Appple','Banana','Cherry']\n",
    "l2[0],l2[1],l2[2]"
   ]
  },
  {
   "cell_type": "code",
   "execution_count": 16,
   "id": "e86fb579",
   "metadata": {},
   "outputs": [
    {
     "data": {
      "text/plain": [
       "('Appple', 'Banana', 'Cherry')"
      ]
     },
     "execution_count": 16,
     "metadata": {},
     "output_type": "execute_result"
    }
   ],
   "source": [
    "l2[-3],l2[-2],l2[-1]"
   ]
  },
  {
   "cell_type": "code",
   "execution_count": 17,
   "id": "42a36de9",
   "metadata": {},
   "outputs": [
    {
     "data": {
      "text/plain": [
       "('Appple', 'Banana', 'Cherry')"
      ]
     },
     "execution_count": 17,
     "metadata": {},
     "output_type": "execute_result"
    }
   ],
   "source": [
    "l2[0],l2[1],l2[2]"
   ]
  },
  {
   "cell_type": "code",
   "execution_count": null,
   "id": "5e4946a1",
   "metadata": {},
   "outputs": [],
   "source": [
    "# possitive index of Apple is 0\n",
    "\n",
    "# negitive index of Apple is -3\n",
    "\n",
    "# positive and negitive index"
   ]
  },
  {
   "cell_type": "code",
   "execution_count": 103,
   "id": "8f852f05",
   "metadata": {},
   "outputs": [
    {
     "name": "stdout",
     "output_type": "stream",
     "text": [
      "Apple\n",
      "Banana\n",
      "Cherry\n"
     ]
    }
   ],
   "source": [
    "for i in range(len(l2)):\n",
    "    print(l2[i])"
   ]
  },
  {
   "cell_type": "markdown",
   "id": "d8bca8ab",
   "metadata": {},
   "source": [
    "#### for i in range(len(l3)):\n",
    "    print(l3[i])"
   ]
  },
  {
   "cell_type": "code",
   "execution_count": 105,
   "id": "ff257de6",
   "metadata": {},
   "outputs": [
    {
     "name": "stdout",
     "output_type": "stream",
     "text": [
      "1\n",
      "2\n",
      "3\n",
      "A\n",
      "B\n",
      "C\n",
      "10.5\n",
      "True\n",
      "(20+30j)\n"
     ]
    }
   ],
   "source": [
    "for i in range(len(l4)):\n",
    "    print(l4[i])\n",
    "    "
   ]
  },
  {
   "cell_type": "code",
   "execution_count": null,
   "id": "c1a7f3e3",
   "metadata": {},
   "outputs": [],
   "source": [
    "# possitive index of Apple is 0\n",
    "# negitive index of Apple is -3\n",
    "# positive and negitive index"
   ]
  },
  {
   "cell_type": "code",
   "execution_count": 108,
   "id": "68045d3c",
   "metadata": {},
   "outputs": [
    {
     "name": "stdout",
     "output_type": "stream",
     "text": [
      "the possitive index is 0 of Apple\n",
      "the possitive index is 1 of Banana\n",
      "the possitive index is 2 of Cherry\n"
     ]
    }
   ],
   "source": [
    "for i in range(len(l2)):\n",
    "    print(f\"the possitive index is {i} of {l2[i]}\")"
   ]
  },
  {
   "cell_type": "code",
   "execution_count": 109,
   "id": "b388fe02",
   "metadata": {},
   "outputs": [
    {
     "name": "stdout",
     "output_type": "stream",
     "text": [
      "0 -3\n",
      "1 -2\n",
      "2 -1\n"
     ]
    }
   ],
   "source": [
    "for i in range(len(l2)):\n",
    "    print(i,i-3)"
   ]
  },
  {
   "cell_type": "code",
   "execution_count": 133,
   "id": "2baf42a3",
   "metadata": {},
   "outputs": [
    {
     "name": "stdout",
     "output_type": "stream",
     "text": [
      "0 -6\n",
      "1 -5\n",
      "2 -4\n",
      "3 -3\n",
      "4 -2\n",
      "5 -1\n"
     ]
    }
   ],
   "source": [
    "for i in range(len(l3)):\n",
    "    print(i,i-len(l3))"
   ]
  },
  {
   "cell_type": "code",
   "execution_count": null,
   "id": "2470a6c9",
   "metadata": {},
   "outputs": [],
   "source": []
  },
  {
   "cell_type": "markdown",
   "id": "8c3310dc",
   "metadata": {},
   "source": [
    "$mutable-immutable$"
   ]
  },
  {
   "cell_type": "code",
   "execution_count": 111,
   "id": "4473cb56",
   "metadata": {},
   "outputs": [
    {
     "data": {
      "text/plain": [
       "[100, 2, 3, 4]"
      ]
     },
     "execution_count": 111,
     "metadata": {},
     "output_type": "execute_result"
    }
   ],
   "source": [
    "l7=[1,2,3,4]\n",
    "l7[0]=100\n",
    "l7"
   ]
  },
  {
   "cell_type": "code",
   "execution_count": null,
   "id": "52a15930",
   "metadata": {},
   "outputs": [],
   "source": [
    "**List are mutable**\n",
    "**strings are immutable**"
   ]
  },
  {
   "cell_type": "markdown",
   "id": "12b740bb",
   "metadata": {},
   "source": [
    "$slice$"
   ]
  },
  {
   "cell_type": "code",
   "execution_count": null,
   "id": "977890e8",
   "metadata": {},
   "outputs": [],
   "source": [
    "list1=[1,2,3,4,5,'A','B','C','D','E',100,200,300,400,'Apple','Banana','cherry']\n",
    "\n",
    "list1[3:14:2]  # p\n",
    "list1[3:14:-2] # np\n",
    "list1[3:-14:2]   # np strare=3  step=+2  last=-14-1=-15\n",
    "list1[-3:-14:-2] # p\n",
    "list1[-3:-14:2] # np\n",
    "list1[-3:14:2] # \n",
    "list1[3:-14:2]\n",
    "list1[::]\n",
    "list1[::-1]  # Reverse\n"
   ]
  },
  {
   "cell_type": "code",
   "execution_count": null,
   "id": "5be6a54c",
   "metadata": {},
   "outputs": [],
   "source": []
  },
  {
   "cell_type": "code",
   "execution_count": null,
   "id": "f41fd6f1",
   "metadata": {},
   "outputs": [],
   "source": [
    "-16  -15  -14  -13  -12  -11  -10  -9  -8 -7   -6  -5   -4    -3      -2     -1\n",
    "  1,  2,   3,   4,  'A', 'B',  'C','D','E'100, 200 ,300,400,'Apple','Banana','Cherry'\n",
    "  0   1    2    3    4    5     6   7   8   9  10   11   12    13      14       15\n"
   ]
  },
  {
   "cell_type": "code",
   "execution_count": null,
   "id": "ac78fa11",
   "metadata": {},
   "outputs": [],
   "source": []
  },
  {
   "cell_type": "code",
   "execution_count": 122,
   "id": "5b9bcb05",
   "metadata": {},
   "outputs": [
    {
     "data": {
      "text/plain": [
       "[4, 'A', 'C', 'E', 200, 400]"
      ]
     },
     "execution_count": 122,
     "metadata": {},
     "output_type": "execute_result"
    }
   ],
   "source": [
    "list1=[1,2,3,4,5,'A','B','C','D','E',100,200,300,400,'Apple','Banana','cherry']\n",
    "list1[3:14:2]"
   ]
  },
  {
   "cell_type": "code",
   "execution_count": 123,
   "id": "8f7890e6",
   "metadata": {},
   "outputs": [
    {
     "data": {
      "text/plain": [
       "[]"
      ]
     },
     "execution_count": 123,
     "metadata": {},
     "output_type": "execute_result"
    }
   ],
   "source": [
    "list1=[1,2,3,4,5,'A','B','C','D','E',100,200,300,400,'Apple','Banana','cherry']\n",
    "list1[3:14:-2]"
   ]
  },
  {
   "cell_type": "code",
   "execution_count": 124,
   "id": "3fb23cb2",
   "metadata": {},
   "outputs": [
    {
     "data": {
      "text/plain": [
       "[]"
      ]
     },
     "execution_count": 124,
     "metadata": {},
     "output_type": "execute_result"
    }
   ],
   "source": [
    "list1=[1,2,3,4,5,'A','B','C','D','E',100,200,300,400,'Apple','Banana','cherry']\n",
    "list1[3:-14:2]"
   ]
  },
  {
   "cell_type": "code",
   "execution_count": 125,
   "id": "21ff3a44",
   "metadata": {},
   "outputs": [
    {
     "data": {
      "text/plain": [
       "['Apple', 300, 100, 'D', 'B', 5]"
      ]
     },
     "execution_count": 125,
     "metadata": {},
     "output_type": "execute_result"
    }
   ],
   "source": [
    "list1=[1,2,3,4,5,'A','B','C','D','E',100,200,300,400,'Apple','Banana','cherry']\n",
    "list1[-3:-14:-2]"
   ]
  },
  {
   "cell_type": "code",
   "execution_count": 126,
   "id": "7627d193",
   "metadata": {},
   "outputs": [
    {
     "data": {
      "text/plain": [
       "[]"
      ]
     },
     "execution_count": 126,
     "metadata": {},
     "output_type": "execute_result"
    }
   ],
   "source": [
    "list1[-3:-14:2]list1=[1,2,3,4,5,'A','B','C','D','E',100,200,300,400,'Apple','Banana','cherry']\n",
    "list1[-3:-14:2]"
   ]
  },
  {
   "cell_type": "code",
   "execution_count": null,
   "id": "80a3ab8a",
   "metadata": {},
   "outputs": [],
   "source": []
  },
  {
   "cell_type": "code",
   "execution_count": null,
   "id": "bff0ba7d",
   "metadata": {},
   "outputs": [],
   "source": [
    "# possitive index of Apple is 0\n",
    "# negitive index of Apple is -3\n",
    "# positive and negitive index"
   ]
  },
  {
   "cell_type": "code",
   "execution_count": 3,
   "id": "4d4012c1",
   "metadata": {},
   "outputs": [
    {
     "name": "stdout",
     "output_type": "stream",
     "text": [
      "possitive index is 1 of 0\n",
      "possitive index is 2 of 1\n",
      "possitive index is 3 of 2\n",
      "possitive index is 4 of 3\n",
      "possitive index is 5 of 4\n",
      "possitive index is A of 5\n",
      "possitive index is B of 6\n",
      "possitive index is C of 7\n",
      "possitive index is D of 8\n",
      "possitive index is E of 9\n",
      "possitive index is 100 of 10\n",
      "possitive index is 200 of 11\n",
      "possitive index is 300 of 12\n",
      "possitive index is 400 of 13\n",
      "possitive index is Apple of 14\n",
      "possitive index is Banana of 15\n",
      "possitive index is cherry of 16\n"
     ]
    }
   ],
   "source": [
    "list1=[1,2,3,4,5,'A','B','C','D','E',100,200,300,400,'Apple','Banana','cherry']\n",
    "n=len(list1)\n",
    "for i in range(n):\n",
    "    print(f\"possitive index is {list1[i]} of {i}\")"
   ]
  },
  {
   "cell_type": "code",
   "execution_count": 4,
   "id": "e707245a",
   "metadata": {},
   "outputs": [
    {
     "name": "stdout",
     "output_type": "stream",
     "text": [
      "negitive index is -17 of the list 1\n",
      "negitive index is -16 of the list 2\n",
      "negitive index is -15 of the list 3\n",
      "negitive index is -14 of the list 4\n",
      "negitive index is -13 of the list 5\n",
      "negitive index is -12 of the list A\n",
      "negitive index is -11 of the list B\n",
      "negitive index is -10 of the list C\n",
      "negitive index is -9 of the list D\n",
      "negitive index is -8 of the list E\n",
      "negitive index is -7 of the list 100\n",
      "negitive index is -6 of the list 200\n",
      "negitive index is -5 of the list 300\n",
      "negitive index is -4 of the list 400\n",
      "negitive index is -3 of the list Apple\n",
      "negitive index is -2 of the list Banana\n",
      "negitive index is -1 of the list cherry\n"
     ]
    }
   ],
   "source": [
    "list1=[1,2,3,4,5,'A','B','C','D','E',100,200,300,400,'Apple','Banana','cherry']\n",
    "n=len(list1)\n",
    "for i in range(n):\n",
    "    print(f\"negitive index is {i-n} of the list {list1[i]}\")"
   ]
  },
  {
   "cell_type": "code",
   "execution_count": 129,
   "id": "2b3a7269",
   "metadata": {},
   "outputs": [
    {
     "name": "stdout",
     "output_type": "stream",
     "text": [
      "possitive index is 0 and negitive index is -17 of 1\n",
      "possitive index is 1 and negitive index is -16 of 2\n",
      "possitive index is 2 and negitive index is -15 of 3\n",
      "possitive index is 3 and negitive index is -14 of 4\n",
      "possitive index is 4 and negitive index is -13 of 5\n",
      "possitive index is 5 and negitive index is -12 of A\n",
      "possitive index is 6 and negitive index is -11 of B\n",
      "possitive index is 7 and negitive index is -10 of C\n",
      "possitive index is 8 and negitive index is -9 of D\n",
      "possitive index is 9 and negitive index is -8 of E\n",
      "possitive index is 10 and negitive index is -7 of 100\n",
      "possitive index is 11 and negitive index is -6 of 200\n",
      "possitive index is 12 and negitive index is -5 of 300\n",
      "possitive index is 13 and negitive index is -4 of 400\n",
      "possitive index is 14 and negitive index is -3 of Apple\n",
      "possitive index is 15 and negitive index is -2 of Banana\n",
      "possitive index is 16 and negitive index is -1 of cherry\n"
     ]
    }
   ],
   "source": [
    "list1=[1,2,3,4,5,'A','B','C','D','E',100,200,300,400,'Apple','Banana','cherry']\n",
    "n=len(list1)\n",
    "for i in range(n):\n",
    "    print(f\"possitive index is {i} and negitive index is {i-n} of {list1[i]}\")"
   ]
  },
  {
   "cell_type": "code",
   "execution_count": null,
   "id": "4df5632c",
   "metadata": {},
   "outputs": [],
   "source": [
    "##########################  07 feb 2024  #################################################################################"
   ]
  },
  {
   "cell_type": "code",
   "execution_count": 2,
   "id": "1ea8132a",
   "metadata": {},
   "outputs": [
    {
     "data": {
      "text/plain": [
       "4"
      ]
     },
     "execution_count": 2,
     "metadata": {},
     "output_type": "execute_result"
    }
   ],
   "source": [
    "list1=[1,2,3,['A','B',]]\n",
    "\n",
    "# get the index of 'B'\n",
    "# Retrive 'B' bby using index\n",
    "\n",
    "len(list1)\n"
   ]
  },
  {
   "cell_type": "code",
   "execution_count": 5,
   "id": "f472b7b2",
   "metadata": {},
   "outputs": [
    {
     "data": {
      "text/plain": [
       "['A', 'B']"
      ]
     },
     "execution_count": 5,
     "metadata": {},
     "output_type": "execute_result"
    }
   ],
   "source": [
    "list1[3]"
   ]
  },
  {
   "cell_type": "code",
   "execution_count": 4,
   "id": "ccadf454",
   "metadata": {},
   "outputs": [
    {
     "data": {
      "text/plain": [
       "'B'"
      ]
     },
     "execution_count": 4,
     "metadata": {},
     "output_type": "execute_result"
    }
   ],
   "source": [
    "o1=list1[3]\n",
    "o1[1]"
   ]
  },
  {
   "cell_type": "code",
   "execution_count": 9,
   "id": "7eea7476",
   "metadata": {},
   "outputs": [
    {
     "data": {
      "text/plain": [
       "'B'"
      ]
     },
     "execution_count": 9,
     "metadata": {},
     "output_type": "execute_result"
    }
   ],
   "source": [
    "o1=list1=[1,2,3,['A','B',]]\n",
    "o1=list1[3]\n",
    "o1[1]\n",
    "\n",
    "list1[3][1]"
   ]
  },
  {
   "cell_type": "code",
   "execution_count": 16,
   "id": "206ee4ee",
   "metadata": {},
   "outputs": [
    {
     "data": {
      "text/plain": [
       "'Appple'"
      ]
     },
     "execution_count": 16,
     "metadata": {},
     "output_type": "execute_result"
    }
   ],
   "source": [
    "list2=[['Appple','Banana']]\n",
    "len(list2)\n",
    "list2[0][0]"
   ]
  },
  {
   "cell_type": "code",
   "execution_count": 8,
   "id": "eb35e3b8",
   "metadata": {},
   "outputs": [
    {
     "data": {
      "text/plain": [
       "'Banana'"
      ]
     },
     "execution_count": 8,
     "metadata": {},
     "output_type": "execute_result"
    }
   ],
   "source": [
    "list2=[[['Appple','Banana']]]\n",
    "len(list2)\n",
    "list2[0][0][1]"
   ]
  },
  {
   "cell_type": "code",
   "execution_count": 16,
   "id": "389b38fd",
   "metadata": {},
   "outputs": [
    {
     "data": {
      "text/plain": [
       "('Appple', 'Banana')"
      ]
     },
     "execution_count": 16,
     "metadata": {},
     "output_type": "execute_result"
    }
   ],
   "source": [
    "list2=[['Appple','Banana']]\n",
    "len(list2)\n",
    "list2[0][0],list2[0][1]"
   ]
  },
  {
   "cell_type": "code",
   "execution_count": 27,
   "id": "e2a9ef1a",
   "metadata": {},
   "outputs": [
    {
     "data": {
      "text/plain": [
       "20"
      ]
     },
     "execution_count": 27,
     "metadata": {},
     "output_type": "execute_result"
    }
   ],
   "source": [
    "list3=[['A','B',[1,20]]]\n",
    "# one    0\n",
    "len(list3)\n",
    "list3[0][2][1]"
   ]
  },
  {
   "cell_type": "code",
   "execution_count": 34,
   "id": "e5c088c7",
   "metadata": {},
   "outputs": [
    {
     "data": {
      "text/plain": [
       "[[['hyd', 'asif', 'python'], [100, 'data', 500]]]"
      ]
     },
     "execution_count": 34,
     "metadata": {},
     "output_type": "execute_result"
    }
   ],
   "source": [
    "list8=[[[\"hyd\",\"asif\",\"python\"],[100,\"data\",500]]]\n",
    "len(list8)\n",
    "list8[0][::-1]\n",
    "list8[0][0][0] # 'hyd'\n",
    "list8[0][1][1] # 'data'\n",
    "list8[0][1][2] # 500\n",
    "list8[0][0][1]  # 'asif'\n",
    "list8[0][0][2] # 'python'\n",
    "list8[:]    # [[['hyd', 'asif', 'python'], [100, 'data', 500]]]\n",
    "list8[::] # [[['hyd', 'asif', 'python'], [100, 'data', 500]]]\n",
    "\n"
   ]
  },
  {
   "cell_type": "code",
   "execution_count": 41,
   "id": "5353248f",
   "metadata": {},
   "outputs": [
    {
     "data": {
      "text/plain": [
       "20"
      ]
     },
     "execution_count": 41,
     "metadata": {},
     "output_type": "execute_result"
    }
   ],
   "source": [
    "list4=['hyderabad',['A','B',[1,20]]]\n",
    "len(list4)\n",
    "#list4[1][2][1]\n",
    "#list4[0]  # 'hyderabad'\n",
    "#list4[1]  # ['A', 'B', [1, 20]]\n",
    "#list4[1][2]  # [1, 20]\n",
    "list4[1][2][1] # 20"
   ]
  },
  {
   "cell_type": "code",
   "execution_count": 36,
   "id": "e032208d",
   "metadata": {},
   "outputs": [
    {
     "data": {
      "text/plain": [
       "'car'"
      ]
     },
     "execution_count": 36,
     "metadata": {},
     "output_type": "execute_result"
    }
   ],
   "source": [
    "list5=[['car']]\n",
    "len(list5)\n",
    "list5[0][0]"
   ]
  },
  {
   "cell_type": "code",
   "execution_count": 37,
   "id": "349838a0",
   "metadata": {},
   "outputs": [
    {
     "data": {
      "text/plain": [
       "'bus'"
      ]
     },
     "execution_count": 37,
     "metadata": {},
     "output_type": "execute_result"
    }
   ],
   "source": [
    "list6=[[['bus']]]\n",
    "list6[0][0][0]"
   ]
  },
  {
   "cell_type": "code",
   "execution_count": 60,
   "id": "d678cca8",
   "metadata": {},
   "outputs": [
    {
     "data": {
      "text/plain": [
       "[[[[[[['cherry', ['Apple']]]]]]]]"
      ]
     },
     "execution_count": 60,
     "metadata": {},
     "output_type": "execute_result"
    }
   ],
   "source": [
    "list7=[[[[[[[['cherry',['Apple']]]]]]]]]\n",
    "len(list7)\n",
    "list7[0]"
   ]
  },
  {
   "cell_type": "code",
   "execution_count": 61,
   "id": "0b9efa00",
   "metadata": {},
   "outputs": [
    {
     "data": {
      "text/plain": [
       "[[[[[[['cherry', ['Apple']]]]]]]]"
      ]
     },
     "execution_count": 61,
     "metadata": {},
     "output_type": "execute_result"
    }
   ],
   "source": [
    "list7=[[[[[[[['cherry',['Apple']]]]]]]]]\n",
    "len(list7)\n",
    "#list7[0]\n",
    "#list7[0][0][0][0][0][0][0]  # ['cherry', ['Apple']]\n",
    "#list7[0][0][0][0][0][0][0][0] # 'cherry'\n",
    "list7[0]"
   ]
  },
  {
   "cell_type": "code",
   "execution_count": null,
   "id": "84f39bea",
   "metadata": {},
   "outputs": [],
   "source": []
  },
  {
   "cell_type": "code",
   "execution_count": null,
   "id": "d550783d",
   "metadata": {},
   "outputs": [],
   "source": [
    "l1=['Hyd','Mumbai','Bhopl','chennai']\n",
    "# print the element which are having len of charecters of >5:\n",
    "# idea: iterate thruugh list(## for loop)"
   ]
  },
  {
   "cell_type": "code",
   "execution_count": 42,
   "id": "e380801a",
   "metadata": {},
   "outputs": [
    {
     "name": "stdout",
     "output_type": "stream",
     "text": [
      "Mumbai\n",
      "Banglore\n",
      "chennai\n"
     ]
    }
   ],
   "source": [
    "l1=['Hyd','Mumbai','Banglore','chennai']\n",
    "for i in l1:\n",
    "    if len(i)>5:\n",
    "        print(i)"
   ]
  },
  {
   "cell_type": "code",
   "execution_count": 45,
   "id": "c689978d",
   "metadata": {},
   "outputs": [
    {
     "name": "stdout",
     "output_type": "stream",
     "text": [
      "HYD\n",
      "MUMBAI\n",
      "BANGLORE\n",
      "CHENNAI\n"
     ]
    }
   ],
   "source": [
    "l1=['Hyd','Mumbai','Banglore','chennai']\n",
    "# print all upper case\n",
    "\n",
    "for i in l1:\n",
    "    print(i.upper())"
   ]
  },
  {
   "cell_type": "code",
   "execution_count": 46,
   "id": "588192fc",
   "metadata": {},
   "outputs": [
    {
     "name": "stdout",
     "output_type": "stream",
     "text": [
      "hyd\n",
      "mumbai\n",
      "banglore\n",
      "chennai\n"
     ]
    }
   ],
   "source": [
    "l1=['Hyd','Mumbai','Banglore','chennai']\n",
    "\n",
    "for i in l1:\n",
    "    print(i.lower())"
   ]
  },
  {
   "cell_type": "code",
   "execution_count": 63,
   "id": "e4e4755a",
   "metadata": {},
   "outputs": [
    {
     "name": "stdout",
     "output_type": "stream",
     "text": [
      "Hyd\n",
      "Hyd\n",
      "Mu#mbai\n",
      "Ba#nglore\n",
      "chennai\n",
      "chennai\n"
     ]
    }
   ],
   "source": [
    "l1=['Hyd','Mu#mbai','Ba#nglore','chennai']\n",
    "# etrive the elements which are not having '#'\n",
    "for i in l1:\n",
    "    print(i)\n",
    "    if '#' not in i:\n",
    "        print(i)"
   ]
  },
  {
   "cell_type": "code",
   "execution_count": null,
   "id": "d8461b91",
   "metadata": {},
   "outputs": [],
   "source": []
  },
  {
   "cell_type": "code",
   "execution_count": null,
   "id": "5e639974",
   "metadata": {},
   "outputs": [],
   "source": []
  },
  {
   "cell_type": "code",
   "execution_count": null,
   "id": "5da84b8a",
   "metadata": {},
   "outputs": [],
   "source": [
    "str1='hello my name is python'\n",
    "# identify myy name max len word\n",
    "# min len of word\n",
    "# idea: apply the split operation : list of words\n",
    "#      max    min \n"
   ]
  },
  {
   "cell_type": "code",
   "execution_count": 64,
   "id": "b4410e2b",
   "metadata": {},
   "outputs": [
    {
     "data": {
      "text/plain": [
       "['hello', 'my', 'name', 'is', 'python']"
      ]
     },
     "execution_count": 64,
     "metadata": {},
     "output_type": "execute_result"
    }
   ],
   "source": [
    "str1='hello my name is python'\n",
    "str1.split()"
   ]
  },
  {
   "cell_type": "code",
   "execution_count": 65,
   "id": "04afdc48",
   "metadata": {},
   "outputs": [
    {
     "data": {
      "text/plain": [
       "('python', 'hello')"
      ]
     },
     "execution_count": 65,
     "metadata": {},
     "output_type": "execute_result"
    }
   ],
   "source": [
    "max(str1.split()),min(str1.split())"
   ]
  },
  {
   "cell_type": "code",
   "execution_count": 64,
   "id": "8112f698",
   "metadata": {},
   "outputs": [
    {
     "data": {
      "text/plain": [
       "('python', 'my')"
      ]
     },
     "execution_count": 64,
     "metadata": {},
     "output_type": "execute_result"
    }
   ],
   "source": [
    "str1='hello my name is python'\n",
    "# identify my name max len word\n",
    "# min len of word\n",
    "# idea: apply the split operation : list of words\n",
    "#      max    min \n",
    "\n",
    "l1=str1.split()\n",
    "max(l1,key=len),min(l1,key=len)"
   ]
  },
  {
   "cell_type": "markdown",
   "id": "a3b22d44",
   "metadata": {},
   "source": [
    "**iterable**\n",
    "- if you able to print char or elements using for loopp\n",
    "- list.string.tuple.dic"
   ]
  },
  {
   "cell_type": "code",
   "execution_count": null,
   "id": "0830a5ac",
   "metadata": {},
   "outputs": [],
   "source": [
    "qns_list=['who is pm of india',\n",
    "    'what is  capital of india?',\n",
    "     'No of states in india?',\n",
    "     'who is the capitain of ICT']\n",
    "\n",
    "\n",
    "ans_list='moodi','delhi',29,'Rohith sharma']\n",
    "\n",
    "# you need to iterate through ans list\n",
    "# an1='who is pm of india'\n",
    "# ans=input(\"enter your answer\") \n",
    "\n"
   ]
  },
  {
   "cell_type": "code",
   "execution_count": 89,
   "id": "47390399",
   "metadata": {},
   "outputs": [
    {
     "name": "stdout",
     "output_type": "stream",
     "text": [
      "who is pm of india\n",
      "enter the answer:modi\n",
      "what is  capital of india?\n",
      "enter the answer:delhi\n",
      "No of states in india?\n",
      "enter the answer:29\n",
      "who is the capitain of ICT\n",
      "enter the answer:Rohith sharma\n"
     ]
    },
    {
     "data": {
      "text/plain": [
       "4"
      ]
     },
     "execution_count": 89,
     "metadata": {},
     "output_type": "execute_result"
    }
   ],
   "source": [
    "qns_list=['who is pm of india',\n",
    "    'what is  capital of india?',\n",
    "     'No of states in india?',\n",
    "     'who is the capitain of ICT']\n",
    "\n",
    "ans_list=['modi','delhi','29','Rohith sharma']\n",
    "marks=0\n",
    "for i in range(len(qns_list)):\n",
    "    print(qns_list[i])\n",
    "    answer=input(\"enter the answer:\")\n",
    "    if answer.casefold()==ans_list[i].casefold():\n",
    "        marks=marks+1\n",
    "        \n",
    "marks        "
   ]
  },
  {
   "cell_type": "code",
   "execution_count": null,
   "id": "23e8b052",
   "metadata": {},
   "outputs": [],
   "source": []
  },
  {
   "cell_type": "code",
   "execution_count": null,
   "id": "fc99b239",
   "metadata": {},
   "outputs": [],
   "source": []
  },
  {
   "cell_type": "code",
   "execution_count": null,
   "id": "260b49c2",
   "metadata": {},
   "outputs": [],
   "source": [
    "#####################################################################"
   ]
  },
  {
   "cell_type": "markdown",
   "id": "1745b79d",
   "metadata": {},
   "source": [
    "$List-Methouds$"
   ]
  },
  {
   "cell_type": "code",
   "execution_count": 20,
   "id": "2450df87",
   "metadata": {},
   "outputs": [
    {
     "data": {
      "text/plain": [
       "['__add__',\n",
       " '__class__',\n",
       " '__class_getitem__',\n",
       " '__contains__',\n",
       " '__delattr__',\n",
       " '__delitem__',\n",
       " '__dir__',\n",
       " '__doc__',\n",
       " '__eq__',\n",
       " '__format__',\n",
       " '__ge__',\n",
       " '__getattribute__',\n",
       " '__getitem__',\n",
       " '__getstate__',\n",
       " '__gt__',\n",
       " '__hash__',\n",
       " '__iadd__',\n",
       " '__imul__',\n",
       " '__init__',\n",
       " '__init_subclass__',\n",
       " '__iter__',\n",
       " '__le__',\n",
       " '__len__',\n",
       " '__lt__',\n",
       " '__mul__',\n",
       " '__ne__',\n",
       " '__new__',\n",
       " '__reduce__',\n",
       " '__reduce_ex__',\n",
       " '__repr__',\n",
       " '__reversed__',\n",
       " '__rmul__',\n",
       " '__setattr__',\n",
       " '__setitem__',\n",
       " '__sizeof__',\n",
       " '__str__',\n",
       " '__subclasshook__',\n",
       " 'append',\n",
       " 'clear',\n",
       " 'copy',\n",
       " 'count',\n",
       " 'extend',\n",
       " 'index',\n",
       " 'insert',\n",
       " 'pop',\n",
       " 'remove',\n",
       " 'reverse',\n",
       " 'sort']"
      ]
     },
     "execution_count": 20,
     "metadata": {},
     "output_type": "execute_result"
    }
   ],
   "source": [
    "dir([])"
   ]
  },
  {
   "cell_type": "code",
   "execution_count": null,
   "id": "34c2f751",
   "metadata": {},
   "outputs": [],
   "source": [
    "'append',\n",
    " 'clear',\n",
    " 'copy',\n",
    " 'count',\n",
    " 'extend',\n",
    " 'index',\n",
    " 'insert',\n",
    " 'pop',\n",
    " 'remove',\n",
    " 'reverse',\n",
    " 'sort']"
   ]
  },
  {
   "cell_type": "code",
   "execution_count": 10,
   "id": "9a03e823",
   "metadata": {},
   "outputs": [],
   "source": [
    "list1=[1,2,3,4]"
   ]
  },
  {
   "cell_type": "markdown",
   "id": "60aec304",
   "metadata": {},
   "source": [
    "$Clear$"
   ]
  },
  {
   "cell_type": "code",
   "execution_count": 11,
   "id": "8f865aac",
   "metadata": {},
   "outputs": [
    {
     "data": {
      "text/plain": [
       "[]"
      ]
     },
     "execution_count": 11,
     "metadata": {},
     "output_type": "execute_result"
    }
   ],
   "source": [
    "list1.clear()\n",
    "list1"
   ]
  },
  {
   "cell_type": "markdown",
   "id": "2d164bda",
   "metadata": {},
   "source": [
    "$Copy$"
   ]
  },
  {
   "cell_type": "code",
   "execution_count": 21,
   "id": "27fc2b01",
   "metadata": {},
   "outputs": [
    {
     "data": {
      "text/plain": [
       "(['A', 'B', 'C'], ['A', 'B', 'C'])"
      ]
     },
     "execution_count": 21,
     "metadata": {},
     "output_type": "execute_result"
    }
   ],
   "source": [
    "# Initialize the list .l1\n",
    "# l2=l1.copy()\n",
    "# l1.clear()\n",
    "# print\n",
    "l1=['A','B','C']\n",
    "l2=l1.copy()\n",
    "l1,l2\n"
   ]
  },
  {
   "cell_type": "code",
   "execution_count": 12,
   "id": "fc87251c",
   "metadata": {},
   "outputs": [],
   "source": [
    "l1=[1,2,3,4,5,]\n"
   ]
  },
  {
   "cell_type": "code",
   "execution_count": 14,
   "id": "42223eee",
   "metadata": {},
   "outputs": [
    {
     "data": {
      "text/plain": [
       "[1, 2, 3, 4, 5]"
      ]
     },
     "execution_count": 14,
     "metadata": {},
     "output_type": "execute_result"
    }
   ],
   "source": [
    "l2=l1.copy()\n",
    "l1"
   ]
  },
  {
   "cell_type": "code",
   "execution_count": 15,
   "id": "7a10b21c",
   "metadata": {},
   "outputs": [
    {
     "data": {
      "text/plain": [
       "[1, 2, 3, 4, 5]"
      ]
     },
     "execution_count": 15,
     "metadata": {},
     "output_type": "execute_result"
    }
   ],
   "source": [
    "l2"
   ]
  },
  {
   "cell_type": "code",
   "execution_count": 16,
   "id": "393ee0e8",
   "metadata": {},
   "outputs": [
    {
     "data": {
      "text/plain": [
       "[]"
      ]
     },
     "execution_count": 16,
     "metadata": {},
     "output_type": "execute_result"
    }
   ],
   "source": [
    "l1.clear()\n",
    "l1"
   ]
  },
  {
   "cell_type": "code",
   "execution_count": 17,
   "id": "240b3d64",
   "metadata": {
    "scrolled": true
   },
   "outputs": [
    {
     "name": "stdout",
     "output_type": "stream",
     "text": [
      "[]\n",
      "[1, 2, 3, 4, 5]\n"
     ]
    },
    {
     "data": {
      "text/plain": [
       "(None, None)"
      ]
     },
     "execution_count": 17,
     "metadata": {},
     "output_type": "execute_result"
    }
   ],
   "source": [
    "print(l1),print(l2)"
   ]
  },
  {
   "cell_type": "markdown",
   "id": "4411ea31",
   "metadata": {},
   "source": [
    "$pop-remove-del$"
   ]
  },
  {
   "cell_type": "code",
   "execution_count": null,
   "id": "6ff2e898",
   "metadata": {},
   "outputs": [],
   "source": []
  },
  {
   "cell_type": "code",
   "execution_count": 20,
   "id": "59f86dde",
   "metadata": {},
   "outputs": [
    {
     "data": {
      "text/plain": [
       "['A', 'B', 'C', 1, 2, 3]"
      ]
     },
     "execution_count": 20,
     "metadata": {},
     "output_type": "execute_result"
    }
   ],
   "source": [
    "l1=['A','B','C',1,2,3,]\n",
    "l1"
   ]
  },
  {
   "cell_type": "code",
   "execution_count": 21,
   "id": "948e8b97",
   "metadata": {},
   "outputs": [
    {
     "data": {
      "text/plain": [
       "3"
      ]
     },
     "execution_count": 21,
     "metadata": {},
     "output_type": "execute_result"
    }
   ],
   "source": [
    "l1.pop()\n",
    "# pop will delete the last value/ element by default\n",
    "# It will return the value"
   ]
  },
  {
   "cell_type": "code",
   "execution_count": 22,
   "id": "d9f81beb",
   "metadata": {},
   "outputs": [
    {
     "data": {
      "text/plain": [
       "['A', 'B', 'C', 1, 2]"
      ]
     },
     "execution_count": 22,
     "metadata": {},
     "output_type": "execute_result"
    }
   ],
   "source": [
    "l1"
   ]
  },
  {
   "cell_type": "code",
   "execution_count": 23,
   "id": "b5eac9e4",
   "metadata": {},
   "outputs": [
    {
     "data": {
      "text/plain": [
       "2"
      ]
     },
     "execution_count": 23,
     "metadata": {},
     "output_type": "execute_result"
    }
   ],
   "source": [
    "l1=['A', 'B', 'C', 1, 2]\n",
    "l1.pop()"
   ]
  },
  {
   "cell_type": "code",
   "execution_count": 24,
   "id": "e903b10d",
   "metadata": {},
   "outputs": [
    {
     "data": {
      "text/plain": [
       "['A', 'B', 'C', 1]"
      ]
     },
     "execution_count": 24,
     "metadata": {},
     "output_type": "execute_result"
    }
   ],
   "source": [
    "l1"
   ]
  },
  {
   "cell_type": "code",
   "execution_count": 22,
   "id": "9a0d0a9b",
   "metadata": {},
   "outputs": [
    {
     "data": {
      "text/plain": [
       "['B', 'C', 1, 2, 3, 100]"
      ]
     },
     "execution_count": 22,
     "metadata": {},
     "output_type": "execute_result"
    }
   ],
   "source": [
    "l1=['A', 'B', 'C', 1, 2,3,100]\n",
    "l1.pop(0)\n",
    "l1"
   ]
  },
  {
   "cell_type": "code",
   "execution_count": 23,
   "id": "765e73ec",
   "metadata": {},
   "outputs": [
    {
     "data": {
      "text/plain": [
       "100"
      ]
     },
     "execution_count": 23,
     "metadata": {},
     "output_type": "execute_result"
    }
   ],
   "source": [
    "l1=['A','B','c',1,2,3,100]\n",
    "l1.pop()"
   ]
  },
  {
   "cell_type": "code",
   "execution_count": 27,
   "id": "3adafd45",
   "metadata": {},
   "outputs": [
    {
     "ename": "TypeError",
     "evalue": "list.pop() takes no keyword arguments",
     "output_type": "error",
     "traceback": [
      "\u001b[1;31m---------------------------------------------------------------------------\u001b[0m",
      "\u001b[1;31mTypeError\u001b[0m                                 Traceback (most recent call last)",
      "Cell \u001b[1;32mIn[27], line 2\u001b[0m\n\u001b[0;32m      1\u001b[0m l1\u001b[38;5;241m=\u001b[39m[\u001b[38;5;124m'\u001b[39m\u001b[38;5;124mA\u001b[39m\u001b[38;5;124m'\u001b[39m, \u001b[38;5;124m'\u001b[39m\u001b[38;5;124mB\u001b[39m\u001b[38;5;124m'\u001b[39m, \u001b[38;5;124m'\u001b[39m\u001b[38;5;124mC\u001b[39m\u001b[38;5;124m'\u001b[39m, \u001b[38;5;241m1\u001b[39m, \u001b[38;5;241m2\u001b[39m,\u001b[38;5;241m3\u001b[39m,\u001b[38;5;241m100\u001b[39m]\n\u001b[1;32m----> 2\u001b[0m l1\u001b[38;5;241m.\u001b[39mpop(index\u001b[38;5;241m=\u001b[39m\u001b[38;5;241m0\u001b[39m)\n\u001b[0;32m      3\u001b[0m l1\n",
      "\u001b[1;31mTypeError\u001b[0m: list.pop() takes no keyword arguments"
     ]
    }
   ],
   "source": [
    "l1=['A', 'B', 'C', 1, 2,3,100]\n",
    "l1.pop(index=0)\n",
    "l1"
   ]
  },
  {
   "cell_type": "code",
   "execution_count": null,
   "id": "775f3f87",
   "metadata": {},
   "outputs": [],
   "source": [
    "l1.pop() # Remove the last valiue of index=-1\n",
    "l1.pop(0) # Remove the first element\n",
    "l1.pop(index=0) # Index=0  error\n",
    "l1.pop(100) # if 100th index not there: index error\n",
    "l1.pop('A')  #typt error"
   ]
  },
  {
   "cell_type": "code",
   "execution_count": 29,
   "id": "817ad4c1",
   "metadata": {},
   "outputs": [
    {
     "data": {
      "text/plain": [
       "3"
      ]
     },
     "execution_count": 29,
     "metadata": {},
     "output_type": "execute_result"
    }
   ],
   "source": [
    "l1=['A', 'B', 'C', 1, 2,3,100]\n",
    "l1.pop(-2)"
   ]
  },
  {
   "cell_type": "code",
   "execution_count": 30,
   "id": "5dc423e1",
   "metadata": {},
   "outputs": [
    {
     "data": {
      "text/plain": [
       "2"
      ]
     },
     "execution_count": 30,
     "metadata": {},
     "output_type": "execute_result"
    }
   ],
   "source": [
    "l1[4]"
   ]
  },
  {
   "cell_type": "code",
   "execution_count": 25,
   "id": "4c5b663c",
   "metadata": {},
   "outputs": [
    {
     "ename": "TypeError",
     "evalue": "'list' object cannot be interpreted as an integer",
     "output_type": "error",
     "traceback": [
      "\u001b[1;31m---------------------------------------------------------------------------\u001b[0m",
      "\u001b[1;31mTypeError\u001b[0m                                 Traceback (most recent call last)",
      "Cell \u001b[1;32mIn[25], line 2\u001b[0m\n\u001b[0;32m      1\u001b[0m l1\u001b[38;5;241m=\u001b[39m[\u001b[38;5;124m'\u001b[39m\u001b[38;5;124mA\u001b[39m\u001b[38;5;124m'\u001b[39m, \u001b[38;5;124m'\u001b[39m\u001b[38;5;124mB\u001b[39m\u001b[38;5;124m'\u001b[39m, \u001b[38;5;124m'\u001b[39m\u001b[38;5;124mC\u001b[39m\u001b[38;5;124m'\u001b[39m, \u001b[38;5;241m1\u001b[39m, \u001b[38;5;241m2\u001b[39m,\u001b[38;5;241m3\u001b[39m,\u001b[38;5;241m100\u001b[39m]\n\u001b[1;32m----> 2\u001b[0m l1\u001b[38;5;241m.\u001b[39mpop([\u001b[38;5;241m1\u001b[39m,\u001b[38;5;241m2\u001b[39m])\n",
      "\u001b[1;31mTypeError\u001b[0m: 'list' object cannot be interpreted as an integer"
     ]
    }
   ],
   "source": [
    "l1=['A', 'B', 'C', 1, 2,3,100]\n",
    "l1.pop([1,2])\n",
    "\n",
    "# onnly index\n",
    "# str  ,List , tuple"
   ]
  },
  {
   "cell_type": "markdown",
   "id": "3584f3d7",
   "metadata": {},
   "source": [
    "$remove$"
   ]
  },
  {
   "cell_type": "code",
   "execution_count": 39,
   "id": "376bee99",
   "metadata": {},
   "outputs": [
    {
     "data": {
      "text/plain": [
       "['B', 'C', 1, 2, 'A', 3, 100]"
      ]
     },
     "execution_count": 39,
     "metadata": {},
     "output_type": "execute_result"
    }
   ],
   "source": [
    "l1=['A','B', 'C', 1, 2,'A',3,100]\n",
    "l1.remove('A')\n",
    "l1"
   ]
  },
  {
   "cell_type": "code",
   "execution_count": null,
   "id": "846e1057",
   "metadata": {},
   "outputs": [],
   "source": [
    "#############################################################################\n",
    "# manually we are not counting the index of element in pop\n",
    "# that index we are passing through pop\n",
    "# son that is not removing that particular element\n",
    "\n",
    "# Drow back : we are manually counting\n",
    "# Draw back we can over come by using : index\n",
    "\n",
    "############################################################\n",
    "# Remove is taking only direct value,no need to provide the index\n",
    "# Draw back : second accurence will not consider \n"
   ]
  },
  {
   "cell_type": "markdown",
   "id": "a5a18f78",
   "metadata": {},
   "source": [
    "$index$"
   ]
  },
  {
   "cell_type": "code",
   "execution_count": 26,
   "id": "62e51b89",
   "metadata": {},
   "outputs": [
    {
     "data": {
      "text/plain": [
       "['A', 'B', 'C', 1, 2, 3, 100, 20, 300, 500, 'Apple']"
      ]
     },
     "execution_count": 26,
     "metadata": {},
     "output_type": "execute_result"
    }
   ],
   "source": [
    "l1=['A','B','C',1,2,3,100,20,300,400,500,'Apple']\n",
    "# I want to delete element :3 using pop\n",
    "#l1.pop(5)\n",
    "i=l1.index(400)\n",
    "l1.pop(i)\n",
    "l1"
   ]
  },
  {
   "cell_type": "code",
   "execution_count": 27,
   "id": "f2b919fe",
   "metadata": {},
   "outputs": [
    {
     "data": {
      "text/plain": [
       "['B', 'C', 1, 2, 3, 100, 20, 300, 'A', 400, 500, 'Apple']"
      ]
     },
     "execution_count": 27,
     "metadata": {},
     "output_type": "execute_result"
    }
   ],
   "source": [
    "l1=['A','B','C',1,2,3,100,20,300,'A',400,500,'Apple']\n",
    "l1.remove('A')\n",
    "l1"
   ]
  },
  {
   "cell_type": "code",
   "execution_count": 28,
   "id": "1768bafa",
   "metadata": {},
   "outputs": [
    {
     "name": "stdout",
     "output_type": "stream",
     "text": [
      "1 5 12\n"
     ]
    }
   ],
   "source": [
    "l1=['A','B','C',1,2,'B',3,100,20,300,'A',400,'B',500,'A','Apple']\n",
    "#l1.pop(<second A>)\n",
    "# A=0 A=9 A=12\n",
    "i1=l1.index('B') # 0\n",
    "i2=l1.index('B',i1+1)\n",
    "i3=l1.index('B',i2+1)\n",
    "print(i1,i2,i3)"
   ]
  },
  {
   "cell_type": "code",
   "execution_count": null,
   "id": "26a703c6",
   "metadata": {},
   "outputs": [],
   "source": []
  },
  {
   "cell_type": "code",
   "execution_count": null,
   "id": "bbdd89f5",
   "metadata": {},
   "outputs": [],
   "source": [
    "- clear\n",
    "\n",
    "- copy \n",
    "\n",
    "- pop\n",
    "\n",
    "- Remove\n",
    "\n",
    "- Index\n",
    "\n",
    "- del"
   ]
  },
  {
   "cell_type": "markdown",
   "id": "5941e454",
   "metadata": {},
   "source": [
    "$del$"
   ]
  },
  {
   "cell_type": "code",
   "execution_count": 51,
   "id": "f18a0b93",
   "metadata": {},
   "outputs": [
    {
     "data": {
      "text/plain": [
       "['A', 'B', 'C', 1, 2, 'B', 3, 100, 20, 300, 'A', 400, 'B', 500, 'A', 'Apple']"
      ]
     },
     "execution_count": 51,
     "metadata": {},
     "output_type": "execute_result"
    }
   ],
   "source": [
    "l1=['A','B','C',1,2,'B',3,100,20,300,'A',400,'B',500,'A','Apple']\n",
    "l1"
   ]
  },
  {
   "cell_type": "code",
   "execution_count": null,
   "id": "c1e63d43",
   "metadata": {},
   "outputs": [],
   "source": []
  },
  {
   "cell_type": "markdown",
   "id": "b79e70bc",
   "metadata": {},
   "source": [
    "$Append-Extend-Insert$"
   ]
  },
  {
   "cell_type": "code",
   "execution_count": 55,
   "id": "2bfd6c9e",
   "metadata": {},
   "outputs": [
    {
     "data": {
      "text/plain": [
       "[100, 200, 300, 'Apple']"
      ]
     },
     "execution_count": 55,
     "metadata": {},
     "output_type": "execute_result"
    }
   ],
   "source": [
    "l1=[100,200]\n",
    "l1.append(300)\n",
    "l1.append('Apple')\n",
    "l1"
   ]
  },
  {
   "cell_type": "code",
   "execution_count": 56,
   "id": "cd56b7bd",
   "metadata": {},
   "outputs": [
    {
     "data": {
      "text/plain": [
       "[1, 2, 3]"
      ]
     },
     "execution_count": 56,
     "metadata": {},
     "output_type": "execute_result"
    }
   ],
   "source": [
    "l1=[]\n",
    "l1.append(1)\n",
    "l1.append(2)\n",
    "l1.append(3)\n",
    "l1"
   ]
  },
  {
   "cell_type": "markdown",
   "id": "a7809cd4",
   "metadata": {},
   "source": [
    "#### append most importand"
   ]
  },
  {
   "cell_type": "code",
   "execution_count": 57,
   "id": "de4f5cb9",
   "metadata": {},
   "outputs": [
    {
     "data": {
      "text/plain": [
       "['Munbai', 'Chennai']"
      ]
     },
     "execution_count": 57,
     "metadata": {},
     "output_type": "execute_result"
    }
   ],
   "source": [
    "l1=['Hyd','Munbai','Chennai']\n",
    "# print the elements which are having len>3\n",
    "l2=[]\n",
    "for i in l1:\n",
    "    if len(i)>3:\n",
    "        l2.append(i)\n",
    "        \n",
    "l2        "
   ]
  },
  {
   "cell_type": "code",
   "execution_count": 60,
   "id": "ba33baea",
   "metadata": {},
   "outputs": [],
   "source": [
    "l1=['hyd','mumbai','chennai']\n",
    "# captalize and save the elements in nev list"
   ]
  },
  {
   "cell_type": "code",
   "execution_count": 61,
   "id": "b62f975f",
   "metadata": {},
   "outputs": [
    {
     "data": {
      "text/plain": [
       "['mumbai', 'chennai']"
      ]
     },
     "execution_count": 61,
     "metadata": {},
     "output_type": "execute_result"
    }
   ],
   "source": [
    "l3=[]\n",
    "for i in l1:\n",
    "    if len(i)>3:\n",
    "        l3.append(i)\n",
    "        \n",
    "l3        "
   ]
  },
  {
   "cell_type": "code",
   "execution_count": 64,
   "id": "17021999",
   "metadata": {},
   "outputs": [
    {
     "data": {
      "text/plain": [
       "['Hyd', 'Mumbai', 'Chennai']"
      ]
     },
     "execution_count": 64,
     "metadata": {},
     "output_type": "execute_result"
    }
   ],
   "source": [
    "l3=['hyd','mumbai','chennai']\n",
    "# captalize and save the elements in new list\n",
    "l4=[]\n",
    "for i in l3:\n",
    "    l4.append(i.capitalize())\n",
    "\n",
    "l4   \n"
   ]
  },
  {
   "cell_type": "code",
   "execution_count": 35,
   "id": "6f9d1529",
   "metadata": {},
   "outputs": [
    {
     "data": {
      "text/plain": [
       "['mu#mbai', 'che#nnai']"
      ]
     },
     "execution_count": 35,
     "metadata": {},
     "output_type": "execute_result"
    }
   ],
   "source": [
    "l1=['hyd','mu#mbai','che#nnai']\n",
    "# save the elementsn which are having '#'\n",
    "l2=[]\n",
    "for i in l1:\n",
    "    if '#' in i:\n",
    "        l2.append(i)\n",
    "l2"
   ]
  },
  {
   "cell_type": "code",
   "execution_count": 72,
   "id": "585bfab1",
   "metadata": {},
   "outputs": [
    {
     "data": {
      "text/plain": [
       "21"
      ]
     },
     "execution_count": 72,
     "metadata": {},
     "output_type": "execute_result"
    }
   ],
   "source": [
    "s='hello hai how are you'\n",
    "# get the summ of all the indexs of 'a' letter\n",
    "\n",
    "# ilterate it\n",
    "# Extract the index of 'a'\n",
    "# and save a new list\n",
    "# Get the summ of those list\n",
    "\n",
    "\n",
    "l1=[]\n",
    "for i in range(len(s)):\n",
    "    if s[i]=='a':\n",
    "        l1.append(i)\n",
    "\n",
    "sum(l1)        \n"
   ]
  },
  {
   "cell_type": "code",
   "execution_count": 29,
   "id": "880c8766",
   "metadata": {},
   "outputs": [
    {
     "data": {
      "text/plain": [
       "([2, 10, 14, 16, 2, 8, 10], [1, 19, 3])"
      ]
     },
     "execution_count": 29,
     "metadata": {},
     "output_type": "execute_result"
    }
   ],
   "source": [
    "# Wap ask the user get 10 random numbers\n",
    "# even list   odd list\n",
    "# append even values in even list\n",
    "# odd values in odd list \n",
    "\n",
    "\n",
    "import random\n",
    "even_list,odd_list=[],[]\n",
    "for i in range(10):\n",
    "    num=random.randint(1,20)\n",
    "    if num%2==0:\n",
    "        even_list.append(num)   \n",
    "    else:\n",
    "        odd_list.append(num)\n",
    "even_list,odd_list        \n",
    "     "
   ]
  },
  {
   "cell_type": "code",
   "execution_count": null,
   "id": "4186dc10",
   "metadata": {},
   "outputs": [],
   "source": []
  },
  {
   "cell_type": "markdown",
   "id": "4ad3d2e2",
   "metadata": {},
   "source": [
    "$Extend$"
   ]
  },
  {
   "cell_type": "code",
   "execution_count": 75,
   "id": "da871974",
   "metadata": {},
   "outputs": [
    {
     "name": "stdout",
     "output_type": "stream",
     "text": [
      "[1, 2, 3, 'A', 'B', 'C']\n",
      "['A', 'B', 'C']\n"
     ]
    }
   ],
   "source": [
    "l1=[1,2,3]\n",
    "l2=['A','B','C']\n",
    "l1.extend(l2)\n",
    "print(l1)\n",
    "print(l2)"
   ]
  },
  {
   "cell_type": "code",
   "execution_count": 76,
   "id": "397f9e87",
   "metadata": {},
   "outputs": [
    {
     "name": "stdout",
     "output_type": "stream",
     "text": [
      "[1, 2, 3]\n",
      "['A', 'B', 'C', 1, 2, 3]\n"
     ]
    }
   ],
   "source": [
    "l1=[1,2,3,]\n",
    "l2=['A','B','C']\n",
    "l2.extend(l1)\n",
    "print(l1)\n",
    "print(l2)"
   ]
  },
  {
   "cell_type": "code",
   "execution_count": 78,
   "id": "bb851b1c",
   "metadata": {},
   "outputs": [
    {
     "name": "stdout",
     "output_type": "stream",
     "text": [
      "[1, 2, 3, 'A', 'B', 'C']\n",
      "[1, 2, 3]\n",
      "['A', 'B', 'C']\n"
     ]
    }
   ],
   "source": [
    "l1=[1,2,3]\n",
    "l2=['A','B','C']\n",
    "print(l1+l2)  # l1.exted l2\n",
    "print(l1)\n",
    "print(l2)"
   ]
  },
  {
   "cell_type": "code",
   "execution_count": null,
   "id": "a66c5692",
   "metadata": {},
   "outputs": [],
   "source": []
  },
  {
   "cell_type": "markdown",
   "id": "6470d13e",
   "metadata": {},
   "source": [
    "- reverse  vs    reversed\n",
    "\n",
    "- sort    vs   sorted"
   ]
  },
  {
   "cell_type": "code",
   "execution_count": null,
   "id": "5f972466",
   "metadata": {},
   "outputs": [],
   "source": []
  },
  {
   "cell_type": "code",
   "execution_count": 37,
   "id": "09207a45",
   "metadata": {},
   "outputs": [
    {
     "data": {
      "text/plain": [
       "['Bombay', 'AAA', 345, 34, 45, 34, 23, 100, 6, 5, 4, 3, 2, 1]"
      ]
     },
     "execution_count": 37,
     "metadata": {},
     "output_type": "execute_result"
    }
   ],
   "source": [
    "l5=[1,2,3,4,5,6,100,23,34,45,34,345,'AAA','Bombay']\n",
    "l5.reverse()\n",
    "l5"
   ]
  },
  {
   "cell_type": "code",
   "execution_count": 39,
   "id": "7c3a64c9",
   "metadata": {},
   "outputs": [
    {
     "data": {
      "text/plain": [
       "[1, 2, 3, 4, 5, 6, 23, 34, 34, 45, 100, 345]"
      ]
     },
     "execution_count": 39,
     "metadata": {},
     "output_type": "execute_result"
    }
   ],
   "source": [
    "l6=[1,2,3,4,5,6,100,23,34,45,34,345,]\n",
    "l6.sort()\n",
    "l6"
   ]
  },
  {
   "cell_type": "code",
   "execution_count": 41,
   "id": "c51e41f1",
   "metadata": {},
   "outputs": [
    {
     "data": {
      "text/plain": [
       "[345, 100, 45, 34, 34, 23, 6, 5, 4, 3, 2, 1]"
      ]
     },
     "execution_count": 41,
     "metadata": {},
     "output_type": "execute_result"
    }
   ],
   "source": [
    "l6.sort(reverse=True)\n",
    "l6"
   ]
  },
  {
   "cell_type": "code",
   "execution_count": 42,
   "id": "80c3cad9",
   "metadata": {},
   "outputs": [
    {
     "data": {
      "text/plain": [
       "[1, 2, 3, 4, 5, 6, 23, 34, 34, 45, 100, 345]"
      ]
     },
     "execution_count": 42,
     "metadata": {},
     "output_type": "execute_result"
    }
   ],
   "source": [
    "l6.sort(reverse=False)\n",
    "l6"
   ]
  },
  {
   "cell_type": "code",
   "execution_count": null,
   "id": "e77835ea",
   "metadata": {},
   "outputs": [],
   "source": [
    "############################################################################################################"
   ]
  },
  {
   "cell_type": "code",
   "execution_count": 8,
   "id": "55145665",
   "metadata": {},
   "outputs": [
    {
     "data": {
      "text/plain": [
       "['asif', 'cheerry', 'omkar', 'piyush', 'sohel']"
      ]
     },
     "execution_count": 8,
     "metadata": {},
     "output_type": "execute_result"
    }
   ],
   "source": [
    "l5=['asif','sohel','piyush','omkar', 'cheerry']\n",
    "l5.sort()\n",
    "l5"
   ]
  },
  {
   "cell_type": "code",
   "execution_count": 9,
   "id": "9b4c2623",
   "metadata": {},
   "outputs": [
    {
     "data": {
      "text/plain": [
       "['sohel', 'piyush', 'omkar', 'cheerry', 'asif']"
      ]
     },
     "execution_count": 9,
     "metadata": {},
     "output_type": "execute_result"
    }
   ],
   "source": [
    "l5[::-1]"
   ]
  },
  {
   "cell_type": "code",
   "execution_count": 10,
   "id": "5d49b752",
   "metadata": {},
   "outputs": [
    {
     "data": {
      "text/plain": [
       "['asif', 'cheerry', 'omkar', 'piyush', 'sohel']"
      ]
     },
     "execution_count": 10,
     "metadata": {},
     "output_type": "execute_result"
    }
   ],
   "source": [
    "l5[:]"
   ]
  },
  {
   "cell_type": "code",
   "execution_count": 11,
   "id": "22f10713",
   "metadata": {},
   "outputs": [
    {
     "data": {
      "text/plain": [
       "['asif', 'cheerry', 'omkar', 'piyush', 'sohel']"
      ]
     },
     "execution_count": 11,
     "metadata": {},
     "output_type": "execute_result"
    }
   ],
   "source": [
    "l5[::]"
   ]
  },
  {
   "cell_type": "code",
   "execution_count": 12,
   "id": "f93595b8",
   "metadata": {},
   "outputs": [
    {
     "data": {
      "text/plain": [
       "['sohel', 'piyush', 'omkar', 'cheerry', 'asif']"
      ]
     },
     "execution_count": 12,
     "metadata": {},
     "output_type": "execute_result"
    }
   ],
   "source": [
    "l5.sort(reverse=True)\n",
    "l5"
   ]
  },
  {
   "cell_type": "code",
   "execution_count": 14,
   "id": "7925ef26",
   "metadata": {},
   "outputs": [
    {
     "data": {
      "text/plain": [
       "[100, 8800, 5, 3, 2, 9, 10]"
      ]
     },
     "execution_count": 14,
     "metadata": {},
     "output_type": "execute_result"
    }
   ],
   "source": [
    "l7=[100,8800,5,3,2,9,10]\n",
    "l7"
   ]
  },
  {
   "cell_type": "code",
   "execution_count": 16,
   "id": "2a73a940",
   "metadata": {},
   "outputs": [
    {
     "data": {
      "text/plain": [
       "[8800, 100, 10, 9, 5, 3, 2]"
      ]
     },
     "execution_count": 16,
     "metadata": {},
     "output_type": "execute_result"
    }
   ],
   "source": [
    "l7.sort(reverse=True)\n",
    "l7"
   ]
  },
  {
   "cell_type": "code",
   "execution_count": 17,
   "id": "7edf0246",
   "metadata": {},
   "outputs": [
    {
     "data": {
      "text/plain": [
       "[2, 3, 5, 9, 10, 100, 8800]"
      ]
     },
     "execution_count": 17,
     "metadata": {},
     "output_type": "execute_result"
    }
   ],
   "source": [
    "l7.sort(reverse=False)\n",
    "l7"
   ]
  },
  {
   "cell_type": "code",
   "execution_count": null,
   "id": "d22e9703",
   "metadata": {},
   "outputs": [],
   "source": []
  },
  {
   "cell_type": "code",
   "execution_count": 1,
   "id": "2ff78a82",
   "metadata": {},
   "outputs": [
    {
     "ename": "AttributeError",
     "evalue": "'NoneType' object has no attribute 'append'",
     "output_type": "error",
     "traceback": [
      "\u001b[1;31m---------------------------------------------------------------------------\u001b[0m",
      "\u001b[1;31mAttributeError\u001b[0m                            Traceback (most recent call last)",
      "Cell \u001b[1;32mIn[1], line 9\u001b[0m\n\u001b[0;32m      6\u001b[0m         even_list\u001b[38;5;241m=\u001b[39meven_list\u001b[38;5;241m.\u001b[39mappend(num1)\n\u001b[0;32m      8\u001b[0m     \u001b[38;5;28;01melse\u001b[39;00m:\n\u001b[1;32m----> 9\u001b[0m         odd_list\u001b[38;5;241m=\u001b[39modd_list\u001b[38;5;241m.\u001b[39mappend(num1)\n\u001b[0;32m     11\u001b[0m even_list,odd_list\n",
      "\u001b[1;31mAttributeError\u001b[0m: 'NoneType' object has no attribute 'append'"
     ]
    }
   ],
   "source": [
    "import random\n",
    "even_list,odd_list=[],[]\n",
    "for i in range(10):\n",
    "    num1=random.randint(1,60)\n",
    "    if num1%2==0:\n",
    "        even_list=even_list.append(num1)\n",
    "        \n",
    "    else:\n",
    "        odd_list=odd_list.append(num1)\n",
    "    \n",
    "even_list,odd_list      "
   ]
  },
  {
   "cell_type": "code",
   "execution_count": null,
   "id": "704317fc",
   "metadata": {},
   "outputs": [],
   "source": []
  },
  {
   "cell_type": "code",
   "execution_count": null,
   "id": "893db793",
   "metadata": {},
   "outputs": [],
   "source": []
  },
  {
   "cell_type": "code",
   "execution_count": null,
   "id": "57227e9c",
   "metadata": {},
   "outputs": [],
   "source": [
    "######################################################"
   ]
  },
  {
   "cell_type": "markdown",
   "id": "95b8fa39",
   "metadata": {},
   "source": [
    "$count$"
   ]
  },
  {
   "cell_type": "code",
   "execution_count": 1,
   "id": "46a1f9ae",
   "metadata": {},
   "outputs": [
    {
     "data": {
      "text/plain": [
       "3"
      ]
     },
     "execution_count": 1,
     "metadata": {},
     "output_type": "execute_result"
    }
   ],
   "source": [
    "l1=['A','A','A']\n",
    "l1.count('A')\n"
   ]
  },
  {
   "cell_type": "code",
   "execution_count": 2,
   "id": "2170d19a",
   "metadata": {},
   "outputs": [],
   "source": [
    "s1='can can you canner can not can you buy can'\n"
   ]
  },
  {
   "cell_type": "code",
   "execution_count": 6,
   "id": "4b061454",
   "metadata": {},
   "outputs": [
    {
     "data": {
      "text/plain": [
       "['can', 'can', 'you', 'canner', 'can', 'not', 'can', 'you', 'buy', 'can']"
      ]
     },
     "execution_count": 6,
     "metadata": {},
     "output_type": "execute_result"
    }
   ],
   "source": [
    "l=s1.split()\n",
    "l"
   ]
  },
  {
   "cell_type": "code",
   "execution_count": null,
   "id": "0d6d206a",
   "metadata": {},
   "outputs": [],
   "source": []
  },
  {
   "cell_type": "code",
   "execution_count": null,
   "id": "46df7a84",
   "metadata": {},
   "outputs": [],
   "source": [
    "s1='can can you canner can not can you buy can'\n",
    "list_words=s1.split()"
   ]
  },
  {
   "cell_type": "code",
   "execution_count": 1,
   "id": "4e13e667",
   "metadata": {},
   "outputs": [
    {
     "name": "stdout",
     "output_type": "stream",
     "text": [
      "can 5\n",
      "you 2\n",
      "canner 1\n",
      "not 1\n",
      "buy 1\n"
     ]
    }
   ],
   "source": [
    "l1=[]\n",
    "for word in list_words:\n",
    "    if word not in l1:\n",
    "        print(word,list_words.count(word))\n",
    "        l1.append(word)\n",
    "        "
   ]
  },
  {
   "cell_type": "markdown",
   "id": "b2790c5f",
   "metadata": {},
   "source": [
    "$word-frequency$"
   ]
  },
  {
   "cell_type": "code",
   "execution_count": 9,
   "id": "accafa73",
   "metadata": {},
   "outputs": [
    {
     "name": "stdout",
     "output_type": "stream",
     "text": [
      "can : 5\n",
      "can : 5\n",
      "you : 2\n",
      "canner : 1\n",
      "can : 5\n",
      "not : 1\n",
      "can : 5\n",
      "you : 2\n",
      "buy : 1\n",
      "can : 5\n"
     ]
    }
   ],
   "source": [
    "s1='can can you canner can not can you buy can'\n",
    "list_words=s1.split()\n",
    "l1=[]\n",
    "for word in l:\n",
    "    if word not in l1:\n",
    "        print(word,\":\",l.count(word))\n",
    "l1.append(word)\n",
    "\n",
    "\n",
    "# step1\n",
    "# can can not in [] True 5 ['can']\n",
    "# can can not in ['can'] False xxxxxxxx\n",
    "# you you not in ['can'] True 2 ['can','you']\n",
    "\n"
   ]
  },
  {
   "cell_type": "markdown",
   "id": "8ad6d24d",
   "metadata": {},
   "source": [
    "$Insert$"
   ]
  },
  {
   "cell_type": "code",
   "execution_count": 3,
   "id": "7e48a4de",
   "metadata": {},
   "outputs": [
    {
     "data": {
      "text/plain": [
       "[1, 2, 3, 'A', 4, 100]"
      ]
     },
     "execution_count": 3,
     "metadata": {},
     "output_type": "execute_result"
    }
   ],
   "source": [
    "l1=[1,2,3,4,100]\n",
    "l1.insert(3,'A')\n",
    "l1\n",
    "\n",
    "# 1,2,3,'A',4,100"
   ]
  },
  {
   "cell_type": "markdown",
   "id": "3410e484",
   "metadata": {},
   "source": [
    "$Append$"
   ]
  },
  {
   "cell_type": "code",
   "execution_count": 10,
   "id": "67bc8181",
   "metadata": {},
   "outputs": [],
   "source": [
    "l1=['hyd','mumbai','chennai','Bengaluru']\n",
    "# l2=['Mumbai','Chennai','Bengaluru']\n",
    "l2=[]\n",
    "for i in l1:\n",
    "    if len(i)>5:\n",
    "        l2.append(i)       "
   ]
  },
  {
   "cell_type": "code",
   "execution_count": 6,
   "id": "60efe02b",
   "metadata": {},
   "outputs": [
    {
     "data": {
      "text/plain": [
       "[1, 4, 9, 16, 25, 36, 49, 64, 81, 100]"
      ]
     },
     "execution_count": 6,
     "metadata": {},
     "output_type": "execute_result"
    }
   ],
   "source": [
    "# create the list of squares of 1 to 10 numbers\n",
    "\n",
    "num=[]\n",
    "for i in range(1,11):\n",
    "    num.append(i*i)\n",
    "num    \n"
   ]
  },
  {
   "cell_type": "markdown",
   "id": "ad2e91b1",
   "metadata": {},
   "source": [
    "$ list$-$comprehenshion$"
   ]
  },
  {
   "cell_type": "markdown",
   "id": "4051e37e",
   "metadata": {},
   "source": [
    "$patern-1$"
   ]
  },
  {
   "cell_type": "markdown",
   "id": "a03a5f63",
   "metadata": {},
   "source": [
    "## most imp"
   ]
  },
  {
   "cell_type": "code",
   "execution_count": 13,
   "id": "f1f402d7",
   "metadata": {},
   "outputs": [
    {
     "data": {
      "text/plain": [
       "[1, 4, 9, 16, 25, 36, 49, 64, 81, 100]"
      ]
     },
     "execution_count": 13,
     "metadata": {},
     "output_type": "execute_result"
    }
   ],
   "source": [
    "num=[]\n",
    "for i in range(1,11):\n",
    "    num.append(i*i)\n",
    "num    (())\n",
    "    "
   ]
  },
  {
   "cell_type": "code",
   "execution_count": null,
   "id": "5c446d38",
   "metadata": {},
   "outputs": [],
   "source": [
    "num=[<output> <forloop with out:>]"
   ]
  },
  {
   "cell_type": "code",
   "execution_count": 15,
   "id": "00d34444",
   "metadata": {},
   "outputs": [
    {
     "ename": "SyntaxError",
     "evalue": "invalid syntax (3301564155.py, line 1)",
     "output_type": "error",
     "traceback": [
      "\u001b[1;36m  Cell \u001b[1;32mIn[15], line 1\u001b[1;36m\u001b[0m\n\u001b[1;33m    num=[<1, 4, 9, 16, 25, 36, 49, 64, 81, 100> <for i in range(1,11)>]\u001b[0m\n\u001b[1;37m         ^\u001b[0m\n\u001b[1;31mSyntaxError\u001b[0m\u001b[1;31m:\u001b[0m invalid syntax\n"
     ]
    }
   ],
   "source": [
    "num=[1, 4, 9, 16, 25, 36, 49, 64, 81, 100 for i in range(1,11)]"
   ]
  },
  {
   "cell_type": "code",
   "execution_count": null,
   "id": "ce5ebc33",
   "metadata": {},
   "outputs": [],
   "source": []
  },
  {
   "cell_type": "code",
   "execution_count": null,
   "id": "ad1bd2cf",
   "metadata": {},
   "outputs": [],
   "source": []
  },
  {
   "cell_type": "code",
   "execution_count": 17,
   "id": "c1b10680",
   "metadata": {},
   "outputs": [
    {
     "data": {
      "text/plain": [
       "['Hyd', 'Mumbai']"
      ]
     },
     "execution_count": 17,
     "metadata": {},
     "output_type": "execute_result"
    }
   ],
   "source": [
    "# l1=['hyd','mumbai']\n",
    "# l2=[]\n",
    "# for i in l1:\n",
    "# l2.append(i.capitalize())\n",
    "\n",
    "\n",
    "l1=['hyd','mumbai']\n",
    "l2=[]\n",
    "for i in l1:\n",
    "    l2.append(i.capitalize())\n",
    "l2 "
   ]
  },
  {
   "cell_type": "markdown",
   "id": "7b05b644",
   "metadata": {},
   "source": [
    "$pattern-2$"
   ]
  },
  {
   "cell_type": "markdown",
   "id": "9d4025a3",
   "metadata": {},
   "source": [
    "##### for if condition"
   ]
  },
  {
   "cell_type": "code",
   "execution_count": null,
   "id": "35fbdf71",
   "metadata": {},
   "outputs": [],
   "source": [
    "l1=['hyd','mumbai','chennai']\n",
    "l2=[]\n",
    "for i in l1:\n",
    "    if len(i)>5:\n",
    "        l2.append(i)\n",
    "l2        "
   ]
  },
  {
   "cell_type": "code",
   "execution_count": null,
   "id": "97b41ee6",
   "metadata": {},
   "outputs": [],
   "source": [
    "l2=[<output> <forloop> <if condition>]"
   ]
  },
  {
   "cell_type": "code",
   "execution_count": 18,
   "id": "e6fe8b62",
   "metadata": {},
   "outputs": [
    {
     "data": {
      "text/plain": [
       "['mumbai', 'chennai', 'beengullur']"
      ]
     },
     "execution_count": 18,
     "metadata": {},
     "output_type": "execute_result"
    }
   ],
   "source": [
    "l1=['hyd','mumbai','chennai','beengullur']\n",
    "l2=[i for i in l1 if len(i)>5]\n",
    "l2"
   ]
  },
  {
   "cell_type": "markdown",
   "id": "9463ffbb",
   "metadata": {},
   "source": [
    "$pattern-3$"
   ]
  },
  {
   "cell_type": "markdown",
   "id": "656205b3",
   "metadata": {},
   "source": [
    "#### for-if-else"
   ]
  },
  {
   "cell_type": "code",
   "execution_count": 19,
   "id": "de3f63eb",
   "metadata": {},
   "outputs": [
    {
     "data": {
      "text/plain": [
       "['odd 1',\n",
       " 'even 2',\n",
       " 'odd 3',\n",
       " 'even 4',\n",
       " 'odd 5',\n",
       " 'even 6',\n",
       " 'odd 7',\n",
       " 'even 8',\n",
       " 'odd 9']"
      ]
     },
     "execution_count": 19,
     "metadata": {},
     "output_type": "execute_result"
    }
   ],
   "source": [
    "#num=[<output> <forloop>]\n",
    "#l2=[<output> <forloop> <if condition>]\n",
    "\n",
    "l=[]\n",
    "for i in range(1,10):\n",
    "    if i%2==0:\n",
    "        l.append(f'even {i}')\n",
    "    else:\n",
    "        l.append(f'odd {i}')\n",
    "l\n",
    "#[<if_output> <if condition> else <else_output> <forloop>]"
   ]
  },
  {
   "cell_type": "code",
   "execution_count": 20,
   "id": "4c31acfe",
   "metadata": {},
   "outputs": [
    {
     "data": {
      "text/plain": [
       "['odd 1',\n",
       " 'even 2',\n",
       " 'odd 3',\n",
       " 'even 4',\n",
       " 'odd 5',\n",
       " 'even 6',\n",
       " 'odd 7',\n",
       " 'even 8',\n",
       " 'odd 9']"
      ]
     },
     "execution_count": 20,
     "metadata": {},
     "output_type": "execute_result"
    }
   ],
   "source": [
    "[f'even {i}' if i%2==0 else f'odd {i}' for i in range(1,10)]"
   ]
  },
  {
   "cell_type": "code",
   "execution_count": null,
   "id": "14eebe1a",
   "metadata": {},
   "outputs": [],
   "source": []
  },
  {
   "cell_type": "code",
   "execution_count": null,
   "id": "3ef7395b",
   "metadata": {},
   "outputs": [],
   "source": [
    "-Strings\n",
    "- List\n",
    "- Tuple\n"
   ]
  },
  {
   "cell_type": "markdown",
   "id": "721d3e65",
   "metadata": {},
   "source": [
    "- how to read the tuple\n",
    "- different ways to read tuple\n",
    "- tuple len max min sum reversed sorted\n",
    "- concatenation\n",
    "- in \n",
    "- index\n",
    "- diffference between in and index range  using for loop\n",
    "- mutable- immutabe\n",
    "- slice\n",
    "- methouds"
   ]
  },
  {
   "cell_type": "code",
   "execution_count": 21,
   "id": "be510da9",
   "metadata": {},
   "outputs": [
    {
     "data": {
      "text/plain": [
       "list"
      ]
     },
     "execution_count": 21,
     "metadata": {},
     "output_type": "execute_result"
    }
   ],
   "source": [
    "t1=[1,2,3]\n",
    "type(t1)"
   ]
  },
  {
   "cell_type": "code",
   "execution_count": null,
   "id": "6f0716cc",
   "metadata": {},
   "outputs": [],
   "source": []
  },
  {
   "cell_type": "code",
   "execution_count": 23,
   "id": "77a33a4b",
   "metadata": {},
   "outputs": [
    {
     "data": {
      "text/plain": [
       "['__add__',\n",
       " '__class__',\n",
       " '__class_getitem__',\n",
       " '__contains__',\n",
       " '__delattr__',\n",
       " '__delitem__',\n",
       " '__dir__',\n",
       " '__doc__',\n",
       " '__eq__',\n",
       " '__format__',\n",
       " '__ge__',\n",
       " '__getattribute__',\n",
       " '__getitem__',\n",
       " '__getstate__',\n",
       " '__gt__',\n",
       " '__hash__',\n",
       " '__iadd__',\n",
       " '__imul__',\n",
       " '__init__',\n",
       " '__init_subclass__',\n",
       " '__iter__',\n",
       " '__le__',\n",
       " '__len__',\n",
       " '__lt__',\n",
       " '__mul__',\n",
       " '__ne__',\n",
       " '__new__',\n",
       " '__reduce__',\n",
       " '__reduce_ex__',\n",
       " '__repr__',\n",
       " '__reversed__',\n",
       " '__rmul__',\n",
       " '__setattr__',\n",
       " '__setitem__',\n",
       " '__sizeof__',\n",
       " '__str__',\n",
       " '__subclasshook__',\n",
       " 'append',\n",
       " 'clear',\n",
       " 'copy',\n",
       " 'count',\n",
       " 'extend',\n",
       " 'index',\n",
       " 'insert',\n",
       " 'pop',\n",
       " 'remove',\n",
       " 'reverse',\n",
       " 'sort']"
      ]
     },
     "execution_count": 23,
     "metadata": {},
     "output_type": "execute_result"
    }
   ],
   "source": [
    "dir(t1)"
   ]
  },
  {
   "cell_type": "code",
   "execution_count": null,
   "id": "c8870c38",
   "metadata": {},
   "outputs": [],
   "source": []
  },
  {
   "cell_type": "code",
   "execution_count": null,
   "id": "c4896b73",
   "metadata": {},
   "outputs": [],
   "source": [
    "'append',\n",
    " 'clear',\n",
    " 'copy',\n",
    " 'count',\n",
    " 'extend',\n",
    " 'index',\n",
    " 'insert',\n",
    " 'pop',\n",
    " 'remove',\n",
    " 'reverse',\n",
    " 'sort']"
   ]
  },
  {
   "cell_type": "code",
   "execution_count": null,
   "id": "897dbc53",
   "metadata": {},
   "outputs": [],
   "source": [
    "-  so every on complete your assignments and practice \n",
    "- tuple explain me om monday\n"
   ]
  }
 ],
 "metadata": {
  "kernelspec": {
   "display_name": "Python 3 (ipykernel)",
   "language": "python",
   "name": "python3"
  },
  "language_info": {
   "codemirror_mode": {
    "name": "ipython",
    "version": 3
   },
   "file_extension": ".py",
   "mimetype": "text/x-python",
   "name": "python",
   "nbconvert_exporter": "python",
   "pygments_lexer": "ipython3",
   "version": "3.11.5"
  }
 },
 "nbformat": 4,
 "nbformat_minor": 5
}
