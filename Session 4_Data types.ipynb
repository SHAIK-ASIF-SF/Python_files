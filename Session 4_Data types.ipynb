{
 "cells": [
  {
   "cell_type": "markdown",
   "id": "6bfadc53",
   "metadata": {},
   "source": [
    "- integer  # numbers=123,001,200,(0-enfinite)\n",
    "- float    # foat is nothing but =(10.6,56.23)\n",
    "- string   #\"names\" in double quotes\n",
    "- boolean  # it gives only= True or False,Yes or No,Positive or Negitive\n",
    "- complex  # 10+0j,23+1j\n",
    "- int to float,int to str,int to bool, int to complex\n",
    "- it is called as type casting"
   ]
  },
  {
   "cell_type": "code",
   "execution_count": 1,
   "id": "7fbd9f1a",
   "metadata": {},
   "outputs": [
    {
     "data": {
      "text/plain": [
       "int"
      ]
     },
     "execution_count": 1,
     "metadata": {},
     "output_type": "execute_result"
    }
   ],
   "source": [
    "number=20\n",
    "type(number)"
   ]
  },
  {
   "cell_type": "code",
   "execution_count": null,
   "id": "0ccf96a2",
   "metadata": {},
   "outputs": [],
   "source": [
    "# int to float\n",
    "float(number)  # 10.0\n",
    "# int to string\n",
    "str(number)   # \"10\"\n",
    "# int to bool\n",
    "bool(number)  # True\n",
    "# int to complex\n",
    "complex(number) # 10+0j"
   ]
  },
  {
   "cell_type": "code",
   "execution_count": 7,
   "id": "86a3575e",
   "metadata": {},
   "outputs": [
    {
     "data": {
      "text/plain": [
       "(200+0j)"
      ]
     },
     "execution_count": 7,
     "metadata": {},
     "output_type": "execute_result"
    }
   ],
   "source": [
    "number=200\n",
    "#int(number),  # 200\n",
    "#float(number), # 200.0\n",
    "#str(number),   #\"200\"\n",
    "#bool(number)  # True\n",
    "#complex(number) # 200+0j"
   ]
  },
  {
   "cell_type": "code",
   "execution_count": 3,
   "id": "58f05073",
   "metadata": {},
   "outputs": [
    {
     "data": {
      "text/plain": [
       "20.0"
      ]
     },
     "execution_count": 3,
     "metadata": {},
     "output_type": "execute_result"
    }
   ],
   "source": [
    "float(number)"
   ]
  },
  {
   "cell_type": "code",
   "execution_count": 4,
   "id": "8bb870c1",
   "metadata": {},
   "outputs": [
    {
     "data": {
      "text/plain": [
       "'20'"
      ]
     },
     "execution_count": 4,
     "metadata": {},
     "output_type": "execute_result"
    }
   ],
   "source": [
    "str(number)"
   ]
  },
  {
   "cell_type": "code",
   "execution_count": 5,
   "id": "3a9b934e",
   "metadata": {},
   "outputs": [
    {
     "data": {
      "text/plain": [
       "True"
      ]
     },
     "execution_count": 5,
     "metadata": {},
     "output_type": "execute_result"
    }
   ],
   "source": [
    "bool(number)"
   ]
  },
  {
   "cell_type": "code",
   "execution_count": 6,
   "id": "18e97940",
   "metadata": {},
   "outputs": [
    {
     "data": {
      "text/plain": [
       "(20+0j)"
      ]
     },
     "execution_count": 6,
     "metadata": {},
     "output_type": "execute_result"
    }
   ],
   "source": [
    "complex(number)"
   ]
  },
  {
   "cell_type": "code",
   "execution_count": null,
   "id": "90dbae49",
   "metadata": {},
   "outputs": [],
   "source": [
    "# int to float\n",
    "float(number) # 10.0\n",
    "# int to sring\n",
    "str(number) # \"10\"\n",
    "#int to bool\n",
    "bool(number) # True\n",
    "# int to complex\n",
    "complex(number) # 10+0j"
   ]
  },
  {
   "cell_type": "code",
   "execution_count": 8,
   "id": "40ee4d14",
   "metadata": {},
   "outputs": [
    {
     "data": {
      "text/plain": [
       "20.0"
      ]
     },
     "execution_count": 8,
     "metadata": {},
     "output_type": "execute_result"
    }
   ],
   "source": [
    "float(number)"
   ]
  },
  {
   "cell_type": "code",
   "execution_count": 10,
   "id": "d849efd7",
   "metadata": {},
   "outputs": [
    {
     "data": {
      "text/plain": [
       "'20'"
      ]
     },
     "execution_count": 10,
     "metadata": {},
     "output_type": "execute_result"
    }
   ],
   "source": [
    "str(number)"
   ]
  },
  {
   "cell_type": "code",
   "execution_count": 11,
   "id": "501d2b09",
   "metadata": {},
   "outputs": [
    {
     "data": {
      "text/plain": [
       "True"
      ]
     },
     "execution_count": 11,
     "metadata": {},
     "output_type": "execute_result"
    }
   ],
   "source": [
    "bool(number)"
   ]
  },
  {
   "cell_type": "code",
   "execution_count": 12,
   "id": "06a2bbf5",
   "metadata": {},
   "outputs": [
    {
     "data": {
      "text/plain": [
       "(20+0j)"
      ]
     },
     "execution_count": 12,
     "metadata": {},
     "output_type": "execute_result"
    }
   ],
   "source": [
    "complex(number)"
   ]
  },
  {
   "cell_type": "code",
   "execution_count": 13,
   "id": "3b7c1ed7",
   "metadata": {},
   "outputs": [
    {
     "name": "stdout",
     "output_type": "stream",
     "text": [
      "-10.0\n",
      "-10\n",
      "True\n",
      "(-10+0j)\n"
     ]
    }
   ],
   "source": [
    "print(float(-10)) # -10.0\n",
    "print(str(-10))   #'-10'\n",
    "print(bool(-10))  # True\n",
    "print(complex(-10)) # -10+0j"
   ]
  },
  {
   "cell_type": "code",
   "execution_count": 11,
   "id": "6cc0a9ca",
   "metadata": {},
   "outputs": [
    {
     "name": "stdout",
     "output_type": "stream",
     "text": [
      "-100\n",
      "-100.0\n",
      "-100\n",
      "True\n"
     ]
    }
   ],
   "source": [
    "\n",
    "print(int(-100))\n",
    "print(float(-100))\n",
    "print(str(-100))\n",
    "print(bool(-100))"
   ]
  },
  {
   "cell_type": "code",
   "execution_count": 13,
   "id": "97415fe3",
   "metadata": {},
   "outputs": [
    {
     "name": "stdout",
     "output_type": "stream",
     "text": [
      "False\n"
     ]
    }
   ],
   "source": [
    "print(bool(0))"
   ]
  },
  {
   "cell_type": "code",
   "execution_count": 14,
   "id": "5a937dc3",
   "metadata": {},
   "outputs": [
    {
     "name": "stdout",
     "output_type": "stream",
     "text": [
      "False\n"
     ]
    }
   ],
   "source": [
    "print(bool(0))"
   ]
  },
  {
   "cell_type": "markdown",
   "id": "4e6a0b02",
   "metadata": {},
   "source": [
    "- for zero value boolean conversation will give false"
   ]
  },
  {
   "cell_type": "code",
   "execution_count": 15,
   "id": "425c7838",
   "metadata": {},
   "outputs": [
    {
     "name": "stdout",
     "output_type": "stream",
     "text": [
      "True\n"
     ]
    }
   ],
   "source": [
    "print(bool(1))"
   ]
  },
  {
   "cell_type": "markdown",
   "id": "77a48520",
   "metadata": {},
   "source": [
    "- For one value boolean conversation will give false\n",
    "\n",
    "- Remaining all are True"
   ]
  },
  {
   "cell_type": "code",
   "execution_count": 16,
   "id": "3d3fca4d",
   "metadata": {},
   "outputs": [
    {
     "data": {
      "text/plain": [
       "((20+0j), (20+50j))"
      ]
     },
     "execution_count": 16,
     "metadata": {},
     "output_type": "execute_result"
    }
   ],
   "source": [
    "complex(20),complex(20,50)\n",
    "# take your cursorin side the beacket\n",
    "# opply shift+tab at a time"
   ]
  },
  {
   "cell_type": "code",
   "execution_count": 23,
   "id": "e6f18897",
   "metadata": {},
   "outputs": [
    {
     "data": {
      "text/plain": [
       "13"
      ]
     },
     "execution_count": 23,
     "metadata": {},
     "output_type": "execute_result"
    }
   ],
   "source": [
    "import random\n",
    "random.randint(10,20)  # randint(a,b)"
   ]
  },
  {
   "cell_type": "code",
   "execution_count": 24,
   "id": "50456258",
   "metadata": {},
   "outputs": [
    {
     "data": {
      "text/plain": [
       "0.9356907292197527"
      ]
     },
     "execution_count": 24,
     "metadata": {},
     "output_type": "execute_result"
    }
   ],
   "source": [
    "random.random()  # random() no need to provide"
   ]
  },
  {
   "cell_type": "code",
   "execution_count": 25,
   "id": "a365f4ef",
   "metadata": {},
   "outputs": [
    {
     "data": {
      "text/plain": [
       "(10+0j)"
      ]
     },
     "execution_count": 25,
     "metadata": {},
     "output_type": "execute_result"
    }
   ],
   "source": [
    "complex(10)  # complex(real=0,imag=0)"
   ]
  },
  {
   "cell_type": "code",
   "execution_count": 26,
   "id": "01ba4fbe",
   "metadata": {},
   "outputs": [
    {
     "data": {
      "text/plain": [
       "0j"
      ]
     },
     "execution_count": 26,
     "metadata": {},
     "output_type": "execute_result"
    }
   ],
   "source": [
    "complex()"
   ]
  },
  {
   "cell_type": "markdown",
   "id": "557e478c",
   "metadata": {},
   "source": [
    "## float to other"
   ]
  },
  {
   "cell_type": "code",
   "execution_count": 34,
   "id": "c9261cdf",
   "metadata": {},
   "outputs": [
    {
     "name": "stdout",
     "output_type": "stream",
     "text": [
      "10\n",
      "10.5\n",
      "True\n",
      "(10.5+0j)\n"
     ]
    }
   ],
   "source": [
    "print(int(10.5))            # 10\n",
    "print(str(10.5))            # '10.5'\n",
    "print(bool(10.5))           # True\n",
    "print(complex(10.5))        # 10.5+0j"
   ]
  },
  {
   "cell_type": "code",
   "execution_count": 35,
   "id": "9b15a78a",
   "metadata": {},
   "outputs": [
    {
     "data": {
      "text/plain": [
       "'10.5'"
      ]
     },
     "execution_count": 35,
     "metadata": {},
     "output_type": "execute_result"
    }
   ],
   "source": [
    "str(10.5)"
   ]
  },
  {
   "cell_type": "code",
   "execution_count": 36,
   "id": "2a6cf636",
   "metadata": {},
   "outputs": [
    {
     "name": "stdout",
     "output_type": "stream",
     "text": [
      "True\n"
     ]
    }
   ],
   "source": [
    "# string to ither\n",
    "# print(int('python'))  # error\n",
    "#print(float('python')) # error\n",
    "print(bool('python'))  # True\n",
    "#print(complex('python')) # error"
   ]
  },
  {
   "cell_type": "markdown",
   "id": "1a81a37c",
   "metadata": {},
   "source": [
    "## string to others"
   ]
  },
  {
   "cell_type": "code",
   "execution_count": 2,
   "id": "7a59fa4d",
   "metadata": {},
   "outputs": [
    {
     "name": "stdout",
     "output_type": "stream",
     "text": [
      "10\n",
      "10.0\n",
      "True\n",
      "(10+0j)\n"
     ]
    }
   ],
   "source": [
    "print(int('10'))   # 10\n",
    "print(float('10'))   # 10.0\n",
    "print(bool('10'))  # True\n",
    "print(complex('10')) # 10+0j"
   ]
  },
  {
   "cell_type": "code",
   "execution_count": 39,
   "id": "862246fb",
   "metadata": {},
   "outputs": [
    {
     "name": "stdout",
     "output_type": "stream",
     "text": [
      "10.5\n",
      "True\n",
      "(10.5+0j)\n"
     ]
    }
   ],
   "source": [
    "# sring to others\n",
    "#print(int('10.5'))   # erroe\n",
    "print(float('10.5'))   # 10.5\n",
    "print(bool('10.5'))  # True\n",
    "print(complex('10.5')) # 10.5"
   ]
  },
  {
   "cell_type": "code",
   "execution_count": null,
   "id": "b98b161a",
   "metadata": {},
   "outputs": [],
   "source": [
    "'10'  ============ can convert int can convert float\n",
    "'10.5' =========== can not convert integer\n",
    "       =========== but it can convert into float\n",
    "    \n",
    "float is the boss\n",
    "\n",
    "integer conversion of float value having quotes"
   ]
  },
  {
   "cell_type": "code",
   "execution_count": null,
   "id": "656c2f5c",
   "metadata": {},
   "outputs": [],
   "source": [
    "int(10.5)  # 10\n",
    "int(10.5)  # error"
   ]
  },
  {
   "cell_type": "code",
   "execution_count": 9,
   "id": "b559ffa9",
   "metadata": {},
   "outputs": [
    {
     "data": {
      "text/plain": [
       "10"
      ]
     },
     "execution_count": 9,
     "metadata": {},
     "output_type": "execute_result"
    }
   ],
   "source": [
    "int(10.5)"
   ]
  },
  {
   "cell_type": "code",
   "execution_count": 42,
   "id": "f757c373",
   "metadata": {},
   "outputs": [],
   "source": [
    "# dont submit assignment in .ipynb format\n",
    "# up;oad in the form of pdf\n",
    "\n",
    "# CTRL+P"
   ]
  },
  {
   "cell_type": "markdown",
   "id": "7d165cdc",
   "metadata": {},
   "source": [
    "### bool to other"
   ]
  },
  {
   "cell_type": "code",
   "execution_count": 43,
   "id": "193a436e",
   "metadata": {},
   "outputs": [
    {
     "name": "stdout",
     "output_type": "stream",
     "text": [
      "1\n",
      "1.0\n",
      "True\n",
      "(1+0j)\n"
     ]
    }
   ],
   "source": [
    "print(int(True))   # 1\n",
    "print(float(True))   # 1.0\n",
    "print(bool(True))  # \"True\"\n",
    "print(complex(True)) # 1+0j"
   ]
  },
  {
   "cell_type": "code",
   "execution_count": 48,
   "id": "c4befd76",
   "metadata": {},
   "outputs": [
    {
     "name": "stdout",
     "output_type": "stream",
     "text": [
      "0\n",
      "0.0\n",
      "False\n",
      "0j\n"
     ]
    }
   ],
   "source": [
    "print(int(False))   # 1\n",
    "print(float(False))  # 1.0\n",
    "print(str(False))  # \"True\"\n",
    "print(complex(False))  # 1+0j"
   ]
  },
  {
   "cell_type": "markdown",
   "id": "b6d1afc4",
   "metadata": {},
   "source": [
    "### complex to others"
   ]
  },
  {
   "cell_type": "code",
   "execution_count": 1,
   "id": "310c4365",
   "metadata": {},
   "outputs": [
    {
     "name": "stdout",
     "output_type": "stream",
     "text": [
      "(3+4j)\n",
      "(3+4j)\n"
     ]
    }
   ],
   "source": [
    "#print(int(3+4j))    # error\n",
    "#print(float(3+4j))  # error\n",
    "print(str(3+4j))  # \"3+4j\"\n",
    "print(complex(3+4j))  # True(3+4j)"
   ]
  },
  {
   "cell_type": "code",
   "execution_count": 52,
   "id": "510b26ad",
   "metadata": {},
   "outputs": [
    {
     "data": {
      "text/plain": [
       "'(3+4j)'"
      ]
     },
     "execution_count": 52,
     "metadata": {},
     "output_type": "execute_result"
    }
   ],
   "source": [
    "str(3+4j)"
   ]
  },
  {
   "cell_type": "code",
   "execution_count": 53,
   "id": "9bda92df",
   "metadata": {},
   "outputs": [
    {
     "data": {
      "text/plain": [
       "('10', '10.5', '(3+4j)', 'True')"
      ]
     },
     "execution_count": 53,
     "metadata": {},
     "output_type": "execute_result"
    }
   ],
   "source": [
    "str(10),str(10.5),str(3+4j),str(True)"
   ]
  },
  {
   "cell_type": "code",
   "execution_count": 55,
   "id": "253388f4",
   "metadata": {},
   "outputs": [
    {
     "name": "stdout",
     "output_type": "stream",
     "text": [
      "False\n"
     ]
    }
   ],
   "source": [
    "print(bool(0j))"
   ]
  },
  {
   "cell_type": "code",
   "execution_count": 10,
   "id": "d3a8644e",
   "metadata": {},
   "outputs": [
    {
     "ename": "TypeError",
     "evalue": "int() argument must be a string, a bytes-like object or a real number, not 'complex'",
     "output_type": "error",
     "traceback": [
      "\u001b[1;31m---------------------------------------------------------------------------\u001b[0m",
      "\u001b[1;31mTypeError\u001b[0m                                 Traceback (most recent call last)",
      "Cell \u001b[1;32mIn[10], line 1\u001b[0m\n\u001b[1;32m----> 1\u001b[0m \u001b[38;5;28mprint\u001b[39m(\u001b[38;5;28mint\u001b[39m(\u001b[38;5;241m3\u001b[39m\u001b[38;5;241m+\u001b[39m\u001b[38;5;241m4\u001b[39mj))\n",
      "\u001b[1;31mTypeError\u001b[0m: int() argument must be a string, a bytes-like object or a real number, not 'complex'"
     ]
    }
   ],
   "source": [
    "print(int(3+4j))"
   ]
  },
  {
   "cell_type": "code",
   "execution_count": null,
   "id": "5a3c6ac3",
   "metadata": {},
   "outputs": [],
   "source": []
  }
 ],
 "metadata": {
  "kernelspec": {
   "display_name": "Python 3 (ipykernel)",
   "language": "python",
   "name": "python3"
  },
  "language_info": {
   "codemirror_mode": {
    "name": "ipython",
    "version": 3
   },
   "file_extension": ".py",
   "mimetype": "text/x-python",
   "name": "python",
   "nbconvert_exporter": "python",
   "pygments_lexer": "ipython3",
   "version": "3.11.5"
  }
 },
 "nbformat": 4,
 "nbformat_minor": 5
}
