{
 "cells": [
  {
   "cell_type": "code",
   "execution_count": 1,
   "id": "24de2a2d",
   "metadata": {},
   "outputs": [
    {
     "ename": "NameError",
     "evalue": "name 'd3' is not defined",
     "output_type": "error",
     "traceback": [
      "\u001b[1;31m---------------------------------------------------------------------------\u001b[0m",
      "\u001b[1;31mNameError\u001b[0m                                 Traceback (most recent call last)",
      "Cell \u001b[1;32mIn[1], line 8\u001b[0m\n\u001b[0;32m      6\u001b[0m d2\u001b[38;5;241m=\u001b[39mn2\u001b[38;5;241m%\u001b[39m\u001b[38;5;241m10\u001b[39m\n\u001b[0;32m      7\u001b[0m d2         \u001b[38;5;66;03m# 3\u001b[39;00m\n\u001b[1;32m----> 8\u001b[0m d3         \u001b[38;5;66;03m# 2\u001b[39;00m\n\u001b[0;32m      9\u001b[0m d4         \u001b[38;5;66;03m# 1\u001b[39;00m\n\u001b[0;32m     10\u001b[0m d1\u001b[38;5;241m+\u001b[39md4\n",
      "\u001b[1;31mNameError\u001b[0m: name 'd3' is not defined"
     ]
    }
   ],
   "source": [
    "n1=1234\n",
    "# extract 4\n",
    "d1=1234%10  # 4\n",
    "# 1234 ====123\n",
    "n2=1234//10  # 123\n",
    "d2=n2%10\n",
    "d2         # 3\n",
    "d3         # 2\n",
    "d4         # 1\n",
    "d1+d4"
   ]
  },
  {
   "cell_type": "code",
   "execution_count": 2,
   "id": "a4ecb9f9",
   "metadata": {},
   "outputs": [
    {
     "data": {
      "text/plain": [
       "'4321'"
      ]
     },
     "execution_count": 2,
     "metadata": {},
     "output_type": "execute_result"
    }
   ],
   "source": [
    "str(1234)[::-1]"
   ]
  },
  {
   "cell_type": "code",
   "execution_count": 3,
   "id": "a4240be5",
   "metadata": {},
   "outputs": [
    {
     "data": {
      "text/plain": [
       "'1234'"
      ]
     },
     "execution_count": 3,
     "metadata": {},
     "output_type": "execute_result"
    }
   ],
   "source": [
    "str(1234)[:]"
   ]
  },
  {
   "cell_type": "code",
   "execution_count": 4,
   "id": "06be9e93",
   "metadata": {},
   "outputs": [
    {
     "data": {
      "text/plain": [
       "'41'"
      ]
     },
     "execution_count": 4,
     "metadata": {},
     "output_type": "execute_result"
    }
   ],
   "source": [
    "str(1234)[::-3]"
   ]
  },
  {
   "cell_type": "code",
   "execution_count": 5,
   "id": "2c092073",
   "metadata": {},
   "outputs": [
    {
     "data": {
      "text/plain": [
       "[5, 10, 20, 50]"
      ]
     },
     "execution_count": 5,
     "metadata": {},
     "output_type": "execute_result"
    }
   ],
   "source": [
    "list1=[10,20,5,50]\n",
    "# sort the list with out using sorted keyword\n",
    "sorted(list1)"
   ]
  },
  {
   "cell_type": "code",
   "execution_count": null,
   "id": "66b4f593",
   "metadata": {},
   "outputs": [],
   "source": []
  },
  {
   "cell_type": "markdown",
   "id": "02b14d61",
   "metadata": {},
   "source": [
    "-  basic codes\n",
    "\n",
    "- if - else\n",
    "\n",
    "- functions\n",
    "\n",
    "- try - exception"
   ]
  },
  {
   "cell_type": "code",
   "execution_count": null,
   "id": "8d9752c4",
   "metadata": {},
   "outputs": [],
   "source": []
  },
  {
   "cell_type": "code",
   "execution_count": null,
   "id": "182cf559",
   "metadata": {},
   "outputs": [],
   "source": [
    "# start point\n",
    "\n",
    "while <condition>:\n",
    "    # increment/decrement"
   ]
  },
  {
   "cell_type": "code",
   "execution_count": null,
   "id": "6f9e85c0",
   "metadata": {},
   "outputs": [],
   "source": [
    "i=0\n",
    "while i<10:\n",
    "    print(i,end=' ')\n",
    "    \n",
    "###################################\n",
    "i=0\n",
    "while i<10:\n",
    "    print(i,end=' ')\n",
    "    i=i+1"
   ]
  },
  {
   "cell_type": "code",
   "execution_count": null,
   "id": "62bb05ef",
   "metadata": {},
   "outputs": [],
   "source": [
    "#i=0\n",
    " while i<10:\n",
    "    print(i,end=' ')\n",
    "    i=i+1"
   ]
  },
  {
   "cell_type": "code",
   "execution_count": 6,
   "id": "b8550c9e",
   "metadata": {},
   "outputs": [
    {
     "name": "stdout",
     "output_type": "stream",
     "text": [
      "0 1 2 3 4 5 6 7 8 9 "
     ]
    }
   ],
   "source": [
    "for i in range(10):\n",
    "    print(i,end=' ')"
   ]
  },
  {
   "cell_type": "markdown",
   "id": "4e8a193a",
   "metadata": {},
   "source": [
    "- initialization : start\n",
    "- increament/decrement: increase/ decrease\n",
    "- condition : where to stop \n",
    "    \n",
    "- in for loop range (start,stop,step)    "
   ]
  },
  {
   "cell_type": "code",
   "execution_count": null,
   "id": "4ac0144b",
   "metadata": {},
   "outputs": [],
   "source": [
    "# start point\n",
    "\n",
    "while <condition>:\n",
    "    # increment/decrement"
   ]
  },
  {
   "cell_type": "code",
   "execution_count": null,
   "id": "baf4124d",
   "metadata": {},
   "outputs": [],
   "source": [
    "if:\n",
    "\n",
    "else:\n",
    "    \n",
    "for :\n",
    "    \n",
    "def :    "
   ]
  },
  {
   "cell_type": "code",
   "execution_count": 7,
   "id": "aae72399",
   "metadata": {},
   "outputs": [
    {
     "name": "stdout",
     "output_type": "stream",
     "text": [
      "0 hello\n",
      "1 hello\n",
      "2 hello\n",
      "3 hello\n",
      "4 hello\n",
      "5 hello\n",
      "6 hello\n",
      "7 hello\n",
      "8 hello\n",
      "9 hello\n"
     ]
    }
   ],
   "source": [
    "for i in range(10):\n",
    "    print(i,end=' ')\n",
    "    print(\"hello\")\n",
    "    \n",
    "# start   i=0\n",
    "# step    i=i+1\n",
    "# stop    i reached  to 9 code should stop"
   ]
  },
  {
   "cell_type": "code",
   "execution_count": 8,
   "id": "fccd5056",
   "metadata": {},
   "outputs": [
    {
     "ename": "SyntaxError",
     "evalue": "invalid syntax (77150898.py, line 2)",
     "output_type": "error",
     "traceback": [
      "\u001b[1;36m  Cell \u001b[1;32mIn[8], line 2\u001b[1;36m\u001b[0m\n\u001b[1;33m    while i<10:               0<10 True\u001b[0m\n\u001b[1;37m                                   ^\u001b[0m\n\u001b[1;31mSyntaxError\u001b[0m\u001b[1;31m:\u001b[0m invalid syntax\n"
     ]
    }
   ],
   "source": [
    "i=0\n",
    "while i<10:               0<10 True\n",
    "    print(i,end=' ')\n",
    "    i=i+1\n",
    "    \n",
    "# i<=5    i<=10  i==0  10%2==i  i==False\n",
    "# inf\n",
    "# write the condition based on start point and stop point\n",
    "# start=0\n",
    "# stop=9"
   ]
  },
  {
   "cell_type": "code",
   "execution_count": null,
   "id": "e45a3917",
   "metadata": {},
   "outputs": [],
   "source": [
    "i=0\n",
    "while i>=10:\n",
    "    print(i,end=' ')\n",
    "    i=i+1\n",
    "    \n",
    "        \n",
    "# start-1:  i=0    i>=10    True      print(0)    i=0+1=1\n",
    "\n",
    "#           i=1    1>=0      T              1        i=2\n",
    "\n",
    "# step-9   i=9    9>=0       T              9         i=10\n",
    "\n",
    "# step-10   i=10   10>=0     T             10        i=11"
   ]
  },
  {
   "cell_type": "code",
   "execution_count": null,
   "id": "c1e6701f",
   "metadata": {},
   "outputs": [],
   "source": [
    "for i in rang(10):\n",
    "    print(i,end=' ')\n",
    "\n",
    "################################################\n",
    "i=0\n",
    "while i<10:\n",
    "    print(i,end=' ')\n",
    "    i=i+1"
   ]
  },
  {
   "cell_type": "code",
   "execution_count": 9,
   "id": "e31f54a5",
   "metadata": {},
   "outputs": [
    {
     "name": "stdout",
     "output_type": "stream",
     "text": [
      "0 1 2 3 4 5 6 7 8 9 "
     ]
    }
   ],
   "source": [
    "for i in range(10):\n",
    "    print(i,end=' ')\n",
    "    "
   ]
  },
  {
   "cell_type": "code",
   "execution_count": 10,
   "id": "8558b38f",
   "metadata": {},
   "outputs": [
    {
     "name": "stdout",
     "output_type": "stream",
     "text": [
      "0 1 2 3 4 5 6 7 8 9 "
     ]
    }
   ],
   "source": [
    "i=0\n",
    "while i<10:\n",
    "    print(i,end=' ')\n",
    "    i=i+1"
   ]
  },
  {
   "cell_type": "code",
   "execution_count": 11,
   "id": "f9618c5f",
   "metadata": {},
   "outputs": [
    {
     "name": "stdout",
     "output_type": "stream",
     "text": [
      "1 2 3 4 5 6 7 8 9 10 "
     ]
    }
   ],
   "source": [
    "i=0\n",
    "while i<=9:\n",
    "    i=i+1\n",
    "    print(i,end=' ')\n",
    "    "
   ]
  },
  {
   "cell_type": "code",
   "execution_count": 12,
   "id": "bcbbb5db",
   "metadata": {},
   "outputs": [
    {
     "name": "stdout",
     "output_type": "stream",
     "text": [
      "0 1 2 3 4 5 6 7 8 9 "
     ]
    }
   ],
   "source": [
    "i=0\n",
    "while i<=9:\n",
    "    \n",
    "    print(i,end=' ')\n",
    "    i=i+1"
   ]
  },
  {
   "cell_type": "code",
   "execution_count": 13,
   "id": "01eb1dcf",
   "metadata": {},
   "outputs": [
    {
     "name": "stdout",
     "output_type": "stream",
     "text": [
      "0 1 2 3 4 5 6 7 8 9 "
     ]
    }
   ],
   "source": [
    "i=0\n",
    "while i!=10:\n",
    "    print(i,end=' ')\n",
    "    i=i+1"
   ]
  },
  {
   "cell_type": "code",
   "execution_count": null,
   "id": "ed3469ef",
   "metadata": {},
   "outputs": [],
   "source": [
    "# Infinate loop\n",
    "\n",
    "i=o\n",
    "while i>=0:\n",
    "    print(i,end=' ')\n",
    "    i=i+1\n",
    "    if i==10:\n",
    "        break\n",
    "        \n",
    "# s-1:    i=0     0>=0     T     0     i=1\n",
    "#         i=1     1>=0     T     1      i=2\n",
    "#         i=9     9>=0     T     9      i=10\n",
    "#         i=10    10>=0    T     10     i=11\n",
    "#           11    11>=0    T      11     i=12\n"
   ]
  },
  {
   "cell_type": "code",
   "execution_count": 15,
   "id": "b9ba6f4a",
   "metadata": {},
   "outputs": [
    {
     "name": "stdout",
     "output_type": "stream",
     "text": [
      "0 1 2 3 4 5 6 7 8 9 "
     ]
    }
   ],
   "source": [
    "# impportant rapper:-\n",
    "\n",
    "i=0\n",
    "while i<=9:              # 0<=9    T\n",
    "    print(i,end=' ')     #    print(0)\n",
    "    i=i+1                # i=1        "
   ]
  },
  {
   "cell_type": "code",
   "execution_count": null,
   "id": "e9d04c02",
   "metadata": {},
   "outputs": [],
   "source": [
    "####################################################\n",
    "\n",
    "i=0\n",
    "while i<=9:\n",
    "    print(i,end=' ')\n",
    "    i=i+1                # i=0+1=1\n",
    "    print(i,end=' ')     # 1"
   ]
  },
  {
   "cell_type": "code",
   "execution_count": null,
   "id": "10ba3878",
   "metadata": {},
   "outputs": [],
   "source": [
    "i=0\n",
    "while i<10:\n",
    "    print(i,end=' ')\n",
    "    i=i+1\n",
    "    \n",
    "    \n",
    "    \n",
    "i=0\n",
    "while i<=9:\n",
    "    print(i,end=' ')\n",
    "    i=i+1\n",
    "    \n",
    "    \n",
    "    \n",
    "i=0\n",
    "while i!=10:\n",
    "    print(i,end=' ')\n",
    "    i=i+1\n",
    "    if i==10:\n",
    "        \n",
    "        \n",
    "    \n",
    "i=0\n",
    "while i>=9:\n",
    "    print(i,end=' ')\n",
    "    i=i+1 \n",
    "    if i==10:\n",
    "        break             # To stop inffinete loopp use condition and break\n",
    "        \n",
    "        \n",
    "i=0\n",
    "while True:\n",
    "    print(i,end=' ')\n",
    "    i=i+1\n",
    "    if i==20:\n",
    "        break        # if we we want to print without thinking use whle True\n",
    "        \n",
    "        \n",
    "i=10\n",
    "while i>0:\n",
    "    print(10-i)\n",
    "    i=i-1\n",
    "    \n",
    "    "
   ]
  },
  {
   "cell_type": "code",
   "execution_count": 16,
   "id": "74a274de",
   "metadata": {},
   "outputs": [
    {
     "name": "stdout",
     "output_type": "stream",
     "text": [
      "0\n",
      "1\n",
      "2\n",
      "3\n",
      "4\n",
      "5\n",
      "6\n",
      "7\n",
      "8\n",
      "9\n"
     ]
    }
   ],
   "source": [
    "i=10\n",
    "while i>0:\n",
    "    print(10-i)\n",
    "    i=i-1\n",
    "    "
   ]
  },
  {
   "cell_type": "code",
   "execution_count": null,
   "id": "c4faa9b1",
   "metadata": {},
   "outputs": [],
   "source": [
    "while True"
   ]
  },
  {
   "cell_type": "code",
   "execution_count": 22,
   "id": "e22dd5cd",
   "metadata": {},
   "outputs": [
    {
     "name": "stdout",
     "output_type": "stream",
     "text": [
      "hello\n"
     ]
    }
   ],
   "source": [
    "if True:\n",
    "    print(\"hello\")"
   ]
  },
  {
   "cell_type": "code",
   "execution_count": 19,
   "id": "65e33047",
   "metadata": {},
   "outputs": [],
   "source": [
    "if False:\n",
    "    print(\"hello\")"
   ]
  },
  {
   "cell_type": "code",
   "execution_count": 23,
   "id": "2e7af0e4",
   "metadata": {},
   "outputs": [
    {
     "data": {
      "text/plain": [
       "True"
      ]
     },
     "execution_count": 23,
     "metadata": {},
     "output_type": "execute_result"
    }
   ],
   "source": [
    "i!=10  #   asking to the computer"
   ]
  },
  {
   "cell_type": "code",
   "execution_count": 24,
   "id": "24e2450d",
   "metadata": {},
   "outputs": [
    {
     "data": {
      "text/plain": [
       "True"
      ]
     },
     "execution_count": 24,
     "metadata": {},
     "output_type": "execute_result"
    }
   ],
   "source": [
    "i>=0"
   ]
  },
  {
   "cell_type": "code",
   "execution_count": 25,
   "id": "5e8ab430",
   "metadata": {},
   "outputs": [
    {
     "name": "stdout",
     "output_type": "stream",
     "text": [
      "0 1 2 3 4 5 6 7 8 9 "
     ]
    }
   ],
   "source": [
    "i=0\n",
    "while True:\n",
    "    print(i,end=' ')\n",
    "    i=i+1\n",
    "    if i==10:\n",
    "        break"
   ]
  },
  {
   "cell_type": "code",
   "execution_count": 26,
   "id": "edf94968",
   "metadata": {},
   "outputs": [
    {
     "name": "stdout",
     "output_type": "stream",
     "text": [
      "0\n",
      "1\n",
      "2\n",
      "3\n",
      "4\n",
      "5\n"
     ]
    }
   ],
   "source": [
    "i=0\n",
    "while True:\n",
    "    print(i)\n",
    "    i=i+1\n",
    "    if i==6:\n",
    "        break"
   ]
  },
  {
   "cell_type": "code",
   "execution_count": null,
   "id": "a5d2b280",
   "metadata": {},
   "outputs": [],
   "source": [
    "i<10\n",
    "i!=10\n",
    "i<=9\n",
    "\n",
    "\n",
    "\n",
    "10 to 1 all the possible conditions"
   ]
  },
  {
   "cell_type": "code",
   "execution_count": 27,
   "id": "b208858c",
   "metadata": {},
   "outputs": [
    {
     "name": "stdout",
     "output_type": "stream",
     "text": [
      " the square of 1 is 1\n",
      " the square of 2 is 4\n",
      " the square of 3 is 9\n",
      " the square of 4 is 16\n",
      " the square of 5 is 25\n"
     ]
    }
   ],
   "source": [
    "# wap using  ask the user print the square of 1 to 5 numbers  using while loop\n",
    "# for loop\n",
    "\n",
    "for i in range (1,6):\n",
    "    print(f\" the square of {i} is {i*i}\")\n",
    "    \n",
    "    \n",
    "    \n",
    "# you need to work how to print 1,2,3,4,5,6,7,8,\n",
    "# range(1,6)   3 parts\n",
    "\n",
    "\n",
    "# intial point\n",
    "# while <condition>:\n",
    "#      <print>\n",
    "#      i=i+1\n"
   ]
  },
  {
   "cell_type": "code",
   "execution_count": 28,
   "id": "041a8e1e",
   "metadata": {},
   "outputs": [
    {
     "name": "stdout",
     "output_type": "stream",
     "text": [
      " the square of 1 is 1\n",
      " the square of 2 is 4\n",
      " the square of 3 is 9\n",
      " the square of 4 is 16\n",
      " the square of 5 is 25\n",
      " the square of 6 is 36\n",
      " the square of 7 is 49\n",
      " the square of 8 is 64\n",
      " the square of 9 is 81\n",
      " the square of 10 is 100\n",
      " the square of 11 is 121\n"
     ]
    }
   ],
   "source": [
    "for i in range (1,12):\n",
    "    print(f\" the square of {i} is {i*i}\")\n",
    "    "
   ]
  },
  {
   "cell_type": "code",
   "execution_count": null,
   "id": "1551980a",
   "metadata": {},
   "outputs": [],
   "source": []
  },
  {
   "cell_type": "code",
   "execution_count": 1,
   "id": "48ae13b0",
   "metadata": {},
   "outputs": [
    {
     "ename": "SyntaxError",
     "evalue": "invalid syntax (31173104.py, line 2)",
     "output_type": "error",
     "traceback": [
      "\u001b[1;36m  Cell \u001b[1;32mIn[1], line 2\u001b[1;36m\u001b[0m\n\u001b[1;33m    while >=5:\u001b[0m\n\u001b[1;37m          ^\u001b[0m\n\u001b[1;31mSyntaxError\u001b[0m\u001b[1;31m:\u001b[0m invalid syntax\n"
     ]
    }
   ],
   "source": [
    "i=1\n",
    "while >=5:\n",
    "    print(f\"the square of {i} is {i*i}\")\n",
    "    i=i+1"
   ]
  },
  {
   "cell_type": "code",
   "execution_count": null,
   "id": "e80f3918",
   "metadata": {},
   "outputs": [],
   "source": [
    "# wap ask the user get 5 random numbers\n",
    "# and print the ========================(square of the numbers using while loop)\n",
    "import random\n",
    "i=1\n",
    "while i<5:\n",
    "    num=random.randint(1,50)\n",
    "    print(f\"the square of {num} is {num*num}\")\n",
    "    i=i+1\n",
    "\n"
   ]
  },
  {
   "cell_type": "code",
   "execution_count": null,
   "id": "626b5791",
   "metadata": {},
   "outputs": [],
   "source": [
    "# wap summ of first 10 natural number\n"
   ]
  },
  {
   "cell_type": "code",
   "execution_count": null,
   "id": "8761bded",
   "metadata": {},
   "outputs": [],
   "source": []
  },
  {
   "cell_type": "code",
   "execution_count": null,
   "id": "94cd6c29",
   "metadata": {},
   "outputs": [],
   "source": []
  },
  {
   "cell_type": "code",
   "execution_count": 45,
   "id": "9a30bc4f",
   "metadata": {},
   "outputs": [
    {
     "name": "stdout",
     "output_type": "stream",
     "text": [
      "enter the number:\n"
     ]
    },
    {
     "ename": "SyntaxError",
     "evalue": "invalid syntax (<string>, line 0)",
     "output_type": "error",
     "traceback": [
      "Traceback \u001b[1;36m(most recent call last)\u001b[0m:\n",
      "\u001b[0m  File \u001b[0;32m~\\anaconda3\\Lib\\site-packages\\IPython\\core\\interactiveshell.py:3526\u001b[0m in \u001b[0;35mrun_code\u001b[0m\n    exec(code_obj, self.user_global_ns, self.user_ns)\u001b[0m\n",
      "\u001b[0m  Cell \u001b[0;32mIn[45], line 14\u001b[0m\n    print(divisors())\u001b[0m\n",
      "\u001b[1;36m  Cell \u001b[1;32mIn[45], line 7\u001b[1;36m in \u001b[1;35mdivisors\u001b[1;36m\n\u001b[1;33m    num=eval(input(\"enter the number:\"))\u001b[1;36m\n",
      "\u001b[1;36m  File \u001b[1;32m<string>\u001b[1;36m\u001b[0m\n\u001b[1;33m    \u001b[0m\n\u001b[1;37m    ^\u001b[0m\n\u001b[1;31mSyntaxError\u001b[0m\u001b[1;31m:\u001b[0m invalid syntax\n"
     ]
    }
   ],
   "source": [
    "# wap ask the user find the number of divisiors of given numbers using (while loop)  and (for loop) also\n",
    "\n",
    "# num 10 divisors loop 10 times\n",
    "def divisors():\n",
    "    count=0\n",
    "    count=count+1\n",
    "    num=eval(input(\"enter the number:\"))\n",
    "    i=1\n",
    "    while i<=num:\n",
    "        if num%1==0:\n",
    "            print(summ)\n",
    "            i = i+1\n",
    "            \n",
    "print(divisors())"
   ]
  },
  {
   "cell_type": "code",
   "execution_count": 47,
   "id": "5c483bc6",
   "metadata": {},
   "outputs": [
    {
     "name": "stdout",
     "output_type": "stream",
     "text": [
      "enter the number:30\n",
      "1\n",
      "2\n",
      "3\n",
      "4\n",
      "5\n",
      "6\n",
      "7\n",
      "8\n",
      "9\n",
      "10\n",
      "11\n",
      "12\n",
      "13\n",
      "14\n",
      "15\n",
      "16\n",
      "17\n",
      "18\n",
      "19\n",
      "20\n",
      "21\n",
      "22\n",
      "23\n",
      "24\n",
      "25\n",
      "26\n",
      "27\n",
      "28\n",
      "29\n"
     ]
    }
   ],
   "source": [
    "count=0\n",
    "num=eval(input(\"enter the number:\"))\n",
    "i=1\n",
    "while i<=num:\n",
    "    if num%i==0:\n",
    "        count=count+1\n",
    "        if count == num:\n",
    "            break\n",
    "      \n",
    "    print(count)\n"
   ]
  },
  {
   "cell_type": "code",
   "execution_count": null,
   "id": "06230303",
   "metadata": {},
   "outputs": [],
   "source": []
  },
  {
   "cell_type": "code",
   "execution_count": null,
   "id": "a531af61",
   "metadata": {},
   "outputs": [],
   "source": []
  },
  {
   "cell_type": "code",
   "execution_count": null,
   "id": "1e5ac35f",
   "metadata": {},
   "outputs": [],
   "source": [
    "# wap ask the  the user to get a random number \n",
    "#     ask the user get a number\n",
    "#     if user_number==random_number print (won)\n",
    "#       else: print(lost)\n",
    "# give 3 chances use while loop    "
   ]
  },
  {
   "cell_type": "code",
   "execution_count": 40,
   "id": "88546209",
   "metadata": {},
   "outputs": [
    {
     "name": "stdout",
     "output_type": "stream",
     "text": [
      "guess the number :4\n",
      "random number is: 4\n"
     ]
    },
    {
     "ename": "NameError",
     "evalue": "name 'number' is not defined",
     "output_type": "error",
     "traceback": [
      "\u001b[1;31m---------------------------------------------------------------------------\u001b[0m",
      "\u001b[1;31mNameError\u001b[0m                                 Traceback (most recent call last)",
      "Cell \u001b[1;32mIn[40], line 7\u001b[0m\n\u001b[0;32m      5\u001b[0m random_number\u001b[38;5;241m=\u001b[39mrandom\u001b[38;5;241m.\u001b[39mrandint(\u001b[38;5;241m1\u001b[39m,\u001b[38;5;241m10\u001b[39m)\n\u001b[0;32m      6\u001b[0m \u001b[38;5;28mprint\u001b[39m(\u001b[38;5;124m'\u001b[39m\u001b[38;5;124mrandom number is:\u001b[39m\u001b[38;5;124m'\u001b[39m,random_number)\n\u001b[1;32m----> 7\u001b[0m \u001b[38;5;28;01mif\u001b[39;00m random_number\u001b[38;5;241m==\u001b[39mnumber:\n\u001b[0;32m      8\u001b[0m     \u001b[38;5;28mprint\u001b[39m(\u001b[38;5;124m'\u001b[39m\u001b[38;5;124myou won\u001b[39m\u001b[38;5;124m'\u001b[39m)\n\u001b[0;32m      9\u001b[0m     \u001b[38;5;28;01mbreak\u001b[39;00m\n",
      "\u001b[1;31mNameError\u001b[0m: name 'number' is not defined"
     ]
    }
   ],
   "source": [
    "import random\n",
    "i=0\n",
    "while i<3:\n",
    "    num=eval(input('guess the number :'))\n",
    "    random_number=random.randint(1,10)\n",
    "    print('random number is:',random_number)\n",
    "    if random_number==number:\n",
    "        print('you won')\n",
    "        break\n",
    "    else:\n",
    "        print('you lost')\n",
    "    i=i+1    "
   ]
  },
  {
   "cell_type": "code",
   "execution_count": 41,
   "id": "b4ecb06b",
   "metadata": {},
   "outputs": [
    {
     "name": "stdout",
     "output_type": "stream",
     "text": [
      "guess the number :5\n",
      "random number is: 5\n",
      "you won\n"
     ]
    }
   ],
   "source": [
    "num=eval(input('guess the number :'))\n",
    "random_num=random.randint(1,10)\n",
    "print('random number is:',random_num)\n",
    "if random_num==num:\n",
    "     print('you won')\n",
    "        \n",
    "else:\n",
    "    print('you lost')"
   ]
  },
  {
   "cell_type": "code",
   "execution_count": null,
   "id": "144b741d",
   "metadata": {},
   "outputs": [],
   "source": []
  },
  {
   "cell_type": "code",
   "execution_count": null,
   "id": "e836edb2",
   "metadata": {},
   "outputs": [],
   "source": [
    "using for loop  ======= infinite loop not possible \n",
    "\n",
    "using while loop ======= while True\n",
    "\n",
    "if balance>1000:\n",
    "    print()\n",
    "else:"
   ]
  },
  {
   "cell_type": "code",
   "execution_count": null,
   "id": "83eadbc2",
   "metadata": {},
   "outputs": [],
   "source": []
  }
 ],
 "metadata": {
  "kernelspec": {
   "display_name": "Python 3 (ipykernel)",
   "language": "python",
   "name": "python3"
  },
  "language_info": {
   "codemirror_mode": {
    "name": "ipython",
    "version": 3
   },
   "file_extension": ".py",
   "mimetype": "text/x-python",
   "name": "python",
   "nbconvert_exporter": "python",
   "pygments_lexer": "ipython3",
   "version": "3.11.5"
  }
 },
 "nbformat": 4,
 "nbformat_minor": 5
}
