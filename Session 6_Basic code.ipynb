{
 "cells": [
  {
   "cell_type": "code",
   "execution_count": 6,
   "id": "6c6ac4df",
   "metadata": {},
   "outputs": [
    {
     "name": "stdout",
     "output_type": "stream",
     "text": [
      "the addition of 10 and 20 is 30\n"
     ]
    }
   ],
   "source": [
    "num1=10\n",
    "num2=20\n",
    "add=num1+num2\n",
    "print(f\"the addition of {num1} and {num2} is {add}\")"
   ]
  },
  {
   "cell_type": "markdown",
   "id": "251ee5e6",
   "metadata": {},
   "source": [
    "### input"
   ]
  },
  {
   "cell_type": "code",
   "execution_count": 11,
   "id": "99eba342",
   "metadata": {},
   "outputs": [
    {
     "name": "stdout",
     "output_type": "stream",
     "text": [
      "100\n"
     ]
    },
    {
     "data": {
      "text/plain": [
       "'100'"
      ]
     },
     "execution_count": 11,
     "metadata": {},
     "output_type": "execute_result"
    }
   ],
   "source": [
    "input()"
   ]
  },
  {
   "cell_type": "code",
   "execution_count": 12,
   "id": "1aeb5456",
   "metadata": {},
   "outputs": [
    {
     "name": "stdout",
     "output_type": "stream",
     "text": [
      "enter a number:10\n"
     ]
    },
    {
     "data": {
      "text/plain": [
       "'10'"
      ]
     },
     "execution_count": 12,
     "metadata": {},
     "output_type": "execute_result"
    }
   ],
   "source": [
    "input(\"enter a number:\")"
   ]
  },
  {
   "cell_type": "code",
   "execution_count": 13,
   "id": "2f2b9ac5",
   "metadata": {},
   "outputs": [
    {
     "name": "stdout",
     "output_type": "stream",
     "text": [
      "enter a name:python\n"
     ]
    },
    {
     "data": {
      "text/plain": [
       "'python'"
      ]
     },
     "execution_count": 13,
     "metadata": {},
     "output_type": "execute_result"
    }
   ],
   "source": [
    "input(\"enter a name:\")"
   ]
  },
  {
   "cell_type": "code",
   "execution_count": 14,
   "id": "7f2b3d6f",
   "metadata": {},
   "outputs": [
    {
     "name": "stdout",
     "output_type": "stream",
     "text": [
      "enter a number1:100\n",
      "enter a number2:200\n"
     ]
    },
    {
     "data": {
      "text/plain": [
       "'100200'"
      ]
     },
     "execution_count": 14,
     "metadata": {},
     "output_type": "execute_result"
    }
   ],
   "source": [
    "num1=input(\"enter a number1:\")  # num1='100'\n",
    "num2=input(\"enter a number2:\")  # num2='200'\n",
    "num1+num2                       # '100'+'200'='100200'"
   ]
  },
  {
   "cell_type": "markdown",
   "id": "b1319669",
   "metadata": {},
   "source": [
    "#### Note: The default data type from keyboard using input keyword is string"
   ]
  },
  {
   "cell_type": "code",
   "execution_count": 15,
   "id": "ebe4a7d1",
   "metadata": {},
   "outputs": [
    {
     "name": "stdout",
     "output_type": "stream",
     "text": [
      "enter a number:20\n"
     ]
    },
    {
     "data": {
      "text/plain": [
       "str"
      ]
     },
     "execution_count": 15,
     "metadata": {},
     "output_type": "execute_result"
    }
   ],
   "source": [
    "num1=10   # int\n",
    "type(num1)\n",
    "\n",
    "num2=input(\"enter a number:\")   # string\n",
    "type(num2)"
   ]
  },
  {
   "cell_type": "code",
   "execution_count": 5,
   "id": "cf002898",
   "metadata": {},
   "outputs": [
    {
     "name": "stdout",
     "output_type": "stream",
     "text": [
      "enter a number1:100\n",
      "enter a number2:300\n",
      "the addition of 100 and 300 is 400\n"
     ]
    }
   ],
   "source": [
    "num1=int(input(\"enter a number1:\"))  # num1=int('100')=100\n",
    "num2=int(input(\"enter a number2:\"))  # num2=int('200')=200\n",
    "print(f\"the addition of {num1} and {num2} is {num1+num2}\")\n"
   ]
  },
  {
   "cell_type": "code",
   "execution_count": 6,
   "id": "a9b9a02f",
   "metadata": {},
   "outputs": [
    {
     "name": "stdout",
     "output_type": "stream",
     "text": [
      "enter a number1:100\n",
      "enter a number2:200\n",
      "the addition of 100 and 200 is 300\n"
     ]
    }
   ],
   "source": [
    "num1=int(input(\"enter a number1:\"))  # num1=int('100')=100\n",
    "num2=int(input(\"enter a number2:\"))  # num2=int('200')=200\n",
    "add=int(num1)+int(num2)\n",
    "print(f\"the addition of {num1} and {num2} is {add}\")"
   ]
  },
  {
   "cell_type": "code",
   "execution_count": 8,
   "id": "3b457ab1",
   "metadata": {},
   "outputs": [
    {
     "name": "stdout",
     "output_type": "stream",
     "text": [
      "enter a number1:10\n",
      "enter a number2:20.5\n",
      "the addition of 10 and 20.5 is 30.5\n"
     ]
    }
   ],
   "source": [
    "num1=int(input(\"enter a number1:\"))  \n",
    "num2=float(input(\"enter a number2:\")) \n",
    "add=num1+num2\n",
    "print(f\"the addition of {num1} and {num2} is {add}\")"
   ]
  },
  {
   "cell_type": "code",
   "execution_count": null,
   "id": "da190559",
   "metadata": {},
   "outputs": [],
   "source": [
    "int('20.5') # give the error"
   ]
  },
  {
   "cell_type": "markdown",
   "id": "0db5fbc1",
   "metadata": {},
   "source": [
    "#### eval: evaliate the number automatically based on original datatype"
   ]
  },
  {
   "cell_type": "code",
   "execution_count": 11,
   "id": "cbb4bad5",
   "metadata": {},
   "outputs": [
    {
     "name": "stdout",
     "output_type": "stream",
     "text": [
      "enter a number1:300\n",
      "enter a number2:200\n",
      "the addition of 300 and 200 is 500\n"
     ]
    }
   ],
   "source": [
    "num1=eval(input(\"enter a number1:\"))  \n",
    "num2=eval(input(\"enter a number2:\")) \n",
    "add=num1+num2\n",
    "print(f\"the addition of {num1} and {num2} is {add}\")"
   ]
  },
  {
   "cell_type": "code",
   "execution_count": 16,
   "id": "daf1c4bf",
   "metadata": {},
   "outputs": [
    {
     "name": "stdout",
     "output_type": "stream",
     "text": [
      "enter a number1:2\n",
      "enter a number2:3\n",
      "enter a number3:5\n",
      "the average  of 2,3 5 is 3.33\n"
     ]
    }
   ],
   "source": [
    "# wap ask the user enter a num1,num2 and num1\n",
    "# find the average= (num1+num2+num3)/3\n",
    "n1=eval(input(\"enter a number1:\"))  \n",
    "n2=eval(input(\"enter a number2:\")) \n",
    "n3=eval(input(\"enter a number3:\"))\n",
    "add=n1+n2+n3\n",
    "avg=round(add/3,2)\n",
    "print(f\"the average  of {n1},{n2} {n3} is {avg}\")"
   ]
  },
  {
   "cell_type": "code",
   "execution_count": 17,
   "id": "e76524b5",
   "metadata": {},
   "outputs": [
    {
     "data": {
      "text/plain": [
       "3"
      ]
     },
     "execution_count": 17,
     "metadata": {},
     "output_type": "execute_result"
    }
   ],
   "source": [
    "round(3.3334)"
   ]
  },
  {
   "cell_type": "code",
   "execution_count": 18,
   "id": "9e4a6912",
   "metadata": {},
   "outputs": [
    {
     "name": "stdout",
     "output_type": "stream",
     "text": [
      "enter the salary:10000\n",
      "enter the tax in %:20\n",
      "the total tax pay is 2000.0\n"
     ]
    }
   ],
   "source": [
    "# wap ask the user tax salary\n",
    "#    ask the user tax percentage\n",
    "#      calculate total tax to pay\n",
    "# salary=100000\n",
    "# tax_per=10\n",
    "# tax_pay=100000*10/100=\n",
    "\n",
    "salary=eval(input(\"enter the salary:\"))\n",
    "tax_per=per=eval(input(\"enter the tax in %:\"))\n",
    "tax_pay=salary*tax_per/100how much\n",
    "print(f\"the total tax pay is {tax_pay}\")"
   ]
  },
  {
   "cell_type": "code",
   "execution_count": 19,
   "id": "0e8bb721",
   "metadata": {},
   "outputs": [],
   "source": [
    "# the conversation between mother and daughter\n",
    "# daughter: hey mom\n",
    "# mother : hello beta!\n",
    "# daughter: did you know governament has immplemented freebus service\n",
    "# mother: oh really!\n",
    "# daughter: wii go to grand mother house\n",
    "# mother: yes\n",
    "# conducter: show me the identity card\n",
    "# mother : no\n",
    "# conducter: pay the money\n",
    "# mother : how much\n",
    "# condiucter : how many kilomiters you want to travel\n",
    "# mother: 25 <kms>\n",
    "# mother : how much charge\n",
    "# conducter : per km 2rs <charge>\n",
    "# mother : 25*2 <total>:km*charge\n",
    "# mother: 50rs <total>"
   ]
  },
  {
   "cell_type": "code",
   "execution_count": 20,
   "id": "344b18bf",
   "metadata": {},
   "outputs": [
    {
     "name": "stdout",
     "output_type": "stream",
     "text": [
      "=========Conversation between mother and daughter ================\n",
      "daughter:hey mom\n",
      "mother:hello beta\n",
      "daughter:did you know about free bus\n",
      "mother:ohh really\n",
      "daughter:will go to grand maa house\n",
      "mother:yes\n",
      "================================== after they reach bus stop============\n",
      "conducter:show me ther id\n",
      "mother:no i forgot\n",
      "conducter:pay the money\n",
      "mother:how much\n",
      "conducter:how many km you want to travel\n",
      "mother:25\n",
      "motherhow much per km\n",
      "conducter:per km 2 rs\n"
     ]
    },
    {
     "ename": "SyntaxError",
     "evalue": "invalid syntax (<string>, line 1)",
     "output_type": "error",
     "traceback": [
      "Traceback \u001b[1;36m(most recent call last)\u001b[0m:\n",
      "\u001b[0m  File \u001b[0;32m~\\anaconda3\\Lib\\site-packages\\IPython\\core\\interactiveshell.py:3526\u001b[0m in \u001b[0;35mrun_code\u001b[0m\n    exec(code_obj, self.user_global_ns, self.user_ns)\u001b[0m\n",
      "\u001b[1;36m  Cell \u001b[1;32mIn[20], line 16\u001b[1;36m\n\u001b[1;33m    fare=eval(input(\"conducter:\"))\u001b[1;36m\n",
      "\u001b[1;36m  File \u001b[1;32m<string>:1\u001b[1;36m\u001b[0m\n\u001b[1;33m    per km 2 rs\u001b[0m\n\u001b[1;37m        ^\u001b[0m\n\u001b[1;31mSyntaxError\u001b[0m\u001b[1;31m:\u001b[0m invalid syntax\n"
     ]
    }
   ],
   "source": [
    "print(\"=========Conversation between mother and daughter ================\")\n",
    "input(\"daughter:\")\n",
    "input(\"mother:\")\n",
    "input(\"daughter:\")\n",
    "input(\"mother:\")\n",
    "input(\"daughter:\")\n",
    "input(\"mother:\")\n",
    "print(\"================================== after they reach bus stop============\")\n",
    "input(\"conducter:\")\n",
    "input(\"mother:\")\n",
    "input(\"conducter:\")\n",
    "input(\"mother:\")\n",
    "input(\"conducter:\")\n",
    "km=eval(input(\"mother:\"))\n",
    "input(\"mother\")\n",
    "fare=eval(input(\"conducter:\"))\n",
    "total=km*fare\n",
    "print(f\"the total charge is  {total}\")"
   ]
  },
  {
   "cell_type": "code",
   "execution_count": null,
   "id": "5bed637d",
   "metadata": {},
   "outputs": [],
   "source": [
    "input(\"daughter:\")\n",
    "input(\"mother:\")\n",
    "input(\"daughter:\")\n",
    "input(\"mother:\")\n",
    "input(\"daughter:\")\n",
    "input(\"mother:\")\n",
    "input(\"conducter:\")\n",
    "input(\"mother:\")\n",
    "input(\"conducter:\")\n",
    "input(\"mother:\")\n",
    "input(\"conducter:\")\n",
    "dis=eval(input(\"mother:\"))\n",
    "input(\"mother:\")\n",
    "cost=eval(input(\"conducter:\"))\n",
    "input=(f\"conducter : per km {cost}\")\n",
    "tot_cost=discount*cost\n",
    "input(f\"mother:{cost}*{tot_cost}\")        \n",
    "input(\"mother\":)         \n"
   ]
  },
  {
   "cell_type": "code",
   "execution_count": 24,
   "id": "c589c36c",
   "metadata": {},
   "outputs": [
    {
     "name": "stdout",
     "output_type": "stream",
     "text": [
      "mother:2*50100\n"
     ]
    },
    {
     "data": {
      "text/plain": [
       "'100'"
      ]
     },
     "execution_count": 24,
     "metadata": {},
     "output_type": "execute_result"
    }
   ],
   "source": [
    "cost=2\n",
    "dis=25\n",
    "tot_cost=dis*cost\n",
    "input(f\"mother:{cost}*{tot_cost}\")\n"
   ]
  },
  {
   "cell_type": "code",
   "execution_count": 25,
   "id": "9e062922",
   "metadata": {},
   "outputs": [
    {
     "name": "stdout",
     "output_type": "stream",
     "text": [
      "enter a number1:500\n",
      "enter a number2:200\n"
     ]
    },
    {
     "data": {
      "text/plain": [
       "700"
      ]
     },
     "execution_count": 25,
     "metadata": {},
     "output_type": "execute_result"
    }
   ],
   "source": [
    "# why do we use eval\n",
    "\n",
    "a=eval(input(\"enter a number1:\"))\n",
    "b=eval(input(\"enter a number2:\"))\n",
    "a+b"
   ]
  },
  {
   "cell_type": "code",
   "execution_count": 26,
   "id": "62c2c7e9",
   "metadata": {},
   "outputs": [],
   "source": [
    "################ create your own story   ################\n",
    "\n",
    "# you : went bar\n",
    "# you : how much\n",
    "#  bar :0800rs\n",
    "# you: i have dollars \n",
    "# bar: we accept only INR\n",
    "# you : what should i do \n",
    "# bar : will convert dollers into INR\n",
    "# you : how one doller into INR =80\n",
    "# you : how many dollers  you requierd=800/80=10\n",
    "# bar : give me 10 dollers"
   ]
  },
  {
   "cell_type": "code",
   "execution_count": 7,
   "id": "47f60d63",
   "metadata": {},
   "outputs": [
    {
     "name": "stdout",
     "output_type": "stream",
     "text": [
      "you:SDFGHJ\n",
      "bar: 800\n",
      "you:XDFCGVHBJ\n",
      "bar:DFGH\n",
      "you: FGHJ\n",
      "bar:CGHGJ\n",
      "you: How many INR is equal to one USD 80\n",
      "bar: Give me 10.0 dollers\n"
     ]
    }
   ],
   "source": [
    "input(\"you:\")\n",
    "total_bill=eval(input(\"bar: \"))\n",
    "input(\"you:\")\n",
    "input(\"bar:\")\n",
    "input(\"you: \")\n",
    "input(\"bar:\")\n",
    "onedollor=eval(input(\"you: How many INR is equal to one USD \"))\n",
    "totaldollortopay=total_bill/onedollor\n",
    "print(f\"bar: Give me {totaldollortopay} dollers\")\n"
   ]
  },
  {
   "cell_type": "code",
   "execution_count": null,
   "id": "ae1067ee",
   "metadata": {},
   "outputs": [],
   "source": []
  },
  {
   "cell_type": "code",
   "execution_count": null,
   "id": "3a3d7dbf",
   "metadata": {},
   "outputs": [],
   "source": []
  },
  {
   "cell_type": "code",
   "execution_count": 9,
   "id": "df129734",
   "metadata": {},
   "outputs": [
    {
     "name": "stdout",
     "output_type": "stream",
     "text": [
      "enter the total bill in inr:67\n",
      "you:how many INR is equal to 1USD89\n",
      "Bar: Give me 0.7528089887640449 dollors\n"
     ]
    }
   ],
   "source": [
    "total_bill=eval(input(\"enter the total bill in inr:\"))\n",
    "oneDollor=eval(input(\"you:how many INR is equal to 1USD\"))\n",
    "totaldollarToPay=total_bill/oneDollor\n",
    "print(f\"Bar: Give me {totaldollarToPay} dollors\")\n"
   ]
  },
  {
   "cell_type": "code",
   "execution_count": 1,
   "id": "3d9d4cb1",
   "metadata": {},
   "outputs": [
    {
     "name": "stdout",
     "output_type": "stream",
     "text": [
      "you much the bill\n",
      "enter the bill500\n"
     ]
    }
   ],
   "source": [
    "import time\n",
    "\n",
    "print(\"you much the bill\")\n",
    "time.sleep(3)\n",
    "bill=eval(input(\"enter the bill\"))\n",
    "time.sleep(3)\n"
   ]
  },
  {
   "cell_type": "code",
   "execution_count": 10,
   "id": "e3a72c7d",
   "metadata": {},
   "outputs": [
    {
     "name": "stdout",
     "output_type": "stream",
     "text": [
      "25\n"
     ]
    }
   ],
   "source": [
    "a = 23\n",
    "b = 2\n",
    "c = a+b\n",
    "print(c)"
   ]
  },
  {
   "cell_type": "code",
   "execution_count": 11,
   "id": "f0f19e49",
   "metadata": {},
   "outputs": [
    {
     "name": "stdout",
     "output_type": "stream",
     "text": [
      "enter any number:4\n",
      "enter any number:5\n",
      "your answer is: 9\n"
     ]
    }
   ],
   "source": [
    "a = eval(input(\"enter any number:\"))\n",
    "b = eval(input(\"enter any number:\"))\n",
    "c = a+b\n",
    "print(\"your answer is:\",c)"
   ]
  },
  {
   "cell_type": "code",
   "execution_count": null,
   "id": "cbd46f73",
   "metadata": {},
   "outputs": [],
   "source": []
  },
  {
   "cell_type": "code",
   "execution_count": null,
   "id": "56d4decc",
   "metadata": {},
   "outputs": [],
   "source": []
  }
 ],
 "metadata": {
  "kernelspec": {
   "display_name": "Python 3 (ipykernel)",
   "language": "python",
   "name": "python3"
  },
  "language_info": {
   "codemirror_mode": {
    "name": "ipython",
    "version": 3
   },
   "file_extension": ".py",
   "mimetype": "text/x-python",
   "name": "python",
   "nbconvert_exporter": "python",
   "pygments_lexer": "ipython3",
   "version": "3.11.5"
  }
 },
 "nbformat": 4,
 "nbformat_minor": 5
}
