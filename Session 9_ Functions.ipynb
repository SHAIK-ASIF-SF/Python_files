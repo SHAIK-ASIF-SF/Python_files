{
 "cells": [
  {
   "cell_type": "markdown",
   "id": "3a59f09c",
   "metadata": {},
   "source": [
    "- variables\n",
    "\n",
    "- Data types\n",
    "\n",
    "- type casting\n",
    "\n",
    "- print\n",
    "\n",
    "- Basic codes\n",
    "    - eval\n",
    "    - input\n",
    "\n",
    "- if-else conditions\n",
    "\n",
    "- try-except\n"
   ]
  },
  {
   "cell_type": "code",
   "execution_count": 1,
   "id": "b1b71834",
   "metadata": {},
   "outputs": [],
   "source": [
    "# Functions:\n",
    "\n",
    "\n",
    "# re use the same code\n",
    "# 20 having birth day\n",
    "# omkar happy birth day\n",
    "# asif happy birth day"
   ]
  },
  {
   "cell_type": "code",
   "execution_count": 2,
   "id": "5aa12a6a",
   "metadata": {},
   "outputs": [
    {
     "name": "stdout",
     "output_type": "stream",
     "text": [
      "enter a number200\n",
      "enter a number1\n",
      "201\n"
     ]
    }
   ],
   "source": [
    "num1=eval(input(\"enter a number\"))\n",
    "num2=eval(input(\"enter a number\"))\n",
    "print(num1+num2)"
   ]
  },
  {
   "cell_type": "code",
   "execution_count": null,
   "id": "b3a76022",
   "metadata": {},
   "outputs": [],
   "source": [
    "def <function_name>():\n",
    "    # write your code"
   ]
  },
  {
   "cell_type": "code",
   "execution_count": 4,
   "id": "f5af8e25",
   "metadata": {},
   "outputs": [
    {
     "name": "stdout",
     "output_type": "stream",
     "text": [
      "enter a number100\n",
      "enter a number2\n",
      "102\n"
     ]
    }
   ],
   "source": [
    "def summ():\n",
    "    num1=eval(input(\"enter a number\"))\n",
    "    num2=eval(input(\"enter a number\"))\n",
    "    print(num1+num2)\n",
    "    \n",
    "summ()"
   ]
  },
  {
   "cell_type": "code",
   "execution_count": 2,
   "id": "5f909429",
   "metadata": {},
   "outputs": [
    {
     "name": "stdout",
     "output_type": "stream",
     "text": [
      "enter a number300\n",
      "enter a number200\n"
     ]
    },
    {
     "ename": "NameError",
     "evalue": "name 'num11' is not defined",
     "output_type": "error",
     "traceback": [
      "\u001b[1;31m---------------------------------------------------------------------------\u001b[0m",
      "\u001b[1;31mNameError\u001b[0m                                 Traceback (most recent call last)",
      "Cell \u001b[1;32mIn[2], line 6\u001b[0m\n\u001b[0;32m      3\u001b[0m     num2\u001b[38;5;241m=\u001b[39m\u001b[38;5;28meval\u001b[39m(\u001b[38;5;28minput\u001b[39m(\u001b[38;5;124m\"\u001b[39m\u001b[38;5;124menter a number\u001b[39m\u001b[38;5;124m\"\u001b[39m))\n\u001b[0;32m      4\u001b[0m     \u001b[38;5;28mprint\u001b[39m(num11\u001b[38;5;241m+\u001b[39mnum2)\n\u001b[1;32m----> 6\u001b[0m addition()\n",
      "Cell \u001b[1;32mIn[2], line 4\u001b[0m, in \u001b[0;36maddition\u001b[1;34m()\u001b[0m\n\u001b[0;32m      2\u001b[0m num1\u001b[38;5;241m=\u001b[39m\u001b[38;5;28meval\u001b[39m(\u001b[38;5;28minput\u001b[39m(\u001b[38;5;124m\"\u001b[39m\u001b[38;5;124menter a number\u001b[39m\u001b[38;5;124m\"\u001b[39m))\n\u001b[0;32m      3\u001b[0m num2\u001b[38;5;241m=\u001b[39m\u001b[38;5;28meval\u001b[39m(\u001b[38;5;28minput\u001b[39m(\u001b[38;5;124m\"\u001b[39m\u001b[38;5;124menter a number\u001b[39m\u001b[38;5;124m\"\u001b[39m))\n\u001b[1;32m----> 4\u001b[0m \u001b[38;5;28mprint\u001b[39m(num11\u001b[38;5;241m+\u001b[39mnum2)\n",
      "\u001b[1;31mNameError\u001b[0m: name 'num11' is not defined"
     ]
    }
   ],
   "source": [
    "def addition():\n",
    "    num1=eval(input(\"enter a number\"))\n",
    "    num2=eval(input(\"enter a number\"))\n",
    "    print(num11+num2)\n",
    "    \n",
    "addition()"
   ]
  },
  {
   "cell_type": "markdown",
   "id": "025d2598",
   "metadata": {},
   "source": [
    "- defining functiion will not give the error\n",
    "\n",
    "- you will identify the error\n",
    "\n",
    "- syntex error only will get, when define the function  call"
   ]
  },
  {
   "cell_type": "code",
   "execution_count": 8,
   "id": "3c2125de",
   "metadata": {},
   "outputs": [
    {
     "name": "stdout",
     "output_type": "stream",
     "text": [
      "enter number1:200\n",
      "enter number2:300\n",
      "enter number3:300\n",
      "the average of 200,300 and 300 is 266.6666666666667\n"
     ]
    }
   ],
   "source": [
    "# wap ask the user enter three numbers\n",
    "# find the average\n",
    "# implement the (function call)\n",
    "\n",
    "\n",
    "n1=eval(input(\"enter number1:\"))\n",
    "n2=eval(input(\"enter number2:\"))\n",
    "n3=eval(input(\"enter number3:\"))\n",
    "avg=(n1+n2+n3)/3\n",
    "print(f\"the average of {n1},{n2} and {n3} is {avg}\")\n",
    "\n",
    "    "
   ]
  },
  {
   "cell_type": "code",
   "execution_count": 9,
   "id": "da8fb799",
   "metadata": {},
   "outputs": [
    {
     "name": "stdout",
     "output_type": "stream",
     "text": [
      "enter number1:200\n",
      "enter number2:300\n",
      "enter number3:10\n",
      "the average of 200,300 and 10 is 170.0\n"
     ]
    }
   ],
   "source": [
    "def average():\n",
    "    n1=eval(input(\"enter number1:\"))\n",
    "    n2=eval(input(\"enter number2:\"))\n",
    "    n3=eval(input(\"enter number3:\"))\n",
    "    avg=(n1+n2+n3)/3\n",
    "    print(f\"the average of {n1},{n2} and {n3} is {avg}\")\n",
    "\n",
    "average()    "
   ]
  },
  {
   "cell_type": "code",
   "execution_count": null,
   "id": "096020ff",
   "metadata": {},
   "outputs": [],
   "source": []
  },
  {
   "cell_type": "code",
   "execution_count": 10,
   "id": "f54dbc73",
   "metadata": {},
   "outputs": [
    {
     "name": "stdout",
     "output_type": "stream",
     "text": [
      "enter a bill amount1000\n",
      "enter the tip in %:10\n",
      "the total bill is: 1100.0\n"
     ]
    }
   ],
   "source": [
    "# wap ask the user enter bill amount\n",
    "#   ask the user enter tip percentage\n",
    "#   calculate total bill\n",
    "# implementation the function\n",
    "\n",
    "\n",
    "bill=eval(input(\"enter a bill amount\"))\n",
    "tip_per=eval(input(\"enter the tip in %:\"))\n",
    "tip_amount=bill*tip_per/100  # 1000*10/100=100\n",
    "total_amount=bill+tip_amount\n",
    "print(f\"the total bill is: {total_amount}\")\n"
   ]
  },
  {
   "cell_type": "code",
   "execution_count": 11,
   "id": "f7999cd2",
   "metadata": {},
   "outputs": [
    {
     "name": "stdout",
     "output_type": "stream",
     "text": [
      "enter a bill amount1000\n",
      "enter the tip in %:10\n",
      "the total bill is: 1100.0\n"
     ]
    }
   ],
   "source": [
    "def bill_pay():\n",
    "    bill=eval(input(\"enter a bill amount\"))\n",
    "    tip_per=eval(input(\"enter the tip in %:\"))\n",
    "    tip_amount=bill*tip_per/100  # 1000*10/100=100\n",
    "    total_amount=bill+tip_amount\n",
    "    print(f\"the total bill is: {total_amount}\")\n",
    "    \n",
    "bill_pay()"
   ]
  },
  {
   "cell_type": "code",
   "execution_count": 1,
   "id": "f80d1f25",
   "metadata": {},
   "outputs": [
    {
     "name": "stdout",
     "output_type": "stream",
     "text": [
      "enter a bill amount500\n",
      "enter the tip in %:5\n",
      "the total bill is: 525.0\n"
     ]
    }
   ],
   "source": [
    "\n",
    "    bill=eval(input(\"enter a bill amount\"))\n",
    "    tip_per=eval(input(\"enter the tip in %:\"))\n",
    "    tip_amount=bill*tip_per/100  # 1000*10/100=100\n",
    "    total_amount=bill+tip_amount\n",
    "    print(f\"the total bill is: {total_amount}\")\n",
    "    \n"
   ]
  },
  {
   "cell_type": "code",
   "execution_count": null,
   "id": "d99a2c26",
   "metadata": {},
   "outputs": [],
   "source": [
    "bill_pay()"
   ]
  },
  {
   "cell_type": "code",
   "execution_count": null,
   "id": "188fbb8d",
   "metadata": {},
   "outputs": [],
   "source": [
    "<function_main_.bill_pay()>"
   ]
  },
  {
   "cell_type": "code",
   "execution_count": null,
   "id": "379f4b7d",
   "metadata": {},
   "outputs": [],
   "source": []
  },
  {
   "cell_type": "code",
   "execution_count": null,
   "id": "f758e0c2",
   "metadata": {},
   "outputs": [],
   "source": [
    "import random\n",
    "random.randint()"
   ]
  },
  {
   "cell_type": "code",
   "execution_count": null,
   "id": "8cd27b42",
   "metadata": {},
   "outputs": [],
   "source": [
    "<bound methoud random.randint of <random.randint object at 0x000001E4B9129850>>"
   ]
  },
  {
   "cell_type": "markdown",
   "id": "b17945b7",
   "metadata": {},
   "source": [
    "  ### Note : Functions - methods both are same "
   ]
  },
  {
   "cell_type": "code",
   "execution_count": 13,
   "id": "e6c3d9cd",
   "metadata": {},
   "outputs": [
    {
     "name": "stdout",
     "output_type": "stream",
     "text": [
      "hello\n",
      "1\n",
      "good\n",
      "enter the number1:20\n",
      "enter the number2:30\n",
      "50\n",
      "2\n",
      "bye\n"
     ]
    }
   ],
   "source": [
    "print(\"hello\")\n",
    "print(1)\n",
    "def additional():\n",
    "    num1=eval(input(\"enter the number1:\"))\n",
    "    num2=eval(input(\"enter the number2:\"))\n",
    "    print(num1+num2)\n",
    "    print(2)\n",
    "    \n",
    "print(\"good\")\n",
    "additional()        \n",
    "print(\"bye\")\n",
    "\n",
    "# hello 1 good 20 30"
   ]
  },
  {
   "cell_type": "code",
   "execution_count": 14,
   "id": "69aa69ae",
   "metadata": {},
   "outputs": [
    {
     "name": "stdout",
     "output_type": "stream",
     "text": [
      "enter the number1:20\n",
      "enter the number2:10\n",
      "30\n"
     ]
    }
   ],
   "source": [
    "def addition1():\n",
    "    try:\n",
    "        num1=eval(input(\"enter the number1:\"))\n",
    "        num2=eval(input(\"enter the number2:\"))\n",
    "        print(num1+num2)\n",
    "    except Exception as e:\n",
    "        print(e)\n",
    "        \n",
    "addition1()       \n",
    "        \n",
    "               "
   ]
  },
  {
   "cell_type": "code",
   "execution_count": null,
   "id": "6d37e89c",
   "metadata": {},
   "outputs": [],
   "source": []
  },
  {
   "cell_type": "code",
   "execution_count": null,
   "id": "5a0eab5a",
   "metadata": {},
   "outputs": [],
   "source": [
    "# BASIC CODES ASSIGHMENT : 3 DAYS"
   ]
  },
  {
   "cell_type": "code",
   "execution_count": 15,
   "id": "6da133a9",
   "metadata": {},
   "outputs": [
    {
     "name": "stdout",
     "output_type": "stream",
     "text": [
      "enter the number:25\n",
      "odd\n"
     ]
    }
   ],
   "source": [
    "# wap ask the user enter a number\n",
    "# find it is an even or odd\n",
    "# create a function on this\n",
    "\n",
    "\n",
    "num=eval(input(\"enter the number:\"))\n",
    "if num%2==0:\n",
    "    print(\"even\")\n",
    "else:\n",
    "    print(\"odd\")\n",
    "            \n",
    "    \n",
    "        "
   ]
  },
  {
   "cell_type": "code",
   "execution_count": 20,
   "id": "3c3ed9e9",
   "metadata": {},
   "outputs": [],
   "source": [
    "def even_odd():\n",
    "        num=eval(input(\"enter the number:\"))\n",
    "        if num%2==0:\n",
    "            print(\"even\")\n",
    "        else:\n",
    "            print(\"odd\")           "
   ]
  },
  {
   "cell_type": "code",
   "execution_count": 18,
   "id": "7fa75daf",
   "metadata": {},
   "outputs": [
    {
     "name": "stdout",
     "output_type": "stream",
     "text": [
      "enter the number:3\n",
      "odd\n"
     ]
    }
   ],
   "source": [
    "even_odd()"
   ]
  },
  {
   "cell_type": "code",
   "execution_count": 5,
   "id": "fa7a2557",
   "metadata": {},
   "outputs": [
    {
     "name": "stdout",
     "output_type": "stream",
     "text": [
      "enter the number:400\n",
      "even\n"
     ]
    }
   ],
   "source": [
    "def even_odd():\n",
    "    num=eval(input(\"enter the number:\"))\n",
    "    if num%2==0:\n",
    "        print(\"even\")\n",
    "    else:\n",
    "        print(\"odd\")   \n",
    "even_odd()        "
   ]
  },
  {
   "cell_type": "code",
   "execution_count": 21,
   "id": "c48467d6",
   "metadata": {},
   "outputs": [
    {
     "name": "stdout",
     "output_type": "stream",
     "text": [
      "enter the number:30\n",
      "even\n"
     ]
    }
   ],
   "source": [
    "def even_odd():\n",
    "    try:\n",
    "        num=eval(input(\"enter the number:\"))\n",
    "        if num%2==0:\n",
    "            print(\"even\")\n",
    "        else:\n",
    "            print(\"odd\")\n",
    "    except Exception as e:\n",
    "        print(e)\n",
    "\n",
    "even_odd()        "
   ]
  },
  {
   "cell_type": "code",
   "execution_count": 2,
   "id": "0cfcf092",
   "metadata": {},
   "outputs": [
    {
     "name": "stdout",
     "output_type": "stream",
     "text": [
      "21 is an odd\n"
     ]
    }
   ],
   "source": [
    "                #implement the above code by providing a random value(functioon call) on this impement\n",
    "    \n",
    "\n",
    "import random\n",
    "random.randint\n",
    "def even_odd():\n",
    "    try:\n",
    "        num=random.randint(10,100)\n",
    "        if num%2==0:\n",
    "            print(f\"{num} is an even\")\n",
    "        else:\n",
    "            print (f\"{num} is an odd\")\n",
    "    except Exception as e:\n",
    "        print(e)\n",
    "        \n",
    "even_odd()        "
   ]
  },
  {
   "cell_type": "code",
   "execution_count": 5,
   "id": "d2798de0",
   "metadata": {},
   "outputs": [
    {
     "name": "stdout",
     "output_type": "stream",
     "text": [
      "enter the number:6\n",
      "in\n"
     ]
    }
   ],
   "source": [
    "# wap ask the user get a random number : num1\n",
    "#    ask the user enter a number from keyboard\n",
    "#     if num1==num2: print (\"in\")\n",
    "#     other wise print(\"out\")\n",
    "# create the (function  call) on this\n",
    "\n",
    "import random\n",
    "def game():\n",
    "    n1=random.randint(1,10)\n",
    "    n2=eval(input(\"enter the number:\"))\n",
    "    if n1==n2:\n",
    "        print(\"in\")\n",
    "    else:\n",
    "        print(\"out\")\n",
    "        \n",
    "game()       "
   ]
  },
  {
   "cell_type": "code",
   "execution_count": 6,
   "id": "d3ced1f0",
   "metadata": {},
   "outputs": [],
   "source": [
    "def summ():\n",
    "    print(\"sum function called\")\n",
    "    num1=eval(input(\"enter a number1:\"))\n",
    "    num2=eval(input(\"enter a number2:\"))\n",
    "    print(num1+num2)\n",
    "    \n",
    "    \n",
    "############################################################################################    \n",
    "    \n",
    "def average():\n",
    "    print(\"average function called\")\n",
    "    n1=eval(input(\"enter number1:\"))\n",
    "    n2=eval(input(\"enter number2:\"))\n",
    "    n3=eval(input(\"enter number3:\"))\n",
    "    avg=(n1+n2+n3)/3\n",
    "    print(f\"the average of {n1},{n2} and {n3} is {avg}\")\n",
    "    \n",
    "############################################################################################\n",
    " \n",
    "def bill_pay():\n",
    "    print(\"bill_pay function called\")    \n",
    "    bill=eval(input(\"enter a bill amount\"))\n",
    "    tip_per=eval(input(\"enter the tip in %:\"))\n",
    "    tip_amount=bill*tip_per/100  # 1000*10/100=100\n",
    "    total_amount=bill+tip_amount\n",
    "    print(f\"the total bill is: {total_amount}\")\n",
    "    \n",
    "###########################################################################################    \n",
    "    \n",
    "def even_odd():\n",
    "    print(\"even_odd function called\")\n",
    "    num=random.randint(1,100)\n",
    "    if num%2==0:\n",
    "        print(\"even\")\n",
    "    else:\n",
    "        print (\"odd\")\n",
    "\n",
    "        \n",
    "#####################################################################################\n",
    "\n",
    "def game():\n",
    "    print(\"sum function called\")\n",
    "    n1=random.randint(1,10)\n",
    "    n2=eval(input(\"enter the number\"))\n",
    "    if n1==n2:\n",
    "        print(\"in\")\n",
    "    else:\n",
    "        print(\"out\")\n",
    "        "
   ]
  },
  {
   "cell_type": "code",
   "execution_count": 9,
   "id": "9574b643",
   "metadata": {},
   "outputs": [
    {
     "ename": "SyntaxError",
     "evalue": "expected ':' (439137041.py, line 1)",
     "output_type": "error",
     "traceback": [
      "\u001b[1;36m  Cell \u001b[1;32mIn[9], line 1\u001b[1;36m\u001b[0m\n\u001b[1;33m    def summ()\u001b[0m\n\u001b[1;37m              ^\u001b[0m\n\u001b[1;31mSyntaxError\u001b[0m\u001b[1;31m:\u001b[0m expected ':'\n"
     ]
    }
   ],
   "source": [
    "def summ():\n",
    "\n",
    "def average()\n",
    "\n",
    "def bill_pay()\n",
    "\n",
    "def even_odd()\n",
    "\n",
    "def game()"
   ]
  },
  {
   "cell_type": "code",
   "execution_count": null,
   "id": "34410a65",
   "metadata": {},
   "outputs": [],
   "source": []
  },
  {
   "cell_type": "code",
   "execution_count": null,
   "id": "e315e6b7",
   "metadata": {},
   "outputs": [],
   "source": []
  },
  {
   "cell_type": "code",
   "execution_count": null,
   "id": "ee1141c6",
   "metadata": {},
   "outputs": [],
   "source": [
    "dir()"
   ]
  },
  {
   "cell_type": "markdown",
   "id": "844b8492",
   "metadata": {},
   "source": [
    "-  with out argument\n",
    "- till now we developed some functions\n",
    "- inside brackets there is no values\n",
    "- what ever you provide inside bracket is called as arguments or parameters-"
   ]
  },
  {
   "cell_type": "markdown",
   "id": "04d979b4",
   "metadata": {},
   "source": [
    "## Function with out arguments"
   ]
  },
  {
   "cell_type": "code",
   "execution_count": 4,
   "id": "15f25b3c",
   "metadata": {},
   "outputs": [
    {
     "name": "stdout",
     "output_type": "stream",
     "text": [
      "enter the number1:200\n",
      "enter the number2:300\n",
      "220\n"
     ]
    }
   ],
   "source": [
    "def summ(num1,num2):\n",
    "    num1=eval(input(\"enter the number1:\"))\n",
    "    num2=eval(input(\"enter the number2:\"))\n",
    "    add=num1+num2\n",
    "    print(add)\n",
    "    \n",
    "    \n",
    "summ(10,20)    \n",
    "    \n",
    "# Q1) in abovr function how many variables are there\n",
    "#         num1     num2   add\n",
    "#Q2) how many input variable are there : 2   num1  num2\n",
    "#Q3) how many output variables are there : 1 add\n",
    "    \n",
    "    "
   ]
  },
  {
   "cell_type": "code",
   "execution_count": 5,
   "id": "7824f104",
   "metadata": {},
   "outputs": [
    {
     "name": "stdout",
     "output_type": "stream",
     "text": [
      "50\n"
     ]
    }
   ],
   "source": [
    "def summ(num1,num2):\n",
    "    add=num1+num2\n",
    "    print(add)\n",
    "    \n",
    "# In above inside function how many lines are : 2\n",
    "\n",
    "summ(20,30)"
   ]
  },
  {
   "cell_type": "code",
   "execution_count": 6,
   "id": "2800074a",
   "metadata": {},
   "outputs": [
    {
     "name": "stdout",
     "output_type": "stream",
     "text": [
      "100\n"
     ]
    }
   ],
   "source": [
    "def summ(num1,num2):\n",
    "    add=num1+num2\n",
    "    print(add)\n",
    "    \n",
    "summ(50,50)    "
   ]
  },
  {
   "cell_type": "code",
   "execution_count": 13,
   "id": "625ed1be",
   "metadata": {},
   "outputs": [
    {
     "name": "stdout",
     "output_type": "stream",
     "text": [
      "enter the number1:56\n",
      "enter the number2:45\n",
      "enter the number3:32\n",
      "the average of 56,45 and 32 is : 44.33\n"
     ]
    }
   ],
   "source": [
    "def average():\n",
    "    n1=eval(input(\"enter the number1:\"))\n",
    "    n2=eval(input(\"enter the number2:\"))\n",
    "    n3=eval(input(\"enter the number3:\"))\n",
    "    avg=(n1+n2+n3)/3    # round\n",
    "    out=round(avg,2)\n",
    "    print(f\"the average of {n1},{n2} and {n3} is : {out}\" )\n",
    "average()    "
   ]
  },
  {
   "cell_type": "code",
   "execution_count": 10,
   "id": "e19367e8",
   "metadata": {},
   "outputs": [
    {
     "name": "stdout",
     "output_type": "stream",
     "text": [
      "the average of 20,30 and 40 is : 30.0\n"
     ]
    }
   ],
   "source": [
    "def average(n1,n2,n3):\n",
    "    avg=(n1+n2+n3)/3\n",
    "    out=round(avg,2)\n",
    "    print(f\"the average of {n1},{n2} and {n3} is : {out}\")\n",
    "    \n",
    "average(20,30,40)"
   ]
  },
  {
   "cell_type": "code",
   "execution_count": 30,
   "id": "fbfbc100",
   "metadata": {},
   "outputs": [
    {
     "name": "stdout",
     "output_type": "stream",
     "text": [
      "num1: 150\n",
      "num2: 50\n",
      "200\n"
     ]
    }
   ],
   "source": [
    "def summ(num1,num2):\n",
    "         print(\"num1:\",num1)\n",
    "         print(\"num2:\",num2) \n",
    "         add=num1+num2\n",
    "         print(add)\n",
    "     \n",
    "summ(150,50)     "
   ]
  },
  {
   "cell_type": "code",
   "execution_count": 14,
   "id": "5c2d53e2",
   "metadata": {},
   "outputs": [
    {
     "name": "stdout",
     "output_type": "stream",
     "text": [
      "300\n"
     ]
    }
   ],
   "source": [
    "def summ(num1):\n",
    "    \n",
    "    num2=200\n",
    "    add=num1+num2\n",
    "    print(add)\n",
    "summ(100)    "
   ]
  },
  {
   "cell_type": "code",
   "execution_count": 32,
   "id": "c38c087f",
   "metadata": {},
   "outputs": [
    {
     "name": "stdout",
     "output_type": "stream",
     "text": [
      "2050\n"
     ]
    }
   ],
   "source": [
    "num1=500\n",
    "#########################################\n",
    "def summ(num1,num2):\n",
    "    num1=2000\n",
    "    add=num1+num2\n",
    "    print(add)\n",
    "##########################################\n",
    "num1=1000\n",
    "summ(150,50)\n",
    "\n",
    "\n",
    "# have you intialized any values before function  call\n",
    "# what are the new values when you are calling the function\n",
    "# what are the new variables when function is executing\n"
   ]
  },
  {
   "cell_type": "code",
   "execution_count": 33,
   "id": "c27bfd05",
   "metadata": {},
   "outputs": [
    {
     "data": {
      "text/plain": [
       "1000"
      ]
     },
     "execution_count": 33,
     "metadata": {},
     "output_type": "execute_result"
    }
   ],
   "source": [
    "num1=100\n",
    "num1=1000\n",
    "num1"
   ]
  },
  {
   "cell_type": "code",
   "execution_count": 34,
   "id": "41506128",
   "metadata": {},
   "outputs": [
    {
     "name": "stdout",
     "output_type": "stream",
     "text": [
      "2050\n"
     ]
    },
    {
     "data": {
      "text/plain": [
       "1400"
      ]
     },
     "execution_count": 34,
     "metadata": {},
     "output_type": "execute_result"
    }
   ],
   "source": [
    "num1=500\n",
    "num2=700\n",
    "def summ(num1,num2):\n",
    "    num1=2000\n",
    "    add=num1+num2\n",
    "    print(add)\n",
    "    \n",
    "num1=num2   # 700\n",
    "num2=num1  # 700\n",
    "summ(150,50) # it is not return any values\n",
    "add=num1+num2\n",
    "add\n",
    "\n",
    "\n",
    "#  Function will not return any values\n",
    "#  untill unless you mentiond return keyboard inside the function "
   ]
  },
  {
   "cell_type": "code",
   "execution_count": 35,
   "id": "4161c043",
   "metadata": {},
   "outputs": [],
   "source": [
    "def bill_pay():\n",
    "        \n",
    "    bill=eval(input(\"enter a bill amount\"))\n",
    "    tip_per=eval(input(\"enter the tip in %:\"))\n",
    "    tip_amount=bill*tip_per/100  # 1000*10/100=100\n",
    "    total_amount=bill+tip_amount\n",
    "    print(f\"the total bill is: {total_amount}\")\n",
    "    \n",
    "# implement the above (function with arguments)    "
   ]
  },
  {
   "cell_type": "code",
   "execution_count": 36,
   "id": "5cefbb93",
   "metadata": {},
   "outputs": [
    {
     "name": "stdout",
     "output_type": "stream",
     "text": [
      "the total bill is: 1100.0\n"
     ]
    }
   ],
   "source": [
    "def bill_pay(bill,tip_per):\n",
    "    \n",
    "    tip_amount=bill*tip_per/100  # 1000*10/100=100\n",
    "    total_amount=bill+tip_amount\n",
    "    print(f\"the total bill is: {total_amount}\")\n",
    "    \n",
    "bill_pay(1000,10)    \n",
    "    "
   ]
  },
  {
   "cell_type": "code",
   "execution_count": 37,
   "id": "636f3f3c",
   "metadata": {},
   "outputs": [
    {
     "name": "stdout",
     "output_type": "stream",
     "text": [
      "enter a number:1000\n",
      "enter a number:20\n",
      "the total bill is: 1200.0\n"
     ]
    }
   ],
   "source": [
    "bill_pay(\n",
    "         eval(input(\"enter a number:\")),\n",
    "         eval(input(\"enter a number:\"))\n",
    "         )"
   ]
  },
  {
   "cell_type": "code",
   "execution_count": 15,
   "id": "3182d1cf",
   "metadata": {},
   "outputs": [
    {
     "name": "stdout",
     "output_type": "stream",
     "text": [
      "enter the number:56\n",
      "even\n"
     ]
    }
   ],
   "source": [
    "def even_odd():\n",
    "    num=eval(input(\"enter the number:\"))\n",
    "    if num%2==0:\n",
    "        \n",
    "        print(\"even\")\n",
    "    else:\n",
    "        print(\"odd\")\n",
    "even_odd()        \n"
   ]
  },
  {
   "cell_type": "code",
   "execution_count": 39,
   "id": "f7ca006e",
   "metadata": {},
   "outputs": [
    {
     "name": "stdout",
     "output_type": "stream",
     "text": [
      "even\n"
     ]
    }
   ],
   "source": [
    "def even_odd(num):\n",
    "    if num%2==0:\n",
    "        \n",
    "        print(\"even\")\n",
    "    else:\n",
    "        print(\"odd\")\n",
    "even_odd(10)"
   ]
  },
  {
   "cell_type": "code",
   "execution_count": 40,
   "id": "6a7f9559",
   "metadata": {},
   "outputs": [
    {
     "name": "stdout",
     "output_type": "stream",
     "text": [
      "odd\n"
     ]
    }
   ],
   "source": [
    "def even_odd(num):\n",
    "    if num%2==0:\n",
    "        \n",
    "        print(\"even\")\n",
    "    else:\n",
    "        print(\"odd\")\n",
    "even_odd(11)"
   ]
  },
  {
   "cell_type": "markdown",
   "id": "97edefa6",
   "metadata": {},
   "source": [
    "- function with out arguments\n",
    "- function with arguments\n",
    "- default arguments\n",
    "- local vs global\n",
    "- return\n",
    "- function in function"
   ]
  },
  {
   "cell_type": "code",
   "execution_count": 44,
   "id": "45d7d1a3",
   "metadata": {},
   "outputs": [
    {
     "name": "stdout",
     "output_type": "stream",
     "text": [
      "enter anumber:36\n",
      "even\n"
     ]
    }
   ],
   "source": [
    "# Functions with out arguments:\n",
    "\n",
    "def even_odd():\n",
    "    num=eval(input(\"enter anumber:\"))\n",
    "    if num%2==0:\n",
    "        print(\"even\")\n",
    "    else:\n",
    "        print(\"odd\")\n",
    "        \n",
    "even_odd()   \n"
   ]
  },
  {
   "cell_type": "code",
   "execution_count": 18,
   "id": "cbafa1c3",
   "metadata": {},
   "outputs": [
    {
     "name": "stdout",
     "output_type": "stream",
     "text": [
      "enter a number:766\n",
      "even\n"
     ]
    }
   ],
   "source": [
    "# Functions with arguments:\n",
    "\n",
    "def even_odd(num):\n",
    "    num=eval(input(\"enter a number:\"))\n",
    "    if num%2==0:\n",
    "        print(\"even\")\n",
    "    else:\n",
    "        print(\"odd\")\n",
    "        \n",
    "even_odd(20)   "
   ]
  },
  {
   "cell_type": "markdown",
   "id": "f6ba0f47",
   "metadata": {},
   "source": [
    "## Default arguments"
   ]
  },
  {
   "cell_type": "code",
   "execution_count": null,
   "id": "dc0b5176",
   "metadata": {},
   "outputs": [],
   "source": [
    "# we can fix the argument values\n",
    "# it is called default arguments\n"
   ]
  },
  {
   "cell_type": "code",
   "execution_count": 46,
   "id": "dc5f3275",
   "metadata": {},
   "outputs": [
    {
     "name": "stdout",
     "output_type": "stream",
     "text": [
      "num1: 20\n",
      "num2: 100\n",
      "120\n"
     ]
    }
   ],
   "source": [
    "def summ(num1,num2=100):\n",
    "    print(\"num1:\",num1),\n",
    "    print(\"num2:\",num2)\n",
    "    add=num1+num2\n",
    "    print(add)\n",
    "    \n",
    "summ(20)\n",
    "\n",
    "# num1=20  num2=100\n",
    "\n",
    "    "
   ]
  },
  {
   "cell_type": "code",
   "execution_count": 50,
   "id": "858ff812",
   "metadata": {},
   "outputs": [
    {
     "name": "stdout",
     "output_type": "stream",
     "text": [
      "num1: 200\n",
      "num2: 100\n",
      "300\n"
     ]
    }
   ],
   "source": [
    "def summ(num1=200,num2=100):\n",
    "    print(\"num1:\",num1)\n",
    "    print(\"num2:\",num2)\n",
    "    add=num1+num2\n",
    "    print(add)\n",
    "summ()    "
   ]
  },
  {
   "cell_type": "code",
   "execution_count": 51,
   "id": "c1b4c974",
   "metadata": {},
   "outputs": [
    {
     "name": "stdout",
     "output_type": "stream",
     "text": [
      "120\n",
      "120\n",
      "120\n"
     ]
    }
   ],
   "source": [
    "def summ():\n",
    "    num1=20\n",
    "    num2=100\n",
    "    add=num1+num2\n",
    "    print(add)\n",
    "    \n",
    "summ()\n",
    "\n",
    "def summ(num1,num2):\n",
    "    add=num1+num2\n",
    "    print(add)\n",
    "    \n",
    "summ(20,100)\n",
    "\n",
    "def summ(num1,num2=100):\n",
    "    add=num1+num2\n",
    "    print(add)\n",
    "    \n",
    "summ(20)   "
   ]
  },
  {
   "cell_type": "code",
   "execution_count": 21,
   "id": "f04d1bed",
   "metadata": {},
   "outputs": [
    {
     "ename": "SyntaxError",
     "evalue": "non-default argument follows default argument (678186340.py, line 1)",
     "output_type": "error",
     "traceback": [
      "\u001b[1;36m  Cell \u001b[1;32mIn[21], line 1\u001b[1;36m\u001b[0m\n\u001b[1;33m    def summ(num1=100,num2):\u001b[0m\n\u001b[1;37m                      ^\u001b[0m\n\u001b[1;31mSyntaxError\u001b[0m\u001b[1;31m:\u001b[0m non-default argument follows default argument\n"
     ]
    }
   ],
   "source": [
    "def summ(num1=100,num2):\n",
    "    add=(num1+num2)\n",
    "    print(add)\n",
    "    \n",
    "summ(200)    "
   ]
  },
  {
   "cell_type": "markdown",
   "id": "e1f45038",
   "metadata": {},
   "source": [
    "## Note: Defauli arguments always at last"
   ]
  },
  {
   "cell_type": "code",
   "execution_count": null,
   "id": "e09190c7",
   "metadata": {},
   "outputs": [],
   "source": [
    "avg(n1,n2,n3=100) # works\n",
    "avg(n1,n2=100,n3=100) # works\n",
    "avg(n1=100,n2=100,n3=100) # works\n",
    "avg(n1=100,n2,n3=100) # fail\n",
    "avg(n1=100,n2=100,n3) # fail\n",
    "avg(n1=100,n2,n3=100) # fail\n",
    "avg(n1,n2=100,n3=100) # works"
   ]
  },
  {
   "cell_type": "code",
   "execution_count": 53,
   "id": "38b40a0f",
   "metadata": {},
   "outputs": [
    {
     "name": "stdout",
     "output_type": "stream",
     "text": [
      "600\n"
     ]
    }
   ],
   "source": [
    "def summ(n1,n2,n3=100):\n",
    "    add=n1+n2+n3\n",
    "    print(add)\n",
    "    \n",
    "summ(200,300)    # n1=200 ,n2=300 ,n3=100"
   ]
  },
  {
   "cell_type": "code",
   "execution_count": 63,
   "id": "1db88a01",
   "metadata": {},
   "outputs": [
    {
     "name": "stdout",
     "output_type": "stream",
     "text": [
      "200.0\n"
     ]
    }
   ],
   "source": [
    "def avg(n1,n2,n3=100):\n",
    "    average=(n1+n2+n3)/3\n",
    "    print(average)\n",
    "    \n",
    "avg(200,300)    "
   ]
  },
  {
   "cell_type": "code",
   "execution_count": 71,
   "id": "d2468dd1",
   "metadata": {},
   "outputs": [
    {
     "name": "stdout",
     "output_type": "stream",
     "text": [
      "133.33333333333334\n"
     ]
    }
   ],
   "source": [
    "def avg(num1,num2,num3=100):\n",
    "    average=(num1+num2+num3)/3\n",
    "    print(average)\n",
    "    \n",
    "avg(200,100)    "
   ]
  },
  {
   "cell_type": "code",
   "execution_count": 72,
   "id": "24c5e08c",
   "metadata": {},
   "outputs": [
    {
     "name": "stdout",
     "output_type": "stream",
     "text": [
      "200.0\n"
     ]
    }
   ],
   "source": [
    "def avg(n1,n2,n3=100):\n",
    "    average=(n1+n2+n3)/3\n",
    "    print(average)\n",
    "    \n",
    "avg(200,300)    "
   ]
  },
  {
   "cell_type": "code",
   "execution_count": 73,
   "id": "a79f1165",
   "metadata": {},
   "outputs": [
    {
     "name": "stdout",
     "output_type": "stream",
     "text": [
      "200.0\n"
     ]
    }
   ],
   "source": [
    "def avg(n1=200,n2=300,n3=100):\n",
    "    average=(n1+n2+n3)/3\n",
    "    print(average)\n",
    "avg()    "
   ]
  },
  {
   "cell_type": "code",
   "execution_count": 75,
   "id": "1f2ba558",
   "metadata": {},
   "outputs": [
    {
     "name": "stdout",
     "output_type": "stream",
     "text": [
      "600\n"
     ]
    }
   ],
   "source": [
    "def summ(n1=200,n2=300,n3=100):\n",
    "    \n",
    "    add=n1+n2+n3\n",
    "    print(add)\n",
    "    \n",
    "summ()  "
   ]
  },
  {
   "cell_type": "code",
   "execution_count": 76,
   "id": "75fad3f7",
   "metadata": {},
   "outputs": [
    {
     "ename": "SyntaxError",
     "evalue": "non-default argument follows default argument (4175808202.py, line 1)",
     "output_type": "error",
     "traceback": [
      "\u001b[1;36m  Cell \u001b[1;32mIn[76], line 1\u001b[1;36m\u001b[0m\n\u001b[1;33m    def avg(n1=200,n2,n3):\u001b[0m\n\u001b[1;37m                   ^\u001b[0m\n\u001b[1;31mSyntaxError\u001b[0m\u001b[1;31m:\u001b[0m non-default argument follows default argument\n"
     ]
    }
   ],
   "source": [
    "def avg(n1=200,n2,n3):\n",
    "    average=(n1+n2+n3)/3\n",
    "    print(average)\n",
    "    \n",
    "avg(200,300)    "
   ]
  },
  {
   "cell_type": "code",
   "execution_count": 77,
   "id": "ce2d3939",
   "metadata": {},
   "outputs": [
    {
     "ename": "SyntaxError",
     "evalue": "non-default argument follows default argument (2580823076.py, line 1)",
     "output_type": "error",
     "traceback": [
      "\u001b[1;36m  Cell \u001b[1;32mIn[77], line 1\u001b[1;36m\u001b[0m\n\u001b[1;33m    def avg(n1=200,n2=200,n3):\u001b[0m\n\u001b[1;37m                          ^\u001b[0m\n\u001b[1;31mSyntaxError\u001b[0m\u001b[1;31m:\u001b[0m non-default argument follows default argument\n"
     ]
    }
   ],
   "source": [
    "def avg(n1=200,n2=200,n3):\n",
    "    average=(n1+n2+n3)/3\n",
    "    print(average)\n",
    "    \n",
    "avg(100)    "
   ]
  },
  {
   "cell_type": "code",
   "execution_count": 78,
   "id": "232cac9f",
   "metadata": {},
   "outputs": [
    {
     "ename": "SyntaxError",
     "evalue": "non-default argument follows default argument (1633998187.py, line 1)",
     "output_type": "error",
     "traceback": [
      "\u001b[1;36m  Cell \u001b[1;32mIn[78], line 1\u001b[1;36m\u001b[0m\n\u001b[1;33m    def avg(n1=700,n2=300,n3):\u001b[0m\n\u001b[1;37m                          ^\u001b[0m\n\u001b[1;31mSyntaxError\u001b[0m\u001b[1;31m:\u001b[0m non-default argument follows default argument\n"
     ]
    }
   ],
   "source": [
    "def avg(n1=700,n2=300,n3):\n",
    "    average=(n1+n2+n3)/3\n",
    "    print(average)\n",
    "    \n",
    "avg(100)    "
   ]
  },
  {
   "cell_type": "code",
   "execution_count": 79,
   "id": "79c1be54",
   "metadata": {},
   "outputs": [
    {
     "ename": "SyntaxError",
     "evalue": "non-default argument follows default argument (1906538512.py, line 1)",
     "output_type": "error",
     "traceback": [
      "\u001b[1;36m  Cell \u001b[1;32mIn[79], line 1\u001b[1;36m\u001b[0m\n\u001b[1;33m    def avg(n1=200,n2,n3=100):\u001b[0m\n\u001b[1;37m                   ^\u001b[0m\n\u001b[1;31mSyntaxError\u001b[0m\u001b[1;31m:\u001b[0m non-default argument follows default argument\n"
     ]
    }
   ],
   "source": [
    "def avg(n1=200,n2,n3=100):\n",
    "    average=(n1+n2+n3)/3\n",
    "    print(average)\n",
    "    \n",
    "avg(300)   "
   ]
  },
  {
   "cell_type": "code",
   "execution_count": 82,
   "id": "53beea79",
   "metadata": {},
   "outputs": [
    {
     "name": "stdout",
     "output_type": "stream",
     "text": [
      "133.33333333333334\n"
     ]
    }
   ],
   "source": [
    "def avg(n1,n2=100,n3=100):\n",
    "    average=(n1+n2+n3)/3\n",
    "    print(average)\n",
    "    \n",
    "avg(200)   "
   ]
  },
  {
   "cell_type": "code",
   "execution_count": 83,
   "id": "dbf53680",
   "metadata": {},
   "outputs": [
    {
     "name": "stdout",
     "output_type": "stream",
     "text": [
      "300\n"
     ]
    }
   ],
   "source": [
    "def summ(num1,num2=100):\n",
    "    add=num1+num2\n",
    "    print(add)\n",
    "    \n",
    "summ(num1=200) \n",
    "\n",
    "\n",
    "# num2=100\n",
    "# num1=200\n",
    "# 300\n",
    "\n",
    "# Have you provided any value before define the function\n",
    "# What are you provided while define the function\n",
    "# what are you provided while calling the function\n",
    "# what are you provided while running the function"
   ]
  },
  {
   "cell_type": "code",
   "execution_count": 86,
   "id": "98864c93",
   "metadata": {},
   "outputs": [
    {
     "name": "stdout",
     "output_type": "stream",
     "text": [
      "700\n"
     ]
    }
   ],
   "source": [
    "def summ(num1,num2=100):\n",
    "    add=num1+num2\n",
    "    print(add)\n",
    "    \n",
    "summ(num1=200,num2=500)    \n",
    "\n",
    "\n",
    "# num2=100\n",
    "# num1=200\n",
    "# num2=500\n",
    "# 500+200+100"
   ]
  },
  {
   "cell_type": "code",
   "execution_count": 3,
   "id": "0824a420",
   "metadata": {},
   "outputs": [
    {
     "ename": "SyntaxError",
     "evalue": "non-default argument follows default argument (2744983414.py, line 1)",
     "output_type": "error",
     "traceback": [
      "\u001b[1;36m  Cell \u001b[1;32mIn[3], line 1\u001b[1;36m\u001b[0m\n\u001b[1;33m    def summ(num1=400,num2):\u001b[0m\n\u001b[1;37m                      ^\u001b[0m\n\u001b[1;31mSyntaxError\u001b[0m\u001b[1;31m:\u001b[0m non-default argument follows default argument\n"
     ]
    }
   ],
   "source": [
    "def summ(num1=400,num2):\n",
    "    add=num1+num2\n",
    "    print(add)\n",
    "    \n",
    "summ(200)    "
   ]
  },
  {
   "cell_type": "code",
   "execution_count": 3,
   "id": "cc649057",
   "metadata": {},
   "outputs": [
    {
     "name": "stdout",
     "output_type": "stream",
     "text": [
      "1200\n"
     ]
    }
   ],
   "source": [
    "def summ(num1,num2=100):\n",
    "    num2=1000\n",
    "    add=num1+num2\n",
    "    print(add)\n",
    "    \n",
    "summ(num1=200)\n",
    "\n",
    "# num2=100\n",
    "# num1=200\n",
    "# num2=1000\n",
    "# 1200"
   ]
  },
  {
   "cell_type": "code",
   "execution_count": 6,
   "id": "bbbe0fb7",
   "metadata": {},
   "outputs": [
    {
     "name": "stdout",
     "output_type": "stream",
     "text": [
      "4200\n",
      "7000\n"
     ]
    }
   ],
   "source": [
    "num2=5000\n",
    "\n",
    "def summ(num1,num2=3000):\n",
    "    num2=4000\n",
    "    add=num1+num2\n",
    "    print(add)\n",
    "    \n",
    "num2=7000\n",
    "\n",
    "summ(num1=200,num2=2000)     # 4200\n",
    "\n",
    "# num2=5000\n",
    "# num2=3000    define\n",
    "# num2=7000\n",
    "# num2=2000\n",
    "# num2=4000\n",
    "\n",
    "print(num2)\n",
    "    "
   ]
  },
  {
   "cell_type": "code",
   "execution_count": 7,
   "id": "73d1d2dd",
   "metadata": {},
   "outputs": [
    {
     "name": "stdout",
     "output_type": "stream",
     "text": [
      "4200\n"
     ]
    }
   ],
   "source": [
    "\n",
    "num2=5000\n",
    "\n",
    "def summ(num1,num2=3000):\n",
    "    num2=4000\n",
    "    add=num1+num2\n",
    "    print(add)\n",
    "    \n",
    "num2=7000\n",
    "\n",
    "summ(num1=200,num2=2000) "
   ]
  },
  {
   "cell_type": "code",
   "execution_count": null,
   "id": "89c9730e",
   "metadata": {},
   "outputs": [],
   "source": []
  },
  {
   "cell_type": "code",
   "execution_count": null,
   "id": "c76ae3d9",
   "metadata": {},
   "outputs": [],
   "source": []
  },
  {
   "cell_type": "code",
   "execution_count": 13,
   "id": "a91ca3c6",
   "metadata": {},
   "outputs": [
    {
     "name": "stdout",
     "output_type": "stream",
     "text": [
      "enter a bill amount1000\n",
      "enter the tip in %:10\n",
      "the total bill is: 1100.0\n",
      "enter a bill amount200\n",
      "enter the tip in %:20\n",
      "the total bill is: 240.0\n",
      "enter a bill amount5000\n",
      "enter the tip in %:12\n",
      "the total bill is: 5600.0\n"
     ]
    }
   ],
   "source": [
    "######################################################################################\n",
    "                     # Functions (with out arguments)\n",
    "    \n",
    "def bill_pay1():    \n",
    "    bill=eval(input(\"enter a bill amount\"))\n",
    "    tip_per=eval(input(\"enter the tip in %:\"))\n",
    "    tip_amount=bill*tip_per/100  # 1000*10/100=100\n",
    "    total_amount=bill+tip_amount\n",
    "    print(f\"the total bill is: {total_amount}\")\n",
    "    \n",
    "##################################################################################################\n",
    "\n",
    "                            # Functions with arguments    \n",
    "    \n",
    "def bill_pay2(bill,tip_per):    \n",
    "    bill=eval(input(\"enter a bill amount\"))\n",
    "    tip_per=eval(input(\"enter the tip in %:\"))\n",
    "    tip_amount=bill*tip_per/100  # 1000*10/100=100\n",
    "    total_amount=bill+tip_amount\n",
    "    print(f\"the total bill is: {total_amount}\")\n",
    "    \n",
    "###################################################################################################    \n",
    "                       # create default argument as tip_per=10\n",
    "    \n",
    "def bill_pay3(bill,tip_per=10):    \n",
    "    bill=eval(input(\"enter a bill amount\"))\n",
    "    tip_per=eval(input(\"enter the tip in %:\"))\n",
    "    tip_amount=bill*tip_per/100  # 1000*10/100=100\n",
    "    total_amount=bill+tip_amount\n",
    "    print(f\"the total bill is: {total_amount}\")\n",
    "    \n",
    " #############################################################################################   \n",
    "bill_pay1()   \n",
    "bill_pay2(bill=100,tip_per=10)\n",
    "bill_pay3(200)"
   ]
  },
  {
   "cell_type": "code",
   "execution_count": 7,
   "id": "0853ce47",
   "metadata": {},
   "outputs": [
    {
     "name": "stdout",
     "output_type": "stream",
     "text": [
      "enter a bill amount2000\n",
      "enter the tip in %:20\n",
      "the total bill is: 2400.0\n"
     ]
    }
   ],
   "source": [
    "\n",
    "# Functions call with out arguments\n",
    "\n",
    "def bill_pay1():    \n",
    "    bill=eval(input(\"enter a bill amount\"))\n",
    "    tip_per=eval(input(\"enter the tip in %:\"))\n",
    "    tip_amount=bill*tip_per/100  # 1000*10/100=100\n",
    "    total_amount=bill+tip_amount\n",
    "    print(f\"the total bill is: {total_amount}\")\n",
    "    \n",
    "bill_pay1()    "
   ]
  },
  {
   "cell_type": "code",
   "execution_count": 8,
   "id": "56b2adce",
   "metadata": {},
   "outputs": [
    {
     "name": "stdout",
     "output_type": "stream",
     "text": [
      "enter a bill amount200\n",
      "enter the tip in %:10\n",
      "the total bill is: 220.0\n"
     ]
    }
   ],
   "source": [
    "# with arguments   \n",
    "    \n",
    "def bill_pay2(bill,tip_per):    \n",
    "    bill=eval(input(\"enter a bill amount\"))\n",
    "    tip_per=eval(input(\"enter the tip in %:\"))\n",
    "    tip_amount=bill*tip_per/100  # 1000*10/100=100\n",
    "    total_amount=bill+tip_amount\n",
    "    print(f\"the total bill is: {total_amount}\")\n",
    "    \n",
    "bill_pay2(bill=200,tip_per=10)    "
   ]
  },
  {
   "cell_type": "code",
   "execution_count": 9,
   "id": "bf765252",
   "metadata": {},
   "outputs": [
    {
     "name": "stdout",
     "output_type": "stream",
     "text": [
      "enter a bill amount300\n",
      "enter the tip in %:10\n",
      "the total bill is: 330.0\n"
     ]
    }
   ],
   "source": [
    " # create default argument as tip_per=10\n",
    "    \n",
    "def bill_pay3(bill,tip_per=10):    \n",
    "    bill=eval(input(\"enter a bill amount\"))\n",
    "    tip_per=eval(input(\"enter the tip in %:\"))\n",
    "    tip_amount=bill*tip_per/100  # 1000*10/100=100\n",
    "    total_amount=bill+tip_amount\n",
    "    print(f\"the total bill is: {total_amount}\")\n",
    "    \n",
    "    \n",
    "bill_pay3(bill=300)    "
   ]
  },
  {
   "cell_type": "code",
   "execution_count": null,
   "id": "ac3a0a93",
   "metadata": {},
   "outputs": [],
   "source": [
    "def bill_pay4(bill,tip_per=10):\n",
    "    tip_amount=bill*tip_per/100\n",
    "    total_amount=bill+tip_amount\n",
    "    print(f\"the total bill is : {totl_amonnt}\")\n",
    "    \n",
    "bill_pay4(1000)   # bill=1000 tip=10\n",
    "\n",
    "\n",
    "\n",
    "\n",
    "def bill_pay5(tip_per=10):\n",
    "    print(\"per:\",tip_per)\n",
    "    bill=1000\n",
    "    tip_amount=bill*tip_per/100\n",
    "    total_amount=bill+tip_amount\n",
    "    print(f\"the total bill is : {totl_amonnt}\")\n",
    "    \n",
    "bill_pay5(1000)   # bill=1000 tip=10\n",
    "\n",
    "\n",
    "def bill_pay6(tip_per=10):\n",
    "    print(\"per:\",tip_per)\n",
    "    bill=1000\n",
    "    tip_amount=bill*tip_per/100\n",
    "    total_amount=bill+tip_amount\n",
    "    print(f\"the total bill is : {totl_amonnt}\")\n",
    "    \n",
    "bill_pay6()    # bill=1000 tip_per=10   \n"
   ]
  },
  {
   "cell_type": "code",
   "execution_count": 10,
   "id": "e7c222d5",
   "metadata": {},
   "outputs": [
    {
     "name": "stdout",
     "output_type": "stream",
     "text": [
      "70\n"
     ]
    }
   ],
   "source": [
    "def summ(n2=50):\n",
    "    n1=20\n",
    "    print(n1+n2)\n",
    "    \n",
    "summ()     # n2=50 n1=20    "
   ]
  },
  {
   "cell_type": "code",
   "execution_count": null,
   "id": "61eb3cc8",
   "metadata": {},
   "outputs": [],
   "source": [
    "# wap ask the user enter salary: 10000\n",
    "#    ask the user enter tax per : 10\n",
    "# calculate tax\n",
    "\n",
    "# implement function with out argument\n",
    "\n",
    "#            function with pargument\n",
    "#           function default argument : tax_per=10\n",
    "  "
   ]
  },
  {
   "cell_type": "code",
   "execution_count": 15,
   "id": "4ccf57b2",
   "metadata": {},
   "outputs": [
    {
     "name": "stdout",
     "output_type": "stream",
     "text": [
      "enter the salary:5000\n",
      "enter the tax percentage: 30\n",
      "total tax pay is 1500.0\n"
     ]
    }
   ],
   "source": [
    "def tax():\n",
    "    salary=eval(input(\"enter the salary:\"))\n",
    "    tax_per=eval(input(\"enter the tax percentage % : \"))\n",
    "    tax_pay=(salary*tax_per)/100\n",
    "    print(f\"total tax pay is {tax_pay}\")\n",
    "tax()    "
   ]
  },
  {
   "cell_type": "code",
   "execution_count": 18,
   "id": "fd1389a7",
   "metadata": {},
   "outputs": [
    {
     "name": "stdout",
     "output_type": "stream",
     "text": [
      "total tax pay is 2000.0\n"
     ]
    }
   ],
   "source": [
    "def tax(salary,tax_per):\n",
    "    \n",
    "    tax_pay=(salary*tax_per)/100\n",
    "    print(f\"total tax pay is {tax_pay}\")\n",
    "tax(20000,10)    "
   ]
  },
  {
   "cell_type": "code",
   "execution_count": 19,
   "id": "77ea8c7d",
   "metadata": {},
   "outputs": [
    {
     "name": "stdout",
     "output_type": "stream",
     "text": [
      "total tax pay is 2000.0\n"
     ]
    }
   ],
   "source": [
    "def tax(salary,tax_per=10):\n",
    "    \n",
    "    tax_pay=(salary*tax_per)/100\n",
    "    print(f\"total tax pay is {tax_pay}\")\n",
    "tax(20000)"
   ]
  },
  {
   "cell_type": "code",
   "execution_count": 20,
   "id": "477edb82",
   "metadata": {},
   "outputs": [
    {
     "name": "stdout",
     "output_type": "stream",
     "text": [
      "total tax pay is 3000.0\n"
     ]
    }
   ],
   "source": [
    "def tax(salary,tax_per=15):\n",
    "    \n",
    "    tax_pay=(salary*tax_per)/100\n",
    "    print(f\"total tax pay is {tax_pay}\")\n",
    "tax(20000)"
   ]
  },
  {
   "cell_type": "markdown",
   "id": "9e26148d",
   "metadata": {},
   "source": [
    "## Return statement :"
   ]
  },
  {
   "cell_type": "markdown",
   "id": "82c4e0da",
   "metadata": {},
   "source": [
    "- print ====== for printing values\n",
    "- return ====== for store in a value "
   ]
  },
  {
   "cell_type": "code",
   "execution_count": 23,
   "id": "692399be",
   "metadata": {},
   "outputs": [],
   "source": [
    "# tax_pay\n",
    "# tax_pay we are getting inside the function\n",
    "# if you want to use outside then use retern"
   ]
  },
  {
   "cell_type": "code",
   "execution_count": 12,
   "id": "de6a6a59",
   "metadata": {},
   "outputs": [],
   "source": [
    "def tax1(salary,tax_per=10):\n",
    "    tax_pay=(salary*tax_per)/100\n",
    "    return(tax_pay)\n",
    "    \n",
    "\n",
    "# we are ask in function to return (give me) some value\n",
    "    "
   ]
  },
  {
   "cell_type": "code",
   "execution_count": 13,
   "id": "30260a58",
   "metadata": {},
   "outputs": [],
   "source": [
    "tax_pay=tax1(1000)  # is giving tax_pay"
   ]
  },
  {
   "cell_type": "code",
   "execution_count": 14,
   "id": "91930758",
   "metadata": {},
   "outputs": [
    {
     "name": "stdout",
     "output_type": "stream",
     "text": [
      "100.0\n"
     ]
    }
   ],
   "source": [
    "print(tax_pay)"
   ]
  },
  {
   "cell_type": "code",
   "execution_count": 6,
   "id": "332901f6",
   "metadata": {},
   "outputs": [
    {
     "name": "stdout",
     "output_type": "stream",
     "text": [
      "1000.0\n",
      "10000\n"
     ]
    }
   ],
   "source": [
    "def tax1(salary,tax_per=10):  # default arguments \n",
    "    tax_pay1=(salary*tax_per)/100\n",
    "    return(tax_pay1,salary)\n",
    "tax_pay1,salary=tax1(10000)\n",
    "\n",
    "print(tax_pay1)\n",
    "print(salary)\n",
    "    "
   ]
  },
  {
   "cell_type": "code",
   "execution_count": 7,
   "id": "3b9bed63",
   "metadata": {},
   "outputs": [
    {
     "name": "stdout",
     "output_type": "stream",
     "text": [
      "1000\n",
      "250.0\n"
     ]
    }
   ],
   "source": [
    "# wap three numbers\n",
    "# do the summ\n",
    "# do the average\n",
    "# return sum average\n",
    "print(\"(1,2,3)\")\n",
    "\n",
    "def summavg(s1,s2,s3,s4):\n",
    "    summ=s1+s2+s3+s4\n",
    "    avg=summ/4\n",
    "    return(summ,avg)\n",
    "summ,avg=summavg(100,300,200,400)\n",
    "print(summ)\n",
    "print(avg)"
   ]
  },
  {
   "cell_type": "code",
   "execution_count": 17,
   "id": "5631b022",
   "metadata": {},
   "outputs": [
    {
     "name": "stdout",
     "output_type": "stream",
     "text": [
      "60\n",
      "20.0\n"
     ]
    }
   ],
   "source": [
    "def summavg(n1,n2,n3):\n",
    "    summ=n1+n2+n3\n",
    "    avg=summ/3\n",
    "    return(summ,avg)\n",
    "summ,avg=summavg(10,20,30)\n",
    "print(summ)\n",
    "print(avg)"
   ]
  },
  {
   "cell_type": "code",
   "execution_count": 8,
   "id": "e75b6a44",
   "metadata": {},
   "outputs": [
    {
     "name": "stdout",
     "output_type": "stream",
     "text": [
      "30\n"
     ]
    }
   ],
   "source": [
    "add=0\n",
    "def summ(n1,n2):\n",
    "    add=n1+n2  # add=10+20=30\n",
    "    return(add)\n",
    "add=summ(10,20)\n",
    "print(add)"
   ]
  },
  {
   "cell_type": "markdown",
   "id": "3c7538e7",
   "metadata": {},
   "source": [
    "- Functions with out arguments\n",
    "- Functions with arguments\n",
    "- Function with default argument\n",
    "- return\n",
    "- global vs local function in function"
   ]
  },
  {
   "cell_type": "code",
   "execution_count": null,
   "id": "8aecb66a",
   "metadata": {},
   "outputs": [],
   "source": [
    "# game program\n",
    "# ask the user get a random number 1,10:n1\n",
    "# ask the user enter a number  : n2"
   ]
  },
  {
   "cell_type": "code",
   "execution_count": 2,
   "id": "4ca01d25",
   "metadata": {},
   "outputs": [
    {
     "name": "stdout",
     "output_type": "stream",
     "text": [
      "enter the number:9\n",
      "out\n"
     ]
    }
   ],
   "source": [
    "import random\n",
    "def game():\n",
    "    n1=random.randint(1,10)\n",
    "    n2=eval(input(\"enter the number:\"))\n",
    "    if n1==n2:\n",
    "        print(\"in\")\n",
    "    else:\n",
    "        print(\"out\")\n",
    "game()        "
   ]
  },
  {
   "cell_type": "code",
   "execution_count": null,
   "id": "dd11b616",
   "metadata": {},
   "outputs": [],
   "source": []
  },
  {
   "cell_type": "code",
   "execution_count": null,
   "id": "3a2e6c8d",
   "metadata": {},
   "outputs": [],
   "source": []
  }
 ],
 "metadata": {
  "kernelspec": {
   "display_name": "Python 3 (ipykernel)",
   "language": "python",
   "name": "python3"
  },
  "language_info": {
   "codemirror_mode": {
    "name": "ipython",
    "version": 3
   },
   "file_extension": ".py",
   "mimetype": "text/x-python",
   "name": "python",
   "nbconvert_exporter": "python",
   "pygments_lexer": "ipython3",
   "version": "3.11.5"
  }
 },
 "nbformat": 4,
 "nbformat_minor": 5
}
