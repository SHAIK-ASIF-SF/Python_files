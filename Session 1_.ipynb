{
 "cells": [
  {
   "cell_type": "code",
   "execution_count": null,
   "id": "2191ffb1",
   "metadata": {},
   "outputs": [],
   "source": [
    "import os    # get current working directory"
   ]
  },
  {
   "cell_type": "code",
   "execution_count": null,
   "id": "9f032406",
   "metadata": {},
   "outputs": [],
   "source": [
    "os.getcwd()  #  get current working directory"
   ]
  },
  {
   "cell_type": "code",
   "execution_count": 3,
   "id": "183a90d3",
   "metadata": {},
   "outputs": [],
   "source": [
    "a=10"
   ]
  },
  {
   "cell_type": "code",
   "execution_count": 4,
   "id": "dd9273b1",
   "metadata": {},
   "outputs": [],
   "source": [
    "b=20"
   ]
  },
  {
   "cell_type": "code",
   "execution_count": 5,
   "id": "b50553e1",
   "metadata": {},
   "outputs": [
    {
     "data": {
      "text/plain": [
       "30"
      ]
     },
     "execution_count": 5,
     "metadata": {},
     "output_type": "execute_result"
    }
   ],
   "source": [
    "a+b"
   ]
  },
  {
   "cell_type": "code",
   "execution_count": 6,
   "id": "90ccbabb",
   "metadata": {},
   "outputs": [
    {
     "data": {
      "text/plain": [
       "70"
      ]
     },
     "execution_count": 6,
     "metadata": {},
     "output_type": "execute_result"
    }
   ],
   "source": [
    "a=30\n",
    "b=40\n",
    "a+b"
   ]
  },
  {
   "cell_type": "markdown",
   "id": "247002a2",
   "metadata": {},
   "source": [
    "a"
   ]
  },
  {
   "cell_type": "code",
   "execution_count": 7,
   "id": "57aadf6a",
   "metadata": {},
   "outputs": [
    {
     "data": {
      "text/plain": [
       "300"
      ]
     },
     "execution_count": 7,
     "metadata": {},
     "output_type": "execute_result"
    }
   ],
   "source": [
    "num1=100    #  100 is stored in num1\n",
    "num2=200    # 200 is stored in num2\n",
    "num3=num1+num2  #num3=100+200=300\n",
    "num1=400   # num1 value is updated with 400\n",
    "num3"
   ]
  },
  {
   "cell_type": "code",
   "execution_count": 8,
   "id": "143b308f",
   "metadata": {},
   "outputs": [],
   "source": [
    "# no need mention the type of the data\n",
    "# in jupiter notebook\n",
    "#  the last value you can able to seewith out print"
   ]
  },
  {
   "cell_type": "code",
   "execution_count": 9,
   "id": "14f1c0ac",
   "metadata": {},
   "outputs": [
    {
     "name": "stdout",
     "output_type": "stream",
     "text": [
      "10\n",
      "20\n"
     ]
    }
   ],
   "source": [
    "num1=10\n",
    "num2=20\n",
    "print(num1)\n",
    "print(num2)"
   ]
  },
  {
   "cell_type": "markdown",
   "id": "12d1aaaf",
   "metadata": {},
   "source": [
    "- White colour dot means =======kernel idle state\n",
    "- White means cureently kernel is not doing any work\n",
    "- Black colour dot means ==kernel is busy\n",
    "- python kernel run the cell sequentially,one after another\n",
    "- In [*] start mark which means kernel is busy\n",
    "- kernel red=======dead"
   ]
  },
  {
   "cell_type": "code",
   "execution_count": 11,
   "id": "d51a2549",
   "metadata": {},
   "outputs": [],
   "source": [
    "a=10"
   ]
  },
  {
   "cell_type": "code",
   "execution_count": 12,
   "id": "07d40976",
   "metadata": {},
   "outputs": [
    {
     "data": {
      "text/plain": [
       "20"
      ]
     },
     "execution_count": 12,
     "metadata": {},
     "output_type": "execute_result"
    }
   ],
   "source": [
    "b=20\n",
    "b"
   ]
  },
  {
   "cell_type": "code",
   "execution_count": 16,
   "id": "14d66db4",
   "metadata": {},
   "outputs": [
    {
     "name": "stdout",
     "output_type": "stream",
     "text": [
      "0\n",
      "1\n",
      "2\n",
      "3\n",
      "4\n",
      "5\n",
      "6\n",
      "7\n",
      "8\n",
      "9\n"
     ]
    }
   ],
   "source": [
    "for i in range (10):\n",
    "    print(i)"
   ]
  },
  {
   "cell_type": "markdown",
   "id": "cfc01d1c",
   "metadata": {},
   "source": [
    "We have two types of modes:\n",
    "- If you want to write a code=====code modes\n",
    "    - esc+m\n",
    "- If you want to write a story=====markdown mode\n",
    "    - esc+y\n",
    "        "
   ]
  },
  {
   "cell_type": "code",
   "execution_count": null,
   "id": "cdcbc7ac",
   "metadata": {},
   "outputs": [],
   "source": []
  },
  {
   "cell_type": "code",
   "execution_count": null,
   "id": "5f0f1878",
   "metadata": {},
   "outputs": [],
   "source": [
    "a=10\n",
    "b=20\n",
    "a+b"
   ]
  },
  {
   "cell_type": "markdown",
   "id": "9dad0169",
   "metadata": {},
   "source": [
    "Today im learning python\n",
    "\n",
    "python is very intresting"
   ]
  },
  {
   "cell_type": "markdown",
   "id": "7df14df0",
   "metadata": {},
   "source": [
    "### python"
   ]
  },
  {
   "cell_type": "markdown",
   "id": "d7c24fc5",
   "metadata": {},
   "source": [
    "#python  it is comment"
   ]
  },
  {
   "cell_type": "markdown",
   "id": "a44438f9",
   "metadata": {},
   "source": [
    "# python"
   ]
  },
  {
   "cell_type": "markdown",
   "id": "7ca0de72",
   "metadata": {},
   "source": [
    "## session"
   ]
  },
  {
   "cell_type": "markdown",
   "id": "15976e00",
   "metadata": {},
   "source": [
    "### session1\n",
    "\n",
    "- python is used in AI\n",
    "  - hello\n",
    " - python is used in all applications   "
   ]
  },
  {
   "cell_type": "markdown",
   "id": "146cedde",
   "metadata": {},
   "source": [
    "### python basics"
   ]
  },
  {
   "cell_type": "markdown",
   "id": "1b2e6ee6",
   "metadata": {},
   "source": [
    "- variables\n",
    "- data types\n",
    "- types of conversion\n",
    "- packages\n",
    "- input eval python codes Assignment-1\n",
    "- Conditional statements Assignment-2\n",
    "- Try -exception\n",
    "- Function A3\n",
    "- For\n",
    "- While A4"
   ]
  },
  {
   "cell_type": "markdown",
   "id": "dc2d431f",
   "metadata": {},
   "source": [
    "### python intermediate"
   ]
  },
  {
   "cell_type": "markdown",
   "id": "67144457",
   "metadata": {},
   "source": [
    "- Strings\n",
    "- List\n",
    "- Dictionary\n",
    "- Tuple sets========>\n",
    "- File handling sessions"
   ]
  },
  {
   "cell_type": "markdown",
   "id": "51f71857",
   "metadata": {},
   "source": [
    "## Statustics : 10 sessions 10 days"
   ]
  },
  {
   "cell_type": "markdown",
   "id": "b192d422",
   "metadata": {},
   "source": [
    "### EDA with python"
   ]
  },
  {
   "cell_type": "code",
   "execution_count": null,
   "id": "c181d95e",
   "metadata": {},
   "outputs": [],
   "source": []
  },
  {
   "cell_type": "code",
   "execution_count": null,
   "id": "87b306c8",
   "metadata": {},
   "outputs": [],
   "source": []
  }
 ],
 "metadata": {
  "kernelspec": {
   "display_name": "Python 3 (ipykernel)",
   "language": "python",
   "name": "python3"
  },
  "language_info": {
   "codemirror_mode": {
    "name": "ipython",
    "version": 3
   },
   "file_extension": ".py",
   "mimetype": "text/x-python",
   "name": "python",
   "nbconvert_exporter": "python",
   "pygments_lexer": "ipython3",
   "version": "3.11.5"
  }
 },
 "nbformat": 4,
 "nbformat_minor": 5
}
