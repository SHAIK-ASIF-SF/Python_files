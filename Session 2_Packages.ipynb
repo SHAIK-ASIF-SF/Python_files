{
 "cells": [
  {
   "cell_type": "code",
   "execution_count": 2,
   "id": "99f21c90",
   "metadata": {},
   "outputs": [],
   "source": [
    "# store the value\n",
    "# variable varies the volues"
   ]
  },
  {
   "cell_type": "code",
   "execution_count": 3,
   "id": "ba87544c",
   "metadata": {},
   "outputs": [],
   "source": [
    "a=10\n",
    "# 10 a values stored i a variable name called 'a'"
   ]
  },
  {
   "cell_type": "code",
   "execution_count": 4,
   "id": "10836184",
   "metadata": {},
   "outputs": [
    {
     "data": {
      "text/plain": [
       "10"
      ]
     },
     "execution_count": 4,
     "metadata": {},
     "output_type": "execute_result"
    }
   ],
   "source": [
    "a"
   ]
  },
  {
   "cell_type": "code",
   "execution_count": 5,
   "id": "90944a70",
   "metadata": {},
   "outputs": [
    {
     "data": {
      "text/plain": [
       "20"
      ]
     },
     "execution_count": 5,
     "metadata": {},
     "output_type": "execute_result"
    }
   ],
   "source": [
    "a=20\n",
    "a"
   ]
  },
  {
   "cell_type": "code",
   "execution_count": 6,
   "id": "1eecf4cd",
   "metadata": {},
   "outputs": [
    {
     "data": {
      "text/plain": [
       "300"
      ]
     },
     "execution_count": 6,
     "metadata": {},
     "output_type": "execute_result"
    }
   ],
   "source": [
    "num1=200    # num1=200\n",
    "num2=300    # num2=300\n",
    "num1=num2   # num1=300\n",
    "num2=num1   # num2=300\n",
    "num1=500    # num1=500\n",
    "num1=num2   # num1=300\n",
    "num1\n"
   ]
  },
  {
   "cell_type": "code",
   "execution_count": 7,
   "id": "3083e7e6",
   "metadata": {},
   "outputs": [
    {
     "data": {
      "text/plain": [
       "100"
      ]
     },
     "execution_count": 7,
     "metadata": {},
     "output_type": "execute_result"
    }
   ],
   "source": [
    "number=100\n",
    "number"
   ]
  },
  {
   "cell_type": "code",
   "execution_count": 8,
   "id": "8964eacf",
   "metadata": {},
   "outputs": [
    {
     "data": {
      "text/plain": [
       "200"
      ]
     },
     "execution_count": 8,
     "metadata": {},
     "output_type": "execute_result"
    }
   ],
   "source": [
    "NUMBER=200\n",
    "NUMBER"
   ]
  },
  {
   "cell_type": "code",
   "execution_count": 9,
   "id": "0d2e1378",
   "metadata": {},
   "outputs": [
    {
     "data": {
      "text/plain": [
       "300"
      ]
     },
     "execution_count": 9,
     "metadata": {},
     "output_type": "execute_result"
    }
   ],
   "source": [
    "NUMber=300\n",
    "NUMber"
   ]
  },
  {
   "cell_type": "code",
   "execution_count": 10,
   "id": "135cb2c7",
   "metadata": {},
   "outputs": [
    {
     "data": {
      "text/plain": [
       "(100, 200, 300)"
      ]
     },
     "execution_count": 10,
     "metadata": {},
     "output_type": "execute_result"
    }
   ],
   "source": [
    " number,NUMBER,NUMber"
   ]
  },
  {
   "cell_type": "code",
   "execution_count": 11,
   "id": "93b32263",
   "metadata": {},
   "outputs": [
    {
     "data": {
      "text/plain": [
       "500"
      ]
     },
     "execution_count": 11,
     "metadata": {},
     "output_type": "execute_result"
    }
   ],
   "source": [
    "number123=500\n",
    "number123"
   ]
  },
  {
   "cell_type": "code",
   "execution_count": 12,
   "id": "b8b5a027",
   "metadata": {},
   "outputs": [
    {
     "ename": "SyntaxError",
     "evalue": "invalid decimal literal (2634384393.py, line 1)",
     "output_type": "error",
     "traceback": [
      "\u001b[1;36m  Cell \u001b[1;32mIn[12], line 1\u001b[1;36m\u001b[0m\n\u001b[1;33m    123number=600\u001b[0m\n\u001b[1;37m      ^\u001b[0m\n\u001b[1;31mSyntaxError\u001b[0m\u001b[1;31m:\u001b[0m invalid decimal literal\n"
     ]
    }
   ],
   "source": [
    "123number=600\n",
    "123number"
   ]
  },
  {
   "cell_type": "code",
   "execution_count": 1,
   "id": "696d854c",
   "metadata": {},
   "outputs": [
    {
     "ename": "SyntaxError",
     "evalue": "invalid syntax (1489787573.py, line 1)",
     "output_type": "error",
     "traceback": [
      "\u001b[1;36m  Cell \u001b[1;32mIn[1], line 1\u001b[1;36m\u001b[0m\n\u001b[1;33m    number$one=800\u001b[0m\n\u001b[1;37m          ^\u001b[0m\n\u001b[1;31mSyntaxError\u001b[0m\u001b[1;31m:\u001b[0m invalid syntax\n"
     ]
    }
   ],
   "source": [
    "number$one=800\n",
    "number$one"
   ]
  },
  {
   "cell_type": "code",
   "execution_count": 2,
   "id": "cb662543",
   "metadata": {},
   "outputs": [
    {
     "data": {
      "text/plain": [
       "2"
      ]
     },
     "execution_count": 2,
     "metadata": {},
     "output_type": "execute_result"
    }
   ],
   "source": [
    "number_two=2\n",
    "number_two"
   ]
  },
  {
   "cell_type": "code",
   "execution_count": 16,
   "id": "e07fada4",
   "metadata": {},
   "outputs": [
    {
     "data": {
      "text/plain": [
       "900"
      ]
     },
     "execution_count": 16,
     "metadata": {},
     "output_type": "execute_result"
    }
   ],
   "source": [
    "number_one=900\n",
    "number_one"
   ]
  },
  {
   "cell_type": "code",
   "execution_count": 17,
   "id": "359f476f",
   "metadata": {},
   "outputs": [
    {
     "data": {
      "text/plain": [
       "1000"
      ]
     },
     "execution_count": 17,
     "metadata": {},
     "output_type": "execute_result"
    }
   ],
   "source": [
    "_=1000\n",
    "_"
   ]
  },
  {
   "cell_type": "code",
   "execution_count": 18,
   "id": "f73a1dc0",
   "metadata": {},
   "outputs": [
    {
     "ename": "SyntaxError",
     "evalue": "invalid syntax (912407840.py, line 1)",
     "output_type": "error",
     "traceback": [
      "\u001b[1;36m  Cell \u001b[1;32mIn[18], line 1\u001b[1;36m\u001b[0m\n\u001b[1;33m    if=900\u001b[0m\n\u001b[1;37m      ^\u001b[0m\n\u001b[1;31mSyntaxError\u001b[0m\u001b[1;31m:\u001b[0m invalid syntax\n"
     ]
    }
   ],
   "source": [
    "if=900\n",
    "if"
   ]
  },
  {
   "cell_type": "code",
   "execution_count": 3,
   "id": "df8d257a",
   "metadata": {},
   "outputs": [
    {
     "data": {
      "text/plain": [
       "600"
      ]
     },
     "execution_count": 3,
     "metadata": {},
     "output_type": "execute_result"
    }
   ],
   "source": [
    "number=600\n",
    "number"
   ]
  },
  {
   "cell_type": "code",
   "execution_count": 4,
   "id": "fe9a2acc",
   "metadata": {},
   "outputs": [
    {
     "ename": "SyntaxError",
     "evalue": "invalid syntax (1034807665.py, line 1)",
     "output_type": "error",
     "traceback": [
      "\u001b[1;36m  Cell \u001b[1;32mIn[4], line 1\u001b[1;36m\u001b[0m\n\u001b[1;33m    for=900\u001b[0m\n\u001b[1;37m       ^\u001b[0m\n\u001b[1;31mSyntaxError\u001b[0m\u001b[1;31m:\u001b[0m invalid syntax\n"
     ]
    }
   ],
   "source": [
    "for=900\n"
   ]
  },
  {
   "cell_type": "code",
   "execution_count": 21,
   "id": "aa13f024",
   "metadata": {},
   "outputs": [],
   "source": [
    "max=800"
   ]
  },
  {
   "cell_type": "code",
   "execution_count": null,
   "id": "47335be1",
   "metadata": {},
   "outputs": [],
   "source": [
    "# green colour keywords\n",
    "# black colour variables\n",
    "# if for while print\n",
    "sum\n",
    "max\n",
    "min\n"
   ]
  },
  {
   "cell_type": "markdown",
   "id": "db430356",
   "metadata": {},
   "source": [
    "- variables can be case sensitive\n",
    "-variables allows upper case and combinations\n",
    "  -number\n",
    "  -NUMBER\n",
    "  -NUMber\n",
    "- Variables allows numbers  befor as suffix\n",
    "  - number123\n",
    "- Variables allows underscore\n",
    "  - number_\n",
    "- Variables are not allowed spl characters\n",
    "  - number$\n",
    "- Variables are not allowed numbers as prefix\n",
    "  - 123number\n",
    "- Variables are not allowed keywords, except math keywords\n",
    "  - if for while (not allowed)\n",
    "\n",
    "    "
   ]
  },
  {
   "cell_type": "markdown",
   "id": "81308336",
   "metadata": {},
   "source": [
    "### Packages"
   ]
  },
  {
   "cell_type": "code",
   "execution_count": 25,
   "id": "b1e597e7",
   "metadata": {},
   "outputs": [],
   "source": [
    "# what is the english meaning of package"
   ]
  },
  {
   "cell_type": "markdown",
   "id": "11dda03b",
   "metadata": {},
   "source": [
    "Shaik Asif\n",
    "\n",
    "he created python code: addition of two numbers\n",
    "\n",
    "he created that program is very important ==========serve that two world\n",
    "\n",
    "he created a package for python program\n",
    "\n",
    "then you went to anaconda organization\n",
    "\n",
    "you and anaconda made an agreement\n",
    "\n",
    "if any one downloads anaconda =======packages ====laptop\n",
    "\n",
    "package name: summation\n",
    "    "
   ]
  },
  {
   "cell_type": "code",
   "execution_count": null,
   "id": "1a33b3b5",
   "metadata": {},
   "outputs": [],
   "source": [
    "import <package_name>"
   ]
  },
  {
   "cell_type": "code",
   "execution_count": null,
   "id": "4ede268e",
   "metadata": {},
   "outputs": [],
   "source": [
    "import summation"
   ]
  },
  {
   "cell_type": "code",
   "execution_count": 29,
   "id": "ec957f00",
   "metadata": {},
   "outputs": [],
   "source": [
    "# package name: random\n",
    "# package name:  time\n",
    "# package name:math\n",
    "\n",
    "## package name:cv2  computer vision"
   ]
  },
  {
   "cell_type": "code",
   "execution_count": 31,
   "id": "f0267481",
   "metadata": {},
   "outputs": [],
   "source": [
    "import random"
   ]
  },
  {
   "cell_type": "code",
   "execution_count": 32,
   "id": "2872d2fd",
   "metadata": {},
   "outputs": [],
   "source": [
    "import time"
   ]
  },
  {
   "cell_type": "code",
   "execution_count": 33,
   "id": "013fe9a4",
   "metadata": {},
   "outputs": [],
   "source": [
    "import math"
   ]
  },
  {
   "cell_type": "code",
   "execution_count": null,
   "id": "03cd3489",
   "metadata": {},
   "outputs": [],
   "source": [
    "import cv2 "
   ]
  },
  {
   "cell_type": "code",
   "execution_count": null,
   "id": "36540c7e",
   "metadata": {},
   "outputs": [],
   "source": [
    "cv2 package is not there in your laptop\n",
    "\n",
    "whenever you try to import (use it)\n",
    "\n",
    "module not found"
   ]
  },
  {
   "cell_type": "code",
   "execution_count": 36,
   "id": "adfd4e46",
   "metadata": {},
   "outputs": [],
   "source": [
    "# package name or module name: random"
   ]
  },
  {
   "cell_type": "code",
   "execution_count": 37,
   "id": "4f96eab9",
   "metadata": {},
   "outputs": [],
   "source": [
    "# step-1:\n",
    "import random"
   ]
  },
  {
   "cell_type": "code",
   "execution_count": null,
   "id": "cbf1ef71",
   "metadata": {},
   "outputs": [],
   "source": [
    "# step-2:\n",
    "dir(random)\n",
    "\n",
    "randint\n"
   ]
  },
  {
   "cell_type": "code",
   "execution_count": 5,
   "id": "73436bd0",
   "metadata": {},
   "outputs": [
    {
     "data": {
      "text/plain": [
       "['In',\n",
       " 'Out',\n",
       " '_',\n",
       " '_2',\n",
       " '_3',\n",
       " '__',\n",
       " '___',\n",
       " '__builtin__',\n",
       " '__builtins__',\n",
       " '__doc__',\n",
       " '__loader__',\n",
       " '__name__',\n",
       " '__package__',\n",
       " '__spec__',\n",
       " '_dh',\n",
       " '_i',\n",
       " '_i1',\n",
       " '_i2',\n",
       " '_i3',\n",
       " '_i4',\n",
       " '_i5',\n",
       " '_ih',\n",
       " '_ii',\n",
       " '_iii',\n",
       " '_oh',\n",
       " 'exit',\n",
       " 'get_ipython',\n",
       " 'number',\n",
       " 'number_two',\n",
       " 'open',\n",
       " 'quit']"
      ]
     },
     "execution_count": 5,
     "metadata": {},
     "output_type": "execute_result"
    }
   ],
   "source": [
    "dir()"
   ]
  },
  {
   "cell_type": "code",
   "execution_count": null,
   "id": "7041c3e0",
   "metadata": {},
   "outputs": [],
   "source": [
    "dir(random)"
   ]
  },
  {
   "cell_type": "code",
   "execution_count": null,
   "id": "1246a12d",
   "metadata": {},
   "outputs": [],
   "source": [
    "shaikasif ===== addition\n",
    "         ======subt\n",
    "         ======div\n",
    "         =====mul\n",
    "one package : dir(all in one)        "
   ]
  },
  {
   "cell_type": "code",
   "execution_count": null,
   "id": "d14623f2",
   "metadata": {},
   "outputs": [],
   "source": [
    "# step-1:\n",
    "import random\n",
    "\n",
    "# step-2:\n",
    "dir(random)\n",
    "\n",
    "# step-3: methoud: randit\n"
   ]
  },
  {
   "cell_type": "code",
   "execution_count": null,
   "id": "9b1deb53",
   "metadata": {},
   "outputs": [],
   "source": [
    "<package_name>.<methoud_name>"
   ]
  },
  {
   "cell_type": "code",
   "execution_count": 56,
   "id": "5c3e8fdb",
   "metadata": {},
   "outputs": [
    {
     "name": "stdout",
     "output_type": "stream",
     "text": [
      "Help on method randint in module random:\n",
      "\n",
      "randint(a, b) method of random.Random instance\n",
      "    Return random integer in range [a, b], including both end points.\n",
      "\n"
     ]
    }
   ],
   "source": [
    "help(random.randint)"
   ]
  },
  {
   "cell_type": "code",
   "execution_count": 66,
   "id": "6ad84b07",
   "metadata": {},
   "outputs": [
    {
     "data": {
      "text/plain": [
       "12"
      ]
     },
     "execution_count": 66,
     "metadata": {},
     "output_type": "execute_result"
    }
   ],
   "source": [
    "random.randint(10,20)\n"
   ]
  },
  {
   "cell_type": "code",
   "execution_count": null,
   "id": "2bebc62e",
   "metadata": {},
   "outputs": [],
   "source": [
    "# step-1: import <package_name>\n",
    "import random\n",
    "\n",
    "# step-2: dir(<package_name>)\n",
    "# it will display all the methouds\n",
    "dir(random)\n",
    "\n",
    "# step-3: we are picking methoud name\n",
    "# help(<package_name >.<methoud_name>)\n",
    "help(random.randint)\n",
    "\n",
    "# step-4: Run the functionality\n",
    "# <package_name>.<method_name>\n",
    "random.randit(10,)"
   ]
  },
  {
   "cell_type": "code",
   "execution_count": null,
   "id": "322ef0e6",
   "metadata": {},
   "outputs": [],
   "source": [
    "# package name math"
   ]
  },
  {
   "cell_type": "code",
   "execution_count": 68,
   "id": "68a1d55f",
   "metadata": {},
   "outputs": [],
   "source": [
    "import math"
   ]
  },
  {
   "cell_type": "code",
   "execution_count": 69,
   "id": "165d4142",
   "metadata": {},
   "outputs": [
    {
     "data": {
      "text/plain": [
       "['__doc__',\n",
       " '__loader__',\n",
       " '__name__',\n",
       " '__package__',\n",
       " '__spec__',\n",
       " 'acos',\n",
       " 'acosh',\n",
       " 'asin',\n",
       " 'asinh',\n",
       " 'atan',\n",
       " 'atan2',\n",
       " 'atanh',\n",
       " 'cbrt',\n",
       " 'ceil',\n",
       " 'comb',\n",
       " 'copysign',\n",
       " 'cos',\n",
       " 'cosh',\n",
       " 'degrees',\n",
       " 'dist',\n",
       " 'e',\n",
       " 'erf',\n",
       " 'erfc',\n",
       " 'exp',\n",
       " 'exp2',\n",
       " 'expm1',\n",
       " 'fabs',\n",
       " 'factorial',\n",
       " 'floor',\n",
       " 'fmod',\n",
       " 'frexp',\n",
       " 'fsum',\n",
       " 'gamma',\n",
       " 'gcd',\n",
       " 'hypot',\n",
       " 'inf',\n",
       " 'isclose',\n",
       " 'isfinite',\n",
       " 'isinf',\n",
       " 'isnan',\n",
       " 'isqrt',\n",
       " 'lcm',\n",
       " 'ldexp',\n",
       " 'lgamma',\n",
       " 'log',\n",
       " 'log10',\n",
       " 'log1p',\n",
       " 'log2',\n",
       " 'modf',\n",
       " 'nan',\n",
       " 'nextafter',\n",
       " 'perm',\n",
       " 'pi',\n",
       " 'pow',\n",
       " 'prod',\n",
       " 'radians',\n",
       " 'remainder',\n",
       " 'sin',\n",
       " 'sinh',\n",
       " 'sqrt',\n",
       " 'tan',\n",
       " 'tanh',\n",
       " 'tau',\n",
       " 'trunc',\n",
       " 'ulp']"
      ]
     },
     "execution_count": 69,
     "metadata": {},
     "output_type": "execute_result"
    }
   ],
   "source": [
    "dir(math)"
   ]
  },
  {
   "cell_type": "code",
   "execution_count": 70,
   "id": "130bdc28",
   "metadata": {},
   "outputs": [
    {
     "name": "stdout",
     "output_type": "stream",
     "text": [
      "Help on built-in function sin in module math:\n",
      "\n",
      "sin(x, /)\n",
      "    Return the sine of x (measured in radians).\n",
      "\n"
     ]
    }
   ],
   "source": [
    "# method name: sin\n",
    "\n",
    "help(math.sin)"
   ]
  },
  {
   "cell_type": "code",
   "execution_count": 71,
   "id": "a9c02055",
   "metadata": {},
   "outputs": [
    {
     "data": {
      "text/plain": [
       "0.8939966636005579"
      ]
     },
     "execution_count": 71,
     "metadata": {},
     "output_type": "execute_result"
    }
   ],
   "source": [
    "math.sin(90)\n"
   ]
  },
  {
   "cell_type": "code",
   "execution_count": 72,
   "id": "ced8958d",
   "metadata": {},
   "outputs": [
    {
     "name": "stdout",
     "output_type": "stream",
     "text": [
      "Help on built-in function sin in module math:\n",
      "\n",
      "sin(x, /)\n",
      "    Return the sine of x (measured in radians).\n",
      "\n"
     ]
    },
    {
     "data": {
      "text/plain": [
       "0.8939966636005579"
      ]
     },
     "execution_count": 72,
     "metadata": {},
     "output_type": "execute_result"
    }
   ],
   "source": [
    "import math\n",
    "dir(math)   # many methouds\n",
    "help(math.sin)\n",
    "math.sin(90)\n"
   ]
  },
  {
   "cell_type": "code",
   "execution_count": 73,
   "id": "54635d48",
   "metadata": {},
   "outputs": [
    {
     "data": {
      "text/plain": [
       "3.141592653589793"
      ]
     },
     "execution_count": 73,
     "metadata": {},
     "output_type": "execute_result"
    }
   ],
   "source": [
    "# methoud name pi : 3.14\n",
    "math.pi"
   ]
  },
  {
   "cell_type": "code",
   "execution_count": 75,
   "id": "06c5c4e2",
   "metadata": {},
   "outputs": [],
   "source": [
    "# package name: time\n",
    "import time"
   ]
  },
  {
   "cell_type": "code",
   "execution_count": 76,
   "id": "56c53b8b",
   "metadata": {},
   "outputs": [
    {
     "data": {
      "text/plain": [
       "['_STRUCT_TM_ITEMS',\n",
       " '__doc__',\n",
       " '__loader__',\n",
       " '__name__',\n",
       " '__package__',\n",
       " '__spec__',\n",
       " 'altzone',\n",
       " 'asctime',\n",
       " 'ctime',\n",
       " 'daylight',\n",
       " 'get_clock_info',\n",
       " 'gmtime',\n",
       " 'localtime',\n",
       " 'mktime',\n",
       " 'monotonic',\n",
       " 'monotonic_ns',\n",
       " 'perf_counter',\n",
       " 'perf_counter_ns',\n",
       " 'process_time',\n",
       " 'process_time_ns',\n",
       " 'sleep',\n",
       " 'strftime',\n",
       " 'strptime',\n",
       " 'struct_time',\n",
       " 'thread_time',\n",
       " 'thread_time_ns',\n",
       " 'time',\n",
       " 'time_ns',\n",
       " 'timezone',\n",
       " 'tzname']"
      ]
     },
     "execution_count": 76,
     "metadata": {},
     "output_type": "execute_result"
    }
   ],
   "source": [
    "dir(time)"
   ]
  },
  {
   "cell_type": "code",
   "execution_count": 77,
   "id": "115b9060",
   "metadata": {},
   "outputs": [
    {
     "name": "stdout",
     "output_type": "stream",
     "text": [
      "Help on built-in function sleep in module time:\n",
      "\n",
      "sleep(...)\n",
      "    sleep(seconds)\n",
      "    \n",
      "    Delay execution for a given number of seconds.  The argument may be\n",
      "    a floating point number for subsecond precision.\n",
      "\n"
     ]
    }
   ],
   "source": [
    "# methoud name : sleep\n",
    "help(time.sleep)"
   ]
  },
  {
   "cell_type": "code",
   "execution_count": 79,
   "id": "7be7d5d4",
   "metadata": {},
   "outputs": [
    {
     "name": "stdout",
     "output_type": "stream",
     "text": [
      "hello\n",
      "how are you\n"
     ]
    }
   ],
   "source": [
    "import time \n",
    "print(\"hello\")\n",
    "time.sleep(3)\n",
    "print(\"how are you\")"
   ]
  },
  {
   "cell_type": "code",
   "execution_count": 80,
   "id": "f413c92b",
   "metadata": {},
   "outputs": [],
   "source": [
    "# package name: keyword\n",
    "# method name: kwlist list of keywords"
   ]
  },
  {
   "cell_type": "code",
   "execution_count": 81,
   "id": "a110fb4a",
   "metadata": {},
   "outputs": [
    {
     "data": {
      "text/plain": [
       "35"
      ]
     },
     "execution_count": 81,
     "metadata": {},
     "output_type": "execute_result"
    }
   ],
   "source": [
    "import keyword\n",
    "#dir(keyword)\n",
    "len(keyword.kwlist)"
   ]
  },
  {
   "cell_type": "code",
   "execution_count": null,
   "id": "fb46a681",
   "metadata": {},
   "outputs": [],
   "source": [
    "random\n",
    "\n",
    "math\n",
    "\n",
    "time\n",
    "\n",
    "keyword"
   ]
  },
  {
   "cell_type": "code",
   "execution_count": 82,
   "id": "2d9aba66",
   "metadata": {},
   "outputs": [],
   "source": [
    "import random"
   ]
  },
  {
   "cell_type": "markdown",
   "id": "97e6fb69",
   "metadata": {},
   "source": []
  },
  {
   "cell_type": "code",
   "execution_count": null,
   "id": "8061074b",
   "metadata": {},
   "outputs": [],
   "source": [
    "random"
   ]
  },
  {
   "cell_type": "code",
   "execution_count": null,
   "id": "2b8bfc8b",
   "metadata": {},
   "outputs": [],
   "source": [
    "<module 'random' from 'c'\\\\Users\\\\shaik\\\\document\\\\data science\\\\python\\\\seession2_\\\\random.py'>"
   ]
  },
  {
   "cell_type": "code",
   "execution_count": 83,
   "id": "05e1fd38",
   "metadata": {
    "scrolled": true
   },
   "outputs": [
    {
     "data": {
      "text/plain": [
       "['BPF',\n",
       " 'LOG4',\n",
       " 'NV_MAGICCONST',\n",
       " 'RECIP_BPF',\n",
       " 'Random',\n",
       " 'SG_MAGICCONST',\n",
       " 'SystemRandom',\n",
       " 'TWOPI',\n",
       " '_ONE',\n",
       " '_Sequence',\n",
       " '_Set',\n",
       " '__all__',\n",
       " '__builtins__',\n",
       " '__cached__',\n",
       " '__doc__',\n",
       " '__file__',\n",
       " '__loader__',\n",
       " '__name__',\n",
       " '__package__',\n",
       " '__spec__',\n",
       " '_accumulate',\n",
       " '_acos',\n",
       " '_bisect',\n",
       " '_ceil',\n",
       " '_cos',\n",
       " '_e',\n",
       " '_exp',\n",
       " '_floor',\n",
       " '_index',\n",
       " '_inst',\n",
       " '_isfinite',\n",
       " '_log',\n",
       " '_os',\n",
       " '_pi',\n",
       " '_random',\n",
       " '_repeat',\n",
       " '_sha512',\n",
       " '_sin',\n",
       " '_sqrt',\n",
       " '_test',\n",
       " '_test_generator',\n",
       " '_urandom',\n",
       " '_warn',\n",
       " 'betavariate',\n",
       " 'choice',\n",
       " 'choices',\n",
       " 'expovariate',\n",
       " 'gammavariate',\n",
       " 'gauss',\n",
       " 'getrandbits',\n",
       " 'getstate',\n",
       " 'lognormvariate',\n",
       " 'normalvariate',\n",
       " 'paretovariate',\n",
       " 'randbytes',\n",
       " 'randint',\n",
       " 'random',\n",
       " 'randrange',\n",
       " 'sample',\n",
       " 'seed',\n",
       " 'setstate',\n",
       " 'shuffle',\n",
       " 'triangular',\n",
       " 'uniform',\n",
       " 'vonmisesvariate',\n",
       " 'weibullvariate']"
      ]
     },
     "execution_count": 83,
     "metadata": {},
     "output_type": "execute_result"
    }
   ],
   "source": [
    "dir(random)"
   ]
  },
  {
   "cell_type": "code",
   "execution_count": 84,
   "id": "7b7e70d0",
   "metadata": {},
   "outputs": [],
   "source": [
    "# package name: random\n",
    "# methoud name:random"
   ]
  },
  {
   "cell_type": "code",
   "execution_count": 89,
   "id": "1ceb45ee",
   "metadata": {},
   "outputs": [
    {
     "name": "stdout",
     "output_type": "stream",
     "text": [
      "Help on built-in function random:\n",
      "\n",
      "random() method of random.Random instance\n",
      "    random() -> x in the interval [0, 1).\n",
      "\n"
     ]
    }
   ],
   "source": [
    "help(random.random)"
   ]
  },
  {
   "cell_type": "code",
   "execution_count": 90,
   "id": "71867d74",
   "metadata": {},
   "outputs": [
    {
     "data": {
      "text/plain": [
       "0.7693083525848214"
      ]
     },
     "execution_count": 90,
     "metadata": {},
     "output_type": "execute_result"
    }
   ],
   "source": [
    "random.random()"
   ]
  },
  {
   "cell_type": "code",
   "execution_count": 91,
   "id": "23063a36",
   "metadata": {},
   "outputs": [
    {
     "name": "stdout",
     "output_type": "stream",
     "text": [
      "Help on method randint in module random:\n",
      "\n",
      "randint(a, b) method of random.Random instance\n",
      "    Return random integer in range [a, b], including both end points.\n",
      "\n"
     ]
    }
   ],
   "source": [
    "help(random.randint)"
   ]
  },
  {
   "cell_type": "code",
   "execution_count": null,
   "id": "c1cc87ca",
   "metadata": {},
   "outputs": [],
   "source": [
    "cv2 is not there will install that\n",
    "\n",
    "    "
   ]
  },
  {
   "cell_type": "markdown",
   "id": "f1b90ff4",
   "metadata": {},
   "source": [
    " - 90% packages pip install\n",
    " - the help of google \n",
    " - you required internet connection"
   ]
  },
  {
   "cell_type": "code",
   "execution_count": null,
   "id": "414f5206",
   "metadata": {},
   "outputs": [],
   "source": [
    "import pip"
   ]
  },
  {
   "cell_type": "code",
   "execution_count": 93,
   "id": "6d25cebc",
   "metadata": {},
   "outputs": [],
   "source": [
    "#pip freeze to  display all the packages"
   ]
  },
  {
   "cell_type": "code",
   "execution_count": null,
   "id": "9e3d451e",
   "metadata": {},
   "outputs": [],
   "source": [
    "####################################  EDA  ##################################################\n",
    "1) Numpy : maths applications\n",
    "2) Pandas : Data base /tables applications\n",
    "3) matplotlib : plotting\n",
    "4) seaborn :  plotting\n",
    " ##############################  ML ####################################################\n",
    "5) slickit-learn : sklearn\n",
    "##################################### DL #################################################  \n",
    "6) Tensorflow\n",
    "7) keras\n",
    "8) pytorch\n",
    "############################################# NLP ##############################\n",
    "9) NLTK: Natural language tool kit\n",
    "10) Scipy\n",
    "################################### Cloud ################################\n",
    "11) Azure\n",
    "12) google\n",
    "13) Aws\n",
    "################################### other thired ####################################\n",
    "14) Transformers (hugging face) BERT\n",
    "15) math\n",
    "16) random\n",
    "17) time\n",
    "18) pickle : to save the model\n",
    "19) joblib: to save the model\n",
    "20) allen nip company    \n"
   ]
  },
  {
   "cell_type": "code",
   "execution_count": null,
   "id": "eb1f5149",
   "metadata": {},
   "outputs": [],
   "source": [
    "sir, we need to import package in every new session?"
   ]
  },
  {
   "cell_type": "code",
   "execution_count": null,
   "id": "ae2dd318",
   "metadata": {},
   "outputs": [],
   "source": [
    "import package code this need to be run"
   ]
  },
  {
   "cell_type": "code",
   "execution_count": null,
   "id": "0a37946a",
   "metadata": {},
   "outputs": [],
   "source": [
    "Sir, we need to import package in every session?\n",
    "or installing one time only will work?"
   ]
  },
  {
   "cell_type": "code",
   "execution_count": null,
   "id": "2b89e8c9",
   "metadata": {},
   "outputs": [],
   "source": [
    "one time installation is enough =======in your laptop\n",
    "if you want to use import\n"
   ]
  },
  {
   "cell_type": "code",
   "execution_count": null,
   "id": "c7ba99ff",
   "metadata": {},
   "outputs": [],
   "source": [
    "1  #"
   ]
  },
  {
   "cell_type": "code",
   "execution_count": null,
   "id": "e8eea270",
   "metadata": {},
   "outputs": [],
   "source": []
  }
 ],
 "metadata": {
  "kernelspec": {
   "display_name": "Python 3 (ipykernel)",
   "language": "python",
   "name": "python3"
  },
  "language_info": {
   "codemirror_mode": {
    "name": "ipython",
    "version": 3
   },
   "file_extension": ".py",
   "mimetype": "text/x-python",
   "name": "python",
   "nbconvert_exporter": "python",
   "pygments_lexer": "ipython3",
   "version": "3.11.5"
  }
 },
 "nbformat": 4,
 "nbformat_minor": 5
}
