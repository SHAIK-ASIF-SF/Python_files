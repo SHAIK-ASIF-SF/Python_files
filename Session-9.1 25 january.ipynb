{
 "cells": [
  {
   "cell_type": "code",
   "execution_count": 1,
   "id": "1ba720bb",
   "metadata": {},
   "outputs": [],
   "source": [
    "# game program\n",
    "# ask the user \n",
    "# ask the user enter number : n2\n",
    "# if n1==n2\n",
    "# print(\"in\")\n",
    "# else:\n",
    "# return"
   ]
  },
  {
   "cell_type": "code",
   "execution_count": 2,
   "id": "25b681d3",
   "metadata": {},
   "outputs": [
    {
     "name": "stdout",
     "output_type": "stream",
     "text": [
      "enter the number:6\n",
      "out\n"
     ]
    }
   ],
   "source": [
    "import random\n",
    "def game():\n",
    "    n1=random.randint(1,10)\n",
    "    n2=eval(input(\"enter the number:\"))\n",
    "    if n1==n2:\n",
    "        print(\"in\")\n",
    "    else:\n",
    "        print(\"out\")\n",
    "game()  "
   ]
  },
  {
   "cell_type": "code",
   "execution_count": 6,
   "id": "860eb351",
   "metadata": {},
   "outputs": [
    {
     "name": "stdout",
     "output_type": "stream",
     "text": [
      "in\n"
     ]
    }
   ],
   "source": [
    "import random\n",
    "def game1(n2):\n",
    "    n1=random.randint(1,10)\n",
    "    \n",
    "    if n1==n2:\n",
    "        print(\"in\")\n",
    "    else:\n",
    "        print(\"out\")\n",
    "game1(7)       "
   ]
  },
  {
   "cell_type": "code",
   "execution_count": 4,
   "id": "6ad0e758",
   "metadata": {},
   "outputs": [
    {
     "name": "stdout",
     "output_type": "stream",
     "text": [
      "out\n"
     ]
    },
    {
     "data": {
      "text/plain": [
       "0"
      ]
     },
     "execution_count": 4,
     "metadata": {},
     "output_type": "execute_result"
    }
   ],
   "source": [
    "import random\n",
    "def game1(n2=7):\n",
    "    n1=random.randint(1,10)\n",
    "    if n1==n2:\n",
    "        print(\"in\")\n",
    "    else:\n",
    "        print(\"out\")\n",
    "        return(0)\n",
    "\n",
    "game1()\n"
   ]
  },
  {
   "cell_type": "code",
   "execution_count": 7,
   "id": "a8ac0c75",
   "metadata": {},
   "outputs": [
    {
     "name": "stdout",
     "output_type": "stream",
     "text": [
      "out\n",
      "0\n",
      "no award\n"
     ]
    }
   ],
   "source": [
    "import random\n",
    "def game1(n2=7):\n",
    "    n1=random.randint(1,10)\n",
    "    if n1==n2:\n",
    "        print(\"in\")\n",
    "        print(\"hello\")\n",
    "        return(1000,award)\n",
    "    else:\n",
    "        print(\"out\")\n",
    "        return(0,'no award')\n",
    "\n",
    "money,award=game1()\n",
    "print(money)\n",
    "print(award)\n"
   ]
  },
  {
   "cell_type": "code",
   "execution_count": 8,
   "id": "aee2e941",
   "metadata": {},
   "outputs": [
    {
     "data": {
      "text/plain": [
       "1234"
      ]
     },
     "execution_count": 8,
     "metadata": {},
     "output_type": "execute_result"
    }
   ],
   "source": [
    "n1=12345       # 54321\n",
    "o1=n1%10\n",
    "new_n2=12345//10\n",
    "new_n2"
   ]
  },
  {
   "cell_type": "code",
   "execution_count": 9,
   "id": "4548afe9",
   "metadata": {},
   "outputs": [
    {
     "data": {
      "text/plain": [
       "54321"
      ]
     },
     "execution_count": 9,
     "metadata": {},
     "output_type": "execute_result"
    }
   ],
   "source": [
    "n1=str(12345)\n",
    "int(n1[::-1])"
   ]
  },
  {
   "cell_type": "code",
   "execution_count": 10,
   "id": "4756d174",
   "metadata": {},
   "outputs": [
    {
     "name": "stdout",
     "output_type": "stream",
     "text": [
      "out\n"
     ]
    },
    {
     "data": {
      "text/plain": [
       "0"
      ]
     },
     "execution_count": 10,
     "metadata": {},
     "output_type": "execute_result"
    }
   ],
   "source": [
    "import random\n",
    "def game1(n2):\n",
    "    n1=random.randint(1,10)\n",
    "    if n1==n2:\n",
    "        print(\"in\")\n",
    "    else:\n",
    "        print(\"out\")\n",
    "        return(0)\n",
    "\n",
    "game1(6)\n"
   ]
  },
  {
   "cell_type": "code",
   "execution_count": null,
   "id": "1d4f7012",
   "metadata": {},
   "outputs": [],
   "source": [
    "def summ():\n",
    "    \n",
    "    num1=eval(input(\"enter a number1:\"))\n",
    "    num2=eval(input(\"enter a number2:\"))\n",
    "    print(num1+num2)\n",
    "    \n",
    "    \n",
    "############################################################################################    \n",
    "    \n",
    "def average():\n",
    "    \n",
    "    n1=eval(input(\"enter number1:\"))\n",
    "    n2=eval(input(\"enter number2:\"))\n",
    "    n3=eval(input(\"enter number3:\"))\n",
    "    avg=(n1+n2+n3)/3\n",
    "    print(f\"the average of {n1},{n2} and {n3} is {avg}\")\n",
    "    \n",
    "############################################################################################\n",
    " \n",
    "def bill_pay():\n",
    "       \n",
    "    bill=eval(input(\"enter a bill amount\"))\n",
    "    tip_per=eval(input(\"enter the tip in %:\"))\n",
    "    tip_amount=bill*tip_per/100  # 1000*10/100=100\n",
    "    total_amount=bill+tip_amount\n",
    "    print(f\"the total bill is: {total_amount}\")\n",
    "    \n",
    "###########################################################################################    \n",
    "    \n",
    "def even_odd():\n",
    "    \n",
    "    num=random.randint(10,100)\n",
    "    if num%2==0:\n",
    "        print(\"even\")\n",
    "    else:\n",
    "        print (\"odd\")\n",
    "\n",
    "        \n",
    "#####################################################################################\n",
    "\n",
    "def game():\n",
    "    \n",
    "    n1=random.randint(1,10)\n",
    "    n2=eval(input(\"enter the number\"))\n",
    "    if n1==n2:\n",
    "        print(\"in\")\n",
    "    else:\n",
    "        print(\"out\")"
   ]
  },
  {
   "cell_type": "code",
   "execution_count": 11,
   "id": "2b8a3630",
   "metadata": {},
   "outputs": [
    {
     "name": "stdout",
     "output_type": "stream",
     "text": [
      "enter a number1:10\n",
      "enter a number2:20\n",
      "30\n"
     ]
    }
   ],
   "source": [
    "num1=eval(input(\"enter a number1:\"))\n",
    "num2=eval(input(\"enter a number2:\"))\n",
    "def summ():\n",
    "    print(num1+num2)\n",
    "    \n",
    "summ()    \n",
    "    \n",
    "    "
   ]
  },
  {
   "cell_type": "code",
   "execution_count": 12,
   "id": "d1e97073",
   "metadata": {},
   "outputs": [
    {
     "name": "stdout",
     "output_type": "stream",
     "text": [
      "enter the number6\n",
      "out\n",
      "random: 9\n"
     ]
    },
    {
     "ename": "NameError",
     "evalue": "name 'n2' is not defined",
     "output_type": "error",
     "traceback": [
      "\u001b[1;31m---------------------------------------------------------------------------\u001b[0m",
      "\u001b[1;31mNameError\u001b[0m                                 Traceback (most recent call last)",
      "Cell \u001b[1;32mIn[12], line 10\u001b[0m\n\u001b[0;32m      8\u001b[0m game()\n\u001b[0;32m      9\u001b[0m \u001b[38;5;28mprint\u001b[39m(\u001b[38;5;124m\"\u001b[39m\u001b[38;5;124mrandom:\u001b[39m\u001b[38;5;124m\"\u001b[39m,n1)\n\u001b[1;32m---> 10\u001b[0m \u001b[38;5;28mprint\u001b[39m(\u001b[38;5;124m\"\u001b[39m\u001b[38;5;124muser:\u001b[39m\u001b[38;5;124m\"\u001b[39m,n2)\n",
      "\u001b[1;31mNameError\u001b[0m: name 'n2' is not defined"
     ]
    }
   ],
   "source": [
    "n1=random.randint(1,10)     # global\n",
    "def game():\n",
    "    n2=eval(input(\"enter the number:\"))\n",
    "    if n1==n2:\n",
    "        print(\"in\")\n",
    "    else:\n",
    "        print(\"out\")\n",
    "game()\n",
    "print(\"random:\",n1)\n",
    "print(\"user:\",n2)\n",
    "\n",
    "\n",
    "\n",
    "# step-1: same random number stored in n1\n",
    "# step-2: you define the function\n",
    "# step-3: call the function\n",
    "#         it is going to sleep-2 and execute the lines\n",
    "#         user value will store in n2\n",
    "#         apply the condition print in or out\n",
    "# step-4: you are print the random n1: global variable\n",
    "# step-5: you are print the n2: local variable\n"
   ]
  },
  {
   "cell_type": "code",
   "execution_count": 14,
   "id": "8a142b34",
   "metadata": {},
   "outputs": [
    {
     "name": "stdout",
     "output_type": "stream",
     "text": [
      "enter the number20\n",
      "even\n"
     ]
    }
   ],
   "source": [
    "    \n",
    "def even_odd(num):\n",
    "    if num%2==0:\n",
    "        print(\"even\")\n",
    "    else:\n",
    "        print (\"odd\")\n",
    "num=eval(input(\"enter the number:\"))\n",
    "even_odd(num)\n",
    "        \n",
    "        "
   ]
  },
  {
   "cell_type": "code",
   "execution_count": null,
   "id": "146e4f6d",
   "metadata": {},
   "outputs": [],
   "source": [
    "    \n",
    "def even_odd(num):\n",
    "    \n",
    "    if num%2==0:\n",
    "        print(\"even\")\n",
    "    else:\n",
    "        print (\"odd\")\n",
    "               \n",
    "even_odd(20)      ###############################################################\n",
    "               \n",
    "even_odd(eval(input(\"enter the number\")))  # local\n",
    "num=eval(input(\"enter the numbeer\"))\n",
    "even_odd(num)                             # global\n",
    "         \n",
    "num=random.randint(1,50)                  # global\n",
    "even_odd(num)"
   ]
  },
  {
   "cell_type": "code",
   "execution_count": 4,
   "id": "973013ad",
   "metadata": {},
   "outputs": [
    {
     "name": "stdout",
     "output_type": "stream",
     "text": [
      "enter the number20\n",
      "even\n"
     ]
    },
    {
     "ename": "NameError",
     "evalue": "name 'num11' is not defined",
     "output_type": "error",
     "traceback": [
      "\u001b[1;31m---------------------------------------------------------------------------\u001b[0m",
      "\u001b[1;31mNameError\u001b[0m                                 Traceback (most recent call last)",
      "Cell \u001b[1;32mIn[4], line 9\u001b[0m\n\u001b[0;32m      6\u001b[0m         \u001b[38;5;28mprint\u001b[39m (\u001b[38;5;124m\"\u001b[39m\u001b[38;5;124modd\u001b[39m\u001b[38;5;124m\"\u001b[39m)\n\u001b[0;32m      8\u001b[0m even_odd(\u001b[38;5;28meval\u001b[39m(\u001b[38;5;28minput\u001b[39m(\u001b[38;5;124m\"\u001b[39m\u001b[38;5;124menter the number\u001b[39m\u001b[38;5;124m\"\u001b[39m))) \n\u001b[1;32m----> 9\u001b[0m \u001b[38;5;28mprint\u001b[39m(num11)\n",
      "\u001b[1;31mNameError\u001b[0m: name 'num11' is not defined"
     ]
    }
   ],
   "source": [
    "def even_odd(num11):\n",
    "    \n",
    "    if num11%2==0:\n",
    "        print(\"even\")\n",
    "    else:\n",
    "        print (\"odd\")\n",
    "        \n",
    "even_odd(eval(input(\"enter the number:\"))) \n",
    "print(num11)"
   ]
  },
  {
   "cell_type": "code",
   "execution_count": null,
   "id": "ca900f3c",
   "metadata": {},
   "outputs": [],
   "source": []
  },
  {
   "cell_type": "markdown",
   "id": "ce6cae6e",
   "metadata": {},
   "source": [
    "- variables inside the function is called as local variable\n",
    "\n",
    "- variable outside the function is called as global variable\n",
    "\n",
    "- If you want use a global variable inside the function,intializa that before call the function\n",
    "\n",
    "- If you want to use local variable inside   the function,initialize that before call the function "
   ]
  },
  {
   "cell_type": "code",
   "execution_count": 3,
   "id": "b93082aa",
   "metadata": {},
   "outputs": [
    {
     "name": "stdout",
     "output_type": "stream",
     "text": [
      "even\n"
     ]
    }
   ],
   "source": [
    "num11=20\n",
    "def even_odd(num11):\n",
    "    if num11%2==0:\n",
    "        print(\"even\")\n",
    "    else:\n",
    "        print (\"odd\")    \n",
    "even_odd(num11)\n"
   ]
  },
  {
   "cell_type": "code",
   "execution_count": null,
   "id": "5a1d529a",
   "metadata": {},
   "outputs": [],
   "source": [
    "use local variables, outside the function with out using return\n",
    "global"
   ]
  },
  {
   "cell_type": "code",
   "execution_count": 5,
   "id": "2493ef2b",
   "metadata": {},
   "outputs": [
    {
     "name": "stdout",
     "output_type": "stream",
     "text": [
      "enter a bill amount1000\n",
      "enter the tip in %:10\n",
      "the total bill is: 1100.0\n"
     ]
    }
   ],
   "source": [
    "def bill_pay1():\n",
    "    global total_amount   \n",
    "    bill=eval(input(\"enter a bill amount\"))\n",
    "    tip_per=eval(input(\"enter the tip in %:\"))\n",
    "    tip_amount=bill*tip_per/100  # 1000*10/100=100\n",
    "    total_amount=bill+tip_amount\n",
    "    print(f\"the total bill is: {total_amount}\")\n",
    "    \n",
    "bill_pay1()"
   ]
  },
  {
   "cell_type": "code",
   "execution_count": null,
   "id": "6aa3f88c",
   "metadata": {},
   "outputs": [],
   "source": [
    "# wap ask three numbers as arguments\n",
    "# create add and avg variables inside the function \n",
    "# calculate that add and avg\n",
    "# print outside the function without using return\n"
   ]
  },
  {
   "cell_type": "code",
   "execution_count": 6,
   "id": "f9423a40",
   "metadata": {},
   "outputs": [
    {
     "name": "stdout",
     "output_type": "stream",
     "text": [
      "11\n",
      "3.67\n"
     ]
    }
   ],
   "source": [
    "def arthemetic_oper(n1,n2,n3):\n",
    "    global summ,avg\n",
    "    summ=n1+n2+n3\n",
    "    avg=round(summ/3,2)\n",
    "arthemetic_oper(2,4,5)\n",
    "print(summ)\n",
    "print(avg)\n",
    "    "
   ]
  },
  {
   "cell_type": "markdown",
   "id": "7a26a5f4",
   "metadata": {},
   "source": [
    "# Functions in Function"
   ]
  },
  {
   "cell_type": "code",
   "execution_count": 38,
   "id": "8b97fa65",
   "metadata": {},
   "outputs": [
    {
     "name": "stdout",
     "output_type": "stream",
     "text": [
      "hello\n",
      "how are you\n"
     ]
    }
   ],
   "source": [
    "def greet1():\n",
    "    print(\"hello\")\n",
    "    \n",
    "def greet2():\n",
    "    print(\"how are you\")\n",
    "    \n",
    "greet1()\n",
    "greet2()"
   ]
  },
  {
   "cell_type": "code",
   "execution_count": 41,
   "id": "ccf2498a",
   "metadata": {},
   "outputs": [
    {
     "name": "stdout",
     "output_type": "stream",
     "text": [
      "hello\n",
      "how are you\n"
     ]
    }
   ],
   "source": [
    "def greet1():\n",
    "    print(\"hello\")\n",
    "    \n",
    "def greet2():\n",
    "    greet1()\n",
    "    print(\"how are you\")\n",
    "    \n",
    "\n",
    "greet2()"
   ]
  },
  {
   "cell_type": "code",
   "execution_count": 42,
   "id": "962c4ea2",
   "metadata": {},
   "outputs": [
    {
     "name": "stdout",
     "output_type": "stream",
     "text": [
      "how are you\n",
      "hello\n"
     ]
    }
   ],
   "source": [
    "def greet1():\n",
    "    greet2()\n",
    "    print(\"hello\")\n",
    "    \n",
    "def greet2():\n",
    "    print(\"how are you\")\n",
    "    \n",
    "greet1()    "
   ]
  },
  {
   "cell_type": "code",
   "execution_count": 43,
   "id": "10e970b5",
   "metadata": {},
   "outputs": [
    {
     "ename": "RecursionError",
     "evalue": "maximum recursion depth exceeded",
     "output_type": "error",
     "traceback": [
      "\u001b[1;31m---------------------------------------------------------------------------\u001b[0m",
      "\u001b[1;31mRecursionError\u001b[0m                            Traceback (most recent call last)",
      "Cell \u001b[1;32mIn[43], line 9\u001b[0m\n\u001b[0;32m      6\u001b[0m     greet1()\n\u001b[0;32m      7\u001b[0m     \u001b[38;5;28mprint\u001b[39m(\u001b[38;5;124m\"\u001b[39m\u001b[38;5;124mhow are you\u001b[39m\u001b[38;5;124m\"\u001b[39m)\n\u001b[1;32m----> 9\u001b[0m greet1()\n",
      "Cell \u001b[1;32mIn[43], line 2\u001b[0m, in \u001b[0;36mgreet1\u001b[1;34m()\u001b[0m\n\u001b[0;32m      1\u001b[0m \u001b[38;5;28;01mdef\u001b[39;00m \u001b[38;5;21mgreet1\u001b[39m():\n\u001b[1;32m----> 2\u001b[0m     greet2()\n\u001b[0;32m      3\u001b[0m     \u001b[38;5;28mprint\u001b[39m(\u001b[38;5;124m\"\u001b[39m\u001b[38;5;124mhello\u001b[39m\u001b[38;5;124m\"\u001b[39m)\n",
      "Cell \u001b[1;32mIn[43], line 6\u001b[0m, in \u001b[0;36mgreet2\u001b[1;34m()\u001b[0m\n\u001b[0;32m      5\u001b[0m \u001b[38;5;28;01mdef\u001b[39;00m \u001b[38;5;21mgreet2\u001b[39m():\n\u001b[1;32m----> 6\u001b[0m     greet1()\n\u001b[0;32m      7\u001b[0m     \u001b[38;5;28mprint\u001b[39m(\u001b[38;5;124m\"\u001b[39m\u001b[38;5;124mhow are you\u001b[39m\u001b[38;5;124m\"\u001b[39m)\n",
      "Cell \u001b[1;32mIn[43], line 2\u001b[0m, in \u001b[0;36mgreet1\u001b[1;34m()\u001b[0m\n\u001b[0;32m      1\u001b[0m \u001b[38;5;28;01mdef\u001b[39;00m \u001b[38;5;21mgreet1\u001b[39m():\n\u001b[1;32m----> 2\u001b[0m     greet2()\n\u001b[0;32m      3\u001b[0m     \u001b[38;5;28mprint\u001b[39m(\u001b[38;5;124m\"\u001b[39m\u001b[38;5;124mhello\u001b[39m\u001b[38;5;124m\"\u001b[39m)\n",
      "Cell \u001b[1;32mIn[43], line 6\u001b[0m, in \u001b[0;36mgreet2\u001b[1;34m()\u001b[0m\n\u001b[0;32m      5\u001b[0m \u001b[38;5;28;01mdef\u001b[39;00m \u001b[38;5;21mgreet2\u001b[39m():\n\u001b[1;32m----> 6\u001b[0m     greet1()\n\u001b[0;32m      7\u001b[0m     \u001b[38;5;28mprint\u001b[39m(\u001b[38;5;124m\"\u001b[39m\u001b[38;5;124mhow are you\u001b[39m\u001b[38;5;124m\"\u001b[39m)\n",
      "    \u001b[1;31m[... skipping similar frames: greet1 at line 2 (1484 times), greet2 at line 6 (1484 times)]\u001b[0m\n",
      "Cell \u001b[1;32mIn[43], line 2\u001b[0m, in \u001b[0;36mgreet1\u001b[1;34m()\u001b[0m\n\u001b[0;32m      1\u001b[0m \u001b[38;5;28;01mdef\u001b[39;00m \u001b[38;5;21mgreet1\u001b[39m():\n\u001b[1;32m----> 2\u001b[0m     greet2()\n\u001b[0;32m      3\u001b[0m     \u001b[38;5;28mprint\u001b[39m(\u001b[38;5;124m\"\u001b[39m\u001b[38;5;124mhello\u001b[39m\u001b[38;5;124m\"\u001b[39m)\n",
      "Cell \u001b[1;32mIn[43], line 6\u001b[0m, in \u001b[0;36mgreet2\u001b[1;34m()\u001b[0m\n\u001b[0;32m      5\u001b[0m \u001b[38;5;28;01mdef\u001b[39;00m \u001b[38;5;21mgreet2\u001b[39m():\n\u001b[1;32m----> 6\u001b[0m     greet1()\n\u001b[0;32m      7\u001b[0m     \u001b[38;5;28mprint\u001b[39m(\u001b[38;5;124m\"\u001b[39m\u001b[38;5;124mhow are you\u001b[39m\u001b[38;5;124m\"\u001b[39m)\n",
      "\u001b[1;31mRecursionError\u001b[0m: maximum recursion depth exceeded"
     ]
    }
   ],
   "source": [
    "def greet1():\n",
    "    greet2()\n",
    "    print(\"hello\")\n",
    "    \n",
    "def greet2():\n",
    "    greet1()\n",
    "    print(\"how are you\")\n",
    "    \n",
    "greet1()    "
   ]
  },
  {
   "cell_type": "code",
   "execution_count": null,
   "id": "0ef5e788",
   "metadata": {},
   "outputs": [],
   "source": [
    "def greet1():\n",
    "    print(\"hello\")\n",
    "    \n",
    "def greet2():\n",
    "    print(\"how are you\")\n",
    "    \n",
    "greet1()\n",
    "greet2()\n",
    "##############################################################################################\n",
    "\n",
    "def greet1():\n",
    "    print(\"hello\")\n",
    "    \n",
    "def greet2():\n",
    "    print(\"how are you\")\n",
    "    \n",
    "greet2()\n",
    "\n",
    "###############################################################################################\n",
    "\n",
    "def greet1():\n",
    "    print(\"hello\")\n",
    "    \n",
    "def greet2():\n",
    "    print(\"how are you\")\n",
    "    \n",
    "greet1()\n",
    "\n",
    "##############################################################################################\n",
    "\n",
    "def greet1():\n",
    "    greet2()\n",
    "    print(\"hello\")\n",
    "    \n",
    "def greet2():\n",
    "    greet1()\n",
    "    print(\"how are you\")\n",
    "    \n",
    "greet1()"
   ]
  },
  {
   "cell_type": "code",
   "execution_count": null,
   "id": "35d0b0a6",
   "metadata": {},
   "outputs": [],
   "source": [
    "# calculator program\n",
    "# create 4 functions with arguments\n",
    "# fun:1  add\n",
    "# fun:2  sub\n",
    "# fun:3  mul\n",
    "# fun:4  div\n",
    "\n",
    "\n",
    "# print(\"if you want use add operation pls enter 1\")\n",
    "# print(\"if you want use sub operation pls enter 1\")\n",
    "# print(\"if you want use mul operation pls enter 1\")\n",
    "# print(\"if you want use div operation pls enter 1\")\n",
    "\n",
    "\n",
    "# option=eval(input(\"choose option 1,2,3,4\"))\n",
    "# if operation==1:\n",
    "#    n1=\n",
    "#    n2=\n",
    "#   add(n1,n2)\n",
    "# elif option==2:\n",
    "# sub()\n",
    "\n"
   ]
  },
  {
   "cell_type": "code",
   "execution_count": 7,
   "id": "49f8e84a",
   "metadata": {},
   "outputs": [
    {
     "name": "stdout",
     "output_type": "stream",
     "text": [
      "if you want to youadd operation pls enter 1\n",
      "if you want to you sub operation pls enter 2\n",
      "if you want to you mul operation pls enter 3\n",
      "if you want to you div operation pls enter 4\n",
      "choose option 1,2,3,4: 1\n",
      "enter num1:2\n",
      "enter num2:2\n",
      "sum is 4\n"
     ]
    }
   ],
   "source": [
    "def add():\n",
    "    total=num1+num2\n",
    "    print(f\"sum is {total}\")\n",
    "    \n",
    "def sub():\n",
    "    diff=num1-num2\n",
    "    print(f\"subtraction is {diff}\") \n",
    "    \n",
    "def mul():\n",
    "    fm=num1*num2\n",
    "    print(f\"multiplication is {fm}\")\n",
    "    \n",
    "def div():\n",
    "    fd=round(num1/num2,2)\n",
    "    print(f\"division is {fd}\")\n",
    "    \n",
    "    \n",
    "print(\"if you want to youadd operation pls enter 1\")\n",
    "print(\"if you want to you sub operation pls enter 2\")\n",
    "print(\"if you want to you mul operation pls enter 3\")\n",
    "print(\"if you want to you div operation pls enter 4\")\n",
    "\n",
    "option=eval(input(\"choose option 1,2,3,4: \"))\n",
    "num1=eval(input(\"enter num1:\"))\n",
    "num2=eval(input(\"enter num2:\"))\n",
    "\n",
    "if option==1:\n",
    "    add()\n",
    "elif option==2:\n",
    "    sub()\n",
    "elif option==3:\n",
    "    mul()\n",
    "elif option==4:\n",
    "    div()\n",
    "else:\n",
    "    print(\"please select approeriate option\")"
   ]
  },
  {
   "cell_type": "code",
   "execution_count": 8,
   "id": "f2e0e9fc",
   "metadata": {},
   "outputs": [
    {
     "name": "stdout",
     "output_type": "stream",
     "text": [
      "if you want to use add operation pls enter 1\n",
      "if you want to use sub operation pls enter 2\n",
      "if you want to use mul operation pls enter 3\n",
      "if you want to use div operation pls enter 4\n",
      "enter your option:2\n",
      "enter a n1:43\n",
      "enter a n2:32\n",
      "enter a n1:32\n",
      "enter a n2:23\n"
     ]
    }
   ],
   "source": [
    "def add(n1,n2):\n",
    "    n3=n1+n2\n",
    "    print(f\"{n3}\")\n",
    "    \n",
    "def sub(n1,n2):\n",
    "    n3=(n1-n2)\n",
    "    print(f\"{n3}\")\n",
    "def mul(n1,n2):\n",
    "    n3=n1*n2\n",
    "    print(f\"{n3}\")\n",
    "def div(n1,n2):\n",
    "    n3=n1/n2\n",
    "    print(f\"{n3}\")\n",
    "print(\"if you want to use add operation pls enter 1\")\n",
    "print(\"if you want to use sub operation pls enter 2\")\n",
    "print(\"if you want to use mul operation pls enter 3\")\n",
    "print(\"if you want to use div operation pls enter 4\")\n",
    "\n",
    "option=eval(input(\"enter your option:\"))\n",
    "          \n",
    "n1=eval(input(\"enter a n1:\"))\n",
    "n2=eval(input(\"enter a n2:\"))\n",
    "\n",
    "if option==1:\n",
    "    n1=eval(input(\"enter a n1:\"))\n",
    "    n2=eval(input(\"enter a n2:\"))\n",
    "    add(n1,n2)      \n",
    "          \n",
    "elif option==2:\n",
    "    n1=eval(input(\"enter a n1:\"))\n",
    "    n2=eval(input(\"enter a n2:\"))\n",
    "    sub=(n1,n2)      \n",
    "elif option==3:\n",
    "    n1=eval(input(\"enter a n1:\"))\n",
    "    n2=eval(input(\"enter a n2:\"))\n",
    "    mul(n1,n2)           \n",
    "else:\n",
    "    n1=eval(input(\"enter a n1:\"))\n",
    "    n2=eval(input(\"enter a n2:\"))\n",
    "    div(n1,n2)     \n"
   ]
  },
  {
   "cell_type": "code",
   "execution_count": null,
   "id": "46b785c0",
   "metadata": {},
   "outputs": [],
   "source": []
  },
  {
   "cell_type": "code",
   "execution_count": 8,
   "id": "0e06791f",
   "metadata": {},
   "outputs": [
    {
     "name": "stdout",
     "output_type": "stream",
     "text": [
      "if you want to use add operation pls enter 1\n",
      "if you want to use sub operation pls enter 2\n",
      "if you want to use mul operation pls enter 3\n",
      "if you want to use div operation pls enter 4\n",
      "enter the option:4\n",
      "enter a num1:200\n",
      "enter a num2:100\n",
      "result : (200, 100)\n"
     ]
    }
   ],
   "source": [
    "# calculator program\n",
    "# create 4 functions with arguments\n",
    "# fun:1  add\n",
    "# fun:2  sub\n",
    "# fun:3  mul\n",
    "# fun:4  div\n",
    "# print(\"ask user for option to choose option\")\n",
    "# 1 for add, 2 for sub,3 for mul, 4 for div\n",
    "\n",
    "\n",
    "def add(n1,n2):\n",
    "    return n1+n2\n",
    "\n",
    "def sub(n1,n2):\n",
    "    return n1-n2\n",
    "\n",
    "def mul(n1,n2):\n",
    "    return n1*n2\n",
    "\n",
    "def div(n1,n2):\n",
    "    return n1/n2\n",
    "\n",
    "print(\"if you want to use add operation pls enter 1\")\n",
    "print(\"if you want to use sub operation pls enter 2\")\n",
    "print(\"if you want to use mul operation pls enter 3\")\n",
    "print(\"if you want to use div operation pls enter 4\")\n",
    "\n",
    "option=eval(input(\"enter the option:\"))\n",
    "num1=eval(input(\"enter a num1:\"))\n",
    "num2=eval(input(\"enter a num2:\"))\n",
    "\n",
    "if option==1:\n",
    "    result=add(num1,num2)\n",
    "elif option==2:\n",
    "    result=sub(num1,num2)\n",
    "elif option==3:\n",
    "    result=(num1,num2)\n",
    "elif option==4:\n",
    "    result=(num1,num2)\n",
    "else:\n",
    "    print(\"kindly provide proper option\")\n",
    "print(\"result :\",result)    \n"
   ]
  },
  {
   "cell_type": "code",
   "execution_count": 6,
   "id": "80ee5db1",
   "metadata": {},
   "outputs": [
    {
     "name": "stdout",
     "output_type": "stream",
     "text": [
      "if you want to use add operation pls enter 1\n",
      "if you want to use sub operation pls enter 2\n",
      "if you want to use mul operation pls enter 3\n",
      "if you want to use div operation pls enter 4\n",
      "enter your option:4\n",
      "enter a number:400\n",
      "enter a number:20\n",
      "20.0\n"
     ]
    }
   ],
   "source": [
    "def add(n1,n2):\n",
    "    print(n1+n2)\n",
    "    return(n1,n2)\n",
    "def sub(n1,n2):\n",
    "    print(n1-n2)\n",
    "    return(n1,n2)\n",
    "def mul(n1,n2):\n",
    "    print(n1*n2)\n",
    "    return(n1,n2)\n",
    "def div(n1,n2):\n",
    "    print(n1/n2)\n",
    "    return(n1,n2)\n",
    "print(\"if you want to use add operation pls enter 1\")\n",
    "print(\"if you want to use sub operation pls enter 2\")\n",
    "print(\"if you want to use mul operation pls enter 3\")\n",
    "print(\"if you want to use div operation pls enter 4\")\n",
    "\n",
    "option=eval(input(\"enter your option:\"))\n",
    "n1=eval(input(\"enter a number:\"))\n",
    "n2=eval(input(\"enter a number:\"))\n",
    "\n",
    "if option==1:\n",
    "    add(n1,n2)\n",
    "elif option==2:\n",
    "    sub(n1,n2)\n",
    "elif option==3:\n",
    "    mul(n1,n2)\n",
    "elif option==4:\n",
    "    div(n1,n2)\n",
    "else:\n",
    "    print(\"choose the right option\")\n"
   ]
  },
  {
   "cell_type": "code",
   "execution_count": null,
   "id": "f979ffbe",
   "metadata": {},
   "outputs": [],
   "source": []
  },
  {
   "cell_type": "code",
   "execution_count": null,
   "id": "5f114936",
   "metadata": {},
   "outputs": [],
   "source": [
    "# for 1st number  : 20\n",
    "if-else"
   ]
  }
 ],
 "metadata": {
  "kernelspec": {
   "display_name": "Python 3 (ipykernel)",
   "language": "python",
   "name": "python3"
  },
  "language_info": {
   "codemirror_mode": {
    "name": "ipython",
    "version": 3
   },
   "file_extension": ".py",
   "mimetype": "text/x-python",
   "name": "python",
   "nbconvert_exporter": "python",
   "pygments_lexer": "ipython3",
   "version": "3.11.5"
  }
 },
 "nbformat": 4,
 "nbformat_minor": 5
}
