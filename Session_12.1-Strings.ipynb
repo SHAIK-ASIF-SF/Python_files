{
 "cells": [
  {
   "cell_type": "code",
   "execution_count": 78,
   "id": "de441f20",
   "metadata": {},
   "outputs": [
    {
     "data": {
      "text/plain": [
       "'weLcome'"
      ]
     },
     "execution_count": 78,
     "metadata": {},
     "output_type": "execute_result"
    }
   ],
   "source": [
    "str1='welcome'\n",
    "str1.replace('l','L')\n"
   ]
  },
  {
   "cell_type": "code",
   "execution_count": 1,
   "id": "1420b8fb",
   "metadata": {},
   "outputs": [
    {
     "data": {
      "text/plain": [
       "(1, 5, 9)"
      ]
     },
     "execution_count": 1,
     "metadata": {},
     "output_type": "execute_result"
    }
   ],
   "source": [
    "# Return the lowest index in 5 where substring\n",
    "str2='hai hai hai'\n",
    "i1=str2.index('a')\n",
    "i2=str2.index('a',2)\n",
    "i3=str2.index('a',6)\n",
    "\n",
    "i1,i2,i3\n",
    "\n",
    "# 1). what is the meaning of index :0 h\n",
    "# 2). what is the index methoud will do : it will do finding position"
   ]
  },
  {
   "cell_type": "code",
   "execution_count": null,
   "id": "6ef041ef",
   "metadata": {},
   "outputs": [],
   "source": []
  },
  {
   "cell_type": "code",
   "execution_count": 2,
   "id": "28e440db",
   "metadata": {},
   "outputs": [
    {
     "data": {
      "text/plain": [
       "(1, 5, 9)"
      ]
     },
     "execution_count": 2,
     "metadata": {},
     "output_type": "execute_result"
    }
   ],
   "source": [
    "str2='hai hai hai'\n",
    "i1=str2.index('a')     # 1\n",
    "i2=str2.index('a',i1+1)# 5\n",
    "i3=str2.index('a',i2+1)# 9\n",
    "i4=str,2index('a',i3+1)\n",
    "\n",
    "i1,i2,i3\n"
   ]
  },
  {
   "cell_type": "code",
   "execution_count": null,
   "id": "a94505a3",
   "metadata": {},
   "outputs": [],
   "source": []
  },
  {
   "cell_type": "code",
   "execution_count": null,
   "id": "85da8182",
   "metadata": {},
   "outputs": [],
   "source": []
  },
  {
   "cell_type": "code",
   "execution_count": 3,
   "id": "cc54674b",
   "metadata": {},
   "outputs": [
    {
     "name": "stdout",
     "output_type": "stream",
     "text": [
      "1\n",
      "5\n",
      "9\n"
     ]
    }
   ],
   "source": [
    "for i in range(len(str2)):\n",
    "    if str2[i]=='a':\n",
    "        print(i)"
   ]
  },
  {
   "cell_type": "markdown",
   "id": "c538b776",
   "metadata": {},
   "source": [
    "**if substring not found**\n",
    "- replace : same string\n",
    "\n",
    "- count   : 0\n",
    "    \n",
    "\n",
    "- index   : error"
   ]
  },
  {
   "cell_type": "code",
   "execution_count": null,
   "id": "0386ddc8",
   "metadata": {},
   "outputs": [],
   "source": []
  },
  {
   "cell_type": "markdown",
   "id": "7a47b12e",
   "metadata": {},
   "source": [
    "$find$"
   ]
  },
  {
   "cell_type": "code",
   "execution_count": null,
   "id": "cb4a1a1a",
   "metadata": {},
   "outputs": [],
   "source": [
    "# importand index and find diff b/w "
   ]
  },
  {
   "cell_type": "code",
   "execution_count": 2,
   "id": "3937afa0",
   "metadata": {},
   "outputs": [
    {
     "data": {
      "text/plain": [
       "(1, 5, 9, -1, 1)"
      ]
     },
     "execution_count": 2,
     "metadata": {},
     "output_type": "execute_result"
    }
   ],
   "source": [
    "str2='hai hai hai'\n",
    "i1=str2.find('a',)     # 1\n",
    "i2=str2.find('a',i1+1)# 5\n",
    "i3=str2.find('a',i2+1)# 9\n",
    "i4=str2.find('a',i3+1)\n",
    "i5=str2.find('a',i4+1)\n",
    "\n",
    "i1,i2,i3,i4,i5\n"
   ]
  },
  {
   "cell_type": "markdown",
   "id": "d05abb7a",
   "metadata": {},
   "source": [
    "# If substring not found find methoud will return-1"
   ]
  },
  {
   "cell_type": "markdown",
   "id": "25e1a5c7",
   "metadata": {},
   "source": [
    "## If substring not found"
   ]
  },
  {
   "cell_type": "markdown",
   "id": "fec0727f",
   "metadata": {},
   "source": [
    "- replace : same string\n",
    "\n",
    "- count   : 0\n",
    "    \n",
    "\n",
    "- index   : error\n",
    "    \n",
    "- find    : -1    "
   ]
  },
  {
   "cell_type": "code",
   "execution_count": null,
   "id": "d941987d",
   "metadata": {},
   "outputs": [],
   "source": [
    "s1='omkar.nallagoni@cognizant.com'\n",
    "# first name='omkar'\n",
    "# sur name='omkar'\n",
    "# cname='cognizant'\n",
    "\n",
    "\n",
    "s2='virat.kohli@mi.com'\n",
    "s3='lokesh.rahul@lsg.com'\n",
    "s4='asif.shaik@google.com'\n",
    "s5='mahendra.sing@dhoni.csk!'\n",
    "\n",
    "\n",
    "# idea-1  :extract  . index  s1[0:<.index>]\n",
    "# idea-2  : extract @ index  s1[.:@]\n",
    "# idea3-3: extract second . index s1[@:.]\n"
   ]
  },
  {
   "cell_type": "code",
   "execution_count": 10,
   "id": "f16b8e74",
   "metadata": {},
   "outputs": [
    {
     "data": {
      "text/plain": [
       "('omkar', 'nallagoni', 'cognizant')"
      ]
     },
     "execution_count": 10,
     "metadata": {},
     "output_type": "execute_result"
    }
   ],
   "source": [
    "s1='omkar.nallagoni@cognizant.com'\n",
    "    #01234\n",
    "#s1[0:5]\n",
    "# 5 should come automatically\n",
    "# 5 is an index of '.'\n",
    "i1=s1.index('.')\n",
    "i2=s1.index('@')\n",
    "i3=s1.index('.',i1+1)\n",
    "fname=s1[:i1]\n",
    "sname=s1[i1+1:i2]\n",
    "cname=s1[i2+1:i3]\n",
    "fname,sname,cname"
   ]
  },
  {
   "cell_type": "code",
   "execution_count": null,
   "id": "e286eae4",
   "metadata": {},
   "outputs": [],
   "source": []
  },
  {
   "cell_type": "code",
   "execution_count": 4,
   "id": "9ab6b12a",
   "metadata": {},
   "outputs": [
    {
     "data": {
      "text/plain": [
       "('virat', 'kohli', 'mi')"
      ]
     },
     "execution_count": 4,
     "metadata": {},
     "output_type": "execute_result"
    }
   ],
   "source": [
    "s2='virat.kohli@mi.com'\n",
    "i1=s2.index('.')\n",
    "i2=s2.index('@')\n",
    "i3=s2.index('.',i1+1)\n",
    "fname=s2[:i1]\n",
    "sname=s2[i1+1:i2]\n",
    "tname=s2[i2+1:i3]\n",
    "fname,sname,tname\n",
    "\n"
   ]
  },
  {
   "cell_type": "code",
   "execution_count": 5,
   "id": "fe9f6dd1",
   "metadata": {},
   "outputs": [
    {
     "data": {
      "text/plain": [
       "('virat', 'rahul', 'lsg')"
      ]
     },
     "execution_count": 5,
     "metadata": {},
     "output_type": "execute_result"
    }
   ],
   "source": [
    "s3='lokesh.rahul@lsg.com'\n",
    "i1=s3.index('.')\n",
    "i2=s3.index('@')\n",
    "i3=s3.index('.',i1+1)\n",
    "faname=s3[:i1]\n",
    "sname=s3[i1+1:i2]\n",
    "tname=s3[i2+1:i3]\n",
    "fname,sname,tname\n"
   ]
  },
  {
   "cell_type": "code",
   "execution_count": 7,
   "id": "308bb2d0",
   "metadata": {},
   "outputs": [
    {
     "data": {
      "text/plain": [
       "('asif', 'shaik', 'google')"
      ]
     },
     "execution_count": 7,
     "metadata": {},
     "output_type": "execute_result"
    }
   ],
   "source": [
    "s4='asif.shaik@google.com'\n",
    "\n",
    "i1=s4.index('.')\n",
    "i2=s4.index('@')\n",
    "i3=s4.index('.',i1+1)\n",
    "fname=s4[:i1]\n",
    "sname=s4[i1+1:i2]\n",
    "cname=s4[i2+1:i3]\n",
    "fname,sname,cname"
   ]
  },
  {
   "cell_type": "code",
   "execution_count": 13,
   "id": "e15f258d",
   "metadata": {},
   "outputs": [
    {
     "data": {
      "text/plain": [
       "('mahendra', 'sing', 'dhoni')"
      ]
     },
     "execution_count": 13,
     "metadata": {},
     "output_type": "execute_result"
    }
   ],
   "source": [
    "s5='mahendra.sing@dhoni.csk!'\n",
    "\n",
    "i1=s5.index('.')\n",
    "i2=s5.index('@')\n",
    "i3=s5.index('.',i1+1)\n",
    "fname=s5[:i1]\n",
    "sname=s5[i1+1:i2]\n",
    "tname=s5[i2+1:i3]\n",
    "\n",
    "fname,sname,tname\n"
   ]
  },
  {
   "cell_type": "markdown",
   "id": "c76b0570",
   "metadata": {},
   "source": [
    "$lstrip$-$rstrip$"
   ]
  },
  {
   "cell_type": "code",
   "execution_count": 16,
   "id": "50e766c7",
   "metadata": {},
   "outputs": [],
   "source": [
    "str1=' python '\n",
    "str2=' python'\n",
    "str3='python '"
   ]
  },
  {
   "cell_type": "code",
   "execution_count": 17,
   "id": "4a96f10d",
   "metadata": {},
   "outputs": [
    {
     "data": {
      "text/plain": [
       "('python', 'python ', ' python')"
      ]
     },
     "execution_count": 17,
     "metadata": {},
     "output_type": "execute_result"
    }
   ],
   "source": [
    "# str1 has space in both sides\n",
    "str1.strip(),str1.lstrip(),str1.rstrip()"
   ]
  },
  {
   "cell_type": "code",
   "execution_count": 18,
   "id": "418eacba",
   "metadata": {},
   "outputs": [
    {
     "data": {
      "text/plain": [
       "'python'"
      ]
     },
     "execution_count": 18,
     "metadata": {},
     "output_type": "execute_result"
    }
   ],
   "source": [
    "str2='@@@@python@@@@'\n",
    "str2.strip('@')"
   ]
  },
  {
   "cell_type": "code",
   "execution_count": 19,
   "id": "9948d952",
   "metadata": {},
   "outputs": [
    {
     "data": {
      "text/plain": [
       "'python'"
      ]
     },
     "execution_count": 19,
     "metadata": {},
     "output_type": "execute_result"
    }
   ],
   "source": [
    "str1=' python '\n",
    "str1.strip()  # nothing mentioned empty space"
   ]
  },
  {
   "cell_type": "code",
   "execution_count": null,
   "id": "02a77252",
   "metadata": {},
   "outputs": [],
   "source": [
    "str2='@@@@python$$$$'\n",
    "str2.lstrip('@').rstip('')"
   ]
  },
  {
   "cell_type": "code",
   "execution_count": null,
   "id": "e587b7c6",
   "metadata": {},
   "outputs": [],
   "source": []
  },
  {
   "cell_type": "code",
   "execution_count": null,
   "id": "d9f1bd20",
   "metadata": {},
   "outputs": [],
   "source": []
  },
  {
   "cell_type": "code",
   "execution_count": 24,
   "id": "1608c82d",
   "metadata": {},
   "outputs": [
    {
     "data": {
      "text/plain": [
       "'python'"
      ]
     },
     "execution_count": 24,
     "metadata": {},
     "output_type": "execute_result"
    }
   ],
   "source": [
    "str2.strip('@$')"
   ]
  },
  {
   "cell_type": "code",
   "execution_count": 30,
   "id": "51c78b46",
   "metadata": {},
   "outputs": [
    {
     "data": {
      "text/plain": [
       "'hello /r/r/r/n/ how are you'"
      ]
     },
     "execution_count": 30,
     "metadata": {},
     "output_type": "execute_result"
    }
   ],
   "source": [
    "str1='hello /r/r/r/n/ how are you'\n",
    "#op   'hello how are you'\n",
    "str1.strip('r')\n",
    "\n",
    "#str1.lstrip('r')\n",
    "#str1.rstrip('r')\n"
   ]
  },
  {
   "cell_type": "code",
   "execution_count": null,
   "id": "da21c837",
   "metadata": {},
   "outputs": [],
   "source": []
  },
  {
   "cell_type": "code",
   "execution_count": null,
   "id": "e159c0c8",
   "metadata": {},
   "outputs": [],
   "source": []
  },
  {
   "cell_type": "markdown",
   "id": "453acbd5",
   "metadata": {},
   "source": [
    "$Startswith-endswith$"
   ]
  },
  {
   "cell_type": "code",
   "execution_count": 31,
   "id": "5f0bb14b",
   "metadata": {},
   "outputs": [
    {
     "data": {
      "text/plain": [
       "True"
      ]
     },
     "execution_count": 31,
     "metadata": {},
     "output_type": "execute_result"
    }
   ],
   "source": [
    "s1='hai how are you'\n",
    "s1.startswith('hai')"
   ]
  },
  {
   "cell_type": "code",
   "execution_count": 32,
   "id": "150c0062",
   "metadata": {},
   "outputs": [
    {
     "data": {
      "text/plain": [
       "False"
      ]
     },
     "execution_count": 32,
     "metadata": {},
     "output_type": "execute_result"
    }
   ],
   "source": [
    "s1='hai how are you'\n",
    "s1.startswith('hi')"
   ]
  },
  {
   "cell_type": "code",
   "execution_count": 33,
   "id": "7a22d0b5",
   "metadata": {},
   "outputs": [
    {
     "data": {
      "text/plain": [
       "True"
      ]
     },
     "execution_count": 33,
     "metadata": {},
     "output_type": "execute_result"
    }
   ],
   "source": [
    "s1.startswith(s1)"
   ]
  },
  {
   "cell_type": "code",
   "execution_count": null,
   "id": "d73a34a2",
   "metadata": {},
   "outputs": [],
   "source": []
  },
  {
   "cell_type": "markdown",
   "id": "1d9ba91d",
   "metadata": {},
   "source": [
    "$endswith$"
   ]
  },
  {
   "cell_type": "code",
   "execution_count": 36,
   "id": "cd60ad2c",
   "metadata": {},
   "outputs": [
    {
     "data": {
      "text/plain": [
       "True"
      ]
     },
     "execution_count": 36,
     "metadata": {},
     "output_type": "execute_result"
    }
   ],
   "source": [
    "s1='hai how are you'\n",
    "s1.endswith('you')"
   ]
  },
  {
   "cell_type": "code",
   "execution_count": 37,
   "id": "29db7e6d",
   "metadata": {},
   "outputs": [
    {
     "data": {
      "text/plain": [
       "False"
      ]
     },
     "execution_count": 37,
     "metadata": {},
     "output_type": "execute_result"
    }
   ],
   "source": [
    "s1='hai how are you'\n",
    "s1.endswith('are')"
   ]
  },
  {
   "cell_type": "code",
   "execution_count": null,
   "id": "efa3d5ae",
   "metadata": {},
   "outputs": [],
   "source": []
  },
  {
   "cell_type": "code",
   "execution_count": 39,
   "id": "154b7a6d",
   "metadata": {},
   "outputs": [
    {
     "data": {
      "text/plain": [
       "True"
      ]
     },
     "execution_count": 39,
     "metadata": {},
     "output_type": "execute_result"
    }
   ],
   "source": [
    "s1='hai how are you'\n",
    "s1.startswith('hai')"
   ]
  },
  {
   "cell_type": "code",
   "execution_count": null,
   "id": "0100b92e",
   "metadata": {},
   "outputs": [],
   "source": []
  },
  {
   "cell_type": "code",
   "execution_count": 34,
   "id": "fa22c204",
   "metadata": {},
   "outputs": [
    {
     "data": {
      "text/plain": [
       "True"
      ]
     },
     "execution_count": 34,
     "metadata": {},
     "output_type": "execute_result"
    }
   ],
   "source": [
    "s1='hai how are you'\n",
    "s1.endswith('you')\n",
    "s1.endswith(s1)"
   ]
  },
  {
   "cell_type": "markdown",
   "id": "f3b16bee",
   "metadata": {},
   "source": []
  },
  {
   "cell_type": "markdown",
   "id": "8cd6c94b",
   "metadata": {},
   "source": [
    "$split$"
   ]
  },
  {
   "cell_type": "code",
   "execution_count": 40,
   "id": "ff6722e2",
   "metadata": {},
   "outputs": [
    {
     "data": {
      "text/plain": [
       "['hai', 'how', 'are', 'you']"
      ]
     },
     "execution_count": 40,
     "metadata": {},
     "output_type": "execute_result"
    }
   ],
   "source": [
    "# It will split the words  \n",
    "# and the words output will be in list\n",
    "s1='hai how are you'\n",
    "s1.split()"
   ]
  },
  {
   "cell_type": "code",
   "execution_count": 41,
   "id": "ca8ab1b7",
   "metadata": {},
   "outputs": [
    {
     "data": {
      "text/plain": [
       "['hai how are you']"
      ]
     },
     "execution_count": 41,
     "metadata": {},
     "output_type": "execute_result"
    }
   ],
   "source": [
    "s2='hai how are you'\n",
    "s2.split(',')"
   ]
  },
  {
   "cell_type": "code",
   "execution_count": 42,
   "id": "284a19c3",
   "metadata": {},
   "outputs": [
    {
     "data": {
      "text/plain": [
       "['h', 'i how ', 're you']"
      ]
     },
     "execution_count": 42,
     "metadata": {},
     "output_type": "execute_result"
    }
   ],
   "source": [
    "s3='hai how are you'\n",
    "s3.split('a')\n",
    "# h, i how ,re you"
   ]
  },
  {
   "cell_type": "markdown",
   "id": "a1cf2167",
   "metadata": {},
   "source": [
    "- Captalize/upper/lower/casefold\n",
    "- replace\n",
    "- count\n",
    "- index/find\n",
    "- strip/ lstip/ rstrip\n",
    "- startswith/ endswith"
   ]
  },
  {
   "cell_type": "code",
   "execution_count": null,
   "id": "997bc43f",
   "metadata": {},
   "outputs": [],
   "source": []
  },
  {
   "cell_type": "code",
   "execution_count": null,
   "id": "2f6bfe10",
   "metadata": {},
   "outputs": [],
   "source": [
    "###################################3    just discover   ##################################################"
   ]
  },
  {
   "cell_type": "code",
   "execution_count": 47,
   "id": "4f52e351",
   "metadata": {},
   "outputs": [
    {
     "data": {
      "text/plain": [
       "['__add__',\n",
       " '__class__',\n",
       " '__contains__',\n",
       " '__delattr__',\n",
       " '__dir__',\n",
       " '__doc__',\n",
       " '__eq__',\n",
       " '__format__',\n",
       " '__ge__',\n",
       " '__getattribute__',\n",
       " '__getitem__',\n",
       " '__getnewargs__',\n",
       " '__getstate__',\n",
       " '__gt__',\n",
       " '__hash__',\n",
       " '__init__',\n",
       " '__init_subclass__',\n",
       " '__iter__',\n",
       " '__le__',\n",
       " '__len__',\n",
       " '__lt__',\n",
       " '__mod__',\n",
       " '__mul__',\n",
       " '__ne__',\n",
       " '__new__',\n",
       " '__reduce__',\n",
       " '__reduce_ex__',\n",
       " '__repr__',\n",
       " '__rmod__',\n",
       " '__rmul__',\n",
       " '__setattr__',\n",
       " '__sizeof__',\n",
       " '__str__',\n",
       " '__subclasshook__',\n",
       " 'capitalize',\n",
       " 'casefold',\n",
       " 'center',\n",
       " 'count',\n",
       " 'encode',\n",
       " 'endswith',\n",
       " 'expandtabs',\n",
       " 'find',\n",
       " 'format',\n",
       " 'format_map',\n",
       " 'index',\n",
       " 'isalnum',\n",
       " 'isalpha',\n",
       " 'isascii',\n",
       " 'isdecimal',\n",
       " 'isdigit',\n",
       " 'isidentifier',\n",
       " 'islower',\n",
       " 'isnumeric',\n",
       " 'isprintable',\n",
       " 'isspace',\n",
       " 'istitle',\n",
       " 'isupper',\n",
       " 'join',\n",
       " 'ljust',\n",
       " 'lower',\n",
       " 'lstrip',\n",
       " 'maketrans',\n",
       " 'partition',\n",
       " 'removeprefix',\n",
       " 'removesuffix',\n",
       " 'replace',\n",
       " 'rfind',\n",
       " 'rindex',\n",
       " 'rjust',\n",
       " 'rpartition',\n",
       " 'rsplit',\n",
       " 'rstrip',\n",
       " 'split',\n",
       " 'splitlines',\n",
       " 'startswith',\n",
       " 'strip',\n",
       " 'swapcase',\n",
       " 'title',\n",
       " 'translate',\n",
       " 'upper',\n",
       " 'zfill']"
      ]
     },
     "execution_count": 47,
     "metadata": {},
     "output_type": "execute_result"
    }
   ],
   "source": [
    "s1='python'\n",
    "dir(s1)"
   ]
  },
  {
   "cell_type": "code",
   "execution_count": 48,
   "id": "9884cc9e",
   "metadata": {},
   "outputs": [
    {
     "data": {
      "text/plain": [
       "True"
      ]
     },
     "execution_count": 48,
     "metadata": {},
     "output_type": "execute_result"
    }
   ],
   "source": [
    "s1='python'\n",
    "s1.isalnum()"
   ]
  },
  {
   "cell_type": "code",
   "execution_count": 51,
   "id": "1424c355",
   "metadata": {},
   "outputs": [
    {
     "data": {
      "text/plain": [
       "True"
      ]
     },
     "execution_count": 51,
     "metadata": {},
     "output_type": "execute_result"
    }
   ],
   "source": [
    "s1='python'\n",
    "s1.isalpha()"
   ]
  },
  {
   "cell_type": "code",
   "execution_count": 56,
   "id": "00ec8caa",
   "metadata": {},
   "outputs": [
    {
     "data": {
      "text/plain": [
       "True"
      ]
     },
     "execution_count": 56,
     "metadata": {},
     "output_type": "execute_result"
    }
   ],
   "source": [
    "s1='datascience'\n",
    "s1.isalnum()"
   ]
  },
  {
   "cell_type": "code",
   "execution_count": 54,
   "id": "b240e860",
   "metadata": {},
   "outputs": [
    {
     "data": {
      "text/plain": [
       "True"
      ]
     },
     "execution_count": 54,
     "metadata": {},
     "output_type": "execute_result"
    }
   ],
   "source": [
    "s1='datascience'\n",
    "s1.isalpha()"
   ]
  },
  {
   "cell_type": "code",
   "execution_count": 73,
   "id": "5e1729bd",
   "metadata": {},
   "outputs": [
    {
     "data": {
      "text/plain": [
       "False"
      ]
     },
     "execution_count": 73,
     "metadata": {},
     "output_type": "execute_result"
    }
   ],
   "source": [
    "str1='hai hello how are you'\n",
    "str1.isalnum()"
   ]
  },
  {
   "cell_type": "code",
   "execution_count": 77,
   "id": "217bb08c",
   "metadata": {},
   "outputs": [
    {
     "data": {
      "text/plain": [
       "True"
      ]
     },
     "execution_count": 77,
     "metadata": {},
     "output_type": "execute_result"
    }
   ],
   "source": [
    "str2=\"mynameisasif\"\n",
    "str2.isalnum()"
   ]
  },
  {
   "cell_type": "code",
   "execution_count": null,
   "id": "389fe32f",
   "metadata": {},
   "outputs": [],
   "source": []
  }
 ],
 "metadata": {
  "kernelspec": {
   "display_name": "Python 3 (ipykernel)",
   "language": "python",
   "name": "python3"
  },
  "language_info": {
   "codemirror_mode": {
    "name": "ipython",
    "version": 3
   },
   "file_extension": ".py",
   "mimetype": "text/x-python",
   "name": "python",
   "nbconvert_exporter": "python",
   "pygments_lexer": "ipython3",
   "version": "3.11.5"
  }
 },
 "nbformat": 4,
 "nbformat_minor": 5
}
