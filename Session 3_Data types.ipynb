{
 "cells": [
  {
   "cell_type": "code",
   "execution_count": 1,
   "id": "80e9120f",
   "metadata": {},
   "outputs": [],
   "source": [
    "# In python we have some basic data types"
   ]
  },
  {
   "cell_type": "markdown",
   "id": "b39363a3",
   "metadata": {},
   "source": [
    "- integer-int\n",
    "- float-float\n",
    "- string-str\n",
    "- boolean-bool\n",
    "- complex-complex"
   ]
  },
  {
   "cell_type": "markdown",
   "id": "f862c6ec",
   "metadata": {},
   "source": [
    "### int"
   ]
  },
  {
   "cell_type": "code",
   "execution_count": 1,
   "id": "fd1f5ecd",
   "metadata": {},
   "outputs": [
    {
     "data": {
      "text/plain": [
       "10"
      ]
     },
     "execution_count": 1,
     "metadata": {},
     "output_type": "execute_result"
    }
   ],
   "source": [
    "number=10\n",
    "number"
   ]
  },
  {
   "cell_type": "code",
   "execution_count": 6,
   "id": "a790ba54",
   "metadata": {},
   "outputs": [
    {
     "name": "stdout",
     "output_type": "stream",
     "text": [
      "10\n",
      "10.5\n"
     ]
    },
    {
     "data": {
      "text/plain": [
       "int"
      ]
     },
     "execution_count": 6,
     "metadata": {},
     "output_type": "execute_result"
    }
   ],
   "source": [
    "num1=10\n",
    "num2=10.5\n",
    "print(num1),\n",
    "print(num2)\n",
    "type(num1)"
   ]
  },
  {
   "cell_type": "code",
   "execution_count": 2,
   "id": "bfdcbe90",
   "metadata": {},
   "outputs": [
    {
     "data": {
      "text/plain": [
       "int"
      ]
     },
     "execution_count": 2,
     "metadata": {},
     "output_type": "execute_result"
    }
   ],
   "source": [
    "type(number)"
   ]
  },
  {
   "cell_type": "markdown",
   "id": "186dcc15",
   "metadata": {},
   "source": [
    "- binary\n",
    "- octa\n",
    "- hexa"
   ]
  },
  {
   "cell_type": "markdown",
   "id": "2d1f8cf4",
   "metadata": {},
   "source": [
    "#### binary"
   ]
  },
  {
   "cell_type": "markdown",
   "id": "e13e9bf4",
   "metadata": {},
   "source": [
    "- bi mean two\n",
    "- it required only two digits\n",
    "- we have 1 2 3 4 5 6 7 8 9 \n",
    "- to make binary we need only 0 and 1\n",
    "- example: 0b111,0B111"
   ]
  },
  {
   "cell_type": "code",
   "execution_count": 3,
   "id": "9a2bde42",
   "metadata": {},
   "outputs": [
    {
     "data": {
      "text/plain": [
       "7"
      ]
     },
     "execution_count": 3,
     "metadata": {},
     "output_type": "execute_result"
    }
   ],
   "source": [
    "  0b111"
   ]
  },
  {
   "cell_type": "code",
   "execution_count": null,
   "id": "b4b2260c",
   "metadata": {},
   "outputs": [],
   "source": [
    "4  2  1\n",
    "0  0  0    0\n",
    "0  0  1    1\n",
    "0  1  0    2 \n",
    "0  1  1    3\n",
    "1  0  0    4\n",
    "1  0  1    5 \n",
    "1  1  0    6\n",
    "1  1  1    7\n"
   ]
  },
  {
   "cell_type": "code",
   "execution_count": 5,
   "id": "c14876d1",
   "metadata": {},
   "outputs": [
    {
     "data": {
      "text/plain": [
       "15"
      ]
     },
     "execution_count": 5,
     "metadata": {},
     "output_type": "execute_result"
    }
   ],
   "source": [
    "0b1111"
   ]
  },
  {
   "cell_type": "markdown",
   "id": "687964ba",
   "metadata": {},
   "source": [
    "### octa"
   ]
  },
  {
   "cell_type": "markdown",
   "id": "f4ec06f8",
   "metadata": {},
   "source": [
    "- octa means 8\n",
    "- it required only 0 to 9 and A to F\n",
    "- we have 0 1 2 3 4 5 6 7 8 9 A B C D E F \n",
    "- example: 0x7A2,0Xabc"
   ]
  },
  {
   "cell_type": "code",
   "execution_count": 6,
   "id": "d70b0ff2",
   "metadata": {},
   "outputs": [
    {
     "data": {
      "text/plain": [
       "83"
      ]
     },
     "execution_count": 6,
     "metadata": {},
     "output_type": "execute_result"
    }
   ],
   "source": [
    "0o123"
   ]
  },
  {
   "cell_type": "markdown",
   "id": "640e0003",
   "metadata": {},
   "source": [
    "### hexa"
   ]
  },
  {
   "cell_type": "markdown",
   "id": "6a3a7c44",
   "metadata": {},
   "source": [
    "- hexa means 16\n",
    "- it required only 0 to 9 and A to F\n",
    "- we have 1 2 3 4 5 6 7 8 9 A B C D E F\n",
    "- example: 0x7A2,0Xabc"
   ]
  },
  {
   "cell_type": "code",
   "execution_count": 7,
   "id": "f81d61b8",
   "metadata": {},
   "outputs": [
    {
     "data": {
      "text/plain": [
       "1697"
      ]
     },
     "execution_count": 7,
     "metadata": {},
     "output_type": "execute_result"
    }
   ],
   "source": [
    "0x6a1\n",
    "\n",
    "# 16^0*1+(10)+16^2(6)"
   ]
  },
  {
   "cell_type": "markdown",
   "id": "cd08753c",
   "metadata": {},
   "source": [
    "### float"
   ]
  },
  {
   "cell_type": "code",
   "execution_count": 8,
   "id": "d021d9a8",
   "metadata": {},
   "outputs": [
    {
     "data": {
      "text/plain": [
       "float"
      ]
     },
     "execution_count": 8,
     "metadata": {},
     "output_type": "execute_result"
    }
   ],
   "source": [
    "num=10.56\n",
    "type(num)"
   ]
  },
  {
   "cell_type": "code",
   "execution_count": 9,
   "id": "daf0f889",
   "metadata": {},
   "outputs": [
    {
     "data": {
      "text/plain": [
       "100.0"
      ]
     },
     "execution_count": 9,
     "metadata": {},
     "output_type": "execute_result"
    }
   ],
   "source": [
    "10e+1\n",
    "# 10 is multilpying with e1=10"
   ]
  },
  {
   "cell_type": "code",
   "execution_count": 11,
   "id": "e91ead4f",
   "metadata": {},
   "outputs": [
    {
     "data": {
      "text/plain": [
       "300000.0"
      ]
     },
     "execution_count": 11,
     "metadata": {},
     "output_type": "execute_result"
    }
   ],
   "source": [
    "300e+3"
   ]
  },
  {
   "cell_type": "code",
   "execution_count": 11,
   "id": "cd4e76b5",
   "metadata": {},
   "outputs": [
    {
     "data": {
      "text/plain": [
       "10000.0"
      ]
     },
     "execution_count": 11,
     "metadata": {},
     "output_type": "execute_result"
    }
   ],
   "source": [
    "10e+3\n",
    "# 10 is multipying with e3=1000"
   ]
  },
  {
   "cell_type": "code",
   "execution_count": 5,
   "id": "f526a2a9",
   "metadata": {},
   "outputs": [
    {
     "data": {
      "text/plain": [
       "1.0"
      ]
     },
     "execution_count": 5,
     "metadata": {},
     "output_type": "execute_result"
    }
   ],
   "source": [
    "10e-1"
   ]
  },
  {
   "cell_type": "code",
   "execution_count": 12,
   "id": "4cbf294e",
   "metadata": {},
   "outputs": [
    {
     "data": {
      "text/plain": [
       "123650.0"
      ]
     },
     "execution_count": 12,
     "metadata": {},
     "output_type": "execute_result"
    }
   ],
   "source": [
    "123.65e3\n",
    "# 123.65x1000=123650"
   ]
  },
  {
   "cell_type": "code",
   "execution_count": 13,
   "id": "2c309ede",
   "metadata": {},
   "outputs": [
    {
     "data": {
      "text/plain": [
       "12343"
      ]
     },
     "execution_count": 13,
     "metadata": {},
     "output_type": "execute_result"
    }
   ],
   "source": [
    "10e-1    # 10/10\n",
    "10e-2    # 10/100\n",
    "10e-3    # 10/1000\n",
    "10e-4    # 10/10000\n",
    "10e-5    # 10/100000\n",
    "12345-2 # 12345/100=123.45"
   ]
  },
  {
   "cell_type": "code",
   "execution_count": 14,
   "id": "dc1ad99d",
   "metadata": {},
   "outputs": [
    {
     "data": {
      "text/plain": [
       "1.2345e-06"
      ]
     },
     "execution_count": 14,
     "metadata": {},
     "output_type": "execute_result"
    }
   ],
   "source": [
    "12345e-10\n",
    "# check the output is zero"
   ]
  },
  {
   "cell_type": "code",
   "execution_count": 13,
   "id": "6edeaf1e",
   "metadata": {},
   "outputs": [
    {
     "data": {
      "text/plain": [
       "1000.0"
      ]
     },
     "execution_count": 13,
     "metadata": {},
     "output_type": "execute_result"
    }
   ],
   "source": [
    "10e+2"
   ]
  },
  {
   "cell_type": "markdown",
   "id": "4e5ba2b5",
   "metadata": {},
   "source": [
    "- 10e2 as same as 10e+2 multiplying\n",
    "- 10e-2 means dividing"
   ]
  },
  {
   "cell_type": "markdown",
   "id": "3665e4e0",
   "metadata": {},
   "source": [
    "### string"
   ]
  },
  {
   "cell_type": "code",
   "execution_count": null,
   "id": "fe14a88e",
   "metadata": {},
   "outputs": [],
   "source": [
    "integer  # variables  (black colour variable)\n",
    "int     # keyword     (green cplour means keyword)\n",
    "\"integer\"  # string    (in double quotes and with red colour means strings)"
   ]
  },
  {
   "cell_type": "code",
   "execution_count": 26,
   "id": "d133c7a6",
   "metadata": {},
   "outputs": [
    {
     "data": {
      "text/plain": [
       "'python'"
      ]
     },
     "execution_count": 26,
     "metadata": {},
     "output_type": "execute_result"
    }
   ],
   "source": [
    "name=\"python\"\n",
    "name"
   ]
  },
  {
   "cell_type": "code",
   "execution_count": 27,
   "id": "614474a2",
   "metadata": {},
   "outputs": [
    {
     "data": {
      "text/plain": [
       "str"
      ]
     },
     "execution_count": 27,
     "metadata": {},
     "output_type": "execute_result"
    }
   ],
   "source": [
    "type(name)"
   ]
  },
  {
   "cell_type": "code",
   "execution_count": 19,
   "id": "3eed8e7e",
   "metadata": {},
   "outputs": [
    {
     "data": {
      "text/plain": [
       "str"
      ]
     },
     "execution_count": 19,
     "metadata": {},
     "output_type": "execute_result"
    }
   ],
   "source": [
    "name1='hyderabad'\n",
    "type(name1)"
   ]
  },
  {
   "cell_type": "code",
   "execution_count": 20,
   "id": "df373f96",
   "metadata": {},
   "outputs": [
    {
     "data": {
      "text/plain": [
       "'python'"
      ]
     },
     "execution_count": 20,
     "metadata": {},
     "output_type": "execute_result"
    }
   ],
   "source": [
    "'python'"
   ]
  },
  {
   "cell_type": "code",
   "execution_count": 30,
   "id": "3a2f0cff",
   "metadata": {},
   "outputs": [
    {
     "name": "stdout",
     "output_type": "stream",
     "text": [
      "hello'python,and,i love data science\n"
     ]
    }
   ],
   "source": [
    "print(\"hello'python,and,i love data science\")"
   ]
  },
  {
   "cell_type": "code",
   "execution_count": 25,
   "id": "cb885df4",
   "metadata": {},
   "outputs": [
    {
     "name": "stdout",
     "output_type": "stream",
     "text": [
      "hello \"python\"\n"
     ]
    }
   ],
   "source": [
    "print('hello \"python\"')"
   ]
  },
  {
   "cell_type": "markdown",
   "id": "c51890ef",
   "metadata": {},
   "source": [
    "- triple quotes are used to write a story of a specific part of code\n",
    "- Doc string\n",
    "- is some body using triple quote means\n",
    "- the user try to say something about that code"
   ]
  },
  {
   "cell_type": "code",
   "execution_count": 31,
   "id": "e1d678ee",
   "metadata": {},
   "outputs": [
    {
     "data": {
      "text/plain": [
       "300"
      ]
     },
     "execution_count": 31,
     "metadata": {},
     "output_type": "execute_result"
    }
   ],
   "source": [
    "\"\"\"\n",
    "i have performed addition operation\n",
    "here i have taken a value as 10 and b valiue as 20\n",
    "\"\"\"\n",
    "a=100\n",
    "b=200\n",
    "c=a+b\n",
    "c\n"
   ]
  },
  {
   "cell_type": "code",
   "execution_count": 35,
   "id": "4eadd6da",
   "metadata": {},
   "outputs": [
    {
     "data": {
      "text/plain": [
       "'hellopython'"
      ]
     },
     "execution_count": 35,
     "metadata": {},
     "output_type": "execute_result"
    }
   ],
   "source": [
    "\"hello\"+\"python\""
   ]
  },
  {
   "cell_type": "code",
   "execution_count": 3,
   "id": "443a021e",
   "metadata": {},
   "outputs": [
    {
     "data": {
      "text/plain": [
       "'hellopython'"
      ]
     },
     "execution_count": 3,
     "metadata": {},
     "output_type": "execute_result"
    }
   ],
   "source": [
    "'hellopython'"
   ]
  },
  {
   "cell_type": "code",
   "execution_count": 4,
   "id": "f5c214be",
   "metadata": {},
   "outputs": [
    {
     "data": {
      "text/plain": [
       "'hellopython'"
      ]
     },
     "execution_count": 4,
     "metadata": {},
     "output_type": "execute_result"
    }
   ],
   "source": [
    "'hello'+'python'"
   ]
  },
  {
   "cell_type": "code",
   "execution_count": 5,
   "id": "c35385c4",
   "metadata": {},
   "outputs": [
    {
     "data": {
      "text/plain": [
       "'hellopython'"
      ]
     },
     "execution_count": 5,
     "metadata": {},
     "output_type": "execute_result"
    }
   ],
   "source": [
    "\"\"\"hello\"\"\"+\"\"\"python\"\"\""
   ]
  },
  {
   "cell_type": "code",
   "execution_count": 6,
   "id": "e3cf2777",
   "metadata": {},
   "outputs": [],
   "source": [
    "import random"
   ]
  },
  {
   "cell_type": "code",
   "execution_count": 40,
   "id": "606e3b6b",
   "metadata": {},
   "outputs": [],
   "source": [
    "import.random"
   ]
  },
  {
   "cell_type": "code",
   "execution_count": 8,
   "id": "bd557672",
   "metadata": {},
   "outputs": [],
   "source": [
    "# int\n",
    "# float\n",
    "# str"
   ]
  },
  {
   "cell_type": "markdown",
   "id": "6897414c",
   "metadata": {},
   "source": [
    "### boolean"
   ]
  },
  {
   "cell_type": "code",
   "execution_count": 9,
   "id": "ce4518cb",
   "metadata": {},
   "outputs": [
    {
     "data": {
      "text/plain": [
       "bool"
      ]
     },
     "execution_count": 9,
     "metadata": {},
     "output_type": "execute_result"
    }
   ],
   "source": [
    "value=True\n",
    "type(value)"
   ]
  },
  {
   "cell_type": "code",
   "execution_count": 2,
   "id": "741a3fd4",
   "metadata": {},
   "outputs": [
    {
     "data": {
      "text/plain": [
       "bool"
      ]
     },
     "execution_count": 2,
     "metadata": {},
     "output_type": "execute_result"
    }
   ],
   "source": [
    "value1=False\n",
    "type(value1)"
   ]
  },
  {
   "cell_type": "code",
   "execution_count": 3,
   "id": "2d35ac87",
   "metadata": {},
   "outputs": [
    {
     "data": {
      "text/plain": [
       "str"
      ]
     },
     "execution_count": 3,
     "metadata": {},
     "output_type": "execute_result"
    }
   ],
   "source": [
    "value2=\"True\"\n",
    "type(value2)"
   ]
  },
  {
   "cell_type": "code",
   "execution_count": 4,
   "id": "e40f2a5e",
   "metadata": {},
   "outputs": [
    {
     "ename": "NameError",
     "evalue": "name 'true1' is not defined",
     "output_type": "error",
     "traceback": [
      "\u001b[1;31m---------------------------------------------------------------------------\u001b[0m",
      "\u001b[1;31mNameError\u001b[0m                                 Traceback (most recent call last)",
      "Cell \u001b[1;32mIn[4], line 2\u001b[0m\n\u001b[0;32m      1\u001b[0m true\u001b[38;5;241m=\u001b[39m\u001b[38;5;241m100\u001b[39m\n\u001b[1;32m----> 2\u001b[0m value3\u001b[38;5;241m=\u001b[39mtrue1\n\u001b[0;32m      3\u001b[0m value3\n",
      "\u001b[1;31mNameError\u001b[0m: name 'true1' is not defined"
     ]
    }
   ],
   "source": [
    "true=100\n",
    "value3=true1\n",
    "value3"
   ]
  },
  {
   "cell_type": "code",
   "execution_count": 5,
   "id": "5e4aa47d",
   "metadata": {},
   "outputs": [],
   "source": [
    "#Name Error: name 'true1' is not deffined\n",
    "\n",
    "#in the above lines check the name true1 is there oo not"
   ]
  },
  {
   "cell_type": "code",
   "execution_count": 6,
   "id": "6b95a648",
   "metadata": {},
   "outputs": [],
   "source": [
    "true1=500"
   ]
  },
  {
   "cell_type": "markdown",
   "id": "77e8bb94",
   "metadata": {},
   "source": [
    "# "
   ]
  },
  {
   "cell_type": "markdown",
   "id": "e01b3dd1",
   "metadata": {},
   "source": [
    "### Complex"
   ]
  },
  {
   "cell_type": "markdown",
   "id": "c55b30fd",
   "metadata": {},
   "source": [
    "- It represent as a+bj\n",
    "- where a is real number\n",
    "- b is an imagiznary number\n",
    "- ex: 3+4j"
   ]
  },
  {
   "cell_type": "code",
   "execution_count": 8,
   "id": "3140f86b",
   "metadata": {},
   "outputs": [
    {
     "data": {
      "text/plain": [
       "complex"
      ]
     },
     "execution_count": 8,
     "metadata": {},
     "output_type": "execute_result"
    }
   ],
   "source": [
    "value=3+4j\n",
    "type(value)"
   ]
  },
  {
   "cell_type": "code",
   "execution_count": 8,
   "id": "27c36c66",
   "metadata": {},
   "outputs": [
    {
     "data": {
      "text/plain": [
       "(3+4j)"
      ]
     },
     "execution_count": 8,
     "metadata": {},
     "output_type": "execute_result"
    }
   ],
   "source": [
    "value=3+4j\n",
    "value"
   ]
  },
  {
   "cell_type": "code",
   "execution_count": 9,
   "id": "0fd6a17f",
   "metadata": {},
   "outputs": [
    {
     "data": {
      "text/plain": [
       "complex"
      ]
     },
     "execution_count": 9,
     "metadata": {},
     "output_type": "execute_result"
    }
   ],
   "source": [
    "type(value)"
   ]
  },
  {
   "cell_type": "code",
   "execution_count": 9,
   "id": "5cb9b1a1",
   "metadata": {},
   "outputs": [
    {
     "data": {
      "text/plain": [
       "['__abs__',\n",
       " '__add__',\n",
       " '__bool__',\n",
       " '__class__',\n",
       " '__complex__',\n",
       " '__delattr__',\n",
       " '__dir__',\n",
       " '__doc__',\n",
       " '__eq__',\n",
       " '__format__',\n",
       " '__ge__',\n",
       " '__getattribute__',\n",
       " '__getnewargs__',\n",
       " '__getstate__',\n",
       " '__gt__',\n",
       " '__hash__',\n",
       " '__init__',\n",
       " '__init_subclass__',\n",
       " '__le__',\n",
       " '__lt__',\n",
       " '__mul__',\n",
       " '__ne__',\n",
       " '__neg__',\n",
       " '__new__',\n",
       " '__pos__',\n",
       " '__pow__',\n",
       " '__radd__',\n",
       " '__reduce__',\n",
       " '__reduce_ex__',\n",
       " '__repr__',\n",
       " '__rmul__',\n",
       " '__rpow__',\n",
       " '__rsub__',\n",
       " '__rtruediv__',\n",
       " '__setattr__',\n",
       " '__sizeof__',\n",
       " '__str__',\n",
       " '__sub__',\n",
       " '__subclasshook__',\n",
       " '__truediv__',\n",
       " 'conjugate',\n",
       " 'imag',\n",
       " 'real']"
      ]
     },
     "execution_count": 9,
     "metadata": {},
     "output_type": "execute_result"
    }
   ],
   "source": [
    "dir(value)"
   ]
  },
  {
   "cell_type": "code",
   "execution_count": 10,
   "id": "502b6e8a",
   "metadata": {},
   "outputs": [],
   "source": [
    "# value is kind of package\n",
    "\n",
    "# m-1: conjugate\n",
    "\n",
    "# m-2: imag\n",
    "\n",
    "# m-3: real"
   ]
  },
  {
   "cell_type": "code",
   "execution_count": 11,
   "id": "e3b36c63",
   "metadata": {},
   "outputs": [],
   "source": [
    "#<package name>.<methoud name"
   ]
  },
  {
   "cell_type": "code",
   "execution_count": 11,
   "id": "90f6c9ba",
   "metadata": {},
   "outputs": [
    {
     "data": {
      "text/plain": [
       "(3-4j)"
      ]
     },
     "execution_count": 11,
     "metadata": {},
     "output_type": "execute_result"
    }
   ],
   "source": [
    "value=3+4j\n",
    "#dir(value)\n",
    "# conjugate imag real\n",
    "value.conjugate()"
   ]
  },
  {
   "cell_type": "code",
   "execution_count": 13,
   "id": "37519fce",
   "metadata": {},
   "outputs": [
    {
     "data": {
      "text/plain": [
       "3.0"
      ]
     },
     "execution_count": 13,
     "metadata": {},
     "output_type": "execute_result"
    }
   ],
   "source": [
    "value.real # real number"
   ]
  },
  {
   "cell_type": "code",
   "execution_count": 14,
   "id": "f8b23c6e",
   "metadata": {},
   "outputs": [
    {
     "data": {
      "text/plain": [
       "4.0"
      ]
     },
     "execution_count": 14,
     "metadata": {},
     "output_type": "execute_result"
    }
   ],
   "source": [
    "value.imag  # imaginary numbr"
   ]
  },
  {
   "cell_type": "code",
   "execution_count": 16,
   "id": "bc531bff",
   "metadata": {},
   "outputs": [
    {
     "data": {
      "text/plain": [
       "4.0"
      ]
     },
     "execution_count": 16,
     "metadata": {},
     "output_type": "execute_result"
    }
   ],
   "source": [
    "value.imag    # use tab\n"
   ]
  },
  {
   "cell_type": "code",
   "execution_count": 17,
   "id": "21830d16",
   "metadata": {},
   "outputs": [
    {
     "data": {
      "text/plain": [
       "['__abs__',\n",
       " '__add__',\n",
       " '__bool__',\n",
       " '__class__',\n",
       " '__complex__',\n",
       " '__delattr__',\n",
       " '__dir__',\n",
       " '__doc__',\n",
       " '__eq__',\n",
       " '__format__',\n",
       " '__ge__',\n",
       " '__getattribute__',\n",
       " '__getnewargs__',\n",
       " '__getstate__',\n",
       " '__gt__',\n",
       " '__hash__',\n",
       " '__init__',\n",
       " '__init_subclass__',\n",
       " '__le__',\n",
       " '__lt__',\n",
       " '__mul__',\n",
       " '__ne__',\n",
       " '__neg__',\n",
       " '__new__',\n",
       " '__pos__',\n",
       " '__pow__',\n",
       " '__radd__',\n",
       " '__reduce__',\n",
       " '__reduce_ex__',\n",
       " '__repr__',\n",
       " '__rmul__',\n",
       " '__rpow__',\n",
       " '__rsub__',\n",
       " '__rtruediv__',\n",
       " '__setattr__',\n",
       " '__sizeof__',\n",
       " '__str__',\n",
       " '__sub__',\n",
       " '__subclasshook__',\n",
       " '__truediv__',\n",
       " 'conjugate',\n",
       " 'imag',\n",
       " 'real']"
      ]
     },
     "execution_count": 17,
     "metadata": {},
     "output_type": "execute_result"
    }
   ],
   "source": [
    "dir(value)"
   ]
  },
  {
   "cell_type": "markdown",
   "id": "dfb5aaa9",
   "metadata": {},
   "source": [
    "- syntax error ==== avoid\n",
    "- Name error variable is not defined\n",
    "- Attribute error: module is not available"
   ]
  },
  {
   "cell_type": "markdown",
   "id": "6620d3bf",
   "metadata": {},
   "source": [
    "- integer ==== int\n",
    "- float ==== float\n",
    "- srting ==== str\n",
    "- boolean === bool\n",
    "- complex === complex"
   ]
  },
  {
   "cell_type": "code",
   "execution_count": null,
   "id": "2fa3bcd6",
   "metadata": {},
   "outputs": [],
   "source": []
  }
 ],
 "metadata": {
  "kernelspec": {
   "display_name": "Python 3 (ipykernel)",
   "language": "python",
   "name": "python3"
  },
  "language_info": {
   "codemirror_mode": {
    "name": "ipython",
    "version": 3
   },
   "file_extension": ".py",
   "mimetype": "text/x-python",
   "name": "python",
   "nbconvert_exporter": "python",
   "pygments_lexer": "ipython3",
   "version": "3.11.5"
  }
 },
 "nbformat": 4,
 "nbformat_minor": 5
}
