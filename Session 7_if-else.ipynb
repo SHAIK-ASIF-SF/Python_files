{
 "cells": [
  {
   "cell_type": "code",
   "execution_count": 1,
   "id": "230399e7",
   "metadata": {},
   "outputs": [],
   "source": [
    "# if-else"
   ]
  },
  {
   "cell_type": "code",
   "execution_count": 2,
   "id": "6955f41d",
   "metadata": {},
   "outputs": [],
   "source": [
    "# whenever condition is true ==== if block\n",
    "#          condition is false ==== else block\n",
    "\n",
    "# Indentation is main"
   ]
  },
  {
   "cell_type": "code",
   "execution_count": 3,
   "id": "e4c3bb9f",
   "metadata": {},
   "outputs": [],
   "source": [
    "# wap ask the user enter a number\n",
    "# find it is an even or odd number"
   ]
  },
  {
   "cell_type": "code",
   "execution_count": null,
   "id": "a16bfa9a",
   "metadata": {},
   "outputs": [],
   "source": [
    "# step-1: read the number\n",
    "# step-2: if (condition)\n",
    "# step-3:  ###########\n",
    "# step-4: else:\n",
    "# step-5:     ##########"
   ]
  },
  {
   "cell_type": "code",
   "execution_count": 4,
   "id": "7ec903f3",
   "metadata": {},
   "outputs": [
    {
     "name": "stdout",
     "output_type": "stream",
     "text": [
      "enter a number43\n",
      "43 is an odd\n"
     ]
    }
   ],
   "source": [
    "num=eval(input(\"enter a number\"))\n",
    "if num%2==0:\n",
    "    print(f\"{num} is an even\")\n",
    "else:\n",
    "    print(f\"{num} is an odd\")"
   ]
  },
  {
   "cell_type": "code",
   "execution_count": 5,
   "id": "4fefac0c",
   "metadata": {},
   "outputs": [],
   "source": [
    "# read a random number between 10 and 50\n",
    "# find it is an even or odd number\n",
    "\n",
    "# step-1: read the number randomly between 10 and 50\n",
    "# step-2: if <condition>:\n",
    "# step-3:    ###################\n",
    "# step-4: else:\n",
    "# step-5:    ###########  "
   ]
  },
  {
   "cell_type": "code",
   "execution_count": 6,
   "id": "223b556a",
   "metadata": {},
   "outputs": [
    {
     "data": {
      "text/plain": [
       "23"
      ]
     },
     "execution_count": 6,
     "metadata": {},
     "output_type": "execute_result"
    }
   ],
   "source": [
    "import random\n",
    "random.randint(10,50)"
   ]
  },
  {
   "cell_type": "code",
   "execution_count": 8,
   "id": "4955d64d",
   "metadata": {},
   "outputs": [
    {
     "name": "stdout",
     "output_type": "stream",
     "text": [
      "13 is an odd\n"
     ]
    }
   ],
   "source": [
    "import random\n",
    "num=random.randint(10,50)\n",
    "\n",
    "if num%2==0:\n",
    "    print(f\"{num} is an even\")\n",
    "else:\n",
    "    print(f\"{num} is an odd\")  \n",
    "    "
   ]
  },
  {
   "cell_type": "code",
   "execution_count": null,
   "id": "f2fdf03b",
   "metadata": {},
   "outputs": [],
   "source": [
    "###################### M-1 ##############################################################################\n",
    "num=25\n",
    "if num%2==0:\n",
    "    print(f\"{num} is an even\")\n",
    "else:\n",
    "    print(f\"{num} is an odd\")\n",
    " ############################### M-2 ##########################################################\n",
    "num=eval(input(\"enter a number\"))\n",
    "if num%2==0:\n",
    "    print(f\"{num} is an even\")\n",
    "else:\n",
    "    print(f\"{num} is an odd\")\n",
    "###################################### M-3 #########################################################\n",
    "import random\n",
    "num=random.randint(10,50)\n",
    "\n",
    "if num%2==0:\n",
    "    print(f\"{num} is a even\")\n",
    "else:\n",
    "    print(f\"{num} is an odd\")\n",
    "    "
   ]
  },
  {
   "cell_type": "code",
   "execution_count": 3,
   "id": "8fcec812",
   "metadata": {},
   "outputs": [
    {
     "name": "stdout",
     "output_type": "stream",
     "text": [
      "enter a number:34\n"
     ]
    }
   ],
   "source": [
    "num=25\n",
    "num=eval(input(\"enter a number:\"))\n",
    "import random\n",
    "num=random.randint(10,50)"
   ]
  },
  {
   "cell_type": "code",
   "execution_count": 4,
   "id": "f470818c",
   "metadata": {},
   "outputs": [
    {
     "name": "stdout",
     "output_type": "stream",
     "text": [
      "enter thebnumber50\n",
      "greaterthan or equal to 50\n"
     ]
    }
   ],
   "source": [
    "# wap ask the user enter the number from keyboard between 1 to 100\n",
    "# print 'greater than 50' if the value greater than 50\n",
    "# else print less than 50\n",
    "\n",
    "# step-1: num=<take the number from keyboard>\n",
    "# step-2: if <condition>:\n",
    "# step-3:    print(\"greater than 50\")\n",
    "# step-4: else:\n",
    "# step-5:    print('less than 50')\n",
    "\n",
    "num=eval(input(\"enter thebnumber\"))\n",
    "if num>=50:\n",
    "    print(\"greaterthan or equal to 50\")\n",
    "else:\n",
    "    print(\"less than 50\")"
   ]
  },
  {
   "cell_type": "code",
   "execution_count": 1,
   "id": "bcd359b5",
   "metadata": {},
   "outputs": [
    {
     "name": "stdout",
     "output_type": "stream",
     "text": [
      "61 greater than or equal to 50\n"
     ]
    }
   ],
   "source": [
    "# improve above code by providing a random number\n",
    "import random\n",
    "num=random.randint(1,100)\n",
    "if num>=50:\n",
    "    print(f\"{num} greater than or equal to 50\")\n",
    "else:\n",
    "    print:(f\"{num} less than 50\")"
   ]
  },
  {
   "cell_type": "code",
   "execution_count": null,
   "id": "83899bac",
   "metadata": {},
   "outputs": [],
   "source": []
  },
  {
   "cell_type": "code",
   "execution_count": null,
   "id": "5768da86",
   "metadata": {},
   "outputs": [],
   "source": [
    "# wap the user enter a number from keyboard : num2\n",
    "# if num1 equal to num2 print you won\n",
    "# if num1 not equal to num2(else print you lost\n",
    "\n",
    "\n",
    "# step-1: num1= <>\n",
    "# step-2: num2=<>\n",
    "# step-3: if <condition>:\n",
    "# step-4:    prinr(\"you won\")\n",
    "# step-5: e'se:\n",
    "# step-6:    print(\"you lost\")"
   ]
  },
  {
   "cell_type": "code",
   "execution_count": 1,
   "id": "8df7f790",
   "metadata": {},
   "outputs": [
    {
     "name": "stdout",
     "output_type": "stream",
     "text": [
      "entre a number:7\n",
      "you lost\n"
     ]
    }
   ],
   "source": [
    "import random\n",
    "num1=random.randint(1,10)\n",
    "num2=eval(input(\"entre a number:\"))\n",
    "if num1==num2:\n",
    "    print(\"you won\")\n",
    "else:\n",
    "    print(\"you lost\")"
   ]
  },
  {
   "cell_type": "code",
   "execution_count": null,
   "id": "b06bd5be",
   "metadata": {},
   "outputs": [],
   "source": [
    "# wap conver sation between conducter and mother\n",
    "# conducror: show me id card\n",
    "# id=mother: yes\n",
    "# if id=='yes':\n",
    "#     print(\"enjoy free bus\")\n",
    "\n",
    "# ------mother: no\n",
    "# else:\n",
    "#  conducter: pay ther money\n",
    "#  mother: how much\n",
    "#  conducter: how many kms\n",
    "#  mother: 25km: distance\n",
    "#  mother: how much fare foe km\n",
    "# conducter: 2rs: fare\n",
    "# total= dis*fare\n",
    "# print(f\"for the distance {dis}, total charge is {total}\")\n"
   ]
  },
  {
   "cell_type": "code",
   "execution_count": 8,
   "id": "1a40161f",
   "metadata": {},
   "outputs": [
    {
     "name": "stdout",
     "output_type": "stream",
     "text": [
      "conducter:show me the id\n",
      "mother:yes\n",
      "enjoy the free trip\n"
     ]
    }
   ],
   "source": [
    "input(\"conducter:\")\n",
    "id1=input(\"mother:\")\n",
    "if id1=='yes':\n",
    "    print(\"enjoy the free trip\")\n",
    "\n",
    "else:\n",
    "    input(\"conducter:\")     # pay the money \n",
    "    input(\"mother:\")        # how much \n",
    "    input(\"conducter:\")        # how many km\n",
    "    dis=equal(input(\"mother:\"))  #25k\n",
    "    input(\"mother:\")              #  how much fare for km\n",
    "    fare=equal(input(\"conducter:\"))  #  2hr : fare\n",
    "    total=dis*fare\n",
    "    print(f\"for the distance {dis}, total charge is {total}\") \n",
    "    \n",
    "    \n",
    "    \n",
    "    \n",
    "    "
   ]
  },
  {
   "cell_type": "code",
   "execution_count": 3,
   "id": "885623a6",
   "metadata": {},
   "outputs": [
    {
     "name": "stdout",
     "output_type": "stream",
     "text": [
      "conducter:show me id\n",
      "mother:no i for got\n",
      "conducter:pay the money\n",
      "mother:how much\n",
      "conducter:howmany kms you want to travel\n",
      "mother:25\n",
      "mother:how fare it is\n",
      "conducter:2\n",
      "for the distance 25, total charge is 50\n"
     ]
    }
   ],
   "source": [
    "input(\"conducter:\")\n",
    "id1=input(\"mother:\")\n",
    "if id1=='yes':\n",
    "    print(\"enjoy the free trip\")\n",
    "\n",
    "else:\n",
    "    input(\"conducter:\")     # pay the money \n",
    "    input(\"mother:\")        # how much \n",
    "    input(\"conducter:\")        # how many km\n",
    "    dis=eval(input(\"mother:\"))  #25k\n",
    "    input(\"mother:\")              #  how much fare for km\n",
    "    fare=eval(input(\"conducter:\"))  #  2hr : fare\n",
    "    total=dis*fare\n",
    "    print(f\"for the distance {dis}, total charge is {total}\") \n",
    "    \n",
    "    "
   ]
  },
  {
   "cell_type": "code",
   "execution_count": null,
   "id": "5248cacf",
   "metadata": {},
   "outputs": [],
   "source": [
    "# even             odd\n",
    "# if               else\n",
    "# greater          less than\n",
    "# if               else\n",
    "# yes              no\n",
    "# if               else\n",
    "\n",
    "# >0 pos         >0 neg    =0  zero\n",
    "# if<con>        elif<con>     else"
   ]
  },
  {
   "cell_type": "code",
   "execution_count": null,
   "id": "dfe710f0",
   "metadata": {},
   "outputs": [],
   "source": []
  },
  {
   "cell_type": "code",
   "execution_count": null,
   "id": "d4f7d7bd",
   "metadata": {},
   "outputs": [],
   "source": []
  },
  {
   "cell_type": "code",
   "execution_count": null,
   "id": "86ae4f0a",
   "metadata": {},
   "outputs": [],
   "source": []
  },
  {
   "cell_type": "code",
   "execution_count": null,
   "id": "1d135c9e",
   "metadata": {},
   "outputs": [],
   "source": []
  },
  {
   "cell_type": "code",
   "execution_count": 9,
   "id": "2e2c48f9",
   "metadata": {},
   "outputs": [
    {
     "name": "stdout",
     "output_type": "stream",
     "text": [
      "enter a number:10\n",
      "positive\n"
     ]
    }
   ],
   "source": [
    "# wap ask the user enter a number from keyboard\n",
    "# if num greater than zero : print(\"pos\")\n",
    "# if num less than zero: print(\"neg\")\n",
    "# if num equal to zero: print('zero')\n",
    "\n",
    "num=eval(input(\"enter a number:\"))\n",
    "if num>0:\n",
    "    print(\"positive\")\n",
    "elif num<0:\n",
    "    print(\"negitive\")\n",
    "else:\n",
    "    print(\"zero\")"
   ]
  },
  {
   "cell_type": "code",
   "execution_count": 10,
   "id": "2972d88f",
   "metadata": {},
   "outputs": [
    {
     "name": "stdout",
     "output_type": "stream",
     "text": [
      "enter a number5\n",
      "greater than two\n"
     ]
    }
   ],
   "source": [
    "# wap ask the user enter a number from keyboard\n",
    "# if num is equal to zero : print(\"zero\")\n",
    "# if num is equal to one : print(\"one\")\n",
    "# if num is equal to two : print(\"two\")\n",
    "# if num is equal than to two : print(\"greater than two\")\n",
    "\n",
    "\n",
    "# if elif  elife else\n",
    "num1=eval(input(\"enter a number\"))\n",
    "if num1==0:\n",
    "    print(\"zero\")\n",
    "elif num1==1:\n",
    "    print(\"one\")\n",
    "elif num1==2:\n",
    "    print(\"two\")\n",
    "else:\n",
    "    print(\"greater than two\")\n",
    "        "
   ]
  },
  {
   "cell_type": "code",
   "execution_count": 2,
   "id": "751b4c99",
   "metadata": {},
   "outputs": [],
   "source": [
    "# WAP ask the user enter a percentage\n",
    "# if the per between 45 to 60 C grade\n",
    "# if the per between 60 to 75 B\n",
    "# if the per between 75 to 90 A\n",
    "# if the per between 35 fail\n",
    "# if the per between 90 A+"
   ]
  },
  {
   "cell_type": "code",
   "execution_count": 4,
   "id": "c9592dca",
   "metadata": {},
   "outputs": [
    {
     "name": "stdout",
     "output_type": "stream",
     "text": [
      "A\n"
     ]
    }
   ],
   "source": [
    "per=80\n",
    "if per>90:               # 91 to 90    T\n",
    "    print(\"A+\")\n",
    "elif per>75:             # 90 to 75    T\n",
    "    print(\"A\")\n",
    "elif per>60:\n",
    "    print(\"C\")            # 90 to 60    T\n",
    "elif per>=45:\n",
    "    print(\"C\")             # 60 to 45    T\n",
    "    \n",
    "else:\n",
    "    print(\"D\")       # 35 fail\n",
    "    \n",
    "       \n",
    "     \n"
   ]
  },
  {
   "cell_type": "code",
   "execution_count": 1,
   "id": "f55ba019",
   "metadata": {},
   "outputs": [
    {
     "name": "stdout",
     "output_type": "stream",
     "text": [
      "enter the age:60\n",
      "sc\n"
     ]
    }
   ],
   "source": [
    "# WAP ask the user enter age\n",
    "# if age >60  : print sc\n",
    "# if age between 45 to 60 : print aged\n",
    "# if age between 30 to 45 : print middle age\n",
    "# if age between 20 to 30 : print young\n",
    "# if age between 13 to 19 : print teenage\n",
    "# otherwise: print kid\n",
    "age=eval(input(\"enter the age:\"))\n",
    "\n",
    "if age>=60:\n",
    "    print(\"sc\")\n",
    "elif age>=45:\n",
    "    print(\"aged\")\n",
    "elif age>=30:\n",
    "    print(\"middle age\")\n",
    "elif age>=20:\n",
    "    print(\"young\")\n",
    "elif age>=13:\n",
    "    print(\"teenager\")\n",
    "else:\n",
    "    print(\"kid\")\n",
    "    \n",
    "\n"
   ]
  },
  {
   "cell_type": "code",
   "execution_count": 8,
   "id": "37aa9542",
   "metadata": {},
   "outputs": [
    {
     "name": "stdout",
     "output_type": "stream",
     "text": [
      "enter the distance50\n",
      "enter the charge per km4\n",
      "for the 50, km total fare 4 total is : 200\n"
     ]
    }
   ],
   "source": [
    "# WAP ask the user distance : dis\n",
    "# if distance is greater than 50km\n",
    "#     again ask the enter the charge per km: 2rs\n",
    "#     calculate the total charge\n",
    "# if distance between 30 to 50 \n",
    "#   ask the user enter the charge per km:1rs\n",
    "#   calculate the total charge\n",
    "# if distance between 10 to 30\n",
    "#   ask the user enter the chearge per km :0.5rs\n",
    "#   calculate the total charge\n",
    "\n",
    "# if distance less than 10\n",
    "# print(free ride)\n",
    "\n",
    "dis=eval(input(\"enter the distance\"))\n",
    "if dis>=50:\n",
    "    fare=eval(input(\"enter the charge per km\"))\n",
    "    total=dis*fare\n",
    "    print(\"for the {}, km total fare {} total is : {}\".format(dis,fare,total))\n",
    "\n",
    "elif dis>=30:\n",
    "    fare=eval(input(\"enter the charge per km\"))\n",
    "    total=dis*fare\n",
    "    print(f\"for the {dis} km total fare is {fare} the total of {total}\")\n",
    "\n",
    "elif dis>=10:\n",
    "    fare=eval(input(\"enter the charge per km\"))\n",
    "    total=dis*fare\n",
    "    print(f\"for the {dis} km total fare is {total}\") \n",
    "    \n",
    "else:\n",
    "    print(f\"your distance is {dis}km\")\n",
    "    print(\"free ride\")\n",
    "    \n",
    "    \n",
    "    \n",
    "    \n",
    "    \n",
    "    \n",
    "    \n",
    "         "
   ]
  },
  {
   "cell_type": "code",
   "execution_count": 9,
   "id": "28156503",
   "metadata": {},
   "outputs": [
    {
     "name": "stdout",
     "output_type": "stream",
     "text": [
      "enter gender:male\n",
      "enter the age of the male candidatesm:23\n",
      "aged male\n",
      "enter gender:female\n",
      "enter the age of the female candidatesm:35\n",
      "aged female\n"
     ]
    }
   ],
   "source": [
    "# wap ask the user enter gender\n",
    "# if gender equal to male\n",
    "#   ask the user enter age\n",
    "#   if age>45 print aged man\n",
    "#   if age between 30 to 45 : print (MA man)\n",
    "#   if age between 15 to 30 : print (young man)\n",
    "#   if age less than 15 : print (\"boy\")\n",
    "\n",
    "#if gernder equal to female\n",
    "#   ask the user enter age\n",
    "#   if age>45 print aged woman\n",
    "#   if age between 30 to 45 : print (MA woman)\n",
    "#   if age between 15 to 30 : print (young woman)\n",
    "#   if age less than 15 : print (\"girl\")\n",
    "\n",
    "# else:\n",
    "#   print(\"provide proper gender\")\n",
    "\n",
    "\n",
    "gender=input(\"enter gender:\")\n",
    "if gender=='male':\n",
    "    age7 =eval(input(\"enter the age of the male candidatesm:\"))\n",
    "    print('aged male')\n",
    "\n",
    "elif age>30:\n",
    "    print('middleaged male')\n",
    "elif age>=15:\n",
    "    print('young man')\n",
    "else:\n",
    "    print('boy')\n",
    "\n",
    "\n",
    "gender=input(\"enter gender:\")\n",
    "if gender=='female':\n",
    "    age7=eval(input(\"enter the age of the female candidatesm:\"))\n",
    "    print('aged female')\n",
    "\n",
    "elif age>30:\n",
    "    print('middleaged female:')\n",
    "elif age>=15:\n",
    "    print('young woman')\n",
    "else:\n",
    "    print('girl')    \n",
    "    \n",
    "    \n",
    "\n"
   ]
  },
  {
   "cell_type": "code",
   "execution_count": 3,
   "id": "1bc39540",
   "metadata": {},
   "outputs": [
    {
     "name": "stdout",
     "output_type": "stream",
     "text": [
      "enter the number:10\n",
      "it is a possitive number:\n",
      "enter the number:21\n"
     ]
    }
   ],
   "source": [
    "# wap ask the user a number\n",
    "# if number greater than or equal to zero\n",
    "# if number equal to zero : print(\"it is a zero\")\n",
    "# else: print it is a positive number\n",
    "\n",
    "#else:\n",
    "#   printit is a negitive number\n",
    "\n",
    "num=eval(input(\"enter the number:\")) #0\n",
    "if num>0:          # 0>0  F\n",
    "      print(\"it is a possitive number:\") \n",
    "elif num<0:   # 0<0  F\n",
    "        print(\"it is a possitive number:\")\n",
    "else:\n",
    "         print(\"it is a zero\")\n",
    " \n",
    "         \n",
    "         \n",
    "num=eval(input(\"enter the number:\")) \n",
    "if num>=0:          # 0>=0  T\n",
    "    if num==0:  #0==0  T s numi\n",
    "         print(\"it is a posisitive number:\")  \n",
    "else:\n",
    "    print(\"it iss a negegitive number:\")\n",
    "\n",
    "         \n",
    "         "
   ]
  },
  {
   "cell_type": "code",
   "execution_count": 7,
   "id": "fd1217d3",
   "metadata": {},
   "outputs": [
    {
     "name": "stdout",
     "output_type": "stream",
     "text": [
      "enter the number35\n",
      "it is 100\n"
     ]
    }
   ],
   "source": [
    "# wap find the greater number between the given three numbers\n",
    "#50 75 100 \n",
    "# ans:100\n",
    "\n",
    "num1=50\n",
    "num2=75\n",
    "num3=100\n",
    "if num1>=num2 and num1>=num3:\n",
    "    greatest number=num1\n",
    "elif num2>75 and num2>num3:\n",
    "    greatest number=num2\n",
    "else:\n",
    "    greatestnumber=num3\n",
    "    print(f\"greater number between three numbers is {greatestnumber})\n",
    "    \n",
    "    \n",
    "    \n"
   ]
  },
  {
   "cell_type": "code",
   "execution_count": null,
   "id": "0713bb81",
   "metadata": {},
   "outputs": [],
   "source": []
  },
  {
   "cell_type": "code",
   "execution_count": null,
   "id": "c811c5e6",
   "metadata": {},
   "outputs": [],
   "source": []
  }
 ],
 "metadata": {
  "kernelspec": {
   "display_name": "Python 3 (ipykernel)",
   "language": "python",
   "name": "python3"
  },
  "language_info": {
   "codemirror_mode": {
    "name": "ipython",
    "version": 3
   },
   "file_extension": ".py",
   "mimetype": "text/x-python",
   "name": "python",
   "nbconvert_exporter": "python",
   "pygments_lexer": "ipython3",
   "version": "3.11.5"
  }
 },
 "nbformat": 4,
 "nbformat_minor": 5
}
