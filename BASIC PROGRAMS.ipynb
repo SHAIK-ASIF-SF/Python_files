{
 "cells": [
  {
   "cell_type": "code",
   "execution_count": 1,
   "id": "3bea21ad",
   "metadata": {},
   "outputs": [
    {
     "data": {
      "text/plain": [
       "18"
      ]
     },
     "execution_count": 1,
     "metadata": {},
     "output_type": "execute_result"
    }
   ],
   "source": [
    "str=\"my name is python \"\n",
    "len(str)"
   ]
  },
  {
   "cell_type": "code",
   "execution_count": 20,
   "id": "ad620cb6",
   "metadata": {},
   "outputs": [
    {
     "name": "stdout",
     "output_type": "stream",
     "text": [
      "26\n"
     ]
    }
   ],
   "source": [
    "str2=\"abcdefghijklmnopqrstuvwxyz\"\n",
    "def string_len(str2):\n",
    "    count=0\n",
    "    for char in str2:\n",
    "        count+=1\n",
    "    return count\n",
    "print(len(str2))"
   ]
  },
  {
   "cell_type": "code",
   "execution_count": 26,
   "id": "3d8516a9",
   "metadata": {},
   "outputs": [
    {
     "name": "stdout",
     "output_type": "stream",
     "text": [
      "28\n"
     ]
    }
   ],
   "source": [
    "name=\"obul reddy from adudam andra\"\n",
    "def string_len(nume):\n",
    "    count=0\n",
    "    for char in name:\n",
    "        count+=1\n",
    "        return count\n",
    "print(len(name))"
   ]
  },
  {
   "cell_type": "code",
   "execution_count": 28,
   "id": "b98b4d29",
   "metadata": {},
   "outputs": [
    {
     "name": "stdout",
     "output_type": "stream",
     "text": [
      "hello baby how are you am waiting for you\n"
     ]
    }
   ],
   "source": [
    "print(\"hello baby how are you am waiting for you\")"
   ]
  },
  {
   "cell_type": "code",
   "execution_count": 35,
   "id": "3a640f3d",
   "metadata": {},
   "outputs": [
    {
     "name": "stdout",
     "output_type": "stream",
     "text": [
      "enter the number:15\n",
      "enter the second number:49\n",
      "summation of 64 and\n"
     ]
    }
   ],
   "source": [
    "num1=eval(input(\"enter the number:\"))\n",
    "num2=eval(input(\"enter the second number:\"))\n",
    "add=num1+num2\n",
    "print(f\"summation of {add} and\")"
   ]
  },
  {
   "cell_type": "code",
   "execution_count": 39,
   "id": "ae1aefe3",
   "metadata": {},
   "outputs": [
    {
     "name": "stdout",
     "output_type": "stream",
     "text": [
      "enter a number:345678\n",
      "enter second number3456\n",
      "wrong pls enter correct\n"
     ]
    }
   ],
   "source": [
    "# deviation\n",
    "num2=eval(input(\"enter a number:\"))\n",
    "num10=eval(input(\"enter second number\"))\n",
    "if num2==num10:\n",
    "    print(\"your good\")\n",
    "else:\n",
    "    print(\"wrong pls enter correct\")\n",
    "       "
   ]
  },
  {
   "cell_type": "code",
   "execution_count": 42,
   "id": "b026c265",
   "metadata": {},
   "outputs": [
    {
     "name": "stdout",
     "output_type": "stream",
     "text": [
      "enter number:34\n",
      "enter second number:2\n",
      "the deaviation of 034,2 is17.0\n"
     ]
    }
   ],
   "source": [
    "n1=eval(input(\"enter number:\"))\n",
    "n2=eval(input(\"enter second number:\"))\n",
    "dev=n1/n2\n",
    "print(f\"the deaviation of 0{n1},{n2} is{dev}\")"
   ]
  },
  {
   "cell_type": "code",
   "execution_count": 1,
   "id": "aedf215d",
   "metadata": {},
   "outputs": [
    {
     "name": "stdout",
     "output_type": "stream",
     "text": [
      "enter the lenth of the triangle:78\n",
      "enter the height of triangle:56\n",
      "the area of the triangle is:2184.0\n"
     ]
    }
   ],
   "source": [
    "base=eval(input(\"enter the lenth of the triangle:\"))\n",
    "height=eval(input(\"enter the height of triangle:\"))\n",
    "area=0.5*base*height\n",
    "print(f\"the area of the triangle is:{area}\")"
   ]
  },
  {
   "cell_type": "code",
   "execution_count": 10,
   "id": "569e62ac",
   "metadata": {},
   "outputs": [
    {
     "name": "stdout",
     "output_type": "stream",
     "text": [
      "enter a year:3000\n",
      "3000 is not a leap year\n"
     ]
    }
   ],
   "source": [
    "year=eval(input(\"enter a year:\"))\n",
    "\n",
    "if (year %400 == 0) and (year % 100 == 0):\n",
    "    print(\"{0} is a leep year\".format(year))\n",
    "    \n",
    "elif(year % 4 ==0) and (year % 100 != 0):\n",
    "    print(\"{0} is a leep year\".format(year))\n",
    "    \n",
    "else:\n",
    "    print(\"{0} is not a leap year\".format(year))\n",
    "    "
   ]
  },
  {
   "cell_type": "code",
   "execution_count": null,
   "id": "4426863b",
   "metadata": {},
   "outputs": [],
   "source": []
  },
  {
   "cell_type": "code",
   "execution_count": null,
   "id": "7b93129d",
   "metadata": {},
   "outputs": [],
   "source": []
  },
  {
   "cell_type": "code",
   "execution_count": null,
   "id": "dcb5850b",
   "metadata": {},
   "outputs": [],
   "source": []
  },
  {
   "cell_type": "code",
   "execution_count": null,
   "id": "d04ee475",
   "metadata": {},
   "outputs": [],
   "source": []
  },
  {
   "cell_type": "code",
   "execution_count": null,
   "id": "e16516ef",
   "metadata": {},
   "outputs": [],
   "source": []
  },
  {
   "cell_type": "code",
   "execution_count": null,
   "id": "5f111ab6",
   "metadata": {},
   "outputs": [],
   "source": []
  },
  {
   "cell_type": "code",
   "execution_count": null,
   "id": "c7b69ec3",
   "metadata": {},
   "outputs": [],
   "source": []
  }
 ],
 "metadata": {
  "kernelspec": {
   "display_name": "Python 3 (ipykernel)",
   "language": "python",
   "name": "python3"
  },
  "language_info": {
   "codemirror_mode": {
    "name": "ipython",
    "version": 3
   },
   "file_extension": ".py",
   "mimetype": "text/x-python",
   "name": "python",
   "nbconvert_exporter": "python",
   "pygments_lexer": "ipython3",
   "version": "3.11.5"
  }
 },
 "nbformat": 4,
 "nbformat_minor": 5
}
