{
 "cells": [
  {
   "cell_type": "code",
   "execution_count": 5,
   "id": "5087375a",
   "metadata": {},
   "outputs": [],
   "source": [
    "name='python'\n",
    "\n",
    "# strings are in red colour\n",
    "# variables are in black colour\n",
    "# keywordare in green colour\n"
   ]
  },
  {
   "cell_type": "code",
   "execution_count": 6,
   "id": "9540fc3c",
   "metadata": {},
   "outputs": [
    {
     "data": {
      "text/plain": [
       "str"
      ]
     },
     "execution_count": 6,
     "metadata": {},
     "output_type": "execute_result"
    }
   ],
   "source": [
    "type(name)"
   ]
  },
  {
   "cell_type": "code",
   "execution_count": 1,
   "id": "04233ad8",
   "metadata": {},
   "outputs": [
    {
     "data": {
      "text/plain": [
       "str"
      ]
     },
     "execution_count": 1,
     "metadata": {},
     "output_type": "execute_result"
    }
   ],
   "source": [
    "name1=\"python\"\n",
    "type(name1)"
   ]
  },
  {
   "cell_type": "code",
   "execution_count": 7,
   "id": "c4cc9f80",
   "metadata": {},
   "outputs": [
    {
     "name": "stdout",
     "output_type": "stream",
     "text": [
      "python\n"
     ]
    }
   ],
   "source": [
    "print(name)       # careful with print statement"
   ]
  },
  {
   "cell_type": "code",
   "execution_count": 4,
   "id": "fb46f234",
   "metadata": {},
   "outputs": [
    {
     "name": "stdout",
     "output_type": "stream",
     "text": [
      "python\n"
     ]
    }
   ],
   "source": [
    "print(name1)       # careful with print statement"
   ]
  },
  {
   "cell_type": "code",
   "execution_count": 5,
   "id": "f84a64dc",
   "metadata": {},
   "outputs": [
    {
     "name": "stdout",
     "output_type": "stream",
     "text": [
      "i like \"python\"\n"
     ]
    }
   ],
   "source": [
    "name2='i like \"python\"'\n",
    "print(name2)\n",
    "\n",
    "# entire string in single quotes\n",
    "# python word is in double quotes"
   ]
  },
  {
   "cell_type": "code",
   "execution_count": 6,
   "id": "7cb454ad",
   "metadata": {},
   "outputs": [
    {
     "name": "stdout",
     "output_type": "stream",
     "text": [
      "i like 'python'\n"
     ]
    }
   ],
   "source": [
    "name3=\"i like 'python'\"\n",
    "print(name3)"
   ]
  },
  {
   "cell_type": "markdown",
   "id": "58cf0c49",
   "metadata": {},
   "source": [
    "## triple quotes"
   ]
  },
  {
   "cell_type": "markdown",
   "id": "5b0eb34f",
   "metadata": {},
   "source": [
    "- triple quotes meanings is ======> doc string\n",
    "\n",
    "- if you want to convey the information to user\n",
    "\n",
    "- in juiter notebook: \"markdown\"\n",
    "\n",
    "- but in another plate forms like \"vscode,pycharm =====>dont have markdown\"\n",
    "\n",
    "- at that place to convey the information we use triple quotes\n",
    "\n",
    "- that is called docstring"
   ]
  },
  {
   "cell_type": "code",
   "execution_count": null,
   "id": "f5e999ba",
   "metadata": {},
   "outputs": [],
   "source": [
    "name4=\"\"\"python\"\"\""
   ]
  },
  {
   "cell_type": "code",
   "execution_count": 9,
   "id": "ce1e535f",
   "metadata": {},
   "outputs": [
    {
     "data": {
      "text/plain": [
       "15"
      ]
     },
     "execution_count": 9,
     "metadata": {},
     "output_type": "execute_result"
    }
   ],
   "source": [
    "import random\n",
    "random.randint(10,20)"
   ]
  },
  {
   "cell_type": "markdown",
   "id": "d4a08b2f",
   "metadata": {},
   "source": [
    "- type \n",
    "- max \n",
    "- min\n",
    "- len\n",
    "- reversed\n",
    "- sorted`\n",
    "- concatenation\n",
    "- index\n"
   ]
  },
  {
   "cell_type": "code",
   "execution_count": 7,
   "id": "dd9dd463",
   "metadata": {},
   "outputs": [
    {
     "data": {
      "text/plain": [
       "'y'"
      ]
     },
     "execution_count": 7,
     "metadata": {},
     "output_type": "execute_result"
    }
   ],
   "source": [
    "name='python'\n",
    "max(name)\n",
    "\n",
    "# keyword(<variable_name>)\n",
    "# print(name)\n",
    "# type(name)"
   ]
  },
  {
   "cell_type": "markdown",
   "id": "1b9df80a",
   "metadata": {},
   "source": [
    "$ASCII$\n",
    "\n",
    "- American Standard Code Information Interchange\n",
    "- A: 65\n",
    "- a:97    "
   ]
  },
  {
   "cell_type": "markdown",
   "id": "6cfad3bf",
   "metadata": {},
   "source": [
    "## ord-chr :"
   ]
  },
  {
   "cell_type": "code",
   "execution_count": 8,
   "id": "93b8a464",
   "metadata": {},
   "outputs": [
    {
     "data": {
      "text/plain": [
       "(112, 121, 116, 104, 110)"
      ]
     },
     "execution_count": 8,
     "metadata": {},
     "output_type": "execute_result"
    }
   ],
   "source": [
    "ord('p'),ord('y'),ord('t'),ord('h'),ord('n')"
   ]
  },
  {
   "cell_type": "code",
   "execution_count": 14,
   "id": "3b13ad84",
   "metadata": {},
   "outputs": [
    {
     "data": {
      "text/plain": [
       "(103, 'c')"
      ]
     },
     "execution_count": 14,
     "metadata": {},
     "output_type": "execute_result"
    }
   ],
   "source": [
    "ord('g'),chr(99)"
   ]
  },
  {
   "cell_type": "code",
   "execution_count": 9,
   "id": "34cc826f",
   "metadata": {},
   "outputs": [
    {
     "data": {
      "text/plain": [
       "'y'"
      ]
     },
     "execution_count": 9,
     "metadata": {},
     "output_type": "execute_result"
    }
   ],
   "source": [
    "max('python')"
   ]
  },
  {
   "cell_type": "code",
   "execution_count": 10,
   "id": "5acb23b0",
   "metadata": {},
   "outputs": [
    {
     "data": {
      "text/plain": [
       "'h'"
      ]
     },
     "execution_count": 10,
     "metadata": {},
     "output_type": "execute_result"
    }
   ],
   "source": [
    "min('python')"
   ]
  },
  {
   "cell_type": "code",
   "execution_count": 17,
   "id": "9321af09",
   "metadata": {},
   "outputs": [
    {
     "data": {
      "text/plain": [
       "('p', 't', 'h', 'n', 'y')"
      ]
     },
     "execution_count": 17,
     "metadata": {},
     "output_type": "execute_result"
    }
   ],
   "source": [
    "chr(112),chr(116),chr(104),chr(110),chr(121)"
   ]
  },
  {
   "cell_type": "code",
   "execution_count": 17,
   "id": "ead078d9",
   "metadata": {},
   "outputs": [
    {
     "data": {
      "text/plain": [
       "'3'"
      ]
     },
     "execution_count": 17,
     "metadata": {},
     "output_type": "execute_result"
    }
   ],
   "source": [
    "str='123-100'\n",
    "max(str1)"
   ]
  },
  {
   "cell_type": "code",
   "execution_count": 15,
   "id": "e96b7d41",
   "metadata": {},
   "outputs": [
    {
     "data": {
      "text/plain": [
       "'-'"
      ]
     },
     "execution_count": 15,
     "metadata": {},
     "output_type": "execute_result"
    }
   ],
   "source": [
    "str1='123-100'\n",
    "min(str1)"
   ]
  },
  {
   "cell_type": "code",
   "execution_count": 19,
   "id": "54c3cde0",
   "metadata": {},
   "outputs": [
    {
     "name": "stdout",
     "output_type": "stream",
     "text": [
      "7\n"
     ]
    }
   ],
   "source": [
    "print(len(str1))"
   ]
  },
  {
   "cell_type": "code",
   "execution_count": 18,
   "id": "5abb8434",
   "metadata": {},
   "outputs": [
    {
     "data": {
      "text/plain": [
       "(45, 51, 49, 50)"
      ]
     },
     "execution_count": 18,
     "metadata": {},
     "output_type": "execute_result"
    }
   ],
   "source": [
    "ord('-'),ord('3'),ord('1'),ord('2')"
   ]
  },
  {
   "cell_type": "code",
   "execution_count": 1,
   "id": "a19eaa99",
   "metadata": {},
   "outputs": [
    {
     "name": "stdout",
     "output_type": "stream",
     "text": [
      "33 = !, 34 = \", 35 = #, 36 = $, 37 = %, 38 = &, 39 = ', 40 = (, 41 = ), 42 = *, 43 = +, 44 = ,, 45 = -, 46 = ., 47 = /, 48 = 0, 49 = 1, 50 = 2, 51 = 3, 52 = 4, 53 = 5, 54 = 6, 55 = 7, 56 = 8, 57 = 9, 58 = :, 59 = ;, 60 = <, 61 = =, 62 = >, 63 = ?, 64 = @, 65 = A, 66 = B, 67 = C, 68 = D, 69 = E, 70 = F, 71 = G, 72 = H, 73 = I, 74 = J, 75 = K, 76 = L, 77 = M, 78 = N, 79 = O, 80 = P, 81 = Q, 82 = R, 83 = S, 84 = T, 85 = U, 86 = V, 87 = W, 88 = X, 89 = Y, 90 = Z, 91 = [, 92 = \\, 93 = ], 94 = ^, 95 = _, 96 = `, 97 = a, 98 = b, 99 = c, 100 = d, 101 = e, 102 = f, 103 = g, 104 = h, 105 = i, 106 = j, 107 = k, 108 = l, 109 = m, 110 = n, 111 = o, 112 = p, 113 = q, 114 = r, 115 = s, 116 = t, 117 = u, 118 = v, 119 = w, 120 = x, 121 = y, 122 = z, 123 = {, 124 = |, 125 = }, 126 = ~, 127 = , "
     ]
    }
   ],
   "source": [
    "# How many ascii values are existing\n",
    "\n",
    "for i in range(33,128):\n",
    "    print(i, '=',chr(i),end=', ')"
   ]
  },
  {
   "cell_type": "code",
   "execution_count": 3,
   "id": "6e855998",
   "metadata": {},
   "outputs": [
    {
     "name": "stdout",
     "output_type": "stream",
     "text": [
      "49 = 1,50 = 2,51 = 3,52 = 4,53 = 5,54 = 6,55 = 7,56 = 8,57 = 9,58 = :,59 = ;,60 = <,61 = =,62 = >,63 = ?,64 = @,65 = A,66 = B,67 = C,68 = D,69 = E,70 = F,71 = G,72 = H,73 = I,74 = J,75 = K,76 = L,77 = M,78 = N,79 = O,80 = P,81 = Q,82 = R,83 = S,84 = T,85 = U,86 = V,87 = W,88 = X,89 = Y,90 = Z,91 = [,92 = \\,93 = ],94 = ^,95 = _,96 = `,97 = a,98 = b,99 = c,"
     ]
    }
   ],
   "source": [
    "for i in range(49,100):\n",
    "    print(i, '=',chr(i),end=',')"
   ]
  },
  {
   "cell_type": "code",
   "execution_count": 21,
   "id": "cb38d31a",
   "metadata": {},
   "outputs": [
    {
     "name": "stdout",
     "output_type": "stream",
     "text": [
      "0 = \u0000, 1 = \u0001, 2 = \u0002, 3 = \u0003, 4 = \u0004, 5 = \u0005, 6 = \u0006, 7 = \u0007, 8 = \b, 9 = \t, 10 = \n",
      ", 11 = \u000b",
      ", 12 = \f",
      ", 13 = \r",
      ", 14 = \u000e, 15 = \u000f, 16 = \u0010, 17 = \u0011, 18 = \u0012, 19 = \u0013, 20 = \u0014, 21 = \u0015, 22 = \u0016, 23 = \u0017, 24 = \u0018, 25 = \u0019, 26 = \u001a, 27 = \u001b, 28 = \u001c",
      ", 29 = \u001d",
      ", 30 = \u001e",
      ", 31 = \u001f, 32 =  , 33 = !, 34 = \", 35 = #, 36 = $, 37 = %, 38 = &, 39 = ', 40 = (, 41 = ), 42 = *, 43 = +, 44 = ,, 45 = -, 46 = ., 47 = /, 48 = 0, 49 = 1, 50 = 2, 51 = 3, 52 = 4, 53 = 5, 54 = 6, 55 = 7, 56 = 8, 57 = 9, 58 = :, 59 = ;, 60 = <, 61 = =, 62 = >, 63 = ?, 64 = @, 65 = A, 66 = B, 67 = C, 68 = D, 69 = E, 70 = F, 71 = G, 72 = H, 73 = I, 74 = J, 75 = K, 76 = L, 77 = M, 78 = N, 79 = O, 80 = P, 81 = Q, 82 = R, 83 = S, 84 = T, 85 = U, 86 = V, 87 = W, 88 = X, 89 = Y, 90 = Z, 91 = [, 92 = \\, 93 = ], 94 = ^, 95 = _, 96 = `, 97 = a, 98 = b, 99 = c, "
     ]
    }
   ],
   "source": [
    "for i in range(100):\n",
    "    print(i, '=',chr(i),end=', ')"
   ]
  },
  {
   "cell_type": "code",
   "execution_count": 27,
   "id": "7763b69b",
   "metadata": {},
   "outputs": [
    {
     "name": "stdout",
     "output_type": "stream",
     "text": [
      "0 = \u0000,1 = \u0001,2 = \u0002,3 = \u0003,4 = \u0004,5 = \u0005,6 = \u0006,7 = \u0007,8 = \b,9 = \t,"
     ]
    }
   ],
   "source": [
    "for i in range(10):\n",
    "    print(i,'=',chr(i),end=',')"
   ]
  },
  {
   "cell_type": "code",
   "execution_count": 1,
   "id": "6e736b31",
   "metadata": {},
   "outputs": [
    {
     "data": {
      "text/plain": [
       "False"
      ]
     },
     "execution_count": 1,
     "metadata": {},
     "output_type": "execute_result"
    }
   ],
   "source": [
    "'Banana'>'banana'    # 'B':66   'b':99   66>99"
   ]
  },
  {
   "cell_type": "code",
   "execution_count": 2,
   "id": "d075b455",
   "metadata": {},
   "outputs": [
    {
     "data": {
      "text/plain": [
       "True"
      ]
     },
     "execution_count": 2,
     "metadata": {},
     "output_type": "execute_result"
    }
   ],
   "source": [
    "'Banana'>'BAanana'    # a='97'      'A'=65\n"
   ]
  },
  {
   "cell_type": "markdown",
   "id": "abb6420d",
   "metadata": {},
   "source": [
    "## len :-"
   ]
  },
  {
   "cell_type": "code",
   "execution_count": 28,
   "id": "58bbdbdd",
   "metadata": {},
   "outputs": [
    {
     "data": {
      "text/plain": [
       "14"
      ]
     },
     "execution_count": 28,
     "metadata": {},
     "output_type": "execute_result"
    }
   ],
   "source": [
    "s1='i like pytthon'\n",
    "len(s1)"
   ]
  },
  {
   "cell_type": "code",
   "execution_count": 33,
   "id": "beb76e5c",
   "metadata": {},
   "outputs": [
    {
     "data": {
      "text/plain": [
       "0"
      ]
     },
     "execution_count": 33,
     "metadata": {},
     "output_type": "execute_result"
    }
   ],
   "source": [
    "str2=''                          # it has empty string\n",
    "len(str2)"
   ]
  },
  {
   "cell_type": "code",
   "execution_count": 25,
   "id": "20cdc351",
   "metadata": {},
   "outputs": [
    {
     "data": {
      "text/plain": [
       "1"
      ]
     },
     "execution_count": 25,
     "metadata": {},
     "output_type": "execute_result"
    }
   ],
   "source": [
    "str3=' '          #  it has one space\n",
    "len(str3)"
   ]
  },
  {
   "cell_type": "code",
   "execution_count": 26,
   "id": "74eebfba",
   "metadata": {},
   "outputs": [
    {
     "data": {
      "text/plain": [
       "<reversed at 0x1b245436bf0>"
      ]
     },
     "execution_count": 26,
     "metadata": {},
     "output_type": "execute_result"
    }
   ],
   "source": [
    "reversed('python')\n",
    "\n",
    "# <output is stored inherently>\n",
    "# we use the for loop to get the output\n"
   ]
  },
  {
   "cell_type": "markdown",
   "id": "ea7d96d7",
   "metadata": {},
   "source": [
    "## in :-"
   ]
  },
  {
   "cell_type": "code",
   "execution_count": 79,
   "id": "7dc64692",
   "metadata": {},
   "outputs": [
    {
     "name": "stdout",
     "output_type": "stream",
     "text": [
      "p\n",
      "y\n",
      "t\n",
      "h\n",
      "o\n",
      "n\n"
     ]
    }
   ],
   "source": [
    "'p'in'python'\n",
    "'y'in'python'\n",
    "'Y'in'python'\n",
    "'h'in'python'\n",
    "'o'in'python'\n",
    "'n'in'python'\n",
    "\n",
    "for i in  'python':\n",
    "    print(i)    # generlized"
   ]
  },
  {
   "cell_type": "code",
   "execution_count": 2,
   "id": "d2d7ebda",
   "metadata": {},
   "outputs": [
    {
     "name": "stdout",
     "output_type": "stream",
     "text": [
      "n\n",
      "o\n",
      "h\n",
      "t\n",
      "y\n",
      "p\n"
     ]
    }
   ],
   "source": [
    "for i in reversed('python'):\n",
    "    print(i)"
   ]
  },
  {
   "cell_type": "code",
   "execution_count": 10,
   "id": "4238396f",
   "metadata": {},
   "outputs": [
    {
     "data": {
      "text/plain": [
       "<reversed at 0x1727cc76140>"
      ]
     },
     "execution_count": 10,
     "metadata": {},
     "output_type": "execute_result"
    }
   ],
   "source": [
    "reversed('python')"
   ]
  },
  {
   "cell_type": "code",
   "execution_count": 41,
   "id": "53bb66f7",
   "metadata": {},
   "outputs": [
    {
     "name": "stdout",
     "output_type": "stream",
     "text": [
      "s\n",
      "d\n",
      "n\n",
      "e\n",
      "i\n",
      "r\n",
      "f\n"
     ]
    }
   ],
   "source": [
    "for i in reversed('friends'):\n",
    "    print(i)"
   ]
  },
  {
   "cell_type": "code",
   "execution_count": 35,
   "id": "7d48fd9a",
   "metadata": {},
   "outputs": [
    {
     "name": "stdout",
     "output_type": "stream",
     "text": [
      "a\n",
      "p\n",
      "p\n",
      "l\n",
      "e\n"
     ]
    }
   ],
   "source": [
    "s1='apple'\n",
    "for i in s1:\n",
    "    print(i)"
   ]
  },
  {
   "cell_type": "code",
   "execution_count": 36,
   "id": "65313688",
   "metadata": {},
   "outputs": [
    {
     "name": "stdout",
     "output_type": "stream",
     "text": [
      "a\n",
      "s\n",
      "i\n",
      "f\n"
     ]
    }
   ],
   "source": [
    "n1='asif'\n",
    "for i in n1:\n",
    "    print(i)"
   ]
  },
  {
   "cell_type": "code",
   "execution_count": 11,
   "id": "fa6dabc7",
   "metadata": {},
   "outputs": [
    {
     "name": "stdout",
     "output_type": "stream",
     "text": [
      "f\n",
      "i\n",
      "s\n",
      "a\n"
     ]
    }
   ],
   "source": [
    "for i in reversed('asif'):\n",
    "    print (i)"
   ]
  },
  {
   "cell_type": "code",
   "execution_count": 37,
   "id": "ad5ade46",
   "metadata": {},
   "outputs": [
    {
     "data": {
      "text/plain": [
       "['h', 'n', 'o', 'p', 't', 'y']"
      ]
     },
     "execution_count": 37,
     "metadata": {},
     "output_type": "execute_result"
    }
   ],
   "source": [
    "sorted('python')\n",
    "# by default reversed =False: acending order\n",
    "# sorted keyword sort the letter\n",
    "# [104,110,111,112,116,121]"
   ]
  },
  {
   "cell_type": "code",
   "execution_count": 85,
   "id": "77085960",
   "metadata": {},
   "outputs": [
    {
     "data": {
      "text/plain": [
       "['y', 't', 'p', 'o', 'n', 'h']"
      ]
     },
     "execution_count": 85,
     "metadata": {},
     "output_type": "execute_result"
    }
   ],
   "source": [
    "sorted('python',reverse=True)      # assending order (1<0)"
   ]
  },
  {
   "cell_type": "code",
   "execution_count": 87,
   "id": "1fa0e6f5",
   "metadata": {},
   "outputs": [
    {
     "data": {
      "text/plain": [
       "['h', 'n', 'o', 'p', 't', 'y']"
      ]
     },
     "execution_count": 87,
     "metadata": {},
     "output_type": "execute_result"
    }
   ],
   "source": [
    "sorted('python',reverse=False)      # dessending order (0>1)"
   ]
  },
  {
   "cell_type": "code",
   "execution_count": 38,
   "id": "5c442234",
   "metadata": {},
   "outputs": [
    {
     "name": "stdout",
     "output_type": "stream",
     "text": [
      "p 112\n",
      "y 121\n",
      "t 116\n",
      "h 104\n",
      "o 111\n",
      "n 110\n"
     ]
    }
   ],
   "source": [
    "for i in 'python':\n",
    "    print(i,ord(i))"
   ]
  },
  {
   "cell_type": "code",
   "execution_count": 90,
   "id": "623ec814",
   "metadata": {},
   "outputs": [
    {
     "name": "stdout",
     "output_type": "stream",
     "text": [
      "h 104\n",
      "y 121\n",
      "d 100\n",
      "e 101\n",
      "r 114\n",
      "a 97\n",
      "b 98\n",
      "a 97\n",
      "d 100\n"
     ]
    }
   ],
   "source": [
    "for i in 'hyderabad':\n",
    "    print(i,ord(i))"
   ]
  },
  {
   "cell_type": "code",
   "execution_count": null,
   "id": "c78ad933",
   "metadata": {},
   "outputs": [],
   "source": []
  },
  {
   "cell_type": "code",
   "execution_count": 39,
   "id": "49ae218a",
   "metadata": {},
   "outputs": [
    {
     "data": {
      "text/plain": [
       "['y', 't', 'p', 'o', 'n', 'h']"
      ]
     },
     "execution_count": 39,
     "metadata": {},
     "output_type": "execute_result"
    }
   ],
   "source": [
    "sorted('python',reverse=True)"
   ]
  },
  {
   "cell_type": "code",
   "execution_count": 40,
   "id": "1b3b2b2b",
   "metadata": {},
   "outputs": [
    {
     "data": {
      "text/plain": [
       "['h', 'n', 'o', 'p', 't', 'y']"
      ]
     },
     "execution_count": 40,
     "metadata": {},
     "output_type": "execute_result"
    }
   ],
   "source": [
    "sorted('python',reverse=False)"
   ]
  },
  {
   "cell_type": "code",
   "execution_count": 12,
   "id": "334337d8",
   "metadata": {},
   "outputs": [
    {
     "name": "stdout",
     "output_type": "stream",
     "text": [
      "p 112\n",
      "y 121\n",
      "t 116\n",
      "h 104\n",
      "o 111\n",
      "n 110\n"
     ]
    }
   ],
   "source": [
    "for i in 'python':\n",
    "    print(i,ord(i))\n",
    "    \n"
   ]
  },
  {
   "cell_type": "markdown",
   "id": "58bf9b31",
   "metadata": {},
   "source": [
    "- type\n",
    "\n",
    "- max\n",
    "\n",
    "- min\n",
    "\n",
    "    - ord\n",
    "    \n",
    "    - chr\n",
    "    \n",
    "- len\n",
    "\n",
    "- reversed\n",
    "\n",
    "- in\n",
    "\n",
    "- sorted"
   ]
  },
  {
   "cell_type": "code",
   "execution_count": 16,
   "id": "7f9d710b",
   "metadata": {},
   "outputs": [
    {
     "data": {
      "text/plain": [
       "'hello  python'"
      ]
     },
     "execution_count": 16,
     "metadata": {},
     "output_type": "execute_result"
    }
   ],
   "source": [
    "str1='hello'\n",
    "str2='python'\n",
    "\n",
    "\n",
    "# Concatination\n",
    "str1+'  '+str2\n",
    "\n",
    "#'hello'+'python'"
   ]
  },
  {
   "cell_type": "code",
   "execution_count": null,
   "id": "3d53d75a",
   "metadata": {},
   "outputs": [],
   "source": [
    "str1+str2     #'hellopython'\n",
    "str1-str2      # error\n",
    "str1*str2       # error\n",
    "str/str2    # error"
   ]
  },
  {
   "cell_type": "code",
   "execution_count": 42,
   "id": "7fa1dc84",
   "metadata": {},
   "outputs": [
    {
     "ename": "TypeError",
     "evalue": "unsupported operand type(s) for -: 'str' and 'str'",
     "output_type": "error",
     "traceback": [
      "\u001b[1;31m---------------------------------------------------------------------------\u001b[0m",
      "\u001b[1;31mTypeError\u001b[0m                                 Traceback (most recent call last)",
      "Cell \u001b[1;32mIn[42], line 1\u001b[0m\n\u001b[1;32m----> 1\u001b[0m str1\u001b[38;5;241m-\u001b[39mstr2\n",
      "\u001b[1;31mTypeError\u001b[0m: unsupported operand type(s) for -: 'str' and 'str'"
     ]
    }
   ],
   "source": [
    "str1-str2"
   ]
  },
  {
   "cell_type": "code",
   "execution_count": 43,
   "id": "57d5c19d",
   "metadata": {},
   "outputs": [
    {
     "ename": "TypeError",
     "evalue": "can't multiply sequence by non-int of type 'str'",
     "output_type": "error",
     "traceback": [
      "\u001b[1;31m---------------------------------------------------------------------------\u001b[0m",
      "\u001b[1;31mTypeError\u001b[0m                                 Traceback (most recent call last)",
      "Cell \u001b[1;32mIn[43], line 1\u001b[0m\n\u001b[1;32m----> 1\u001b[0m str1\u001b[38;5;241m*\u001b[39mstr2\n",
      "\u001b[1;31mTypeError\u001b[0m: can't multiply sequence by non-int of type 'str'"
     ]
    }
   ],
   "source": [
    "str1*str2      #\n",
    "# str and str\n",
    "# non int type ans str"
   ]
  },
  {
   "cell_type": "code",
   "execution_count": 44,
   "id": "8f485c9e",
   "metadata": {},
   "outputs": [
    {
     "data": {
      "text/plain": [
       "'pythonpythonpython'"
      ]
     },
     "execution_count": 44,
     "metadata": {},
     "output_type": "execute_result"
    }
   ],
   "source": [
    "3*str2"
   ]
  },
  {
   "cell_type": "code",
   "execution_count": 45,
   "id": "84b32421",
   "metadata": {},
   "outputs": [
    {
     "ename": "TypeError",
     "evalue": "unsupported operand type(s) for /: 'str' and 'str'",
     "output_type": "error",
     "traceback": [
      "\u001b[1;31m---------------------------------------------------------------------------\u001b[0m",
      "\u001b[1;31mTypeError\u001b[0m                                 Traceback (most recent call last)",
      "Cell \u001b[1;32mIn[45], line 1\u001b[0m\n\u001b[1;32m----> 1\u001b[0m str1\u001b[38;5;241m/\u001b[39mstr2\n",
      "\u001b[1;31mTypeError\u001b[0m: unsupported operand type(s) for /: 'str' and 'str'"
     ]
    }
   ],
   "source": [
    "str1/str2"
   ]
  },
  {
   "cell_type": "markdown",
   "id": "12859087",
   "metadata": {},
   "source": [
    "-type\n",
    "\n",
    "- max\n",
    "\n",
    "- min\n",
    "\n",
    "    - ord\n",
    "    \n",
    "    - chr\n",
    "    \n",
    "- len\n",
    "\n",
    "- reversed\n",
    "\n",
    "- in\n",
    "\n",
    "- sorted\n",
    "\n",
    "- concatenation"
   ]
  },
  {
   "cell_type": "markdown",
   "id": "e86448d2",
   "metadata": {},
   "source": [
    "## index :"
   ]
  },
  {
   "cell_type": "markdown",
   "id": "762f659a",
   "metadata": {},
   "source": [
    "#### in python index start with zero"
   ]
  },
  {
   "cell_type": "code",
   "execution_count": 1,
   "id": "af4e5bee",
   "metadata": {},
   "outputs": [
    {
     "data": {
      "text/plain": [
       "'python'"
      ]
     },
     "execution_count": 1,
     "metadata": {},
     "output_type": "execute_result"
    }
   ],
   "source": [
    "str1='python'\n",
    "\n",
    "\n",
    "# -6  -5  -4  -3  -2  -1 \n",
    "#  p   y   t   h   o   n\n",
    "# 0   1   2   3   4   5  \n",
    "\n",
    "str1"
   ]
  },
  {
   "cell_type": "code",
   "execution_count": 5,
   "id": "4b1e9469",
   "metadata": {},
   "outputs": [
    {
     "data": {
      "text/plain": [
       "('a', 's', 'i', 'f')"
      ]
     },
     "execution_count": 5,
     "metadata": {},
     "output_type": "execute_result"
    }
   ],
   "source": [
    "s1='asif'\n",
    "s1[0],s1[1],s1[2],s1[3]"
   ]
  },
  {
   "cell_type": "code",
   "execution_count": 7,
   "id": "1754ae99",
   "metadata": {},
   "outputs": [],
   "source": [
    "str1='Aasif'"
   ]
  },
  {
   "cell_type": "code",
   "execution_count": 11,
   "id": "527b07b3",
   "metadata": {},
   "outputs": [
    {
     "ename": "IndexError",
     "evalue": "string index out of range",
     "output_type": "error",
     "traceback": [
      "\u001b[1;31m---------------------------------------------------------------------------\u001b[0m",
      "\u001b[1;31mIndexError\u001b[0m                                Traceback (most recent call last)",
      "Cell \u001b[1;32mIn[11], line 6\u001b[0m\n\u001b[0;32m      4\u001b[0m str1[\u001b[38;5;241m3\u001b[39m]\n\u001b[0;32m      5\u001b[0m str1[\u001b[38;5;241m4\u001b[39m]\n\u001b[1;32m----> 6\u001b[0m str1[\u001b[38;5;241m5\u001b[39m]\n",
      "\u001b[1;31mIndexError\u001b[0m: string index out of range"
     ]
    }
   ],
   "source": [
    "str1[0]\n",
    "str1[1]\n",
    "str1[2]\n",
    "str1[3]\n",
    "str1[4]\n",
    "str1[5]\n",
    "\n",
    "#for i in range(6):\n",
    "    #print(str1[i])"
   ]
  },
  {
   "cell_type": "code",
   "execution_count": 98,
   "id": "c8106c1d",
   "metadata": {},
   "outputs": [
    {
     "name": "stdout",
     "output_type": "stream",
     "text": [
      "a\n",
      "s\n",
      "i\n",
      "f\n"
     ]
    }
   ],
   "source": [
    "for i in range(4):\n",
    "    print(s1[i])"
   ]
  },
  {
   "cell_type": "code",
   "execution_count": 3,
   "id": "f6c2f2ec",
   "metadata": {},
   "outputs": [],
   "source": [
    "str1='python'\n",
    "# i want to iterate this\n",
    "# in: i means direct letter\n",
    "# range : i means number"
   ]
  },
  {
   "cell_type": "code",
   "execution_count": 4,
   "id": "9bdda616",
   "metadata": {},
   "outputs": [
    {
     "name": "stdout",
     "output_type": "stream",
     "text": [
      "p y t h o n "
     ]
    }
   ],
   "source": [
    "str1='python'\n",
    "for i in str1:\n",
    "    print(i,end=' ')"
   ]
  },
  {
   "cell_type": "code",
   "execution_count": 4,
   "id": "4fd7027b",
   "metadata": {},
   "outputs": [
    {
     "name": "stdout",
     "output_type": "stream",
     "text": [
      "p y t h o n "
     ]
    }
   ],
   "source": [
    "str1='python'\n",
    "#len(str1)\n",
    "for i in range(6):\n",
    "    print(str1[i],end=' ')"
   ]
  },
  {
   "cell_type": "code",
   "execution_count": null,
   "id": "224370b9",
   "metadata": {},
   "outputs": [],
   "source": []
  },
  {
   "cell_type": "code",
   "execution_count": 102,
   "id": "7fc7ea0d",
   "metadata": {},
   "outputs": [
    {
     "name": "stdout",
     "output_type": "stream",
     "text": [
      "p y t h o n p y t h o n "
     ]
    }
   ],
   "source": [
    "str1='python'\n",
    "\n",
    "for i in str1:\n",
    "    \n",
    "    print(i,end=' ')\n",
    "    \n",
    "##############################\n",
    "\n",
    "str1='python'\n",
    "\n",
    "for i in range(6):\n",
    "    \n",
    "    print(str1[i],end=' ')"
   ]
  },
  {
   "cell_type": "code",
   "execution_count": null,
   "id": "54d27ba8",
   "metadata": {},
   "outputs": [],
   "source": [
    "######################################################################"
   ]
  },
  {
   "cell_type": "markdown",
   "id": "8d57c916",
   "metadata": {},
   "source": [
    "## in-range"
   ]
  },
  {
   "cell_type": "code",
   "execution_count": null,
   "id": "b0d84a43",
   "metadata": {},
   "outputs": [],
   "source": [
    "in=====i====> direct char\n",
    "range  ==== i number"
   ]
  },
  {
   "cell_type": "code",
   "execution_count": 106,
   "id": "956b6613",
   "metadata": {},
   "outputs": [
    {
     "name": "stdout",
     "output_type": "stream",
     "text": [
      "0 p\n",
      "1 y\n",
      "2 t\n",
      "3 h\n",
      "4 o\n",
      "5 n\n"
     ]
    }
   ],
   "source": [
    "s1='python'\n",
    "n=len(s1)\n",
    "for i in range(n):\n",
    "    print(i,s1[i])"
   ]
  },
  {
   "cell_type": "code",
   "execution_count": 24,
   "id": "3b2138ed",
   "metadata": {},
   "outputs": [
    {
     "name": "stdout",
     "output_type": "stream",
     "text": [
      "enter number:11\n",
      "1\n",
      "3\n",
      "6\n",
      "10\n",
      "15\n",
      "21\n",
      "28\n",
      "36\n",
      "45\n",
      "55\n"
     ]
    }
   ],
   "source": [
    "s=0\n",
    "num=eval(input(\"enter number:\"))\n",
    "for i in range(1,num):\n",
    "    s=s+i\n",
    "    print(s)"
   ]
  },
  {
   "cell_type": "code",
   "execution_count": 5,
   "id": "d89561ec",
   "metadata": {},
   "outputs": [
    {
     "name": "stdout",
     "output_type": "stream",
     "text": [
      "the positive of p is 0\n",
      "the positive of y is 1\n",
      "the positive of t is 2\n",
      "the positive of h is 3\n",
      "the positive of o is 4\n",
      "the positive of n is 5\n"
     ]
    }
   ],
   "source": [
    "# wap print the index of a given number\n",
    "# str1='python'\n",
    "# o/p:   the index of p is 0\n",
    "#        the index of y is 1\n",
    "\n",
    "\n",
    "str1='python'\n",
    "n=len(str1)\n",
    "for i in range(n):\n",
    "    print(f\"the positive of {str1[i]} is {i}\")\n"
   ]
  },
  {
   "cell_type": "code",
   "execution_count": 7,
   "id": "4481c6d7",
   "metadata": {},
   "outputs": [
    {
     "name": "stdout",
     "output_type": "stream",
     "text": [
      "the negitive index of p is -6\n",
      "the negitive index of y is -5\n",
      "the negitive index of t is -4\n",
      "the negitive index of h is -3\n",
      "the negitive index of o is -2\n",
      "the negitive index of n is -1\n"
     ]
    }
   ],
   "source": [
    "# o/p : the negitive index of p is -6\n",
    "#        the negitive index of y is -5\n",
    "# try to print -6 to -1\n",
    "\n",
    "string1='python'\n",
    "n=len(string1)\n",
    "# print(n) # 6  -6  n=== >  -n\n",
    "for i in range(-n,0):\n",
    "    #print(i,string1[i])\n",
    "    print(f\"the negitive index of {string1[i]} is {i}\")\n"
   ]
  },
  {
   "cell_type": "code",
   "execution_count": null,
   "id": "d6511f25",
   "metadata": {},
   "outputs": [],
   "source": [
    "\n",
    "string1='python'\n",
    "n=len(string1)\n",
    "for i in range(n):       # 0 to len(string)-1\n",
    "    print(f\"the positive of {string1[i]} is {i}\")\n",
    "    \n",
    "    \n",
    "\n",
    "for i in range(-n,0):  # -len(string) to -1\n",
    "    print(f\"the negitive of {string1[i]} is {i}\")\n",
    "    \n"
   ]
  },
  {
   "cell_type": "markdown",
   "id": "f0fbb1f6",
   "metadata": {},
   "source": [
    "- positive: 0 to len (string1)-1`\n",
    "    \n",
    "    - range (0,len(string1))\n",
    "\n",
    "    - start=0    end=last-1  : len(string1)-1\n",
    "    \n",
    "    \n",
    "-  negitive: - len(string1) to-1\n",
    "     - range(len(sting1),0)\n",
    "     - start=-len(string1),end=last-1 0-1=-1\n",
    "    "
   ]
  },
  {
   "cell_type": "code",
   "execution_count": 26,
   "id": "e836e235",
   "metadata": {},
   "outputs": [
    {
     "name": "stdout",
     "output_type": "stream",
     "text": [
      "the positive of h is 0\n",
      "the positive of e is 1\n",
      "the positive of l is 2\n",
      "the positive of l is 3\n",
      "the positive of o is 4\n",
      "the positive of   is 5\n",
      "the positive of h is 6\n",
      "the positive of o is 7\n",
      "the positive of w is 8\n",
      "the positive of   is 9\n",
      "the positive of a is 10\n",
      "the positive of r is 11\n",
      "the positive of e is 12\n",
      "the positive of   is 13\n",
      "the positive of y is 14\n",
      "the positive of o is 15\n",
      "the positive of u is 16\n"
     ]
    }
   ],
   "source": [
    "s1=\"hello how are you\"\n",
    "\n",
    "n=len(s1)\n",
    "for i in range(n):    \n",
    "    print(f\"the positive of {s1[i]} is {i}\")\n",
    "    \n",
    "    \n"
   ]
  },
  {
   "cell_type": "code",
   "execution_count": 27,
   "id": "9580dee7",
   "metadata": {},
   "outputs": [
    {
     "name": "stdout",
     "output_type": "stream",
     "text": [
      "the negitive index of h is -17\n",
      "the negitive index of e is -16\n",
      "the negitive index of l is -15\n",
      "the negitive index of l is -14\n",
      "the negitive index of o is -13\n",
      "the negitive index of   is -12\n",
      "the negitive index of h is -11\n",
      "the negitive index of o is -10\n",
      "the negitive index of w is -9\n",
      "the negitive index of   is -8\n",
      "the negitive index of a is -7\n",
      "the negitive index of r is -6\n",
      "the negitive index of e is -5\n",
      "the negitive index of   is -4\n",
      "the negitive index of y is -3\n",
      "the negitive index of o is -2\n",
      "the negitive index of u is -1\n"
     ]
    }
   ],
   "source": [
    "for i in range(-n,0):  # -len(string) to -1\n",
    "    print(f\"the negitive index of {s1[i]} is {i}\")\n",
    "    "
   ]
  },
  {
   "cell_type": "code",
   "execution_count": 28,
   "id": "8a874ec4",
   "metadata": {},
   "outputs": [
    {
     "name": "stdout",
     "output_type": "stream",
     "text": [
      "0 -6\n",
      "1 -5\n",
      "2 -4\n",
      "3 -3\n",
      "4 -2\n",
      "5 -1\n"
     ]
    }
   ],
   "source": [
    "# the positive index is 0 and negitive index is -6 for p\n",
    "# the positive index is 5 and negitive index is -1 for p\n",
    "\n",
    "\n",
    "s1='python'\n",
    "n=len(s1)  # 6\n",
    "for i in range(n):\n",
    "    print(i,i-n)\n",
    "    "
   ]
  },
  {
   "cell_type": "code",
   "execution_count": null,
   "id": "570b13f2",
   "metadata": {},
   "outputs": [],
   "source": [
    "# Task is implement the same\n",
    "# q1) positive index\n",
    "# q2) negitive index\n",
    "# q3) pos and neg together\n",
    "# using while loop\n",
    "# screenshot in whatsapp group"
   ]
  },
  {
   "cell_type": "code",
   "execution_count": 133,
   "id": "f93a59b1",
   "metadata": {},
   "outputs": [],
   "source": [
    "# Task is implement the same\n",
    "# q1) positive index"
   ]
  },
  {
   "cell_type": "code",
   "execution_count": 125,
   "id": "0db2fcec",
   "metadata": {},
   "outputs": [
    {
     "name": "stdout",
     "output_type": "stream",
     "text": [
      "the Negitive index of h is -16\n",
      "the Negitive index of e is -15\n",
      "the Negitive index of l is -14\n",
      "the Negitive index of l is -13\n",
      "the Negitive index of o is -12\n",
      "the Negitive index of   is -11\n",
      "the Negitive index of h is -10\n",
      "the Negitive index of y is -9\n",
      "the Negitive index of d is -8\n",
      "the Negitive index of e is -7\n",
      "the Negitive index of r is -6\n",
      "the Negitive index of a is -5\n",
      "the Negitive index of b is -4\n",
      "the Negitive index of a is -3\n",
      "the Negitive index of d is -2\n"
     ]
    },
    {
     "data": {
      "text/plain": [
       "15"
      ]
     },
     "execution_count": 125,
     "metadata": {},
     "output_type": "execute_result"
    }
   ],
   "source": [
    "s1='hello hyderabad'\n",
    "for i in range(len(s1)):\n",
    "    print(f\"the Negitive index of {s1[i]} is {i-16}\")\n",
    "len(s1)"
   ]
  },
  {
   "cell_type": "code",
   "execution_count": 132,
   "id": "8cc3d3f3",
   "metadata": {},
   "outputs": [],
   "source": [
    "# Task is implement the same\n",
    "# q2) negitive index\n",
    "# using while loop"
   ]
  },
  {
   "cell_type": "code",
   "execution_count": 126,
   "id": "8f9944a8",
   "metadata": {
    "scrolled": true
   },
   "outputs": [
    {
     "name": "stdout",
     "output_type": "stream",
     "text": [
      "the positive index of h is 0\n",
      "the positive index of e is 1\n",
      "the positive index of l is 2\n",
      "the positive index of l is 3\n",
      "the positive index of o is 4\n",
      "the positive index of   is 5\n",
      "the positive index of h is 6\n",
      "the positive index of y is 7\n",
      "the positive index of d is 8\n",
      "the positive index of e is 9\n",
      "the positive index of r is 10\n",
      "the positive index of a is 11\n",
      "the positive index of b is 12\n",
      "the positive index of a is 13\n",
      "the positive index of d is 14\n"
     ]
    }
   ],
   "source": [
    "s1='hello hyderabad'\n",
    "for i in range(len(s1)):\n",
    "    print(f\"the positive index of {s1[i]} is {i}\")"
   ]
  },
  {
   "cell_type": "code",
   "execution_count": 131,
   "id": "696ecadf",
   "metadata": {},
   "outputs": [],
   "source": [
    "# Task is implement the same\n",
    "# q3) pos and neg together\n",
    "# using while loop"
   ]
  },
  {
   "cell_type": "code",
   "execution_count": 130,
   "id": "99d17d7e",
   "metadata": {},
   "outputs": [
    {
     "name": "stdout",
     "output_type": "stream",
     "text": [
      "the positive index of y is 0 the negitive index of y is -24\n",
      "the positive index of o is 1 the negitive index of o is -23\n",
      "the positive index of u is 2 the negitive index of u is -22\n",
      "the positive index of r is 3 the negitive index of r is -21\n",
      "the positive index of   is 4 the negitive index of   is -20\n",
      "the positive index of d is 5 the negitive index of d is -19\n",
      "the positive index of r is 6 the negitive index of r is -18\n",
      "the positive index of o is 7 the negitive index of o is -17\n",
      "the positive index of p is 8 the negitive index of p is -16\n",
      "the positive index of d is 9 the negitive index of d is -15\n",
      "the positive index of e is 10 the negitive index of e is -14\n",
      "the positive index of d is 11 the negitive index of d is -13\n",
      "the positive index of   is 12 the negitive index of   is -12\n",
      "the positive index of g is 13 the negitive index of g is -11\n",
      "the positive index of r is 14 the negitive index of r is -10\n",
      "the positive index of o is 15 the negitive index of o is -9\n",
      "the positive index of u is 16 the negitive index of u is -8\n",
      "the positive index of r is 17 the negitive index of r is -7\n",
      "the positive index of g is 18 the negitive index of g is -6\n",
      "the positive index of i is 19 the negitive index of i is -5\n",
      "the positive index of o is 20 the negitive index of o is -4\n",
      "the positive index of u is 21 the negitive index of u is -3\n",
      "the positive index of s is 22 the negitive index of s is -2\n"
     ]
    }
   ],
   "source": [
    "s1='your dropded grourgious'\n",
    "for i in range(len(s1)):\n",
    "    print(f\"the positive index of {s1[i]} is {i} the negitive index of {s1[i]} is {i-24}\")"
   ]
  },
  {
   "cell_type": "code",
   "execution_count": 29,
   "id": "03bb030d",
   "metadata": {},
   "outputs": [
    {
     "name": "stdout",
     "output_type": "stream",
     "text": [
      "the total number of 'a' are: 2\n"
     ]
    }
   ],
   "source": [
    "#  wap find the number of 'a' present in a given string\n",
    "#  s1='hello how are you i am good'\n",
    "# ans: 2\n",
    "#  count=0\n",
    "# idea: iterate  using for loop\n",
    "#       get each letter\n",
    "#       whenever that letter equal to a\n",
    "#      count=count+1\n",
    "\n",
    "\n",
    "s1='hello how are you i am good'\n",
    "count=0\n",
    "for i in s1:\n",
    "     if i =='a':\n",
    "        count=count+1\n",
    "print(\"the total number of 'a' are:\",count)        "
   ]
  },
  {
   "cell_type": "code",
   "execution_count": 137,
   "id": "728e46c1",
   "metadata": {
    "scrolled": false
   },
   "outputs": [
    {
     "name": "stdout",
     "output_type": "stream",
     "text": [
      "4 o\n",
      "7 o\n",
      "15 o\n",
      "24 o\n",
      "25 o\n"
     ]
    }
   ],
   "source": [
    "# wap find the indexes of 'a' present\n",
    "# s1='hello how are you i am good'\n",
    "# ans: 10,20\n",
    "\n",
    "# idea: iterate the loop using range\n",
    "#        automatically i becomes number\n",
    "#        condition\n",
    "#        print only i\n",
    "\n",
    "\n",
    "s1='hello how are you i am good'\n",
    "for i in range(len(s1)):\n",
    "    if s1[i]=='o':\n",
    "        print(i,s1[i])"
   ]
  },
  {
   "cell_type": "code",
   "execution_count": 6,
   "id": "46e8ab14",
   "metadata": {},
   "outputs": [
    {
     "name": "stdout",
     "output_type": "stream",
     "text": [
      "the total number a of  are: 2\n"
     ]
    }
   ],
   "source": [
    "s1='hello how are you i am good'\n",
    "count=0\n",
    "for i in s1:\n",
    "    if i=='h':   # a==a\n",
    "        count=count+1\n",
    "        \n",
    "print(\"the total number a of  are:\",count)\n",
    "      \n",
    "#s1='hello how are you i am good'\n",
    "#for i in range(len(s1)):\n",
    "#      if s1[i]=='a':\n",
    "#      print(i)"
   ]
  },
  {
   "cell_type": "code",
   "execution_count": 26,
   "id": "b8a8de18",
   "metadata": {},
   "outputs": [
    {
     "name": "stdout",
     "output_type": "stream",
     "text": [
      "e 1\n",
      "o 4\n",
      "o 7\n",
      "a 10\n",
      "e 12\n",
      "o 15\n",
      "u 16\n",
      "i 18\n",
      "a 20\n",
      "o 24\n",
      "o 25\n"
     ]
    }
   ],
   "source": [
    "#WAP ask the user find the number vowels in a given string\n",
    "# s1='hello how are you'\n",
    "\n",
    "s1='hello how are you i am good'\n",
    "for i in range(len(s1)):\n",
    "    if s1[i]=='a' or s1[i]=='e' or s1[i]=='i' or s1[i]=='o' or s1[i]=='u':\n",
    "        print(s1[i],i)"
   ]
  },
  {
   "cell_type": "code",
   "execution_count": 15,
   "id": "00a4999d",
   "metadata": {},
   "outputs": [
    {
     "name": "stdout",
     "output_type": "stream",
     "text": [
      "the number of vowels are: 11\n"
     ]
    }
   ],
   "source": [
    "s1='hello how are you i am good'\n",
    "count=0\n",
    "for i in range(len(s1)):\n",
    "    if s1[i] in 'aeiou':\n",
    "        count=count+1\n",
    "print(\"the number of vowels are:\",count)        "
   ]
  },
  {
   "cell_type": "markdown",
   "id": "ecf57714",
   "metadata": {},
   "source": [
    "- positive index\n",
    "- negitive index\n",
    "- positive and negitive\n",
    "- number of'a'\n",
    "- vowel in a given string"
   ]
  },
  {
   "cell_type": "code",
   "execution_count": 14,
   "id": "f544ee31",
   "metadata": {},
   "outputs": [
    {
     "name": "stdout",
     "output_type": "stream",
     "text": [
      "1\n"
     ]
    }
   ],
   "source": [
    "# in the above problem vowel are repating\n",
    "# you need to print only single vowel\n",
    "s1='abca'\n",
    "s2=''\n",
    "for i in s1:\n",
    "    if i in 'aeiou':\n",
    "        if i not in s2:\n",
    "            s2=s2+i\n",
    "            \n",
    "print(len(s2))            "
   ]
  },
  {
   "cell_type": "markdown",
   "id": "62f7e474",
   "metadata": {},
   "source": [
    "$mutable$ -$immutable$"
   ]
  },
  {
   "cell_type": "markdown",
   "id": "80dfce95",
   "metadata": {},
   "source": [
    "-  change the element by using index operation"
   ]
  },
  {
   "cell_type": "code",
   "execution_count": null,
   "id": "0eddb11b",
   "metadata": {},
   "outputs": [],
   "source": [
    "s1='hello'\n",
    "\n",
    "# can we change 'l'  to 'L'\n",
    "# s1='hello'\n",
    "\n",
    "# will you achive this by using index operation"
   ]
  },
  {
   "cell_type": "code",
   "execution_count": 9,
   "id": "889de99c",
   "metadata": {
    "scrolled": true
   },
   "outputs": [
    {
     "ename": "TypeError",
     "evalue": "'str' object does not support item assignment",
     "output_type": "error",
     "traceback": [
      "\u001b[1;31m---------------------------------------------------------------------------\u001b[0m",
      "\u001b[1;31mTypeError\u001b[0m                                 Traceback (most recent call last)",
      "Cell \u001b[1;32mIn[9], line 2\u001b[0m\n\u001b[0;32m      1\u001b[0m s1\u001b[38;5;241m=\u001b[39m\u001b[38;5;124m'\u001b[39m\u001b[38;5;124mhello\u001b[39m\u001b[38;5;124m'\u001b[39m\n\u001b[1;32m----> 2\u001b[0m s1[\u001b[38;5;241m2\u001b[39m]\u001b[38;5;241m=\u001b[39m\u001b[38;5;124m'\u001b[39m\u001b[38;5;124mL\u001b[39m\u001b[38;5;124m'\u001b[39m\n",
      "\u001b[1;31mTypeError\u001b[0m: 'str' object does not support item assignment"
     ]
    }
   ],
   "source": [
    "s1='hello'\n",
    "s1[2]='L'"
   ]
  },
  {
   "cell_type": "markdown",
   "id": "cedaf145",
   "metadata": {},
   "source": [
    "## Note\n",
    "\n",
    "- Strings are immutable"
   ]
  },
  {
   "cell_type": "code",
   "execution_count": 7,
   "id": "2a553678",
   "metadata": {},
   "outputs": [],
   "source": [
    "l1=[1,2,3]\n",
    "l1[1]=200"
   ]
  },
  {
   "cell_type": "code",
   "execution_count": 8,
   "id": "9200e3f9",
   "metadata": {},
   "outputs": [
    {
     "data": {
      "text/plain": [
       "[1, 200, 3]"
      ]
     },
     "execution_count": 8,
     "metadata": {},
     "output_type": "execute_result"
    }
   ],
   "source": [
    "l1"
   ]
  },
  {
   "cell_type": "code",
   "execution_count": null,
   "id": "b1124bba",
   "metadata": {},
   "outputs": [],
   "source": [
    "################ Day 2 ##########################################"
   ]
  },
  {
   "cell_type": "markdown",
   "id": "d49164de",
   "metadata": {},
   "source": [
    "- Postive index\n",
    "- Negative index\n",
    "- Postive and Negative\n",
    "- Number of 'a'\n",
    "- Index of 'a'\n",
    "- Vowels in a given string\n",
    "- unique vowels"
   ]
  },
  {
   "cell_type": "code",
   "execution_count": 2,
   "id": "f618e7e2",
   "metadata": {},
   "outputs": [
    {
     "name": "stdout",
     "output_type": "stream",
     "text": [
      " positive index of p is 0\n",
      " positive index of y is 1\n",
      " positive index of t is 2\n",
      " positive index of h is 3\n",
      " positive index of o is 4\n",
      " positive index of n is 5\n"
     ]
    }
   ],
   "source": [
    "str1='python'\n",
    "n=len(str1)\n",
    "for i in range(n):\n",
    "    print(f\" positive index of {str1[i]} is {i}\")"
   ]
  },
  {
   "cell_type": "code",
   "execution_count": 3,
   "id": "02e76776",
   "metadata": {},
   "outputs": [
    {
     "name": "stdout",
     "output_type": "stream",
     "text": [
      " positive index of p is -6\n",
      " positive index of y is -5\n",
      " positive index of t is -4\n",
      " positive index of h is -3\n",
      " positive index of o is -2\n",
      " positive index of n is -1\n"
     ]
    }
   ],
   "source": [
    "tr1='python'\n",
    "n=len(str1)\n",
    "for i in range(-n,0):\n",
    "    print(f\" positive index of {str1[i]} is {i}\")"
   ]
  },
  {
   "cell_type": "code",
   "execution_count": 1,
   "id": "0d9aa221",
   "metadata": {},
   "outputs": [],
   "source": [
    "s1='hello how are you'"
   ]
  },
  {
   "cell_type": "markdown",
   "id": "538d2cc5",
   "metadata": {},
   "source": [
    "$slice$"
   ]
  },
  {
   "cell_type": "code",
   "execution_count": null,
   "id": "9b511551",
   "metadata": {},
   "outputs": [],
   "source": [
    "\n",
    "# -17-16-15 -14 -13 -12 -11 -10 -9 -8 -7  -6 -5 -4 -3  -2  -1 \n",
    "# h   e  l  l   o       h   o   w     a   r  e     y   o   u\n",
    "# 0   1  2  3   4   5   6   7   8  9  10 11 12 13 14  15  16"
   ]
  },
  {
   "cell_type": "code",
   "execution_count": 2,
   "id": "80dce405",
   "metadata": {},
   "outputs": [
    {
     "data": {
      "text/plain": [
       "'re '"
      ]
     },
     "execution_count": 2,
     "metadata": {},
     "output_type": "execute_result"
    }
   ],
   "source": [
    "s1[11:-11:-1] # answer\n",
    "s1[11:-3:-1]  # no answer\n",
    "s1[11:-11:1]  # no answer\n",
    "s1[11:-3:1]   # answer"
   ]
  },
  {
   "cell_type": "code",
   "execution_count": null,
   "id": "d91f3e0f",
   "metadata": {},
   "outputs": [],
   "source": []
  },
  {
   "cell_type": "code",
   "execution_count": null,
   "id": "bdffacb2",
   "metadata": {},
   "outputs": [],
   "source": [
    "-17  -16 -15 -14 -13 -12  -11 -10 -9 -8 -7  -6  -5  -4  -3 -2  -1\n",
    "  h   e   l   l   o   h    o   w   a  r  e   y   o   u   a  e  o\n",
    "  0   1   2   3   4   5    6   7   8  9 10  11  12  13  14 15  16\n",
    "\n",
    "\n",
    "s1[3:-14:2] # Np start=3 step=2 + last= -14-1=-15\n",
    "s1[3:14:2] # P\n",
    "s1[-3:-14:-2] # P\n",
    "s1[-3:14:-2] # Np start=-3 step=-2 -ve stop=14+1=15\n",
    "s1[-3:-14:2] # NP\n",
    "s1[3:14:-2] # NP\n",
    "s1[3:-14] # satrt=3 last= -14-1=-15\n",
    "s1[3:-14:-1] # start=3 dire=-ve last = -14+1=-13\n",
    "\n",
    "\n",
    "\n",
    "s1[;]\n",
    "s1[::1]  # [:::]\n",
    "s1[::]\n",
    "s1[::-1]"
   ]
  },
  {
   "cell_type": "code",
   "execution_count": 9,
   "id": "0f0359c8",
   "metadata": {},
   "outputs": [
    {
     "data": {
      "text/plain": [
       "''"
      ]
     },
     "execution_count": 9,
     "metadata": {},
     "output_type": "execute_result"
    }
   ],
   "source": [
    "s1[3:-14:2]"
   ]
  },
  {
   "cell_type": "code",
   "execution_count": 3,
   "id": "5e67e3db",
   "metadata": {},
   "outputs": [
    {
     "data": {
      "text/plain": [
       "''"
      ]
     },
     "execution_count": 3,
     "metadata": {},
     "output_type": "execute_result"
    }
   ],
   "source": [
    "s1[3:-14:-1]"
   ]
  },
  {
   "cell_type": "code",
   "execution_count": null,
   "id": "b8cd22db",
   "metadata": {},
   "outputs": [],
   "source": [
    "s1[<start>:<stop>] ---- range(start,stop)\n",
    "s1[start:stop:step] ---- range(Start,stop,step)"
   ]
  },
  {
   "cell_type": "code",
   "execution_count": null,
   "id": "b0041fbb",
   "metadata": {},
   "outputs": [],
   "source": [
    "s1[2:10] # start=2 dire =+ 1 stop=10-1=9\n",
    "s1[2:10:2] # start=2 dire= + 2 stop=10-1=9\n",
    "# 2 4 6 8"
   ]
  },
  {
   "cell_type": "code",
   "execution_count": 4,
   "id": "dea60fa7",
   "metadata": {},
   "outputs": [
    {
     "name": "stdout",
     "output_type": "stream",
     "text": [
      "11 10 9 8 7 6 5 4 3 2 1 0 -1 -2 "
     ]
    }
   ],
   "source": [
    "s1[11:-3:-1]\n",
    "# start=11\n",
    "# dire = -ve 1\n",
    "# last= -3+1=-2\n",
    "for i in range(11,-3,-1):print(i,end=' ')"
   ]
  },
  {
   "cell_type": "code",
   "execution_count": 5,
   "id": "aad3a715",
   "metadata": {},
   "outputs": [
    {
     "data": {
      "text/plain": [
       "''"
      ]
     },
     "execution_count": 5,
     "metadata": {},
     "output_type": "execute_result"
    }
   ],
   "source": [
    "s1[11:-3:-1]"
   ]
  },
  {
   "cell_type": "code",
   "execution_count": 6,
   "id": "d4b9eb8a",
   "metadata": {},
   "outputs": [],
   "source": [
    "for i  in range(20,2,3):print(i,end=' ')"
   ]
  },
  {
   "cell_type": "markdown",
   "id": "228f7d6f",
   "metadata": {},
   "source": [
    "- How to read strings\n",
    "- Different ways single-quotes doule-quotes triple-quotes\n",
    "- type\n",
    "- min\n",
    "- max\n",
    "- len\n",
    "- reversed\n",
    "- sorted\n",
    "- ord\n",
    "- chr\n",
    "- in\n",
    "- in vs range\n",
    "- index\n",
    "- mutable immutable\n",
    "- concatenation\n",
    "- slice"
   ]
  },
  {
   "cell_type": "markdown",
   "id": "84cad3c1",
   "metadata": {},
   "source": [
    "$String-Methouds$"
   ]
  },
  {
   "cell_type": "code",
   "execution_count": 13,
   "id": "1b8dad9b",
   "metadata": {},
   "outputs": [],
   "source": [
    "s1='python'\n",
    "#we stored 'python' in a variable s1\n",
    "#s1 act as package\n",
    "#every package has some methouds\n",
    "#dir(package)\n",
    "#dir(s1)  # dir('')"
   ]
  },
  {
   "cell_type": "code",
   "execution_count": 7,
   "id": "4e164dc2",
   "metadata": {},
   "outputs": [
    {
     "data": {
      "text/plain": [
       "['__add__',\n",
       " '__class__',\n",
       " '__contains__',\n",
       " '__delattr__',\n",
       " '__dir__',\n",
       " '__doc__',\n",
       " '__eq__',\n",
       " '__format__',\n",
       " '__ge__',\n",
       " '__getattribute__',\n",
       " '__getitem__',\n",
       " '__getnewargs__',\n",
       " '__getstate__',\n",
       " '__gt__',\n",
       " '__hash__',\n",
       " '__init__',\n",
       " '__init_subclass__',\n",
       " '__iter__',\n",
       " '__le__',\n",
       " '__len__',\n",
       " '__lt__',\n",
       " '__mod__',\n",
       " '__mul__',\n",
       " '__ne__',\n",
       " '__new__',\n",
       " '__reduce__',\n",
       " '__reduce_ex__',\n",
       " '__repr__',\n",
       " '__rmod__',\n",
       " '__rmul__',\n",
       " '__setattr__',\n",
       " '__sizeof__',\n",
       " '__str__',\n",
       " '__subclasshook__',\n",
       " 'capitalize',\n",
       " 'casefold',\n",
       " 'center',\n",
       " 'count',\n",
       " 'encode',\n",
       " 'endswith',\n",
       " 'expandtabs',\n",
       " 'find',\n",
       " 'format',\n",
       " 'format_map',\n",
       " 'index',\n",
       " 'isalnum',\n",
       " 'isalpha',\n",
       " 'isascii',\n",
       " 'isdecimal',\n",
       " 'isdigit',\n",
       " 'isidentifier',\n",
       " 'islower',\n",
       " 'isnumeric',\n",
       " 'isprintable',\n",
       " 'isspace',\n",
       " 'istitle',\n",
       " 'isupper',\n",
       " 'join',\n",
       " 'ljust',\n",
       " 'lower',\n",
       " 'lstrip',\n",
       " 'maketrans',\n",
       " 'partition',\n",
       " 'removeprefix',\n",
       " 'removesuffix',\n",
       " 'replace',\n",
       " 'rfind',\n",
       " 'rindex',\n",
       " 'rjust',\n",
       " 'rpartition',\n",
       " 'rsplit',\n",
       " 'rstrip',\n",
       " 'split',\n",
       " 'splitlines',\n",
       " 'startswith',\n",
       " 'strip',\n",
       " 'swapcase',\n",
       " 'title',\n",
       " 'translate',\n",
       " 'upper',\n",
       " 'zfill']"
      ]
     },
     "execution_count": 7,
     "metadata": {},
     "output_type": "execute_result"
    }
   ],
   "source": [
    "dir('')"
   ]
  },
  {
   "cell_type": "code",
   "execution_count": null,
   "id": "a54b66c8",
   "metadata": {},
   "outputs": [],
   "source": []
  },
  {
   "cell_type": "markdown",
   "id": "305edf3e",
   "metadata": {},
   "source": [
    "$Capitalize$"
   ]
  },
  {
   "cell_type": "code",
   "execution_count": 14,
   "id": "422c6cfa",
   "metadata": {},
   "outputs": [
    {
     "data": {
      "text/plain": [
       "'.python'"
      ]
     },
     "execution_count": 14,
     "metadata": {},
     "output_type": "execute_result"
    }
   ],
   "source": [
    "s1='.python'\n",
    "# s1 act as package\n",
    "# capitalize act as methoud\n",
    "# help (<package>).<methoud_name>\n",
    "\n",
    "#help(s1.capitalize)\n",
    "s1.capitalize()"
   ]
  },
  {
   "cell_type": "code",
   "execution_count": null,
   "id": "7b56904c",
   "metadata": {},
   "outputs": [],
   "source": [
    "s1='python'\n",
    "s1.capitalize()\n"
   ]
  },
  {
   "cell_type": "code",
   "execution_count": null,
   "id": "e5cd2a92",
   "metadata": {},
   "outputs": [],
   "source": [
    "# key words  vs methoud\n",
    "\n",
    "len()                 capitalize(s1) (wrong)\n",
    "max()\n",
    "min()\n",
    "\n",
    "\n",
    "s1.capitalize()\n",
    "# keywords belongs to entire python\n",
    "# methouds are related to only that data type\n"
   ]
  },
  {
   "cell_type": "code",
   "execution_count": null,
   "id": "a673f70d",
   "metadata": {},
   "outputs": [],
   "source": []
  },
  {
   "cell_type": "markdown",
   "id": "71dbc10b",
   "metadata": {},
   "source": [
    "$upper-lower-casefold$"
   ]
  },
  {
   "cell_type": "code",
   "execution_count": 15,
   "id": "c589e673",
   "metadata": {},
   "outputs": [
    {
     "data": {
      "text/plain": [
       "'PYTHON'"
      ]
     },
     "execution_count": 15,
     "metadata": {},
     "output_type": "execute_result"
    }
   ],
   "source": [
    "s1='python'\n",
    "s1.upper()"
   ]
  },
  {
   "cell_type": "code",
   "execution_count": 16,
   "id": "74755ebb",
   "metadata": {},
   "outputs": [
    {
     "data": {
      "text/plain": [
       "'python'"
      ]
     },
     "execution_count": 16,
     "metadata": {},
     "output_type": "execute_result"
    }
   ],
   "source": [
    "s1='python'\n",
    "s1.lower()"
   ]
  },
  {
   "cell_type": "code",
   "execution_count": 17,
   "id": "67f05211",
   "metadata": {},
   "outputs": [
    {
     "data": {
      "text/plain": [
       "'python'"
      ]
     },
     "execution_count": 17,
     "metadata": {},
     "output_type": "execute_result"
    }
   ],
   "source": [
    "s1='pyThon'\n",
    "s1.lower()"
   ]
  },
  {
   "cell_type": "code",
   "execution_count": 18,
   "id": "06b91830",
   "metadata": {},
   "outputs": [
    {
     "data": {
      "text/plain": [
       "'python'"
      ]
     },
     "execution_count": 18,
     "metadata": {},
     "output_type": "execute_result"
    }
   ],
   "source": [
    "s1='PyThon'\n",
    "s1.casefold()"
   ]
  },
  {
   "cell_type": "markdown",
   "id": "22ec2ab0",
   "metadata": {},
   "source": []
  },
  {
   "cell_type": "markdown",
   "id": "4a23cd2f",
   "metadata": {},
   "source": [
    "$count$"
   ]
  },
  {
   "cell_type": "markdown",
   "id": "1f7d0357",
   "metadata": {},
   "source": []
  },
  {
   "cell_type": "code",
   "execution_count": null,
   "id": "b0c2a3d0",
   "metadata": {},
   "outputs": [],
   "source": [
    "# we already have lower case right,why again casefold\n"
   ]
  },
  {
   "cell_type": "code",
   "execution_count": 10,
   "id": "4fd47882",
   "metadata": {},
   "outputs": [
    {
     "data": {
      "text/plain": [
       "7"
      ]
     },
     "execution_count": 10,
     "metadata": {},
     "output_type": "execute_result"
    }
   ],
   "source": [
    "s1='hai haaaaai hai iiiiiiii'    # how many a\n",
    "\n",
    "count=0\n",
    "for i in s1:\n",
    "    if i=='a':\n",
    "        count=count+1\n",
    "count        "
   ]
  },
  {
   "cell_type": "code",
   "execution_count": 11,
   "id": "2f87c3d7",
   "metadata": {},
   "outputs": [
    {
     "data": {
      "text/plain": [
       "7"
      ]
     },
     "execution_count": 11,
     "metadata": {},
     "output_type": "execute_result"
    }
   ],
   "source": [
    "s1.count('a')"
   ]
  },
  {
   "cell_type": "code",
   "execution_count": 26,
   "id": "fd38cd56",
   "metadata": {},
   "outputs": [
    {
     "data": {
      "text/plain": [
       "1"
      ]
     },
     "execution_count": 26,
     "metadata": {},
     "output_type": "execute_result"
    }
   ],
   "source": [
    "s1='ola oal oal'\n",
    "s1.count('ola')\n",
    "s1.count('ola ')\n",
    "s1.count(s1)  # s1.count('ola ola ola')"
   ]
  },
  {
   "cell_type": "code",
   "execution_count": 8,
   "id": "b7b41cec",
   "metadata": {},
   "outputs": [
    {
     "data": {
      "text/plain": [
       "1"
      ]
     },
     "execution_count": 8,
     "metadata": {},
     "output_type": "execute_result"
    }
   ],
   "source": [
    "s1.count('o') # 'ola ola ola'\n",
    "s1.count('o',2) # 'a ola ola'\n",
    "s1.count('o',2,5) # 'a ol'"
   ]
  },
  {
   "cell_type": "code",
   "execution_count": 9,
   "id": "f4e2f0b3",
   "metadata": {},
   "outputs": [
    {
     "data": {
      "text/plain": [
       "0"
      ]
     },
     "execution_count": 9,
     "metadata": {},
     "output_type": "execute_result"
    }
   ],
   "source": [
    "s1.count('oa')"
   ]
  },
  {
   "cell_type": "code",
   "execution_count": 10,
   "id": "7d031e76",
   "metadata": {},
   "outputs": [
    {
     "data": {
      "text/plain": [
       "1"
      ]
     },
     "execution_count": 10,
     "metadata": {},
     "output_type": "execute_result"
    }
   ],
   "source": [
    "#'ol a ol a ola'\n",
    "# 012\n",
    "s1.count('o',2,5)"
   ]
  },
  {
   "cell_type": "markdown",
   "id": "58ba3481",
   "metadata": {},
   "source": []
  },
  {
   "cell_type": "markdown",
   "id": "7678c27f",
   "metadata": {},
   "source": [
    "$replace$"
   ]
  },
  {
   "cell_type": "code",
   "execution_count": 11,
   "id": "a97a0bcd",
   "metadata": {},
   "outputs": [
    {
     "data": {
      "text/plain": [
       "'welCome'"
      ]
     },
     "execution_count": 11,
     "metadata": {},
     "output_type": "execute_result"
    }
   ],
   "source": [
    "s1='welcome'\n",
    "# replace  'L'  with ' L'\n",
    "s1.replace('c','C')\n"
   ]
  },
  {
   "cell_type": "code",
   "execution_count": 31,
   "id": "d62b5863",
   "metadata": {},
   "outputs": [
    {
     "data": {
      "text/plain": [
       "'weLcom'"
      ]
     },
     "execution_count": 31,
     "metadata": {},
     "output_type": "execute_result"
    }
   ],
   "source": [
    "s1='welcom'\n",
    "# replace  'L'  with ' L'\n",
    "s1.replace('c','C')\n",
    "s1.replace('l','L')"
   ]
  },
  {
   "cell_type": "code",
   "execution_count": 31,
   "id": "63ddfbc7",
   "metadata": {},
   "outputs": [
    {
     "data": {
      "text/plain": [
       "'weLLLlcome'"
      ]
     },
     "execution_count": 31,
     "metadata": {},
     "output_type": "execute_result"
    }
   ],
   "source": [
    "s1='wellllcome'\n",
    "s1.replace('l','L',3)    # [Shift+Tab]   # inside the bracket\n",
    "#s1.count('z')     #  no error\n",
    "\n",
    "# whenever slash (/) symbol is there \n",
    "# dont give any argument name\n"
   ]
  },
  {
   "cell_type": "code",
   "execution_count": 34,
   "id": "7626ee04",
   "metadata": {},
   "outputs": [
    {
     "data": {
      "text/plain": [
       "1"
      ]
     },
     "execution_count": 34,
     "metadata": {},
     "output_type": "execute_result"
    }
   ],
   "source": [
    "s1='wellllcomez'\n",
    "s1.replace('z','L') # no error\n",
    "s1.count('z')    # 0 no error"
   ]
  },
  {
   "cell_type": "code",
   "execution_count": null,
   "id": "05ddeec1",
   "metadata": {},
   "outputs": [],
   "source": []
  },
  {
   "cell_type": "code",
   "execution_count": null,
   "id": "1b14812a",
   "metadata": {},
   "outputs": [],
   "source": []
  },
  {
   "cell_type": "code",
   "execution_count": 41,
   "id": "fc7edb5b",
   "metadata": {},
   "outputs": [
    {
     "ename": "NameError",
     "evalue": "name 's2' is not defined",
     "output_type": "error",
     "traceback": [
      "\u001b[1;31m---------------------------------------------------------------------------\u001b[0m",
      "\u001b[1;31mNameError\u001b[0m                                 Traceback (most recent call last)",
      "Cell \u001b[1;32mIn[41], line 8\u001b[0m\n\u001b[0;32m      6\u001b[0m s1[\u001b[38;5;241m0\u001b[39m]  \u001b[38;5;66;03m# index\u001b[39;00m\n\u001b[0;32m      7\u001b[0m s1[\u001b[38;5;241m1\u001b[39m:]\u001b[38;5;241m.\u001b[39mreplace(\u001b[38;5;124m'\u001b[39m\u001b[38;5;124mr\u001b[39m\u001b[38;5;124m'\u001b[39m,\u001b[38;5;124m'\u001b[39m\u001b[38;5;124m$\u001b[39m\u001b[38;5;124m'\u001b[39m)  \u001b[38;5;66;03m# slice replace\u001b[39;00m\n\u001b[1;32m----> 8\u001b[0m \u001b[38;5;28mprint\u001b[39m(s1\u001b[38;5;241m+\u001b[39ms2)\n",
      "\u001b[1;31mNameError\u001b[0m: name 's2' is not defined"
     ]
    }
   ],
   "source": [
    "s1='restart'\n",
    "s1.replace('r','$',2)\n",
    "s1\n",
    "# M-1\n",
    "s1='replace'\n",
    "s1[0]  # index\n",
    "s1[1:].replace('r','$')  # slice replace\n",
    "print(s1+s2)\n",
    "\n",
    "        "
   ]
  },
  {
   "cell_type": "code",
   "execution_count": null,
   "id": "34cc3b07",
   "metadata": {},
   "outputs": [],
   "source": []
  },
  {
   "cell_type": "code",
   "execution_count": 43,
   "id": "14a605f9",
   "metadata": {},
   "outputs": [],
   "source": [
    "s1='restart'"
   ]
  },
  {
   "cell_type": "code",
   "execution_count": 45,
   "id": "7845c2f6",
   "metadata": {},
   "outputs": [
    {
     "ename": "SyntaxError",
     "evalue": "invalid syntax (4123022140.py, line 2)",
     "output_type": "error",
     "traceback": [
      "\u001b[1;36m  Cell \u001b[1;32mIn[45], line 2\u001b[1;36m\u001b[0m\n\u001b[1;33m    s1(::-1)\u001b[0m\n\u001b[1;37m       ^\u001b[0m\n\u001b[1;31mSyntaxError\u001b[0m\u001b[1;31m:\u001b[0m invalid syntax\n"
     ]
    }
   ],
   "source": [
    "s1.replace('r','$',1)\n",
    "s1(::-1)\n",
    "s1"
   ]
  },
  {
   "cell_type": "code",
   "execution_count": 11,
   "id": "69b6da36",
   "metadata": {},
   "outputs": [
    {
     "data": {
      "text/plain": [
       "'hyder@abad hyd'"
      ]
     },
     "execution_count": 11,
     "metadata": {},
     "output_type": "execute_result"
    }
   ],
   "source": [
    "s2='hyderaabad hyd'\n",
    "i = s2.index('a')\n",
    "b = s2[:i]+'@'+ s2[i+1:]\n",
    "# s2[s2.index('a')] = '$'\n",
    "# s2.replace('a','@',1)\n",
    "# s2[0][6]\n",
    "b"
   ]
  },
  {
   "cell_type": "code",
   "execution_count": 8,
   "id": "67b9299f",
   "metadata": {},
   "outputs": [
    {
     "data": {
      "text/plain": [
       "'hello'"
      ]
     },
     "execution_count": 8,
     "metadata": {},
     "output_type": "execute_result"
    }
   ],
   "source": [
    "l5='hello'\n",
    "l6=l5.index('o')\n",
    "l7=l5[:]\n",
    "l5"
   ]
  },
  {
   "cell_type": "code",
   "execution_count": null,
   "id": "b9fad12d",
   "metadata": {},
   "outputs": [],
   "source": [
    "###################################   practice   ###########################################3"
   ]
  },
  {
   "cell_type": "code",
   "execution_count": 9,
   "id": "173e0b6c",
   "metadata": {},
   "outputs": [
    {
     "data": {
      "text/plain": [
       "9"
      ]
     },
     "execution_count": 9,
     "metadata": {},
     "output_type": "execute_result"
    }
   ],
   "source": [
    "s1='hyd''kmrwrl'\n",
    "len(s1)"
   ]
  },
  {
   "cell_type": "code",
   "execution_count": 51,
   "id": "cd3f58d3",
   "metadata": {},
   "outputs": [
    {
     "data": {
      "text/plain": [
       "(97, 104, 98, 105, 103)"
      ]
     },
     "execution_count": 51,
     "metadata": {},
     "output_type": "execute_result"
    }
   ],
   "source": [
    "ord('a'),ord('h'),ord('b'),ord('i'),ord(\"g\")"
   ]
  },
  {
   "cell_type": "code",
   "execution_count": 61,
   "id": "fe47ea00",
   "metadata": {},
   "outputs": [
    {
     "data": {
      "text/plain": [
       "('{', '7', 'C', 'N', '\\x08', '\\x07', '\\x01', '!', ' ')"
      ]
     },
     "execution_count": 61,
     "metadata": {},
     "output_type": "execute_result"
    }
   ],
   "source": [
    "chr(123),chr(55),chr(67),chr(78),chr(8),chr(7),chr(1),chr(33),chr(32)"
   ]
  },
  {
   "cell_type": "code",
   "execution_count": 65,
   "id": "deadad69",
   "metadata": {},
   "outputs": [
    {
     "name": "stdout",
     "output_type": "stream",
     "text": [
      "33 = !,34 = \",35 = #,36 = $,37 = %,38 = &,39 = ',40 = (,41 = ),42 = *,43 = +,44 = ,,45 = -,46 = .,47 = /,48 = 0,49 = 1,50 = 2,51 = 3,52 = 4,53 = 5,54 = 6,55 = 7,56 = 8,57 = 9,58 = :,59 = ;,60 = <,61 = =,62 = >,63 = ?,64 = @,65 = A,66 = B,67 = C,68 = D,69 = E,70 = F,71 = G,72 = H,73 = I,74 = J,75 = K,76 = L,77 = M,78 = N,79 = O,80 = P,81 = Q,82 = R,83 = S,84 = T,85 = U,86 = V,87 = W,88 = X,89 = Y,90 = Z,91 = [,92 = \\,93 = ],94 = ^,95 = _,96 = `,97 = a,98 = b,99 = c,100 = d,"
     ]
    }
   ],
   "source": [
    "for i in range(33,101):\n",
    "    print(i,'=',chr(i),end=',')"
   ]
  },
  {
   "cell_type": "code",
   "execution_count": 77,
   "id": "6086770b",
   "metadata": {},
   "outputs": [
    {
     "name": "stdout",
     "output_type": "stream",
     "text": [
      "0 =,1 =,2 =,3 =,4 =,5 =,6 =,7 =,8 =,9 =,10 =,11 =,12 =,13 =,14 =,15 =,16 =,17 =,18 =,19 =,20 =,21 =,22 =,23 =,24 =,25 =,26 =,27 =,28 =,29 =,30 =,31 =,32 =,33 =,34 =,35 =,36 =,37 =,38 =,39 =,40 =,41 =,42 =,43 =,44 =,45 =,46 =,47 =,48 =,49 =,50 =,51 =,52 =,53 =,54 =,55 =,56 =,57 =,58 =,59 =,60 =,61 =,62 =,63 =,64 =,65 =,66 =,67 =,68 =,69 =,70 =,71 =,72 =,73 =,74 =,75 =,76 =,77 =,78 =,79 =,80 =,81 =,82 =,83 =,84 =,85 =,86 =,87 =,88 =,89 =,90 =,91 =,92 =,93 =,94 =,95 =,96 =,"
     ]
    }
   ],
   "source": [
    "for i in range(ord(\"a\")):\n",
    "    print(i,'=',end=',')"
   ]
  },
  {
   "cell_type": "code",
   "execution_count": 115,
   "id": "ee40dd2f",
   "metadata": {},
   "outputs": [
    {
     "name": "stdout",
     "output_type": "stream",
     "text": [
      "he positive index of h is 0 and negative index  h is -13\n",
      "he positive index of i is 1 and negative index  i is -12\n",
      "he positive index of i is 2 and negative index  i is -11\n",
      "he positive index of   is 3 and negative index    is -10\n",
      "he positive index of r is 4 and negative index  r is -9\n",
      "he positive index of a is 5 and negative index  a is -8\n",
      "he positive index of   is 6 and negative index    is -7\n",
      "he positive index of m is 7 and negative index  m is -6\n",
      "he positive index of a is 8 and negative index  a is -5\n",
      "he positive index of c is 9 and negative index  c is -4\n",
      "he positive index of c is 10 and negative index  c is -3\n",
      "he positive index of h is 11 and negative index  h is -2\n",
      "he positive index of a is 12 and negative index  a is -1\n"
     ]
    }
   ],
   "source": [
    "s1=\"hii ra maccha\"\n",
    "for i in range(len(s1)):\n",
    "    print(f\"he positive index of {s1[i]} is {i} and negative index  {s1[i]} is {i-13}\")"
   ]
  },
  {
   "cell_type": "code",
   "execution_count": 118,
   "id": "f551f3ec",
   "metadata": {},
   "outputs": [
    {
     "name": "stdout",
     "output_type": "stream",
     "text": [
      "the positive index of h is 0 the negitive index of h is -45\n",
      "the positive index of e is 1 the negitive index of e is -44\n",
      "the positive index of l is 2 the negitive index of l is -43\n",
      "the positive index of l is 3 the negitive index of l is -42\n",
      "the positive index of o is 4 the negitive index of o is -41\n",
      "the positive index of   is 5 the negitive index of   is -40\n",
      "the positive index of b is 6 the negitive index of b is -39\n",
      "the positive index of a is 7 the negitive index of a is -38\n",
      "the positive index of b is 8 the negitive index of b is -37\n",
      "the positive index of y is 9 the negitive index of y is -36\n",
      "the positive index of   is 10 the negitive index of   is -35\n",
      "the positive index of h is 11 the negitive index of h is -34\n",
      "the positive index of o is 12 the negitive index of o is -33\n",
      "the positive index of e is 13 the negitive index of e is -32\n",
      "the positive index of   is 14 the negitive index of   is -31\n",
      "the positive index of a is 15 the negitive index of a is -30\n",
      "the positive index of r is 16 the negitive index of r is -29\n",
      "the positive index of e is 17 the negitive index of e is -28\n",
      "the positive index of   is 18 the negitive index of   is -27\n",
      "the positive index of y is 19 the negitive index of y is -26\n",
      "the positive index of o is 20 the negitive index of o is -25\n",
      "the positive index of u is 21 the negitive index of u is -24\n",
      "the positive index of   is 22 the negitive index of   is -23\n",
      "the positive index of a is 23 the negitive index of a is -22\n",
      "the positive index of n is 24 the negitive index of n is -21\n",
      "the positive index of d is 25 the negitive index of d is -20\n",
      "the positive index of   is 26 the negitive index of   is -19\n",
      "the positive index of w is 27 the negitive index of w is -18\n",
      "the positive index of h is 28 the negitive index of h is -17\n",
      "the positive index of a is 29 the negitive index of a is -16\n",
      "the positive index of t is 30 the negitive index of t is -15\n",
      "the positive index of   is 31 the negitive index of   is -14\n",
      "the positive index of y is 32 the negitive index of y is -13\n",
      "the positive index of o is 33 the negitive index of o is -12\n",
      "the positive index of u is 34 the negitive index of u is -11\n",
      "the positive index of   is 35 the negitive index of   is -10\n",
      "the positive index of d is 36 the negitive index of d is -9\n",
      "the positive index of o is 37 the negitive index of o is -8\n",
      "the positive index of i is 38 the negitive index of i is -7\n",
      "the positive index of n is 39 the negitive index of n is -6\n",
      "the positive index of g is 40 the negitive index of g is -5\n",
      "the positive index of   is 41 the negitive index of   is -4\n",
      "the positive index of n is 42 the negitive index of n is -3\n",
      "the positive index of o is 43 the negitive index of o is -2\n",
      "the positive index of w is 44 the negitive index of w is -1\n"
     ]
    }
   ],
   "source": [
    "d1='hello baby hoe are you and what you doing now'\n",
    "for i in range(len(d1)):\n",
    "    print(f\"the positive index of {d1[i]} is {i} the negitive index of {d1[i]} is {i-45}\")"
   ]
  },
  {
   "cell_type": "code",
   "execution_count": null,
   "id": "a6c3b23a",
   "metadata": {},
   "outputs": [],
   "source": []
  }
 ],
 "metadata": {
  "kernelspec": {
   "display_name": "Python 3 (ipykernel)",
   "language": "python",
   "name": "python3"
  },
  "language_info": {
   "codemirror_mode": {
    "name": "ipython",
    "version": 3
   },
   "file_extension": ".py",
   "mimetype": "text/x-python",
   "name": "python",
   "nbconvert_exporter": "python",
   "pygments_lexer": "ipython3",
   "version": "3.11.5"
  }
 },
 "nbformat": 4,
 "nbformat_minor": 5
}
