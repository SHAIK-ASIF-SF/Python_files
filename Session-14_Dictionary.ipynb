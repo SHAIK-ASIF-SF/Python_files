{
 "cells": [
  {
   "cell_type": "markdown",
   "id": "82d3c822",
   "metadata": {},
   "source": [
    "List\n",
    "tuple\n",
    "string\n",
    "Dictionary"
   ]
  },
  {
   "cell_type": "code",
   "execution_count": 3,
   "id": "551be383",
   "metadata": {},
   "outputs": [
    {
     "data": {
      "text/plain": [
       "['hai', 'how', 'are', 'you']"
      ]
     },
     "execution_count": 3,
     "metadata": {},
     "output_type": "execute_result"
    }
   ],
   "source": [
    "# we are splitting\n",
    "# the output in form of list\n",
    "str1='hai how are you'\n",
    "l1=str1.split()\n",
    "l1"
   ]
  },
  {
   "cell_type": "code",
   "execution_count": 4,
   "id": "adb157d1",
   "metadata": {},
   "outputs": [
    {
     "data": {
      "text/plain": [
       "['hai', 'how', 'are', 'you']"
      ]
     },
     "execution_count": 4,
     "metadata": {},
     "output_type": "execute_result"
    }
   ],
   "source": [
    "# Now we have list of element are there\n",
    "# we want to join\n",
    "l1"
   ]
  },
  {
   "cell_type": "code",
   "execution_count": 5,
   "id": "bd5dc9f8",
   "metadata": {},
   "outputs": [
    {
     "data": {
      "text/plain": [
       "'hai-->how-->are-->you'"
      ]
     },
     "execution_count": 5,
     "metadata": {},
     "output_type": "execute_result"
    }
   ],
   "source": [
    "'-->'.join(l1)"
   ]
  },
  {
   "cell_type": "code",
   "execution_count": 6,
   "id": "ade6c937",
   "metadata": {},
   "outputs": [
    {
     "data": {
      "text/plain": [
       "'hai--#--@-->how--#--@-->are--#--@-->you'"
      ]
     },
     "execution_count": 6,
     "metadata": {},
     "output_type": "execute_result"
    }
   ],
   "source": [
    "'--#--@-->'.join(l1)"
   ]
  },
  {
   "cell_type": "code",
   "execution_count": 7,
   "id": "bede1a52",
   "metadata": {},
   "outputs": [
    {
     "data": {
      "text/plain": [
       "'hai $@%**-->>--how $@%**-->>--are $@%**-->>--you'"
      ]
     },
     "execution_count": 7,
     "metadata": {},
     "output_type": "execute_result"
    }
   ],
   "source": [
    "' $@%**-->>--'.join(l1)"
   ]
  },
  {
   "cell_type": "code",
   "execution_count": 8,
   "id": "a050ef81",
   "metadata": {},
   "outputs": [
    {
     "name": "stdout",
     "output_type": "stream",
     "text": [
      "hai\n",
      "how\n",
      "are\n",
      "you\n"
     ]
    }
   ],
   "source": [
    "s=''\n",
    "for i in l1:\n",
    "    print(i)"
   ]
  },
  {
   "cell_type": "code",
   "execution_count": 9,
   "id": "88d37d6c",
   "metadata": {},
   "outputs": [
    {
     "data": {
      "text/plain": [
       "'haihowareyou'"
      ]
     },
     "execution_count": 9,
     "metadata": {},
     "output_type": "execute_result"
    }
   ],
   "source": [
    "s=''\n",
    "for i in l1:\n",
    "    s=s+i    \n",
    "s    "
   ]
  },
  {
   "cell_type": "code",
   "execution_count": 10,
   "id": "dab252b9",
   "metadata": {},
   "outputs": [
    {
     "name": "stdout",
     "output_type": "stream",
     "text": [
      "Ramesh 20\n",
      "Suresh 25\n",
      "Sathish 30\n"
     ]
    }
   ],
   "source": [
    "names=[\"Ramesh\",\"Suresh\",\"Sathish\"]\n",
    "age=[20,25,30]\n",
    "\n",
    "# Ramesh age is 20\n",
    "# Suresh age  is 25\n",
    "# Satthish age is 30\n",
    "\n",
    "for i in range(len(names)):\n",
    "    print(names[i],age[i])"
   ]
  },
  {
   "cell_type": "markdown",
   "id": "f5fc7d51",
   "metadata": {},
   "source": [
    "$zip$"
   ]
  },
  {
   "cell_type": "code",
   "execution_count": 11,
   "id": "3650c6c4",
   "metadata": {},
   "outputs": [
    {
     "name": "stdout",
     "output_type": "stream",
     "text": [
      "('Ramesh', 20)\n",
      "('Suresh', 25)\n",
      "('Sathish', 30)\n"
     ]
    }
   ],
   "source": [
    "#for i in names : i=Ramesh   i=Suresh   i=Sathish\n",
    "#for i in age   :  i=20       i=25       i=30     \n",
    "for i in zip(names,age):\n",
    "    print(i)"
   ]
  },
  {
   "cell_type": "code",
   "execution_count": 12,
   "id": "99d50378",
   "metadata": {
    "scrolled": true
   },
   "outputs": [
    {
     "name": "stdout",
     "output_type": "stream",
     "text": [
      "Ramesh age is 20\n",
      "Suresh age is 25\n",
      "Sathish age is 30\n"
     ]
    }
   ],
   "source": [
    "#for i in names :i=Ramesh   i=Suresh   i=Sathish\n",
    "#for i in age   :  i=20       i=25       i=30 \n",
    "\n",
    "for i,j in zip(names,age):\n",
    "    print(f\"{i} age is {j}\")"
   ]
  },
  {
   "cell_type": "code",
   "execution_count": 13,
   "id": "ba6ef849",
   "metadata": {},
   "outputs": [
    {
     "name": "stdout",
     "output_type": "stream",
     "text": [
      "10\n",
      "20\n"
     ]
    }
   ],
   "source": [
    "num1,num2=10,20\n",
    "print(num1)\n",
    "print(num2)"
   ]
  },
  {
   "cell_type": "code",
   "execution_count": 14,
   "id": "756b2697",
   "metadata": {},
   "outputs": [
    {
     "data": {
      "text/plain": [
       "20.0"
      ]
     },
     "execution_count": 14,
     "metadata": {},
     "output_type": "execute_result"
    }
   ],
   "source": [
    "def avg(n1,n2,n3):\n",
    "    return(n1+n2+n3, (n1+n2+n3)/3)\n",
    "\n",
    "o1,o2=avg(10,20,30)\n",
    "o1,\n",
    "o2"
   ]
  },
  {
   "cell_type": "code",
   "execution_count": 15,
   "id": "8252b126",
   "metadata": {},
   "outputs": [
    {
     "data": {
      "text/plain": [
       "('Sathish', False)"
      ]
     },
     "execution_count": 15,
     "metadata": {},
     "output_type": "execute_result"
    }
   ],
   "source": [
    "num1,num2=10,20\n",
    "o1,o2=avg(10,20,30)\n",
    "i,j in zip(names,age)"
   ]
  },
  {
   "cell_type": "code",
   "execution_count": null,
   "id": "5db61e81",
   "metadata": {},
   "outputs": [],
   "source": [
    "names=[\"Ramesh\",\"Suresh\",\"Sathish\"]\n",
    "age=[20,25,30]\n",
    "\n",
    "If botth are together why two lists  ==== Dictionary"
   ]
  },
  {
   "cell_type": "code",
   "execution_count": null,
   "id": "377c797d",
   "metadata": {},
   "outputs": [],
   "source": [
    "{<key>:<value>}"
   ]
  },
  {
   "cell_type": "code",
   "execution_count": 18,
   "id": "ffa78e53",
   "metadata": {},
   "outputs": [
    {
     "data": {
      "text/plain": [
       "{'Ramesh': 20, 'Sathish': 30}"
      ]
     },
     "execution_count": 18,
     "metadata": {},
     "output_type": "execute_result"
    }
   ],
   "source": [
    "d1={\"Ramesh\":20,\"Sathish\":25,\"Sathish\":30}\n",
    "d1\n",
    "# Ramesh\n",
    "# Suresh\n",
    "# Sathish are keys\n",
    "\n",
    "# 20  25  30 are values\n",
    "\n",
    "# key values pair togaher"
   ]
  },
  {
   "cell_type": "code",
   "execution_count": 19,
   "id": "a73ed11e",
   "metadata": {},
   "outputs": [
    {
     "data": {
      "text/plain": [
       "dict"
      ]
     },
     "execution_count": 19,
     "metadata": {},
     "output_type": "execute_result"
    }
   ],
   "source": [
    "type(d1)"
   ]
  },
  {
   "cell_type": "code",
   "execution_count": null,
   "id": "0efd57fa",
   "metadata": {},
   "outputs": [],
   "source": [
    "how can we distinguish between\n",
    "lists,\n",
    "tuple,\n",
    "set, and\n",
    "dictionary?"
   ]
  },
  {
   "cell_type": "code",
   "execution_count": 21,
   "id": "d495c0cc",
   "metadata": {},
   "outputs": [
    {
     "data": {
      "text/plain": [
       "{20: 'Ramesh', 25: 'Sathish', 30: 'Sathish'}"
      ]
     },
     "execution_count": 21,
     "metadata": {},
     "output_type": "execute_result"
    }
   ],
   "source": [
    "d2={20:\"Ramesh\",25:\"Sathish\",30:\"Sathish\"}\n",
    "d2"
   ]
  },
  {
   "cell_type": "code",
   "execution_count": 22,
   "id": "e4cec977",
   "metadata": {},
   "outputs": [
    {
     "data": {
      "text/plain": [
       "{20: 20}"
      ]
     },
     "execution_count": 22,
     "metadata": {},
     "output_type": "execute_result"
    }
   ],
   "source": [
    "d3={20:20}\n",
    "d3"
   ]
  },
  {
   "cell_type": "code",
   "execution_count": 23,
   "id": "325c15a2",
   "metadata": {},
   "outputs": [
    {
     "data": {
      "text/plain": [
       "{'hello': 'hi'}"
      ]
     },
     "execution_count": 23,
     "metadata": {},
     "output_type": "execute_result"
    }
   ],
   "source": [
    "d3={\"hello\":\"hi\"}\n",
    "d3"
   ]
  },
  {
   "cell_type": "code",
   "execution_count": 24,
   "id": "e49b0e2b",
   "metadata": {},
   "outputs": [
    {
     "data": {
      "text/plain": [
       "{'$': 30}"
      ]
     },
     "execution_count": 24,
     "metadata": {},
     "output_type": "execute_result"
    }
   ],
   "source": [
    "d4={'$':30}\n",
    "d4"
   ]
  },
  {
   "cell_type": "code",
   "execution_count": 25,
   "id": "17537a6e",
   "metadata": {},
   "outputs": [
    {
     "ename": "SyntaxError",
     "evalue": "invalid syntax (2520486572.py, line 1)",
     "output_type": "error",
     "traceback": [
      "\u001b[1;36m  Cell \u001b[1;32mIn[25], line 1\u001b[1;36m\u001b[0m\n\u001b[1;33m    d4={$:30}\u001b[0m\n\u001b[1;37m        ^\u001b[0m\n\u001b[1;31mSyntaxError\u001b[0m\u001b[1;31m:\u001b[0m invalid syntax\n"
     ]
    }
   ],
   "source": [
    "d4={$:30}\n",
    "d4"
   ]
  },
  {
   "cell_type": "code",
   "execution_count": 26,
   "id": "fb5e1cec",
   "metadata": {},
   "outputs": [
    {
     "data": {
      "text/plain": [
       "{'$': '30'}"
      ]
     },
     "execution_count": 26,
     "metadata": {},
     "output_type": "execute_result"
    }
   ],
   "source": [
    "d4={'$':'30'}\n",
    "d4"
   ]
  },
  {
   "cell_type": "code",
   "execution_count": 27,
   "id": "7ffdbb76",
   "metadata": {},
   "outputs": [
    {
     "data": {
      "text/plain": [
       "{'names': ['R', 'S', 'A']}"
      ]
     },
     "execution_count": 27,
     "metadata": {},
     "output_type": "execute_result"
    }
   ],
   "source": [
    "d5={'names':['R','S','A']}\n",
    "d5"
   ]
  },
  {
   "cell_type": "code",
   "execution_count": 28,
   "id": "4fd57d44",
   "metadata": {},
   "outputs": [
    {
     "ename": "TypeError",
     "evalue": "unhashable type: 'list'",
     "output_type": "error",
     "traceback": [
      "\u001b[1;31m---------------------------------------------------------------------------\u001b[0m",
      "\u001b[1;31mTypeError\u001b[0m                                 Traceback (most recent call last)",
      "Cell \u001b[1;32mIn[28], line 1\u001b[0m\n\u001b[1;32m----> 1\u001b[0m d6\u001b[38;5;241m=\u001b[39m{[\u001b[38;5;124m'\u001b[39m\u001b[38;5;124mR\u001b[39m\u001b[38;5;124m'\u001b[39m,\u001b[38;5;124m'\u001b[39m\u001b[38;5;124mS\u001b[39m\u001b[38;5;124m'\u001b[39m,\u001b[38;5;124m'\u001b[39m\u001b[38;5;124mA\u001b[39m\u001b[38;5;124m'\u001b[39m]:\u001b[38;5;124m'\u001b[39m\u001b[38;5;124mnames\u001b[39m\u001b[38;5;124m'\u001b[39m}\n\u001b[0;32m      2\u001b[0m d6\n",
      "\u001b[1;31mTypeError\u001b[0m: unhashable type: 'list'"
     ]
    }
   ],
   "source": [
    "d6={['R','S','A']:'names'}\n",
    "d6"
   ]
  },
  {
   "cell_type": "code",
   "execution_count": null,
   "id": "8e371adb",
   "metadata": {},
   "outputs": [],
   "source": [
    "d6={'30':$}\n",
    "d6"
   ]
  },
  {
   "cell_type": "code",
   "execution_count": 29,
   "id": "0905d634",
   "metadata": {},
   "outputs": [],
   "source": [
    "d1={\"Ramesh\":20,\"Sathish\":25,\"Sathish\":30}\n",
    "d2={20:\"Ramesh\",25:\"Sathish\",30:\"Sathish\"}\n",
    "d3={\"hello\":\"hi\"}\n",
    "d4={'$':'30'}"
   ]
  },
  {
   "cell_type": "code",
   "execution_count": 30,
   "id": "6294e7d2",
   "metadata": {},
   "outputs": [
    {
     "ename": "SyntaxError",
     "evalue": "invalid syntax (331089691.py, line 1)",
     "output_type": "error",
     "traceback": [
      "\u001b[1;36m  Cell \u001b[1;32mIn[30], line 1\u001b[1;36m\u001b[0m\n\u001b[1;33m    d5={$:'30'}  # fail\u001b[0m\n\u001b[1;37m        ^\u001b[0m\n\u001b[1;31mSyntaxError\u001b[0m\u001b[1;31m:\u001b[0m invalid syntax\n"
     ]
    }
   ],
   "source": [
    "d5={$:'30'}  # fail\n",
    "d5"
   ]
  },
  {
   "cell_type": "code",
   "execution_count": 31,
   "id": "8e963853",
   "metadata": {},
   "outputs": [
    {
     "data": {
      "text/plain": [
       "{'names': ['R', 'S', 'A']}"
      ]
     },
     "execution_count": 31,
     "metadata": {},
     "output_type": "execute_result"
    }
   ],
   "source": [
    "d6={'names':['R','S','A']}\n",
    "d6"
   ]
  },
  {
   "cell_type": "code",
   "execution_count": 32,
   "id": "4cafda3e",
   "metadata": {},
   "outputs": [
    {
     "data": {
      "text/plain": [
       "{'names': ['R', 'S', 'A']}"
      ]
     },
     "execution_count": 32,
     "metadata": {},
     "output_type": "execute_result"
    }
   ],
   "source": [
    "d7={'names':['R','S','A']}\n",
    "d7\n",
    "# List can be value"
   ]
  },
  {
   "cell_type": "code",
   "execution_count": 33,
   "id": "c76beb02",
   "metadata": {},
   "outputs": [
    {
     "ename": "TypeError",
     "evalue": "unhashable type: 'list'",
     "output_type": "error",
     "traceback": [
      "\u001b[1;31m---------------------------------------------------------------------------\u001b[0m",
      "\u001b[1;31mTypeError\u001b[0m                                 Traceback (most recent call last)",
      "Cell \u001b[1;32mIn[33], line 1\u001b[0m\n\u001b[1;32m----> 1\u001b[0m d8\u001b[38;5;241m=\u001b[39m{[\u001b[38;5;124m'\u001b[39m\u001b[38;5;124mR\u001b[39m\u001b[38;5;124m'\u001b[39m,\u001b[38;5;124m'\u001b[39m\u001b[38;5;124mS\u001b[39m\u001b[38;5;124m'\u001b[39m,\u001b[38;5;124m'\u001b[39m\u001b[38;5;124mA\u001b[39m\u001b[38;5;124m'\u001b[39m]:\u001b[38;5;124m'\u001b[39m\u001b[38;5;124mnames\u001b[39m\u001b[38;5;124m'\u001b[39m}\n\u001b[0;32m      2\u001b[0m d8\n",
      "\u001b[1;31mTypeError\u001b[0m: unhashable type: 'list'"
     ]
    }
   ],
   "source": [
    "d8={['R','S','A']:'names'}\n",
    "d8\n",
    "\n",
    "# List can not be a key"
   ]
  },
  {
   "cell_type": "code",
   "execution_count": 34,
   "id": "a6dbf701",
   "metadata": {},
   "outputs": [
    {
     "data": {
      "text/plain": [
       "{('R', 'S', 'A'): 'names'}"
      ]
     },
     "execution_count": 34,
     "metadata": {},
     "output_type": "execute_result"
    }
   ],
   "source": [
    "d9={('R','S','A'):'names'}\n",
    "d9"
   ]
  },
  {
   "cell_type": "code",
   "execution_count": 35,
   "id": "b19107a9",
   "metadata": {},
   "outputs": [
    {
     "data": {
      "text/plain": [
       "{'names': ('R', 's', 'A')}"
      ]
     },
     "execution_count": 35,
     "metadata": {},
     "output_type": "execute_result"
    }
   ],
   "source": [
    "d10={'names':('R','s','A')}\n",
    "d10"
   ]
  },
  {
   "cell_type": "code",
   "execution_count": 36,
   "id": "9cfd079b",
   "metadata": {},
   "outputs": [
    {
     "data": {
      "text/plain": [
       "{('I', 'N', 'D'): ('R', 'S', 'A')}"
      ]
     },
     "execution_count": 36,
     "metadata": {},
     "output_type": "execute_result"
    }
   ],
   "source": [
    "d11={('I','N','D'): ('R','S','A')}\n",
    "d11"
   ]
  },
  {
   "cell_type": "code",
   "execution_count": 37,
   "id": "f07f6a11",
   "metadata": {},
   "outputs": [
    {
     "ename": "TypeError",
     "evalue": "unhashable type: 'dict'",
     "output_type": "error",
     "traceback": [
      "\u001b[1;31m---------------------------------------------------------------------------\u001b[0m",
      "\u001b[1;31mTypeError\u001b[0m                                 Traceback (most recent call last)",
      "Cell \u001b[1;32mIn[37], line 2\u001b[0m\n\u001b[0;32m      1\u001b[0m d\u001b[38;5;241m=\u001b[39m{\u001b[38;5;124m'\u001b[39m\u001b[38;5;124mFruits\u001b[39m\u001b[38;5;124m'\u001b[39m:\u001b[38;5;124m'\u001b[39m\u001b[38;5;124mApple\u001b[39m\u001b[38;5;124m'\u001b[39m}\n\u001b[1;32m----> 2\u001b[0m d13\u001b[38;5;241m=\u001b[39m{d:\u001b[38;5;124m\"\u001b[39m\u001b[38;5;124mnames\u001b[39m\u001b[38;5;124m\"\u001b[39m}\n\u001b[0;32m      3\u001b[0m d13\n",
      "\u001b[1;31mTypeError\u001b[0m: unhashable type: 'dict'"
     ]
    }
   ],
   "source": [
    "d={'Fruits':'Apple'}\n",
    "d13={d:\"names\"}\n",
    "d13"
   ]
  },
  {
   "cell_type": "code",
   "execution_count": null,
   "id": "3c339ff4",
   "metadata": {},
   "outputs": [],
   "source": [
    "# dictionary and list can not be represent as keys"
   ]
  },
  {
   "cell_type": "code",
   "execution_count": null,
   "id": "596bec95",
   "metadata": {},
   "outputs": [],
   "source": [
    "########## pass ##########\n",
    "d1={\"Ramesh\":20,\"Sathish\":25,\"Sathish\":30}\n",
    "d2={20:\"Ramesh\",25:\"Sathish\",30:\"Sathish\"}\n",
    "d3={\"hello\":\"hi\"}\n",
    "d4={'$':'30'}\n",
    "d5={'names':['I','N','D']}\n",
    "d6={'names':('I','N','D')}\n",
    "d7={('I','N','D'): 'names'}\n",
    "d8={\"Names\": {'Fruits':'Apple'}}"
   ]
  },
  {
   "cell_type": "code",
   "execution_count": null,
   "id": "4ad4fa6e",
   "metadata": {},
   "outputs": [],
   "source": [
    "########### fail ###########\n",
    "\n",
    "d9={$:'30'}\n",
    "d10={['I','N','D']:'names'}\n",
    "d11={{'Fruites':'Apple'}:\"Names\"}\n"
   ]
  },
  {
   "cell_type": "code",
   "execution_count": 40,
   "id": "113a5c7c",
   "metadata": {},
   "outputs": [
    {
     "data": {
      "text/plain": [
       "{'True': 3}"
      ]
     },
     "execution_count": 40,
     "metadata": {},
     "output_type": "execute_result"
    }
   ],
   "source": [
    "d3={'True':3}\n",
    "d3"
   ]
  },
  {
   "cell_type": "code",
   "execution_count": 41,
   "id": "9479547e",
   "metadata": {},
   "outputs": [
    {
     "data": {
      "text/plain": [
       "{True: True}"
      ]
     },
     "execution_count": 41,
     "metadata": {},
     "output_type": "execute_result"
    }
   ],
   "source": [
    "d3={True:True}\n",
    "d3\n"
   ]
  },
  {
   "cell_type": "code",
   "execution_count": 42,
   "id": "0abb8480",
   "metadata": {},
   "outputs": [
    {
     "data": {
      "text/plain": [
       "{'Ramesh': 25}"
      ]
     },
     "execution_count": 42,
     "metadata": {},
     "output_type": "execute_result"
    }
   ],
   "source": [
    "d1={\"Ramesh\":20,\"Ramesh\":25}\n",
    "d1\n",
    "\n",
    "# duplicate keys are not allowed"
   ]
  },
  {
   "cell_type": "code",
   "execution_count": 43,
   "id": "0a382b93",
   "metadata": {},
   "outputs": [
    {
     "data": {
      "text/plain": [
       "{'Ramesh': 20, 'Suresh': 25}"
      ]
     },
     "execution_count": 43,
     "metadata": {},
     "output_type": "execute_result"
    }
   ],
   "source": [
    "d2={\"Ramesh\":20,\"Suresh\":25}\n",
    "d2"
   ]
  },
  {
   "cell_type": "markdown",
   "id": "ce85db27",
   "metadata": {},
   "source": [
    "- max\n",
    "\n",
    "- min\n",
    "\n",
    "- len\n",
    "\n",
    "- sum"
   ]
  },
  {
   "cell_type": "code",
   "execution_count": 44,
   "id": "84f12471",
   "metadata": {},
   "outputs": [
    {
     "data": {
      "text/plain": [
       "'Sathish'"
      ]
     },
     "execution_count": 44,
     "metadata": {},
     "output_type": "execute_result"
    }
   ],
   "source": [
    "d1={\"Ramesh\":20,\"Sathish\":25,\"Sathish\":30}\n",
    "max(d1)\n",
    "\n",
    "# Are yoy seeing keys\n",
    "# are you seeeing values"
   ]
  },
  {
   "cell_type": "code",
   "execution_count": 45,
   "id": "4ee18d07",
   "metadata": {},
   "outputs": [
    {
     "data": {
      "text/plain": [
       "'Ramesh'"
      ]
     },
     "execution_count": 45,
     "metadata": {},
     "output_type": "execute_result"
    }
   ],
   "source": [
    "d1={\"Ramesh\":20,\"Sathish\":25,\"Sathish\":30}\n",
    "min(d1)"
   ]
  },
  {
   "cell_type": "code",
   "execution_count": 46,
   "id": "c9c45223",
   "metadata": {},
   "outputs": [
    {
     "data": {
      "text/plain": [
       "'Ramesh'"
      ]
     },
     "execution_count": 46,
     "metadata": {},
     "output_type": "execute_result"
    }
   ],
   "source": [
    "d1={\"Ramesh\":20,\"Sathish\":20,\"Sathish\":20}\n",
    "min(d1)"
   ]
  },
  {
   "cell_type": "markdown",
   "id": "da0af0f6",
   "metadata": {},
   "source": [
    "**Watch only keys**"
   ]
  },
  {
   "cell_type": "code",
   "execution_count": 47,
   "id": "e828e1c5",
   "metadata": {},
   "outputs": [
    {
     "data": {
      "text/plain": [
       "'Ramesh'"
      ]
     },
     "execution_count": 47,
     "metadata": {},
     "output_type": "execute_result"
    }
   ],
   "source": [
    "d2={\"Ramesh\":20,\"Rameshh\":20}\n",
    "min(d2)"
   ]
  },
  {
   "cell_type": "code",
   "execution_count": 48,
   "id": "b92c09ac",
   "metadata": {},
   "outputs": [
    {
     "data": {
      "text/plain": [
       "30"
      ]
     },
     "execution_count": 48,
     "metadata": {},
     "output_type": "execute_result"
    }
   ],
   "source": [
    "d2={20:\"Ramesh\",25:\"Sathish\",30:\"Sathish\"}\n",
    "max(d2)"
   ]
  },
  {
   "cell_type": "code",
   "execution_count": 49,
   "id": "c9cdab1a",
   "metadata": {},
   "outputs": [
    {
     "data": {
      "text/plain": [
       "{20: 'Ramesh', 'Suresh': 30}"
      ]
     },
     "execution_count": 49,
     "metadata": {},
     "output_type": "execute_result"
    }
   ],
   "source": [
    "d2={20:\"Ramesh\",'Suresh':30}\n",
    "d2"
   ]
  },
  {
   "cell_type": "code",
   "execution_count": 50,
   "id": "7fa733d3",
   "metadata": {},
   "outputs": [
    {
     "ename": "TypeError",
     "evalue": "'>' not supported between instances of 'str' and 'int'",
     "output_type": "error",
     "traceback": [
      "\u001b[1;31m---------------------------------------------------------------------------\u001b[0m",
      "\u001b[1;31mTypeError\u001b[0m                                 Traceback (most recent call last)",
      "Cell \u001b[1;32mIn[50], line 3\u001b[0m\n\u001b[0;32m      1\u001b[0m \u001b[38;5;28mmax\u001b[39m([\u001b[38;5;241m25\u001b[39m,\u001b[38;5;241m30\u001b[39m,\u001b[38;5;241m35\u001b[39m]) \u001b[38;5;66;03m# 35\u001b[39;00m\n\u001b[0;32m      2\u001b[0m \u001b[38;5;28mmax\u001b[39m([\u001b[38;5;124m'\u001b[39m\u001b[38;5;124mA\u001b[39m\u001b[38;5;124m'\u001b[39m,\u001b[38;5;124m'\u001b[39m\u001b[38;5;124mB\u001b[39m\u001b[38;5;124m'\u001b[39m,\u001b[38;5;124m'\u001b[39m\u001b[38;5;124mC\u001b[39m\u001b[38;5;124m'\u001b[39m])  \u001b[38;5;66;03m# 'C'\u001b[39;00m\n\u001b[1;32m----> 3\u001b[0m \u001b[38;5;28mmax\u001b[39m([\u001b[38;5;241m25\u001b[39m,\u001b[38;5;124m'\u001b[39m\u001b[38;5;124mA\u001b[39m\u001b[38;5;124m'\u001b[39m])\n",
      "\u001b[1;31mTypeError\u001b[0m: '>' not supported between instances of 'str' and 'int'"
     ]
    }
   ],
   "source": [
    "max([25,30,35]) # 35\n",
    "max(['A','B','C'])  # 'C'\n",
    "max([25,'A'])  # error    str vs int not compare "
   ]
  },
  {
   "cell_type": "code",
   "execution_count": 51,
   "id": "6d57234f",
   "metadata": {},
   "outputs": [
    {
     "ename": "TypeError",
     "evalue": "'>' not supported between instances of 'str' and 'int'",
     "output_type": "error",
     "traceback": [
      "\u001b[1;31m---------------------------------------------------------------------------\u001b[0m",
      "\u001b[1;31mTypeError\u001b[0m                                 Traceback (most recent call last)",
      "Cell \u001b[1;32mIn[51], line 2\u001b[0m\n\u001b[0;32m      1\u001b[0m d2\u001b[38;5;241m=\u001b[39m{\u001b[38;5;241m20\u001b[39m:\u001b[38;5;124m\"\u001b[39m\u001b[38;5;124mRamesh\u001b[39m\u001b[38;5;124m\"\u001b[39m,\u001b[38;5;124m'\u001b[39m\u001b[38;5;124mSuresh\u001b[39m\u001b[38;5;124m'\u001b[39m:\u001b[38;5;241m30\u001b[39m}\n\u001b[1;32m----> 2\u001b[0m \u001b[38;5;28mmax\u001b[39m(d2)\n",
      "\u001b[1;31mTypeError\u001b[0m: '>' not supported between instances of 'str' and 'int'"
     ]
    }
   ],
   "source": [
    "d2={20:\"Ramesh\",'Suresh':30}\n",
    "max(d2)"
   ]
  },
  {
   "cell_type": "code",
   "execution_count": null,
   "id": "58b221dc",
   "metadata": {},
   "outputs": [],
   "source": [
    "d1={\"Ramesh\":20,\"Sathish\":25,\"Sathish\":30}\n",
    "min(d1)"
   ]
  },
  {
   "cell_type": "code",
   "execution_count": 52,
   "id": "37dba7c0",
   "metadata": {},
   "outputs": [
    {
     "data": {
      "text/plain": [
       "20"
      ]
     },
     "execution_count": 52,
     "metadata": {},
     "output_type": "execute_result"
    }
   ],
   "source": [
    "d2={20:\"Ramesh\",25:\"Sathish\",30:\"Sathish\"}\n",
    "min(d2)"
   ]
  },
  {
   "cell_type": "code",
   "execution_count": 53,
   "id": "f1e6be99",
   "metadata": {},
   "outputs": [
    {
     "data": {
      "text/plain": [
       "3"
      ]
     },
     "execution_count": 53,
     "metadata": {},
     "output_type": "execute_result"
    }
   ],
   "source": [
    "d1={\"Ramesh\":20,\"Suresh\":25,\"Sathish\":30}\n",
    "len(d1)"
   ]
  },
  {
   "cell_type": "markdown",
   "id": "a223a615",
   "metadata": {},
   "source": [
    "## sorted"
   ]
  },
  {
   "cell_type": "code",
   "execution_count": 54,
   "id": "5f7f8c25",
   "metadata": {},
   "outputs": [
    {
     "data": {
      "text/plain": [
       "['Ramesh', 'Sathish', 'Suresh']"
      ]
     },
     "execution_count": 54,
     "metadata": {},
     "output_type": "execute_result"
    }
   ],
   "source": [
    "sorted(d1)\n",
    "#"
   ]
  },
  {
   "cell_type": "code",
   "execution_count": 55,
   "id": "45e1b441",
   "metadata": {},
   "outputs": [
    {
     "name": "stdout",
     "output_type": "stream",
     "text": [
      "Sathish\n",
      "Suresh\n",
      "Ramesh\n"
     ]
    }
   ],
   "source": [
    "d1={\"Ramesh\":20,\"Suresh\":25,\"Sathish\":30}\n",
    "for i in reversed(d1):\n",
    "    print(i)"
   ]
  },
  {
   "cell_type": "code",
   "execution_count": 56,
   "id": "428e06f7",
   "metadata": {},
   "outputs": [
    {
     "ename": "TypeError",
     "evalue": "unsupported operand type(s) for +: 'int' and 'str'",
     "output_type": "error",
     "traceback": [
      "\u001b[1;31m---------------------------------------------------------------------------\u001b[0m",
      "\u001b[1;31mTypeError\u001b[0m                                 Traceback (most recent call last)",
      "Cell \u001b[1;32mIn[56], line 2\u001b[0m\n\u001b[0;32m      1\u001b[0m d1\u001b[38;5;241m=\u001b[39m{\u001b[38;5;124m\"\u001b[39m\u001b[38;5;124mRamesh\u001b[39m\u001b[38;5;124m\"\u001b[39m:\u001b[38;5;241m20\u001b[39m,\u001b[38;5;124m\"\u001b[39m\u001b[38;5;124mSuresh\u001b[39m\u001b[38;5;124m\"\u001b[39m:\u001b[38;5;241m25\u001b[39m,\u001b[38;5;124m\"\u001b[39m\u001b[38;5;124mSathish\u001b[39m\u001b[38;5;124m\"\u001b[39m:\u001b[38;5;241m30\u001b[39m}\n\u001b[1;32m----> 2\u001b[0m \u001b[38;5;28msum\u001b[39m(d1)\n",
      "\u001b[1;31mTypeError\u001b[0m: unsupported operand type(s) for +: 'int' and 'str'"
     ]
    }
   ],
   "source": [
    "d1={\"Ramesh\":20,\"Suresh\":25,\"Sathish\":30}\n",
    "sum(d1)"
   ]
  },
  {
   "cell_type": "markdown",
   "id": "0860ad88",
   "metadata": {},
   "source": [
    "## reversed"
   ]
  },
  {
   "cell_type": "code",
   "execution_count": 57,
   "id": "e9ede378",
   "metadata": {},
   "outputs": [
    {
     "data": {
      "text/plain": [
       "75"
      ]
     },
     "execution_count": 57,
     "metadata": {},
     "output_type": "execute_result"
    }
   ],
   "source": [
    "d2={20:\"Ramesh\",25:\"Sathish\",30:\"Sathish\"}\n",
    "sum(d2)"
   ]
  },
  {
   "cell_type": "code",
   "execution_count": 58,
   "id": "1624312e",
   "metadata": {},
   "outputs": [],
   "source": [
    "l1=['Ramesh','Suresh','Sathish']\n",
    "l2=[20,25,30]"
   ]
  },
  {
   "cell_type": "code",
   "execution_count": 59,
   "id": "9b789146",
   "metadata": {},
   "outputs": [
    {
     "ename": "TypeError",
     "evalue": "unsupported operand type(s) for +: 'int' and 'str'",
     "output_type": "error",
     "traceback": [
      "\u001b[1;31m---------------------------------------------------------------------------\u001b[0m",
      "\u001b[1;31mTypeError\u001b[0m                                 Traceback (most recent call last)",
      "Cell \u001b[1;32mIn[59], line 2\u001b[0m\n\u001b[0;32m      1\u001b[0m \u001b[38;5;28msum\u001b[39m(l2) \u001b[38;5;66;03m# fail\u001b[39;00m\n\u001b[1;32m----> 2\u001b[0m \u001b[38;5;28msum\u001b[39m(l1)\n",
      "\u001b[1;31mTypeError\u001b[0m: unsupported operand type(s) for +: 'int' and 'str'"
     ]
    }
   ],
   "source": [
    "sum(l2) # fail\n",
    "sum(l1) "
   ]
  },
  {
   "cell_type": "code",
   "execution_count": 60,
   "id": "ac5706b2",
   "metadata": {},
   "outputs": [
    {
     "ename": "TypeError",
     "evalue": "unsupported operand type(s) for +: 'int' and 'str'",
     "output_type": "error",
     "traceback": [
      "\u001b[1;31m---------------------------------------------------------------------------\u001b[0m",
      "\u001b[1;31mTypeError\u001b[0m                                 Traceback (most recent call last)",
      "Cell \u001b[1;32mIn[60], line 2\u001b[0m\n\u001b[0;32m      1\u001b[0m d1\u001b[38;5;241m=\u001b[39m{\u001b[38;5;124m\"\u001b[39m\u001b[38;5;124mRamesh\u001b[39m\u001b[38;5;124m\"\u001b[39m:\u001b[38;5;241m20\u001b[39m,\u001b[38;5;124m\"\u001b[39m\u001b[38;5;124mSuresh\u001b[39m\u001b[38;5;124m\"\u001b[39m:\u001b[38;5;241m25\u001b[39m,\u001b[38;5;124m\"\u001b[39m\u001b[38;5;124mSathish\u001b[39m\u001b[38;5;124m\"\u001b[39m:\u001b[38;5;241m30\u001b[39m}\n\u001b[1;32m----> 2\u001b[0m \u001b[38;5;28msum\u001b[39m(d1) \u001b[38;5;66;03m# Error\u001b[39;00m\n\u001b[0;32m      3\u001b[0m \u001b[38;5;28mmax\u001b[39m(d1) \u001b[38;5;66;03m# Sure\u001b[39;00m\n\u001b[0;32m      4\u001b[0m \u001b[38;5;28mmin\u001b[39m(d1) \u001b[38;5;66;03m# Rame\u001b[39;00m\n",
      "\u001b[1;31mTypeError\u001b[0m: unsupported operand type(s) for +: 'int' and 'str'"
     ]
    }
   ],
   "source": [
    "d1={\"Ramesh\":20,\"Suresh\":25,\"Sathish\":30}\n",
    "sum(d1) # Error\n",
    "max(d1) # Sure\n",
    "min(d1) # Rame\n",
    "len(d1) # 3"
   ]
  },
  {
   "cell_type": "code",
   "execution_count": null,
   "id": "a31ecde9",
   "metadata": {},
   "outputs": [],
   "source": []
  },
  {
   "cell_type": "code",
   "execution_count": 61,
   "id": "66a3d1a9",
   "metadata": {},
   "outputs": [],
   "source": [
    "###########################  day 2 (13/02/24)    ##########################"
   ]
  },
  {
   "cell_type": "markdown",
   "id": "dae14e70",
   "metadata": {},
   "source": [
    "- How to read\n",
    "\n",
    "- Different waays to read\n",
    "\n",
    "- type / min / max / len / sum / sorted / reversed"
   ]
  },
  {
   "cell_type": "markdown",
   "id": "5a4518a5",
   "metadata": {},
   "source": [
    "$concatination$"
   ]
  },
  {
   "cell_type": "code",
   "execution_count": 62,
   "id": "00993659",
   "metadata": {},
   "outputs": [
    {
     "ename": "TypeError",
     "evalue": "unsupported operand type(s) for +: 'dict' and 'dict'",
     "output_type": "error",
     "traceback": [
      "\u001b[1;31m---------------------------------------------------------------------------\u001b[0m",
      "\u001b[1;31mTypeError\u001b[0m                                 Traceback (most recent call last)",
      "Cell \u001b[1;32mIn[62], line 3\u001b[0m\n\u001b[0;32m      1\u001b[0m d1\u001b[38;5;241m=\u001b[39m{\u001b[38;5;124m\"\u001b[39m\u001b[38;5;124mRamesh\u001b[39m\u001b[38;5;124m\"\u001b[39m:\u001b[38;5;241m20\u001b[39m}\n\u001b[0;32m      2\u001b[0m d2\u001b[38;5;241m=\u001b[39m{\u001b[38;5;124m\"\u001b[39m\u001b[38;5;124mSuresh\u001b[39m\u001b[38;5;124m\"\u001b[39m:\u001b[38;5;241m30\u001b[39m}     \u001b[38;5;66;03m# concatination it not required it not works in dictionary\u001b[39;00m\n\u001b[1;32m----> 3\u001b[0m d1\u001b[38;5;241m+\u001b[39md2\n",
      "\u001b[1;31mTypeError\u001b[0m: unsupported operand type(s) for +: 'dict' and 'dict'"
     ]
    }
   ],
   "source": [
    "d1={\"Ramesh\":20}\n",
    "d2={\"Suresh\":30}     # concatination it not required it not works in dictionary\n",
    "d1+d2"
   ]
  },
  {
   "cell_type": "code",
   "execution_count": 63,
   "id": "10f14b12",
   "metadata": {},
   "outputs": [
    {
     "ename": "TypeError",
     "evalue": "unsupported operand type(s) for *: 'dict' and 'int'",
     "output_type": "error",
     "traceback": [
      "\u001b[1;31m---------------------------------------------------------------------------\u001b[0m",
      "\u001b[1;31mTypeError\u001b[0m                                 Traceback (most recent call last)",
      "Cell \u001b[1;32mIn[63], line 1\u001b[0m\n\u001b[1;32m----> 1\u001b[0m d1\u001b[38;5;241m*\u001b[39m\u001b[38;5;241m2\u001b[39m\n",
      "\u001b[1;31mTypeError\u001b[0m: unsupported operand type(s) for *: 'dict' and 'int'"
     ]
    }
   ],
   "source": [
    "d1*2  # d1+d2"
   ]
  },
  {
   "cell_type": "markdown",
   "id": "9a21b6ef",
   "metadata": {},
   "source": [
    "$in$"
   ]
  },
  {
   "cell_type": "code",
   "execution_count": 64,
   "id": "944b6db0",
   "metadata": {},
   "outputs": [
    {
     "data": {
      "text/plain": [
       "False"
      ]
     },
     "execution_count": 64,
     "metadata": {},
     "output_type": "execute_result"
    }
   ],
   "source": [
    "d1={\"Ramesh\":20,\"Suresh\":25,\"Sathish\":30}\n",
    "'Ramesh' in d1   # True\n",
    "20 in d1     #false\n",
    "\n",
    "# keys are importent\n",
    "\n",
    "#'Ramesh' in d1  # True\n",
    "#20 in d1      # false"
   ]
  },
  {
   "cell_type": "code",
   "execution_count": 65,
   "id": "4c3dea79",
   "metadata": {},
   "outputs": [
    {
     "name": "stdout",
     "output_type": "stream",
     "text": [
      "Ramesh\n",
      "Suresh\n",
      "Sathish\n"
     ]
    }
   ],
   "source": [
    "for i in d1:\n",
    "    print(i)"
   ]
  },
  {
   "cell_type": "markdown",
   "id": "2882d463",
   "metadata": {},
   "source": [
    "$index$"
   ]
  },
  {
   "cell_type": "code",
   "execution_count": 66,
   "id": "e481ea1c",
   "metadata": {},
   "outputs": [
    {
     "name": "stdout",
     "output_type": "stream",
     "text": [
      "Ramesh\n",
      "Suresh\n",
      "Sathish\n"
     ]
    }
   ],
   "source": [
    "d1={\"Ramesh\":20,\"Suresh\":25,\"Sathish\":30}\n",
    "# Normal index will not work in doctionary \n",
    "# d1[0]  #Error\n",
    "\n",
    "# if you want retrive the value , by using key we can get\n",
    "d1['Ramesh']          # keys are imp numbers autoomatically willl come\n",
    "d1['Suresh']\n",
    "d1['Sathish']\n",
    "\n",
    "d1[i]\n",
    "\n",
    "for i in d1:\n",
    "    print(i)\n",
    "                                             "
   ]
  },
  {
   "cell_type": "code",
   "execution_count": 67,
   "id": "1160800b",
   "metadata": {},
   "outputs": [
    {
     "data": {
      "text/plain": [
       "20"
      ]
     },
     "execution_count": 67,
     "metadata": {},
     "output_type": "execute_result"
    }
   ],
   "source": [
    "d1={\"Ramesh\":20,\"Suresh\":25,\"Sathish\":30}\n",
    "d1['Ramesh']"
   ]
  },
  {
   "cell_type": "code",
   "execution_count": 68,
   "id": "aeff1dd8",
   "metadata": {},
   "outputs": [
    {
     "data": {
      "text/plain": [
       "25"
      ]
     },
     "execution_count": 68,
     "metadata": {},
     "output_type": "execute_result"
    }
   ],
   "source": [
    "d1['Suresh']"
   ]
  },
  {
   "cell_type": "code",
   "execution_count": 69,
   "id": "5874eb49",
   "metadata": {},
   "outputs": [
    {
     "data": {
      "text/plain": [
       "30"
      ]
     },
     "execution_count": 69,
     "metadata": {},
     "output_type": "execute_result"
    }
   ],
   "source": [
    "d1['Sathish']"
   ]
  },
  {
   "cell_type": "markdown",
   "id": "1ddd29cb",
   "metadata": {},
   "source": [
    "#### imp"
   ]
  },
  {
   "cell_type": "code",
   "execution_count": 70,
   "id": "655dc899",
   "metadata": {},
   "outputs": [
    {
     "name": "stdout",
     "output_type": "stream",
     "text": [
      "Ramesh age is 20\n",
      "Suresh age is 25\n",
      "Sathhish age is 30\n"
     ]
    }
   ],
   "source": [
    "names=['Ramesh','Suresh','Sathhish']\n",
    "age=[20,25,30]\n",
    "\n",
    "for i,j in zip(names,age):\n",
    "    print(f\"{i} age is {j}\")"
   ]
  },
  {
   "cell_type": "markdown",
   "id": "d08736c4",
   "metadata": {},
   "source": [
    "### imp"
   ]
  },
  {
   "cell_type": "code",
   "execution_count": 71,
   "id": "8edba5f2",
   "metadata": {},
   "outputs": [
    {
     "name": "stdout",
     "output_type": "stream",
     "text": [
      "Ramesh age is 20\n",
      "Suresh age is 25\n",
      "Sathish age is 30\n"
     ]
    }
   ],
   "source": [
    "names=['Ramesh','Suresh','Sathhish']\n",
    "for i in d1:\n",
    "    print(f\"{i} age is {d1[i]}\")"
   ]
  },
  {
   "cell_type": "code",
   "execution_count": null,
   "id": "505f5b1f",
   "metadata": {},
   "outputs": [],
   "source": []
  },
  {
   "cell_type": "code",
   "execution_count": 72,
   "id": "853aa774",
   "metadata": {},
   "outputs": [
    {
     "name": "stdout",
     "output_type": "stream",
     "text": [
      "Ramesh\n",
      "Suresh\n",
      "Sathish\n",
      "Ramesh 20\n",
      "Suresh 25\n",
      "Sathish 30\n"
     ]
    }
   ],
   "source": [
    "##################################################################\n",
    "d1={\"Ramesh\":20,\"Suresh\":25,\"Sathish\":30}\n",
    "\n",
    "for i in d1:\n",
    "    print(i)     # onlly keys\n",
    "    \n",
    "#########################################\n",
    "\n",
    "for i in d1:\n",
    "    print(i,d1[i])      # keys and values\n",
    "\n",
    "    \n",
    "##########################################"
   ]
  },
  {
   "cell_type": "code",
   "execution_count": 73,
   "id": "6438e3ea",
   "metadata": {},
   "outputs": [],
   "source": [
    "# if some one give you empty list or str or dictional use likke this"
   ]
  },
  {
   "cell_type": "code",
   "execution_count": 74,
   "id": "60d6dff2",
   "metadata": {},
   "outputs": [
    {
     "data": {
      "text/plain": [
       "'abc'"
      ]
     },
     "execution_count": 74,
     "metadata": {},
     "output_type": "execute_result"
    }
   ],
   "source": [
    "d1,l1,s1={},[],''\n",
    "s1=s1+'a'\n",
    "s1=s1+'b'\n",
    "s1=s1+'c'\n",
    "s1"
   ]
  },
  {
   "cell_type": "code",
   "execution_count": 75,
   "id": "23ca4853",
   "metadata": {},
   "outputs": [
    {
     "data": {
      "text/plain": [
       "[10, 20]"
      ]
     },
     "execution_count": 75,
     "metadata": {},
     "output_type": "execute_result"
    }
   ],
   "source": [
    "l1=[]\n",
    "l1.append(10)\n",
    "l1.append(20)\n",
    "l1"
   ]
  },
  {
   "cell_type": "code",
   "execution_count": 76,
   "id": "4cab285b",
   "metadata": {},
   "outputs": [
    {
     "data": {
      "text/plain": [
       "{'even': [20, 30, 40], 'odd': [31, 33]}"
      ]
     },
     "execution_count": 76,
     "metadata": {},
     "output_type": "execute_result"
    }
   ],
   "source": [
    "d1={}\n",
    "d1['even']=[20,30,40]\n",
    "d1['odd']=[31,33]\n",
    "d1"
   ]
  },
  {
   "cell_type": "code",
   "execution_count": 77,
   "id": "a403ccf7",
   "metadata": {},
   "outputs": [
    {
     "name": "stdout",
     "output_type": "stream",
     "text": [
      "enter the name:\n",
      "enter the city:\n",
      "enter the age\n"
     ]
    },
    {
     "ename": "SyntaxError",
     "evalue": "invalid syntax (<string>, line 0)",
     "output_type": "error",
     "traceback": [
      "Traceback \u001b[1;36m(most recent call last)\u001b[0m:\n",
      "\u001b[0m  File \u001b[0;32m~\\anaconda3\\Lib\\site-packages\\IPython\\core\\interactiveshell.py:3526\u001b[0m in \u001b[0;35mrun_code\u001b[0m\n    exec(code_obj, self.user_global_ns, self.user_ns)\u001b[0m\n",
      "\u001b[1;36m  Cell \u001b[1;32mIn[77], line 4\u001b[1;36m\n\u001b[1;33m    age=eval(input(\"enter the age\"))\u001b[1;36m\n",
      "\u001b[1;36m  File \u001b[1;32m<string>\u001b[1;36m\u001b[0m\n\u001b[1;33m    \u001b[0m\n\u001b[1;37m    ^\u001b[0m\n\u001b[1;31mSyntaxError\u001b[0m\u001b[1;31m:\u001b[0m invalid syntax\n"
     ]
    }
   ],
   "source": [
    "d1={}\n",
    "name=input(\"enter the name:\")\n",
    "city=input(\"enter the city:\")\n",
    "age=eval(input(\"enter the age\"))\n",
    "d1['NAME']=name\n",
    "d1['CITY']=city\n",
    "d1['AGE']=age\n",
    "d1"
   ]
  },
  {
   "cell_type": "code",
   "execution_count": null,
   "id": "0c03dcbe",
   "metadata": {},
   "outputs": [],
   "source": [
    "d1={}\n",
    "d1"
   ]
  },
  {
   "cell_type": "code",
   "execution_count": null,
   "id": "7f220607",
   "metadata": {},
   "outputs": [],
   "source": [
    "l1=[]\n",
    "l1"
   ]
  },
  {
   "cell_type": "code",
   "execution_count": null,
   "id": "1e4ece23",
   "metadata": {},
   "outputs": [],
   "source": [
    "s1=''\n",
    "s1"
   ]
  },
  {
   "cell_type": "markdown",
   "id": "c5260963",
   "metadata": {},
   "source": [
    "- values are mutable\n",
    "\n",
    "- keys are immutable"
   ]
  },
  {
   "cell_type": "code",
   "execution_count": null,
   "id": "235c1f03",
   "metadata": {},
   "outputs": [],
   "source": [
    "# wap ask the user generate 10 random numbers\n",
    "#Find the even number and odd number\n",
    "# output\n",
    "# {'Even':[20,30,40],'Odd':[35,45]}\n",
    "# step-1: import random\n",
    "# step-2: even_list,odd_list=[],[]\n",
    "# step-3: for loop 10 times\n",
    "# step-4: num=generate random number 10,100\n",
    "# step-5: if <condition>:\n",
    "# step-6: append the values in eve\n",
    "# step-7: else:\n",
    "# step-8: append the values in odd list\n",
    "# step-9: create the dictionary"
   ]
  },
  {
   "cell_type": "code",
   "execution_count": null,
   "id": "1fddbdda",
   "metadata": {},
   "outputs": [],
   "source": [
    "import random\n",
    "even_list,odd_list,d1=[],[],{}\n",
    "for i in range(10):\n",
    "    num=random.randint(10,100)\n",
    "    if num%2==0:\n",
    "        even_list.append(num)\n",
    "    else:\n",
    "        odd_list.append(num)\n",
    "\n",
    "d1['Even']=even_list\n",
    "d1['Odd']=odd_list\n",
    "d1\n",
    "\n",
    "    "
   ]
  },
  {
   "cell_type": "code",
   "execution_count": null,
   "id": "accad7cf",
   "metadata": {},
   "outputs": [],
   "source": [
    "# word frequency\n",
    "s1='hello how how are you, hello how im good, hello how what are you doing'\n",
    "# {'hello':3,'how':4,......}\n",
    "# split the data\n",
    "l1=s1.split() # list of words\n",
    "l2=[]\n",
    "d1={}\n",
    "for i in l1: # iterator through list\n",
    "    if i not in l2:\n",
    "        d1[i]=l1.count(i) # key=i value= l1.count(i)\n",
    "        l2.append(i)\n",
    "d1"
   ]
  },
  {
   "cell_type": "code",
   "execution_count": null,
   "id": "3046698e",
   "metadata": {},
   "outputs": [],
   "source": [
    "s3='hi hi hi hi how are you  you are very beauty bye bye hi hi'\n",
    "# count each str how many times repeated\n",
    "l3=s3.split()\n",
    "l4=[]\n",
    "d2={}\n",
    "for i in l3:\n",
    "    if i not in l4:\n",
    "        d2[i]=l3.count(i)\n",
    "        l4.append(i)\n",
    "d2        "
   ]
  },
  {
   "cell_type": "code",
   "execution_count": null,
   "id": "ff85e9b0",
   "metadata": {},
   "outputs": [],
   "source": [
    "d1={}\n",
    "d1['hello']=3\n",
    "d1[i]=l4.count(i)\n",
    "d1"
   ]
  },
  {
   "cell_type": "code",
   "execution_count": null,
   "id": "559f08b5",
   "metadata": {},
   "outputs": [],
   "source": [
    "====================================================================================================="
   ]
  },
  {
   "cell_type": "code",
   "execution_count": 119,
   "id": "d62f870c",
   "metadata": {},
   "outputs": [
    {
     "data": {
      "text/plain": [
       "('Apple', 'Banana')"
      ]
     },
     "execution_count": 119,
     "metadata": {},
     "output_type": "execute_result"
    }
   ],
   "source": [
    "d1={'Fruits':['Apple','Banana']}\n",
    "# retrive banana\n",
    "d1['Fruits'][0],d1['Fruits'][1]"
   ]
  },
  {
   "cell_type": "code",
   "execution_count": 120,
   "id": "c856d5f7",
   "metadata": {},
   "outputs": [
    {
     "data": {
      "text/plain": [
       "20"
      ]
     },
     "execution_count": 120,
     "metadata": {},
     "output_type": "execute_result"
    }
   ],
   "source": [
    "d1={'Fruites':[{'Apple':50},{'Banana':20}]}\n",
    "d1['Fruites']  # list\n",
    "d1['Fruites'][1] # dict\n",
    "d1['Fruites'][1]['Banana']"
   ]
  },
  {
   "cell_type": "code",
   "execution_count": 121,
   "id": "862801d8",
   "metadata": {},
   "outputs": [
    {
     "data": {
      "text/plain": [
       "300"
      ]
     },
     "execution_count": 121,
     "metadata": {},
     "output_type": "execute_result"
    }
   ],
   "source": [
    "d1={'Fruites':[{'Apple':[50,150,300]},{'Banana':20}]}\n",
    "d1['Fruites'][0]['Apple'][2]\n"
   ]
  },
  {
   "cell_type": "code",
   "execution_count": 122,
   "id": "9385c679",
   "metadata": {},
   "outputs": [],
   "source": [
    "d1={'Fruites':[\n",
    "    {'Apple':[50,150,300]},\n",
    "    {'Banana':20},\n",
    "    {'cherry':[400,599,299]}\n",
    "   ]\n",
    "    }\n",
    "d1['Fruites']"
   ]
  },
  {
   "cell_type": "code",
   "execution_count": 111,
   "id": "fbd705b9",
   "metadata": {},
   "outputs": [],
   "source": [
    "d1 = {\n",
    "    'Fruites': [\n",
    "        {'Apple': [50, 150, 300]},\n",
    "        {'Banana': 20},\n",
    "        {'cherry': [400, 599, 299]}\n",
    "    ]\n",
    "}"
   ]
  },
  {
   "cell_type": "code",
   "execution_count": null,
   "id": "239ce13b",
   "metadata": {},
   "outputs": [],
   "source": [
    "d1={'Fruites':\n",
    "[{'Apple':[{50:'Normal',\n",
    "150:'Average',\n",
    "300:'Good'}]},\n",
    "{'Banana':20}]}\n",
    "d1['Fruites'][0]['Apple'][0][150]"
   ]
  },
  {
   "cell_type": "code",
   "execution_count": 78,
   "id": "ecc605e5",
   "metadata": {},
   "outputs": [
    {
     "data": {
      "text/plain": [
       "400"
      ]
     },
     "execution_count": 78,
     "metadata": {},
     "output_type": "execute_result"
    }
   ],
   "source": [
    "d1={'Fruites':\n",
    "[{'Apple':[{50:\n",
    "            [\n",
    "                 {'Normal':[100,300,400]\n",
    "                 }\n",
    "            ]\n",
    "           }\n",
    "          ]\n",
    "     }\n",
    "    ]\n",
    "   }\n",
    "len(d1['Fruites'])\n",
    "len(d1['Fruites'][0])\n",
    "len(d1['Fruites'][0]['Apple'])\n",
    "len(d1['Fruites'][0]['Apple'][0])\n",
    "d1['Fruites'][0]['Apple'][0][50][0]['Normal'][2]"
   ]
  },
  {
   "cell_type": "code",
   "execution_count": 79,
   "id": "d19d9183",
   "metadata": {},
   "outputs": [
    {
     "data": {
      "text/plain": [
       "1"
      ]
     },
     "execution_count": 79,
     "metadata": {},
     "output_type": "execute_result"
    }
   ],
   "source": [
    "len(d1)"
   ]
  },
  {
   "cell_type": "code",
   "execution_count": 80,
   "id": "245b52c9",
   "metadata": {},
   "outputs": [
    {
     "data": {
      "text/plain": [
       "[{50: [{'Normal': [100, 300, 400]}]}]"
      ]
     },
     "execution_count": 80,
     "metadata": {},
     "output_type": "execute_result"
    }
   ],
   "source": [
    "len(d1['Fruites']) # 1 ele in list index=0\n",
    "len(d1['Fruites'][0])\n",
    "d1['Fruites'][0]['Apple']"
   ]
  },
  {
   "cell_type": "markdown",
   "id": "52ade178",
   "metadata": {},
   "source": [
    "$Methouds$"
   ]
  },
  {
   "cell_type": "code",
   "execution_count": 81,
   "id": "6fdc715b",
   "metadata": {},
   "outputs": [
    {
     "ename": "NameError",
     "evalue": "name 'dictionaary' is not defined",
     "output_type": "error",
     "traceback": [
      "\u001b[1;31m---------------------------------------------------------------------------\u001b[0m",
      "\u001b[1;31mNameError\u001b[0m                                 Traceback (most recent call last)",
      "Cell \u001b[1;32mIn[81], line 1\u001b[0m\n\u001b[1;32m----> 1\u001b[0m \u001b[38;5;28mdir\u001b[39m({}) \u001b[38;5;241m==\u001b[39mdictionaary, \n\u001b[0;32m      2\u001b[0m \u001b[38;5;28mdir\u001b[39m([])\u001b[38;5;241m==\u001b[39m \u001b[38;5;28mlist\u001b[39m\n\u001b[0;32m      3\u001b[0m \u001b[38;5;28mdir\u001b[39m(\u001b[38;5;124m'\u001b[39m\u001b[38;5;124m'\u001b[39m) \u001b[38;5;241m==\u001b[39m string\n",
      "\u001b[1;31mNameError\u001b[0m: name 'dictionaary' is not defined"
     ]
    }
   ],
   "source": [
    "dir({}) ==dictionaary, \n",
    "dir([])== list\n",
    "dir('') == string\n",
    "dir(()) == tuple"
   ]
  },
  {
   "cell_type": "code",
   "execution_count": null,
   "id": "38e412a6",
   "metadata": {},
   "outputs": [],
   "source": [
    "dir({})     # dictionry"
   ]
  },
  {
   "cell_type": "code",
   "execution_count": 82,
   "id": "6f11438c",
   "metadata": {},
   "outputs": [
    {
     "ename": "IndentationError",
     "evalue": "unexpected indent (641659715.py, line 2)",
     "output_type": "error",
     "traceback": [
      "\u001b[1;36m  Cell \u001b[1;32mIn[82], line 2\u001b[1;36m\u001b[0m\n\u001b[1;33m    'copy',\u001b[0m\n\u001b[1;37m    ^\u001b[0m\n\u001b[1;31mIndentationError\u001b[0m\u001b[1;31m:\u001b[0m unexpected indent\n"
     ]
    }
   ],
   "source": [
    "'clear',\n",
    " 'copy',\n",
    " 'fromkeys',\n",
    " 'get',\n",
    " 'items',\n",
    " 'keys',\n",
    " 'pop',\n",
    " 'popitem',\n",
    " 'setdefault',\n",
    " 'update',\n",
    " 'values']\n",
    "​"
   ]
  },
  {
   "cell_type": "markdown",
   "id": "2fa2f566",
   "metadata": {},
   "source": [
    "$keys-values-items$"
   ]
  },
  {
   "cell_type": "code",
   "execution_count": 83,
   "id": "ae5184d7",
   "metadata": {},
   "outputs": [
    {
     "data": {
      "text/plain": [
       "{'Ramesh': 20, 'Suresh': 25, 'Santhish': 30}"
      ]
     },
     "execution_count": 83,
     "metadata": {},
     "output_type": "execute_result"
    }
   ],
   "source": [
    "d1={'Ramesh':20,'Suresh':25,'Santhish':30}\n",
    "d1"
   ]
  },
  {
   "cell_type": "code",
   "execution_count": 84,
   "id": "7b7bdb33",
   "metadata": {},
   "outputs": [
    {
     "data": {
      "text/plain": [
       "dict_keys(['Ramesh', 'Suresh', 'Santhish'])"
      ]
     },
     "execution_count": 84,
     "metadata": {},
     "output_type": "execute_result"
    }
   ],
   "source": [
    "d1.keys()"
   ]
  },
  {
   "cell_type": "code",
   "execution_count": 85,
   "id": "9910a884",
   "metadata": {},
   "outputs": [
    {
     "data": {
      "text/plain": [
       "dict_values([20, 25, 30])"
      ]
     },
     "execution_count": 85,
     "metadata": {},
     "output_type": "execute_result"
    }
   ],
   "source": [
    "d1.values()"
   ]
  },
  {
   "cell_type": "code",
   "execution_count": 86,
   "id": "be833e90",
   "metadata": {},
   "outputs": [
    {
     "data": {
      "text/plain": [
       "dict_items([('Ramesh', 20), ('Suresh', 25), ('Santhish', 30)])"
      ]
     },
     "execution_count": 86,
     "metadata": {},
     "output_type": "execute_result"
    }
   ],
   "source": [
    "d1.items()"
   ]
  },
  {
   "cell_type": "code",
   "execution_count": 87,
   "id": "ac066c9a",
   "metadata": {},
   "outputs": [
    {
     "data": {
      "text/plain": [
       "dict_keys"
      ]
     },
     "execution_count": 87,
     "metadata": {},
     "output_type": "execute_result"
    }
   ],
   "source": [
    "d1.keys() # to check the type of output\n",
    "type (d1.keys()) # dict_keys\n",
    "# so convert dict_keys type to list type"
   ]
  },
  {
   "cell_type": "code",
   "execution_count": 88,
   "id": "5f7dac45",
   "metadata": {},
   "outputs": [
    {
     "data": {
      "text/plain": [
       "['Ramesh', 'Suresh', 'Santhish']"
      ]
     },
     "execution_count": 88,
     "metadata": {},
     "output_type": "execute_result"
    }
   ],
   "source": [
    "list(d1.keys())"
   ]
  },
  {
   "cell_type": "code",
   "execution_count": 89,
   "id": "a51eedb6",
   "metadata": {},
   "outputs": [
    {
     "data": {
      "text/plain": [
       "'Ramesh'"
      ]
     },
     "execution_count": 89,
     "metadata": {},
     "output_type": "execute_result"
    }
   ],
   "source": [
    "list(d1.keys())[0]"
   ]
  },
  {
   "cell_type": "code",
   "execution_count": 90,
   "id": "5f7c239c",
   "metadata": {},
   "outputs": [
    {
     "data": {
      "text/plain": [
       "'ramesh'"
      ]
     },
     "execution_count": 90,
     "metadata": {},
     "output_type": "execute_result"
    }
   ],
   "source": [
    "list(d1.keys())[0].lower()"
   ]
  },
  {
   "cell_type": "markdown",
   "id": "ed02efe5",
   "metadata": {},
   "source": [
    "- clear\n",
    "- copy \n",
    "- get\n",
    "- pop\n",
    "- popitem"
   ]
  },
  {
   "cell_type": "markdown",
   "id": "e0cad551",
   "metadata": {},
   "source": [
    "$clear()$"
   ]
  },
  {
   "cell_type": "code",
   "execution_count": 91,
   "id": "8fe1c001",
   "metadata": {},
   "outputs": [],
   "source": [
    "d1={'Ramesh':20,'Suresh':25,'Santhish':30}\n"
   ]
  },
  {
   "cell_type": "code",
   "execution_count": 92,
   "id": "f98b25d9",
   "metadata": {},
   "outputs": [
    {
     "data": {
      "text/plain": [
       "{}"
      ]
     },
     "execution_count": 92,
     "metadata": {},
     "output_type": "execute_result"
    }
   ],
   "source": [
    "d1.clear()\n",
    "d1"
   ]
  },
  {
   "cell_type": "markdown",
   "id": "a99ff3fa",
   "metadata": {},
   "source": [
    "$copy()$"
   ]
  },
  {
   "cell_type": "code",
   "execution_count": 93,
   "id": "a7de5f5a",
   "metadata": {},
   "outputs": [
    {
     "data": {
      "text/plain": [
       "{'Ramesh': 20, 'Suresh': 25, 'Santhish': 30}"
      ]
     },
     "execution_count": 93,
     "metadata": {},
     "output_type": "execute_result"
    }
   ],
   "source": [
    "d1={'Ramesh':20,'Suresh':25,'Santhish':30}\n",
    "d2=d1.copy()\n",
    "d2"
   ]
  },
  {
   "cell_type": "markdown",
   "id": "2405976a",
   "metadata": {},
   "source": [
    "$dict.keys()$"
   ]
  },
  {
   "cell_type": "code",
   "execution_count": 94,
   "id": "db24a128",
   "metadata": {},
   "outputs": [
    {
     "data": {
      "text/plain": [
       "dict_keys(['Ramesh', 'Suresh', 'Santhish'])"
      ]
     },
     "execution_count": 94,
     "metadata": {},
     "output_type": "execute_result"
    }
   ],
   "source": [
    "d1={'Ramesh':20,'Suresh':25,'Santhish':30}\n",
    "d3=0\n",
    "d1=dict.keys(d1)\n",
    "d1"
   ]
  },
  {
   "cell_type": "markdown",
   "id": "80211497",
   "metadata": {},
   "source": [
    "$get()$"
   ]
  },
  {
   "cell_type": "code",
   "execution_count": 95,
   "id": "9a35543a",
   "metadata": {},
   "outputs": [
    {
     "data": {
      "text/plain": [
       "'Ramesh'"
      ]
     },
     "execution_count": 95,
     "metadata": {},
     "output_type": "execute_result"
    }
   ],
   "source": [
    "d1={'name': 'Ramesh','age':25}\n",
    "d2=d1.get('name')\n",
    "d2"
   ]
  },
  {
   "cell_type": "markdown",
   "id": "35f70892",
   "metadata": {},
   "source": [
    "$items()$"
   ]
  },
  {
   "cell_type": "code",
   "execution_count": 96,
   "id": "f63809e0",
   "metadata": {},
   "outputs": [
    {
     "data": {
      "text/plain": [
       "dict_items([('name', 'Ramesh'), ('age', 25)])"
      ]
     },
     "execution_count": 96,
     "metadata": {},
     "output_type": "execute_result"
    }
   ],
   "source": [
    "d1={'name': 'Ramesh','age':25}\n",
    "d2=d1.items()\n",
    "d2"
   ]
  },
  {
   "cell_type": "markdown",
   "id": "1d4ac573",
   "metadata": {},
   "source": [
    "$keys()$"
   ]
  },
  {
   "cell_type": "code",
   "execution_count": 97,
   "id": "ed8edb21",
   "metadata": {},
   "outputs": [
    {
     "data": {
      "text/plain": [
       "dict_keys(['name', 'age'])"
      ]
     },
     "execution_count": 97,
     "metadata": {},
     "output_type": "execute_result"
    }
   ],
   "source": [
    "d1={'name': 'Ramesh','age':25}\n",
    "d2=d1.keys()\n",
    "d2"
   ]
  },
  {
   "cell_type": "markdown",
   "id": "ea3a0d61",
   "metadata": {},
   "source": [
    "$values()$"
   ]
  },
  {
   "cell_type": "code",
   "execution_count": 98,
   "id": "aa9fef31",
   "metadata": {},
   "outputs": [
    {
     "data": {
      "text/plain": [
       "dict_values(['Ramesh', 25])"
      ]
     },
     "execution_count": 98,
     "metadata": {},
     "output_type": "execute_result"
    }
   ],
   "source": [
    "d1={'name': 'Ramesh','age':25}\n",
    "d2=d1.values()                     # values using thius methoud for print values only not keys\n",
    "d2"
   ]
  },
  {
   "cell_type": "markdown",
   "id": "f65e1038",
   "metadata": {},
   "source": [
    "$pop()$"
   ]
  },
  {
   "cell_type": "code",
   "execution_count": 99,
   "id": "ce0ab3e6",
   "metadata": {},
   "outputs": [
    {
     "data": {
      "text/plain": [
       "'Ramesh'"
      ]
     },
     "execution_count": 99,
     "metadata": {},
     "output_type": "execute_result"
    }
   ],
   "source": [
    "d1={'name': 'Ramesh','age':25}\n",
    "d2=d1.pop('name')                  # it takes any keys nd prints value\n",
    "d2"
   ]
  },
  {
   "cell_type": "code",
   "execution_count": 100,
   "id": "8bb54f33",
   "metadata": {},
   "outputs": [
    {
     "data": {
      "text/plain": [
       "25"
      ]
     },
     "execution_count": 100,
     "metadata": {},
     "output_type": "execute_result"
    }
   ],
   "source": [
    "d1={'name': 'Ramesh','age':25}\n",
    "d2=d1.pop('age')                  # it takes any keys and print\n",
    "d2"
   ]
  },
  {
   "cell_type": "markdown",
   "id": "80978ea6",
   "metadata": {},
   "source": [
    "$popitem()$"
   ]
  },
  {
   "cell_type": "code",
   "execution_count": 101,
   "id": "7f7d799b",
   "metadata": {},
   "outputs": [
    {
     "data": {
      "text/plain": [
       "('age', 25)"
      ]
     },
     "execution_count": 101,
     "metadata": {},
     "output_type": "execute_result"
    }
   ],
   "source": [
    "d1={'name': 'Ramesh','age':25}\n",
    "d2=d1.popitem()                  # it prints last key and value only\n",
    "d2"
   ]
  },
  {
   "cell_type": "markdown",
   "id": "36c257e8",
   "metadata": {},
   "source": [
    "$update()$"
   ]
  },
  {
   "cell_type": "code",
   "execution_count": 102,
   "id": "fb73b6fc",
   "metadata": {},
   "outputs": [
    {
     "data": {
      "text/plain": [
       "{'name': 'Ramesh', 'age': 25, 'fav_persons': 'Parents'}"
      ]
     },
     "execution_count": 102,
     "metadata": {},
     "output_type": "execute_result"
    }
   ],
   "source": [
    "d1={'name': 'Ramesh','age':25}\n",
    "d1.update({\"fav_persons\":\"Parents\"})      # we want to update into dict new key and value use update()\n",
    "d1"
   ]
  },
  {
   "cell_type": "code",
   "execution_count": null,
   "id": "3d828924",
   "metadata": {},
   "outputs": [],
   "source": []
  },
  {
   "cell_type": "code",
   "execution_count": 103,
   "id": "e74ed59d",
   "metadata": {},
   "outputs": [],
   "source": [
    "##################### Day3 ##############################"
   ]
  },
  {
   "cell_type": "code",
   "execution_count": 104,
   "id": "df3893e9",
   "metadata": {},
   "outputs": [
    {
     "data": {
      "text/plain": [
       "{'Suresh': 25, 'Santhish': 30}"
      ]
     },
     "execution_count": 104,
     "metadata": {},
     "output_type": "execute_result"
    }
   ],
   "source": [
    "d1={'Ramesh':20,'Suresh':25,'Santhish':30}\n",
    "d1.pop('Ramesh')                        # LIFO (kye,value)\n",
    "d1"
   ]
  },
  {
   "cell_type": "markdown",
   "id": "116fcd26",
   "metadata": {},
   "source": [
    "$get()$"
   ]
  },
  {
   "cell_type": "code",
   "execution_count": 105,
   "id": "ee230ec6",
   "metadata": {},
   "outputs": [
    {
     "data": {
      "text/plain": [
       "{'Ramesh': 20, 'Suresh': 25, 'Santhish': 30}"
      ]
     },
     "execution_count": 105,
     "metadata": {},
     "output_type": "execute_result"
    }
   ],
   "source": [
    "d1={'Ramesh':20,'Suresh':25,'Santhish':30}\n",
    "d1.get('Ramesh')                           # get the key\n",
    "d1"
   ]
  },
  {
   "cell_type": "code",
   "execution_count": 106,
   "id": "a0e8eb8a",
   "metadata": {},
   "outputs": [
    {
     "data": {
      "text/plain": [
       "20"
      ]
     },
     "execution_count": 106,
     "metadata": {},
     "output_type": "execute_result"
    }
   ],
   "source": [
    "d1['Ramesh']  # by reference as a key you get the value"
   ]
  },
  {
   "cell_type": "markdown",
   "id": "90f7408c",
   "metadata": {},
   "source": [
    "$update()$"
   ]
  },
  {
   "cell_type": "code",
   "execution_count": 107,
   "id": "c248bd3d",
   "metadata": {},
   "outputs": [
    {
     "data": {
      "text/plain": [
       "{'Ramesh', 'Suresh'}"
      ]
     },
     "execution_count": 107,
     "metadata": {},
     "output_type": "execute_result"
    }
   ],
   "source": [
    "d1={'Ramesh'}\n",
    "d2={'Suresh'}\n",
    "d1.update(d2)\n",
    "d1"
   ]
  },
  {
   "cell_type": "code",
   "execution_count": 108,
   "id": "a4ce7929",
   "metadata": {},
   "outputs": [
    {
     "data": {
      "text/plain": [
       "{'Suresh': 25, 'Ramesh': 20}"
      ]
     },
     "execution_count": 108,
     "metadata": {},
     "output_type": "execute_result"
    }
   ],
   "source": [
    "d1={'Ramesh':20}\n",
    "d2={'Suresh':25}\n",
    "d2.update(d1)\n",
    "d2"
   ]
  },
  {
   "cell_type": "code",
   "execution_count": null,
   "id": "26d5f326",
   "metadata": {},
   "outputs": [],
   "source": []
  },
  {
   "cell_type": "code",
   "execution_count": null,
   "id": "beb3eca9",
   "metadata": {},
   "outputs": [],
   "source": []
  },
  {
   "cell_type": "code",
   "execution_count": null,
   "id": "27353c8f",
   "metadata": {},
   "outputs": [],
   "source": []
  },
  {
   "cell_type": "code",
   "execution_count": null,
   "id": "a51bd463",
   "metadata": {},
   "outputs": [],
   "source": []
  },
  {
   "cell_type": "code",
   "execution_count": null,
   "id": "b59970fe",
   "metadata": {},
   "outputs": [],
   "source": []
  },
  {
   "cell_type": "code",
   "execution_count": null,
   "id": "900319d4",
   "metadata": {},
   "outputs": [],
   "source": []
  },
  {
   "cell_type": "code",
   "execution_count": null,
   "id": "4f4cce36",
   "metadata": {},
   "outputs": [],
   "source": []
  },
  {
   "cell_type": "code",
   "execution_count": null,
   "id": "814fc625",
   "metadata": {},
   "outputs": [],
   "source": []
  },
  {
   "cell_type": "code",
   "execution_count": null,
   "id": "07ecb2d9",
   "metadata": {},
   "outputs": [],
   "source": []
  },
  {
   "cell_type": "code",
   "execution_count": null,
   "id": "a9f98c97",
   "metadata": {},
   "outputs": [],
   "source": []
  },
  {
   "cell_type": "code",
   "execution_count": null,
   "id": "3fe5a00a",
   "metadata": {},
   "outputs": [],
   "source": []
  },
  {
   "cell_type": "code",
   "execution_count": null,
   "id": "09961229",
   "metadata": {},
   "outputs": [],
   "source": []
  },
  {
   "cell_type": "code",
   "execution_count": null,
   "id": "9fb42401",
   "metadata": {},
   "outputs": [],
   "source": []
  },
  {
   "cell_type": "code",
   "execution_count": null,
   "id": "a1980b06",
   "metadata": {},
   "outputs": [],
   "source": []
  },
  {
   "cell_type": "code",
   "execution_count": null,
   "id": "e61cc81b",
   "metadata": {},
   "outputs": [],
   "source": []
  },
  {
   "cell_type": "code",
   "execution_count": null,
   "id": "3b1eac42",
   "metadata": {},
   "outputs": [],
   "source": []
  },
  {
   "cell_type": "code",
   "execution_count": null,
   "id": "eac7d46f",
   "metadata": {},
   "outputs": [],
   "source": []
  },
  {
   "cell_type": "code",
   "execution_count": null,
   "id": "2b3bb0ec",
   "metadata": {},
   "outputs": [],
   "source": []
  }
 ],
 "metadata": {
  "kernelspec": {
   "display_name": "Python 3 (ipykernel)",
   "language": "python",
   "name": "python3"
  },
  "language_info": {
   "codemirror_mode": {
    "name": "ipython",
    "version": 3
   },
   "file_extension": ".py",
   "mimetype": "text/x-python",
   "name": "python",
   "nbconvert_exporter": "python",
   "pygments_lexer": "ipython3",
   "version": "3.11.5"
  }
 },
 "nbformat": 4,
 "nbformat_minor": 5
}
