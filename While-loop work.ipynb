{
 "cells": [
  {
   "cell_type": "code",
   "execution_count": 3,
   "id": "99b409e6",
   "metadata": {},
   "outputs": [
    {
     "name": "stdout",
     "output_type": "stream",
     "text": [
      "you still do not have enough money to start playing\n",
      "your current account balance is: 200\n",
      "withdraw the money from your wallet:400\n",
      "you still do not have enough money to start playing\n",
      "your current account balance is: 600\n",
      "withdraw the money from your wallet:300\n",
      "you still do not have enough money to start playing\n",
      "your current account balance is: 900\n",
      "withdraw the money from your wallet:200\n",
      "now your current account balance is: 1100\n",
      "e_wallet balance is:3900\n",
      "play the game and enjoy\n"
     ]
    }
   ],
   "source": [
    "initial_amount=200\n",
    "e_wallet=5000\n",
    "while initial_amount < 1000:\n",
    "    if initial_amount >= 1000:\n",
    "        print(\"you can start playing the game\")\n",
    "    else:\n",
    "        print(\"you still do not have enough money to start playing\")\n",
    "        print(\"your current account balance is:\",initial_amount)\n",
    "        withdraw_money=eval(input(\"withdraw the money from your wallet:\"))\n",
    "        current_wallet=e_wallet-withdraw_money\n",
    "        initial_amount=initial_amount+withdraw_money\n",
    "        current_ewallet_balance=e_wallet- initial_amount\n",
    "        \n",
    "print(\"now your current account balance is:\",initial_amount)\n",
    "print(f\"e_wallet balance is:{current_ewallet_balance}\")\n",
    "print(\"play the game and enjoy\")\n",
    "              "
   ]
  },
  {
   "cell_type": "code",
   "execution_count": null,
   "id": "b0fa2831",
   "metadata": {},
   "outputs": [],
   "source": []
  },
  {
   "cell_type": "code",
   "execution_count": 1,
   "id": "55cdc560",
   "metadata": {},
   "outputs": [
    {
     "data": {
      "text/plain": [
       "str"
      ]
     },
     "execution_count": 1,
     "metadata": {},
     "output_type": "execute_result"
    }
   ],
   "source": [
    "name='data science'\n",
    "type(name)"
   ]
  },
  {
   "cell_type": "code",
   "execution_count": 3,
   "id": "28064ea2",
   "metadata": {},
   "outputs": [
    {
     "data": {
      "text/plain": [
       "'string'"
      ]
     },
     "execution_count": 3,
     "metadata": {},
     "output_type": "execute_result"
    }
   ],
   "source": [
    "name1='string'\n",
    "name1"
   ]
  },
  {
   "cell_type": "code",
   "execution_count": 4,
   "id": "5c441cde",
   "metadata": {},
   "outputs": [
    {
     "data": {
      "text/plain": [
       "str"
      ]
     },
     "execution_count": 4,
     "metadata": {},
     "output_type": "execute_result"
    }
   ],
   "source": [
    "type(name)"
   ]
  },
  {
   "cell_type": "code",
   "execution_count": 5,
   "id": "18aea31d",
   "metadata": {},
   "outputs": [
    {
     "data": {
      "text/plain": [
       "str"
      ]
     },
     "execution_count": 5,
     "metadata": {},
     "output_type": "execute_result"
    }
   ],
   "source": [
    "num1='hyderabad'\n",
    "type(num1)"
   ]
  },
  {
   "cell_type": "code",
   "execution_count": 6,
   "id": "58198f4f",
   "metadata": {},
   "outputs": [
    {
     "name": "stdout",
     "output_type": "stream",
     "text": [
      "data science\n"
     ]
    }
   ],
   "source": [
    "print(name)"
   ]
  },
  {
   "cell_type": "code",
   "execution_count": 7,
   "id": "abfbd524",
   "metadata": {},
   "outputs": [
    {
     "name": "stdout",
     "output_type": "stream",
     "text": [
      "hyderabad\n"
     ]
    }
   ],
   "source": [
    "print(num1)"
   ]
  },
  {
   "cell_type": "code",
   "execution_count": 11,
   "id": "eca91918",
   "metadata": {},
   "outputs": [
    {
     "name": "stdout",
     "output_type": "stream",
     "text": [
      "my name is\"asif\"\n"
     ]
    }
   ],
   "source": [
    "name1='my name is\"asif\"'\n",
    "type(name), 'and'\n",
    "print(name1)"
   ]
  },
  {
   "cell_type": "code",
   "execution_count": 12,
   "id": "9c920582",
   "metadata": {},
   "outputs": [
    {
     "name": "stdout",
     "output_type": "stream",
     "text": [
      "i love you\n"
     ]
    }
   ],
   "source": [
    "name2='i love you'\n",
    "print(name2)"
   ]
  },
  {
   "cell_type": "code",
   "execution_count": 13,
   "id": "2ae0c48e",
   "metadata": {},
   "outputs": [
    {
     "name": "stdout",
     "output_type": "stream",
     "text": [
      "i like \"python in data science\"\n"
     ]
    }
   ],
   "source": [
    "name3='i like \"python in data science\"'\n",
    "print(name3)"
   ]
  },
  {
   "cell_type": "code",
   "execution_count": 14,
   "id": "ab523dac",
   "metadata": {},
   "outputs": [
    {
     "name": "stdout",
     "output_type": "stream",
     "text": [
      "my name is\"asif\" i love you i like \"python in data science\"\n"
     ]
    }
   ],
   "source": [
    "print(name1,name2,name3)"
   ]
  },
  {
   "cell_type": "code",
   "execution_count": 17,
   "id": "44d420ea",
   "metadata": {},
   "outputs": [
    {
     "name": "stdout",
     "output_type": "stream",
     "text": [
      "python\n"
     ]
    }
   ],
   "source": [
    "name4=\"\"\"python\"\"\"\n",
    "print(name4)"
   ]
  },
  {
   "cell_type": "code",
   "execution_count": null,
   "id": "65b2caae",
   "metadata": {},
   "outputs": [],
   "source": [
    "import random\n",
    "random.randint()"
   ]
  },
  {
   "cell_type": "code",
   "execution_count": 35,
   "id": "14d4e237",
   "metadata": {},
   "outputs": [
    {
     "data": {
      "text/plain": [
       "'t'"
      ]
     },
     "execution_count": 35,
     "metadata": {},
     "output_type": "execute_result"
    }
   ],
   "source": [
    "name1='datascience'\n",
    "max(name1)"
   ]
  },
  {
   "cell_type": "code",
   "execution_count": 36,
   "id": "a63b4c03",
   "metadata": {},
   "outputs": [
    {
     "data": {
      "text/plain": [
       "'a'"
      ]
     },
     "execution_count": 36,
     "metadata": {},
     "output_type": "execute_result"
    }
   ],
   "source": [
    "name1='datascience'\n",
    "min(name1)"
   ]
  },
  {
   "cell_type": "code",
   "execution_count": 37,
   "id": "0873ffbb",
   "metadata": {},
   "outputs": [
    {
     "data": {
      "text/plain": [
       "'s'"
      ]
     },
     "execution_count": 37,
     "metadata": {},
     "output_type": "execute_result"
    }
   ],
   "source": [
    "num='shaikasif'\n",
    "max(num)"
   ]
  },
  {
   "cell_type": "code",
   "execution_count": 38,
   "id": "baa2a8d0",
   "metadata": {},
   "outputs": [
    {
     "data": {
      "text/plain": [
       "'a'"
      ]
     },
     "execution_count": 38,
     "metadata": {},
     "output_type": "execute_result"
    }
   ],
   "source": [
    "num='shaikasif'\n",
    "min(num)"
   ]
  },
  {
   "cell_type": "code",
   "execution_count": 49,
   "id": "98334ca4",
   "metadata": {},
   "outputs": [
    {
     "data": {
      "text/plain": [
       "(115, 104, 97, 97, 105, 107, 97, 115, 105, 102)"
      ]
     },
     "execution_count": 49,
     "metadata": {},
     "output_type": "execute_result"
    }
   ],
   "source": [
    "ord('s'),ord('h'),ord('a'),ord('a'),ord('i'),ord('k'),ord('a'),ord('s'),ord('i'),ord('f')"
   ]
  },
  {
   "cell_type": "code",
   "execution_count": 52,
   "id": "5aea97a3",
   "metadata": {},
   "outputs": [
    {
     "data": {
      "text/plain": [
       "97"
      ]
     },
     "execution_count": 52,
     "metadata": {},
     "output_type": "execute_result"
    }
   ],
   "source": [
    "ord('a')"
   ]
  },
  {
   "cell_type": "code",
   "execution_count": 53,
   "id": "3ce5c061",
   "metadata": {},
   "outputs": [
    {
     "data": {
      "text/plain": [
       "98"
      ]
     },
     "execution_count": 53,
     "metadata": {},
     "output_type": "execute_result"
    }
   ],
   "source": [
    "ord('b')"
   ]
  },
  {
   "cell_type": "code",
   "execution_count": 54,
   "id": "43de85f0",
   "metadata": {},
   "outputs": [
    {
     "data": {
      "text/plain": [
       "99"
      ]
     },
     "execution_count": 54,
     "metadata": {},
     "output_type": "execute_result"
    }
   ],
   "source": [
    "ord('c')"
   ]
  },
  {
   "cell_type": "code",
   "execution_count": 55,
   "id": "f815d412",
   "metadata": {},
   "outputs": [
    {
     "data": {
      "text/plain": [
       "100"
      ]
     },
     "execution_count": 55,
     "metadata": {},
     "output_type": "execute_result"
    }
   ],
   "source": [
    "ord('d')"
   ]
  },
  {
   "cell_type": "code",
   "execution_count": 56,
   "id": "83c03600",
   "metadata": {},
   "outputs": [
    {
     "data": {
      "text/plain": [
       "101"
      ]
     },
     "execution_count": 56,
     "metadata": {},
     "output_type": "execute_result"
    }
   ],
   "source": [
    "ord('e')"
   ]
  },
  {
   "cell_type": "code",
   "execution_count": 57,
   "id": "54438a72",
   "metadata": {},
   "outputs": [
    {
     "data": {
      "text/plain": [
       "102"
      ]
     },
     "execution_count": 57,
     "metadata": {},
     "output_type": "execute_result"
    }
   ],
   "source": [
    "ord('f')"
   ]
  },
  {
   "cell_type": "code",
   "execution_count": 58,
   "id": "447f4723",
   "metadata": {},
   "outputs": [
    {
     "data": {
      "text/plain": [
       "103"
      ]
     },
     "execution_count": 58,
     "metadata": {},
     "output_type": "execute_result"
    }
   ],
   "source": [
    "ord('g')"
   ]
  },
  {
   "cell_type": "code",
   "execution_count": 59,
   "id": "a231c6a1",
   "metadata": {},
   "outputs": [
    {
     "data": {
      "text/plain": [
       "104"
      ]
     },
     "execution_count": 59,
     "metadata": {},
     "output_type": "execute_result"
    }
   ],
   "source": [
    "ord('h')"
   ]
  },
  {
   "cell_type": "code",
   "execution_count": 60,
   "id": "44201922",
   "metadata": {},
   "outputs": [
    {
     "data": {
      "text/plain": [
       "105"
      ]
     },
     "execution_count": 60,
     "metadata": {},
     "output_type": "execute_result"
    }
   ],
   "source": [
    "ord('i')"
   ]
  },
  {
   "cell_type": "code",
   "execution_count": 61,
   "id": "20fd8892",
   "metadata": {},
   "outputs": [
    {
     "data": {
      "text/plain": [
       "106"
      ]
     },
     "execution_count": 61,
     "metadata": {},
     "output_type": "execute_result"
    }
   ],
   "source": [
    "ord('j')"
   ]
  },
  {
   "cell_type": "code",
   "execution_count": 62,
   "id": "6d3767cc",
   "metadata": {},
   "outputs": [
    {
     "data": {
      "text/plain": [
       "107"
      ]
     },
     "execution_count": 62,
     "metadata": {},
     "output_type": "execute_result"
    }
   ],
   "source": [
    "ord('k')"
   ]
  },
  {
   "cell_type": "code",
   "execution_count": 63,
   "id": "ea1828ba",
   "metadata": {},
   "outputs": [
    {
     "data": {
      "text/plain": [
       "108"
      ]
     },
     "execution_count": 63,
     "metadata": {},
     "output_type": "execute_result"
    }
   ],
   "source": [
    "ord('l')"
   ]
  },
  {
   "cell_type": "code",
   "execution_count": 64,
   "id": "b0be7335",
   "metadata": {},
   "outputs": [
    {
     "data": {
      "text/plain": [
       "109"
      ]
     },
     "execution_count": 64,
     "metadata": {},
     "output_type": "execute_result"
    }
   ],
   "source": [
    "ord('m')"
   ]
  },
  {
   "cell_type": "code",
   "execution_count": 65,
   "id": "bde0a595",
   "metadata": {},
   "outputs": [
    {
     "data": {
      "text/plain": [
       "110"
      ]
     },
     "execution_count": 65,
     "metadata": {},
     "output_type": "execute_result"
    }
   ],
   "source": [
    "ord('n')"
   ]
  },
  {
   "cell_type": "code",
   "execution_count": 66,
   "id": "5f76fa93",
   "metadata": {},
   "outputs": [
    {
     "data": {
      "text/plain": [
       "109"
      ]
     },
     "execution_count": 66,
     "metadata": {},
     "output_type": "execute_result"
    }
   ],
   "source": [
    "ord('m')"
   ]
  },
  {
   "cell_type": "code",
   "execution_count": 67,
   "id": "155545dc",
   "metadata": {},
   "outputs": [
    {
     "data": {
      "text/plain": [
       "110"
      ]
     },
     "execution_count": 67,
     "metadata": {},
     "output_type": "execute_result"
    }
   ],
   "source": [
    "ord('n')"
   ]
  },
  {
   "cell_type": "code",
   "execution_count": 68,
   "id": "306f55ef",
   "metadata": {},
   "outputs": [
    {
     "data": {
      "text/plain": [
       "111"
      ]
     },
     "execution_count": 68,
     "metadata": {},
     "output_type": "execute_result"
    }
   ],
   "source": [
    "ord('o')"
   ]
  },
  {
   "cell_type": "code",
   "execution_count": 69,
   "id": "24178db1",
   "metadata": {},
   "outputs": [
    {
     "data": {
      "text/plain": [
       "112"
      ]
     },
     "execution_count": 69,
     "metadata": {},
     "output_type": "execute_result"
    }
   ],
   "source": [
    "ord('p')"
   ]
  },
  {
   "cell_type": "code",
   "execution_count": 70,
   "id": "78b0d60d",
   "metadata": {},
   "outputs": [
    {
     "data": {
      "text/plain": [
       "112"
      ]
     },
     "execution_count": 70,
     "metadata": {},
     "output_type": "execute_result"
    }
   ],
   "source": [
    "ord('p')"
   ]
  },
  {
   "cell_type": "code",
   "execution_count": 71,
   "id": "0ad52710",
   "metadata": {},
   "outputs": [
    {
     "data": {
      "text/plain": [
       "113"
      ]
     },
     "execution_count": 71,
     "metadata": {},
     "output_type": "execute_result"
    }
   ],
   "source": [
    "ord('q')"
   ]
  },
  {
   "cell_type": "code",
   "execution_count": 72,
   "id": "ecf6ec9b",
   "metadata": {},
   "outputs": [
    {
     "data": {
      "text/plain": [
       "114"
      ]
     },
     "execution_count": 72,
     "metadata": {},
     "output_type": "execute_result"
    }
   ],
   "source": [
    "ord('r')"
   ]
  },
  {
   "cell_type": "code",
   "execution_count": 73,
   "id": "d60124b4",
   "metadata": {},
   "outputs": [
    {
     "data": {
      "text/plain": [
       "65"
      ]
     },
     "execution_count": 73,
     "metadata": {},
     "output_type": "execute_result"
    }
   ],
   "source": [
    "ord('A')"
   ]
  },
  {
   "cell_type": "code",
   "execution_count": 74,
   "id": "55a55c13",
   "metadata": {},
   "outputs": [
    {
     "data": {
      "text/plain": [
       "66"
      ]
     },
     "execution_count": 74,
     "metadata": {},
     "output_type": "execute_result"
    }
   ],
   "source": [
    "ord('B')"
   ]
  },
  {
   "cell_type": "code",
   "execution_count": 77,
   "id": "e501503d",
   "metadata": {},
   "outputs": [
    {
     "data": {
      "text/plain": [
       "51"
      ]
     },
     "execution_count": 77,
     "metadata": {},
     "output_type": "execute_result"
    }
   ],
   "source": [
    "ord('3')"
   ]
  },
  {
   "cell_type": "code",
   "execution_count": 78,
   "id": "30f0e4b4",
   "metadata": {},
   "outputs": [
    {
     "data": {
      "text/plain": [
       "45"
      ]
     },
     "execution_count": 78,
     "metadata": {},
     "output_type": "execute_result"
    }
   ],
   "source": [
    "ord('-')"
   ]
  },
  {
   "cell_type": "code",
   "execution_count": 79,
   "id": "08568fbd",
   "metadata": {},
   "outputs": [
    {
     "data": {
      "text/plain": [
       "43"
      ]
     },
     "execution_count": 79,
     "metadata": {},
     "output_type": "execute_result"
    }
   ],
   "source": [
    "ord('+')"
   ]
  },
  {
   "cell_type": "code",
   "execution_count": 81,
   "id": "c0609861",
   "metadata": {},
   "outputs": [
    {
     "name": "stdout",
     "output_type": "stream",
     "text": [
      "1 \u0001,2 \u0002,3 \u0003,4 \u0004,5 \u0005,6 \u0006,7 \u0007,8 \b,9 \t,10 \n",
      ",11 \u000b",
      ",12 \f",
      ",13 \r",
      ",14 \u000e,15 \u000f,16 \u0010,17 \u0011,18 \u0012,19 \u0013,20 \u0014,21 \u0015,22 \u0016,23 \u0017,24 \u0018,25 \u0019,26 \u001a,27 \u001b,28 \u001c",
      ",29 \u001d",
      ",30 \u001e",
      ",31 \u001f,32  ,33 !,34 \",35 #,36 $,37 %,38 &,39 ',40 (,41 ),42 *,43 +,44 ,,45 -,46 .,47 /,48 0,49 1,50 2,51 3,52 4,53 5,54 6,55 7,56 8,57 9,58 :,59 ;,60 <,61 =,62 >,63 ?,64 @,65 A,66 B,67 C,68 D,69 E,70 F,71 G,72 H,73 I,74 J,75 K,76 L,77 M,78 N,79 O,80 P,81 Q,82 R,83 S,84 T,85 U,86 V,87 W,88 X,89 Y,90 Z,91 [,92 \\,93 ],94 ^,95 _,96 `,97 a,98 b,99 c,100 d,101 e,102 f,103 g,104 h,105 i,106 j,107 k,108 l,109 m,110 n,111 o,112 p,113 q,114 r,115 s,116 t,117 u,118 v,119 w,120 x,121 y,122 z,123 {,124 |,125 },126 ~,127 ,128 ,129 ,130 ,131 ,132 ,133 ",
      ",134 ,135 ,136 ,137 ,138 ,139 ,140 ,141 ,142 ,143 ,144 ,145 ,146 ,147 ,148 ,149 ,150 ,151 ,152 ,153 ,154 ,155 ,156 ,157 ,158 ,159 ,160  ,161 ¡,162 ¢,163 £,164 ¤,165 ¥,166 ¦,167 §,168 ¨,169 ©,170 ª,171 «,172 ¬,173 ­,174 ®,175 ¯,176 °,177 ±,178 ²,179 ³,180 ´,181 µ,182 ¶,183 ·,184 ¸,185 ¹,186 º,187 »,188 ¼,189 ½,190 ¾,191 ¿,192 À,193 Á,194 Â,195 Ã,196 Ä,197 Å,198 Æ,199 Ç,200 È,201 É,202 Ê,203 Ë,204 Ì,205 Í,206 Î,207 Ï,208 Ð,209 Ñ,210 Ò,211 Ó,212 Ô,213 Õ,214 Ö,215 ×,216 Ø,217 Ù,218 Ú,219 Û,220 Ü,221 Ý,222 Þ,223 ß,224 à,225 á,226 â,227 ã,228 ä,229 å,230 æ,231 ç,232 è,233 é,234 ê,235 ë,236 ì,237 í,238 î,239 ï,240 ð,241 ñ,242 ò,243 ó,244 ô,245 õ,246 ö,247 ÷,248 ø,249 ù,250 ú,251 û,252 ü,253 ý,254 þ,255 ÿ,256 Ā,257 ā,258 Ă,259 ă,260 Ą,261 ą,262 Ć,263 ć,264 Ĉ,265 ĉ,266 Ċ,267 ċ,268 Č,269 č,270 Ď,271 ď,272 Đ,273 đ,274 Ē,275 ē,276 Ĕ,277 ĕ,278 Ė,279 ė,280 Ę,281 ę,282 Ě,283 ě,284 Ĝ,285 ĝ,286 Ğ,287 ğ,288 Ġ,289 ġ,290 Ģ,291 ģ,292 Ĥ,293 ĥ,294 Ħ,295 ħ,296 Ĩ,297 ĩ,298 Ī,299 ī,"
     ]
    }
   ],
   "source": [
    "for i in range(1,300):\n",
    "    print(i,chr(i),end=',')"
   ]
  },
  {
   "cell_type": "code",
   "execution_count": 84,
   "id": "32a9ddfd",
   "metadata": {},
   "outputs": [
    {
     "name": "stdout",
     "output_type": "stream",
     "text": [
      "1 -- \u0001,2 -- \u0002,3 -- \u0003,4 -- \u0004,5 -- \u0005,6 -- \u0006,7 -- \u0007,8 -- \b,9 -- \t,10 -- \n",
      ",11 -- \u000b",
      ",12 -- \f",
      ",13 -- \r",
      ",14 -- \u000e,15 -- \u000f,16 -- \u0010,17 -- \u0011,18 -- \u0012,19 -- \u0013,20 -- \u0014,21 -- \u0015,22 -- \u0016,23 -- \u0017,24 -- \u0018,25 -- \u0019,26 -- \u001a,27 -- \u001b,28 -- \u001c",
      ",29 -- \u001d",
      ",30 -- \u001e",
      ",31 -- \u001f,32 --  ,33 -- !,34 -- \",35 -- #,36 -- $,37 -- %,38 -- &,39 -- ',40 -- (,41 -- ),42 -- *,43 -- +,44 -- ,,45 -- -,46 -- .,47 -- /,48 -- 0,49 -- 1,"
     ]
    }
   ],
   "source": [
    "for i in range(1,50):\n",
    "    print(i,'--',chr(i),end=',')"
   ]
  },
  {
   "cell_type": "code",
   "execution_count": 93,
   "id": "a660bb6b",
   "metadata": {},
   "outputs": [
    {
     "data": {
      "text/plain": [
       "True"
      ]
     },
     "execution_count": 93,
     "metadata": {},
     "output_type": "execute_result"
    }
   ],
   "source": [
    "'Datascience'<'python'"
   ]
  },
  {
   "cell_type": "code",
   "execution_count": 98,
   "id": "980e9aca",
   "metadata": {},
   "outputs": [
    {
     "data": {
      "text/plain": [
       "25"
      ]
     },
     "execution_count": 98,
     "metadata": {},
     "output_type": "execute_result"
    }
   ],
   "source": [
    "str3='i like music is very nice'\n",
    "len(str3)"
   ]
  },
  {
   "cell_type": "code",
   "execution_count": 99,
   "id": "7edd0c35",
   "metadata": {},
   "outputs": [
    {
     "data": {
      "text/plain": [
       "25"
      ]
     },
     "execution_count": 99,
     "metadata": {},
     "output_type": "execute_result"
    }
   ],
   "source": [
    "len(str3)"
   ]
  },
  {
   "cell_type": "code",
   "execution_count": 100,
   "id": "4994dd2b",
   "metadata": {},
   "outputs": [
    {
     "data": {
      "text/plain": [
       "<reversed at 0x2ae27318f10>"
      ]
     },
     "execution_count": 100,
     "metadata": {},
     "output_type": "execute_result"
    }
   ],
   "source": [
    "reversed('i like music is very nice')"
   ]
  },
  {
   "cell_type": "code",
   "execution_count": 101,
   "id": "a8b64cc5",
   "metadata": {},
   "outputs": [
    {
     "name": "stdout",
     "output_type": "stream",
     "text": [
      "e\n",
      "c\n",
      "i\n",
      "n\n",
      " \n",
      "y\n",
      "r\n",
      "e\n",
      "v\n",
      " \n",
      "s\n",
      "i\n",
      " \n",
      "c\n",
      "i\n",
      "s\n",
      "u\n",
      "m\n",
      " \n",
      "e\n",
      "k\n",
      "i\n",
      "l\n",
      " \n",
      "i\n"
     ]
    }
   ],
   "source": [
    "for i in reversed('i like music is very nice'):\n",
    "    print(i)"
   ]
  },
  {
   "cell_type": "code",
   "execution_count": 102,
   "id": "434220d5",
   "metadata": {},
   "outputs": [
    {
     "name": "stdout",
     "output_type": "stream",
     "text": [
      "e c i n   y r e v   s i   c i s u m   e k i l   i "
     ]
    }
   ],
   "source": [
    "for i in reversed('i like music is very nice'):\n",
    "    print(i,end=' ')"
   ]
  },
  {
   "cell_type": "code",
   "execution_count": 103,
   "id": "db8e6206",
   "metadata": {},
   "outputs": [],
   "source": [
    "asif='apple'"
   ]
  },
  {
   "cell_type": "code",
   "execution_count": 104,
   "id": "ab407a41",
   "metadata": {},
   "outputs": [
    {
     "data": {
      "text/plain": [
       "str"
      ]
     },
     "execution_count": 104,
     "metadata": {},
     "output_type": "execute_result"
    }
   ],
   "source": [
    "type(asif)"
   ]
  },
  {
   "cell_type": "code",
   "execution_count": 105,
   "id": "4aa8b9ee",
   "metadata": {},
   "outputs": [
    {
     "data": {
      "text/plain": [
       "5"
      ]
     },
     "execution_count": 105,
     "metadata": {},
     "output_type": "execute_result"
    }
   ],
   "source": [
    "len(asif)"
   ]
  },
  {
   "cell_type": "code",
   "execution_count": 109,
   "id": "84aa59db",
   "metadata": {},
   "outputs": [
    {
     "data": {
      "text/plain": [
       "<reversed at 0x2ae25d27640>"
      ]
     },
     "execution_count": 109,
     "metadata": {},
     "output_type": "execute_result"
    }
   ],
   "source": [
    "reversed('asif')"
   ]
  },
  {
   "cell_type": "code",
   "execution_count": 110,
   "id": "266bda2d",
   "metadata": {},
   "outputs": [
    {
     "name": "stdout",
     "output_type": "stream",
     "text": [
      "f i s a "
     ]
    }
   ],
   "source": [
    "for i in reversed('asif'):\n",
    "    print(i,end=' ')"
   ]
  },
  {
   "cell_type": "code",
   "execution_count": 115,
   "id": "ac8bba91",
   "metadata": {},
   "outputs": [
    {
     "name": "stdout",
     "output_type": "stream",
     "text": [
      "s\n",
      "o\n",
      "h\n",
      "e\n",
      "l\n"
     ]
    }
   ],
   "source": [
    "num1='sohel'\n",
    "for i in num1:\n",
    "    print(i)"
   ]
  },
  {
   "cell_type": "code",
   "execution_count": 116,
   "id": "8887600c",
   "metadata": {},
   "outputs": [
    {
     "name": "stdout",
     "output_type": "stream",
     "text": [
      "l\n",
      "e\n",
      "h\n",
      "o\n",
      "s\n"
     ]
    }
   ],
   "source": [
    "for i in reversed('sohel'):\n",
    "    print(i)"
   ]
  },
  {
   "cell_type": "code",
   "execution_count": 117,
   "id": "c58235ef",
   "metadata": {},
   "outputs": [
    {
     "data": {
      "text/plain": [
       "5"
      ]
     },
     "execution_count": 117,
     "metadata": {},
     "output_type": "execute_result"
    }
   ],
   "source": [
    "len(num1)"
   ]
  },
  {
   "cell_type": "code",
   "execution_count": 118,
   "id": "956e53c4",
   "metadata": {},
   "outputs": [
    {
     "data": {
      "text/plain": [
       "str"
      ]
     },
     "execution_count": 118,
     "metadata": {},
     "output_type": "execute_result"
    }
   ],
   "source": [
    "type(num1)"
   ]
  },
  {
   "cell_type": "code",
   "execution_count": 119,
   "id": "9d854218",
   "metadata": {},
   "outputs": [
    {
     "name": "stdout",
     "output_type": "stream",
     "text": [
      "sohel\n"
     ]
    }
   ],
   "source": [
    "print(num1)"
   ]
  },
  {
   "cell_type": "code",
   "execution_count": 120,
   "id": "738529af",
   "metadata": {},
   "outputs": [
    {
     "name": "stdout",
     "output_type": "stream",
     "text": [
      "num1\n"
     ]
    }
   ],
   "source": [
    "print('num1')"
   ]
  },
  {
   "cell_type": "code",
   "execution_count": 128,
   "id": "7a370d8e",
   "metadata": {},
   "outputs": [
    {
     "data": {
      "text/plain": [
       "(115, 111, 104, 104, 101, 108)"
      ]
     },
     "execution_count": 128,
     "metadata": {},
     "output_type": "execute_result"
    }
   ],
   "source": [
    "ord('s'),ord('o'),ord('h'),ord('h'),ord('e'),ord('l')"
   ]
  },
  {
   "cell_type": "code",
   "execution_count": 129,
   "id": "ec4b79c6",
   "metadata": {},
   "outputs": [
    {
     "data": {
      "text/plain": [
       "'o'"
      ]
     },
     "execution_count": 129,
     "metadata": {},
     "output_type": "execute_result"
    }
   ],
   "source": [
    "chr(111)"
   ]
  },
  {
   "cell_type": "code",
   "execution_count": 130,
   "id": "3cf879e8",
   "metadata": {},
   "outputs": [
    {
     "data": {
      "text/plain": [
       "'Ë'"
      ]
     },
     "execution_count": 130,
     "metadata": {},
     "output_type": "execute_result"
    }
   ],
   "source": [
    "chr(203)"
   ]
  },
  {
   "cell_type": "code",
   "execution_count": 131,
   "id": "beb19dcf",
   "metadata": {},
   "outputs": [
    {
     "data": {
      "text/plain": [
       "'\\x01'"
      ]
     },
     "execution_count": 131,
     "metadata": {},
     "output_type": "execute_result"
    }
   ],
   "source": [
    "chr(1)"
   ]
  },
  {
   "cell_type": "code",
   "execution_count": 132,
   "id": "54f173c8",
   "metadata": {},
   "outputs": [
    {
     "data": {
      "text/plain": [
       "'È'"
      ]
     },
     "execution_count": 132,
     "metadata": {},
     "output_type": "execute_result"
    }
   ],
   "source": [
    "chr(200)"
   ]
  },
  {
   "cell_type": "code",
   "execution_count": 133,
   "id": "188ceb09",
   "metadata": {},
   "outputs": [
    {
     "data": {
      "text/plain": [
       "'e'"
      ]
     },
     "execution_count": 133,
     "metadata": {},
     "output_type": "execute_result"
    }
   ],
   "source": [
    "chr(101)"
   ]
  },
  {
   "cell_type": "code",
   "execution_count": 134,
   "id": "05c88379",
   "metadata": {},
   "outputs": [
    {
     "data": {
      "text/plain": [
       "['e', 'h', 'l', 'o', 's']"
      ]
     },
     "execution_count": 134,
     "metadata": {},
     "output_type": "execute_result"
    }
   ],
   "source": [
    "sorted('sohel')"
   ]
  },
  {
   "cell_type": "code",
   "execution_count": 136,
   "id": "e6fcffbf",
   "metadata": {},
   "outputs": [
    {
     "data": {
      "text/plain": [
       "101"
      ]
     },
     "execution_count": 136,
     "metadata": {},
     "output_type": "execute_result"
    }
   ],
   "source": [
    "ord('e')"
   ]
  },
  {
   "cell_type": "code",
   "execution_count": 137,
   "id": "5d219315",
   "metadata": {},
   "outputs": [
    {
     "data": {
      "text/plain": [
       "104"
      ]
     },
     "execution_count": 137,
     "metadata": {},
     "output_type": "execute_result"
    }
   ],
   "source": [
    "ord('h')"
   ]
  },
  {
   "cell_type": "code",
   "execution_count": 138,
   "id": "32cc210b",
   "metadata": {},
   "outputs": [
    {
     "data": {
      "text/plain": [
       "108"
      ]
     },
     "execution_count": 138,
     "metadata": {},
     "output_type": "execute_result"
    }
   ],
   "source": [
    "ord('l')"
   ]
  },
  {
   "cell_type": "code",
   "execution_count": 139,
   "id": "c4d274f2",
   "metadata": {},
   "outputs": [
    {
     "data": {
      "text/plain": [
       "111"
      ]
     },
     "execution_count": 139,
     "metadata": {},
     "output_type": "execute_result"
    }
   ],
   "source": [
    "ord('o')"
   ]
  },
  {
   "cell_type": "code",
   "execution_count": 140,
   "id": "f3536170",
   "metadata": {},
   "outputs": [
    {
     "data": {
      "text/plain": [
       "115"
      ]
     },
     "execution_count": 140,
     "metadata": {},
     "output_type": "execute_result"
    }
   ],
   "source": [
    "ord('s')"
   ]
  },
  {
   "cell_type": "code",
   "execution_count": 141,
   "id": "72fbb7d3",
   "metadata": {},
   "outputs": [
    {
     "name": "stdout",
     "output_type": "stream",
     "text": [
      "s 115\n",
      "o 111\n",
      "h 104\n",
      "e 101\n",
      "l 108\n"
     ]
    }
   ],
   "source": [
    "for i in 'sohel':\n",
    "    print(i,ord(i))"
   ]
  },
  {
   "cell_type": "code",
   "execution_count": 142,
   "id": "9c8854d1",
   "metadata": {},
   "outputs": [],
   "source": [
    "name='sohel'"
   ]
  },
  {
   "cell_type": "code",
   "execution_count": 143,
   "id": "b1628fa6",
   "metadata": {},
   "outputs": [],
   "source": [
    "gender='male'"
   ]
  },
  {
   "cell_type": "code",
   "execution_count": 144,
   "id": "51d45d9a",
   "metadata": {},
   "outputs": [
    {
     "data": {
      "text/plain": [
       "'sohel male'"
      ]
     },
     "execution_count": 144,
     "metadata": {},
     "output_type": "execute_result"
    }
   ],
   "source": [
    "name+' '+gender"
   ]
  },
  {
   "cell_type": "code",
   "execution_count": 145,
   "id": "b924c0f2",
   "metadata": {},
   "outputs": [
    {
     "data": {
      "text/plain": [
       "'sohelmale'"
      ]
     },
     "execution_count": 145,
     "metadata": {},
     "output_type": "execute_result"
    }
   ],
   "source": [
    "'sohel'+'male'"
   ]
  },
  {
   "cell_type": "code",
   "execution_count": 146,
   "id": "168b1459",
   "metadata": {},
   "outputs": [
    {
     "data": {
      "text/plain": [
       "'sohelmale'"
      ]
     },
     "execution_count": 146,
     "metadata": {},
     "output_type": "execute_result"
    }
   ],
   "source": [
    "name+gender"
   ]
  },
  {
   "cell_type": "code",
   "execution_count": 147,
   "id": "35cc3e85",
   "metadata": {},
   "outputs": [
    {
     "ename": "TypeError",
     "evalue": "unsupported operand type(s) for -: 'str' and 'str'",
     "output_type": "error",
     "traceback": [
      "\u001b[1;31m---------------------------------------------------------------------------\u001b[0m",
      "\u001b[1;31mTypeError\u001b[0m                                 Traceback (most recent call last)",
      "Cell \u001b[1;32mIn[147], line 1\u001b[0m\n\u001b[1;32m----> 1\u001b[0m name\u001b[38;5;241m-\u001b[39mgender\n",
      "\u001b[1;31mTypeError\u001b[0m: unsupported operand type(s) for -: 'str' and 'str'"
     ]
    }
   ],
   "source": [
    "name-gender"
   ]
  },
  {
   "cell_type": "code",
   "execution_count": 148,
   "id": "53debaf6",
   "metadata": {},
   "outputs": [
    {
     "ename": "TypeError",
     "evalue": "can't multiply sequence by non-int of type 'str'",
     "output_type": "error",
     "traceback": [
      "\u001b[1;31m---------------------------------------------------------------------------\u001b[0m",
      "\u001b[1;31mTypeError\u001b[0m                                 Traceback (most recent call last)",
      "Cell \u001b[1;32mIn[148], line 1\u001b[0m\n\u001b[1;32m----> 1\u001b[0m name\u001b[38;5;241m*\u001b[39mgender\n",
      "\u001b[1;31mTypeError\u001b[0m: can't multiply sequence by non-int of type 'str'"
     ]
    }
   ],
   "source": [
    "name*gender"
   ]
  },
  {
   "cell_type": "code",
   "execution_count": 149,
   "id": "e683cfaa",
   "metadata": {},
   "outputs": [
    {
     "ename": "TypeError",
     "evalue": "unsupported operand type(s) for /: 'str' and 'str'",
     "output_type": "error",
     "traceback": [
      "\u001b[1;31m---------------------------------------------------------------------------\u001b[0m",
      "\u001b[1;31mTypeError\u001b[0m                                 Traceback (most recent call last)",
      "Cell \u001b[1;32mIn[149], line 1\u001b[0m\n\u001b[1;32m----> 1\u001b[0m name\u001b[38;5;241m/\u001b[39mgender\n",
      "\u001b[1;31mTypeError\u001b[0m: unsupported operand type(s) for /: 'str' and 'str'"
     ]
    }
   ],
   "source": [
    "name/gender"
   ]
  },
  {
   "cell_type": "code",
   "execution_count": 150,
   "id": "af9951cb",
   "metadata": {},
   "outputs": [
    {
     "data": {
      "text/plain": [
       "'sohelmale'"
      ]
     },
     "execution_count": 150,
     "metadata": {},
     "output_type": "execute_result"
    }
   ],
   "source": [
    "name+gender"
   ]
  },
  {
   "cell_type": "code",
   "execution_count": 151,
   "id": "ead424a6",
   "metadata": {},
   "outputs": [
    {
     "ename": "TypeError",
     "evalue": "unsupported operand type(s) for -: 'str' and 'str'",
     "output_type": "error",
     "traceback": [
      "\u001b[1;31m---------------------------------------------------------------------------\u001b[0m",
      "\u001b[1;31mTypeError\u001b[0m                                 Traceback (most recent call last)",
      "Cell \u001b[1;32mIn[151], line 1\u001b[0m\n\u001b[1;32m----> 1\u001b[0m name\u001b[38;5;241m-\u001b[39mgender\n",
      "\u001b[1;31mTypeError\u001b[0m: unsupported operand type(s) for -: 'str' and 'str'"
     ]
    }
   ],
   "source": [
    "name-gender"
   ]
  },
  {
   "cell_type": "code",
   "execution_count": 152,
   "id": "c1f32ccd",
   "metadata": {},
   "outputs": [
    {
     "data": {
      "text/plain": [
       "'data science'"
      ]
     },
     "execution_count": 152,
     "metadata": {},
     "output_type": "execute_result"
    }
   ],
   "source": [
    "num1='data science'\n",
    "\n",
    "num1"
   ]
  },
  {
   "cell_type": "code",
   "execution_count": 153,
   "id": "73e88db6",
   "metadata": {},
   "outputs": [
    {
     "data": {
      "text/plain": [
       "12"
      ]
     },
     "execution_count": 153,
     "metadata": {},
     "output_type": "execute_result"
    }
   ],
   "source": [
    "len(num1)"
   ]
  },
  {
   "cell_type": "code",
   "execution_count": 157,
   "id": "f2f6e7d7",
   "metadata": {},
   "outputs": [
    {
     "ename": "TypeError",
     "evalue": "'str' object is not callable",
     "output_type": "error",
     "traceback": [
      "\u001b[1;31m---------------------------------------------------------------------------\u001b[0m",
      "\u001b[1;31mTypeError\u001b[0m                                 Traceback (most recent call last)",
      "Cell \u001b[1;32mIn[157], line 7\u001b[0m\n\u001b[0;32m      4\u001b[0m num1[\u001b[38;5;241m3\u001b[39m]\n\u001b[0;32m      6\u001b[0m \u001b[38;5;28;01mfor\u001b[39;00m i \u001b[38;5;129;01min\u001b[39;00m \u001b[38;5;28mrange\u001b[39m(\u001b[38;5;241m4\u001b[39m):\n\u001b[1;32m----> 7\u001b[0m     \u001b[38;5;28mprint\u001b[39m(num1(i))\n",
      "\u001b[1;31mTypeError\u001b[0m: 'str' object is not callable"
     ]
    }
   ],
   "source": [
    "num1[0]\n",
    "num1[1]\n",
    "num1[2]\n",
    "num1[3]\n",
    "\n",
    "for i in range(4):\n",
    "    print(num1(i))"
   ]
  },
  {
   "cell_type": "code",
   "execution_count": 158,
   "id": "aa86b03e",
   "metadata": {},
   "outputs": [],
   "source": [
    "str='data'"
   ]
  },
  {
   "cell_type": "code",
   "execution_count": 159,
   "id": "21649cd9",
   "metadata": {},
   "outputs": [
    {
     "data": {
      "text/plain": [
       "'data'"
      ]
     },
     "execution_count": 159,
     "metadata": {},
     "output_type": "execute_result"
    }
   ],
   "source": [
    "str"
   ]
  },
  {
   "cell_type": "code",
   "execution_count": 160,
   "id": "d2813adc",
   "metadata": {},
   "outputs": [
    {
     "data": {
      "text/plain": [
       "4"
      ]
     },
     "execution_count": 160,
     "metadata": {},
     "output_type": "execute_result"
    }
   ],
   "source": [
    "len(str)"
   ]
  },
  {
   "cell_type": "code",
   "execution_count": 161,
   "id": "0cc8a7d7",
   "metadata": {},
   "outputs": [
    {
     "data": {
      "text/plain": [
       "str"
      ]
     },
     "execution_count": 161,
     "metadata": {},
     "output_type": "execute_result"
    }
   ],
   "source": [
    "type(str)"
   ]
  },
  {
   "cell_type": "code",
   "execution_count": 162,
   "id": "a6735771",
   "metadata": {},
   "outputs": [
    {
     "data": {
      "text/plain": [
       "'t'"
      ]
     },
     "execution_count": 162,
     "metadata": {},
     "output_type": "execute_result"
    }
   ],
   "source": [
    "max(str)"
   ]
  },
  {
   "cell_type": "code",
   "execution_count": 163,
   "id": "bc94635d",
   "metadata": {},
   "outputs": [
    {
     "data": {
      "text/plain": [
       "'a'"
      ]
     },
     "execution_count": 163,
     "metadata": {},
     "output_type": "execute_result"
    }
   ],
   "source": [
    "min(str)"
   ]
  },
  {
   "cell_type": "code",
   "execution_count": 164,
   "id": "50eefae6",
   "metadata": {},
   "outputs": [
    {
     "name": "stdout",
     "output_type": "stream",
     "text": [
      "a t a d "
     ]
    }
   ],
   "source": [
    "for i in reversed(str):\n",
    "    print(i,end=' ')"
   ]
  },
  {
   "cell_type": "code",
   "execution_count": 165,
   "id": "ac0aea7a",
   "metadata": {},
   "outputs": [
    {
     "name": "stdout",
     "output_type": "stream",
     "text": [
      "a\n",
      "t\n",
      "a\n",
      "d\n"
     ]
    }
   ],
   "source": [
    "for i in reversed(str):\n",
    "    print(i)"
   ]
  },
  {
   "cell_type": "code",
   "execution_count": 168,
   "id": "9c6bf370",
   "metadata": {},
   "outputs": [
    {
     "data": {
      "text/plain": [
       "['a', 'a', 'd', 't']"
      ]
     },
     "execution_count": 168,
     "metadata": {},
     "output_type": "execute_result"
    }
   ],
   "source": [
    "sorted(str)"
   ]
  },
  {
   "cell_type": "code",
   "execution_count": 169,
   "id": "cc176470",
   "metadata": {},
   "outputs": [
    {
     "data": {
      "text/plain": [
       "100"
      ]
     },
     "execution_count": 169,
     "metadata": {},
     "output_type": "execute_result"
    }
   ],
   "source": [
    "ord('d')"
   ]
  },
  {
   "cell_type": "code",
   "execution_count": 171,
   "id": "a48abea3",
   "metadata": {},
   "outputs": [
    {
     "data": {
      "text/plain": [
       "97"
      ]
     },
     "execution_count": 171,
     "metadata": {},
     "output_type": "execute_result"
    }
   ],
   "source": [
    "ord('a')"
   ]
  },
  {
   "cell_type": "code",
   "execution_count": 172,
   "id": "495a8f13",
   "metadata": {},
   "outputs": [
    {
     "data": {
      "text/plain": [
       "4"
      ]
     },
     "execution_count": 172,
     "metadata": {},
     "output_type": "execute_result"
    }
   ],
   "source": [
    "len(str)"
   ]
  },
  {
   "cell_type": "code",
   "execution_count": 178,
   "id": "49393718",
   "metadata": {},
   "outputs": [
    {
     "name": "stdout",
     "output_type": "stream",
     "text": [
      "p\n",
      "y\n",
      "t\n",
      "h\n"
     ]
    }
   ],
   "source": [
    "str[0]\n",
    "str[1]\n",
    "str[2]\n",
    "str[3]\n",
    "\n",
    "for i in range(4):\n",
    "    print(str[i])\n"
   ]
  },
  {
   "cell_type": "code",
   "execution_count": 175,
   "id": "4f91c6e4",
   "metadata": {},
   "outputs": [],
   "source": [
    "str='python'"
   ]
  },
  {
   "cell_type": "code",
   "execution_count": 176,
   "id": "282e413b",
   "metadata": {},
   "outputs": [
    {
     "data": {
      "text/plain": [
       "'python'"
      ]
     },
     "execution_count": 176,
     "metadata": {},
     "output_type": "execute_result"
    }
   ],
   "source": [
    "str"
   ]
  },
  {
   "cell_type": "code",
   "execution_count": 177,
   "id": "5d1aa8a2",
   "metadata": {},
   "outputs": [
    {
     "name": "stdout",
     "output_type": "stream",
     "text": [
      "p\n",
      "y\n",
      "t\n",
      "h\n",
      "o\n",
      "n\n"
     ]
    }
   ],
   "source": [
    "str[0]\n",
    "str[1]\n",
    "str[2]\n",
    "str[3]\n",
    "str[4]\n",
    "str[5]\n",
    "\n",
    "\n",
    "for i in range(6):\n",
    "    print(str[i])"
   ]
  },
  {
   "cell_type": "code",
   "execution_count": 179,
   "id": "cdbc37a0",
   "metadata": {},
   "outputs": [],
   "source": [
    "str1='data'"
   ]
  },
  {
   "cell_type": "code",
   "execution_count": 181,
   "id": "6678d203",
   "metadata": {},
   "outputs": [
    {
     "name": "stdout",
     "output_type": "stream",
     "text": [
      "d a t a "
     ]
    }
   ],
   "source": [
    "for i in str1:\n",
    "    print(i,end=' ')"
   ]
  },
  {
   "cell_type": "code",
   "execution_count": 183,
   "id": "33b3234e",
   "metadata": {},
   "outputs": [
    {
     "name": "stdout",
     "output_type": "stream",
     "text": [
      "d a t a "
     ]
    }
   ],
   "source": [
    "for i in range(4):\n",
    "    print(str1[i],end=' ')"
   ]
  },
  {
   "cell_type": "code",
   "execution_count": 185,
   "id": "787764fd",
   "metadata": {},
   "outputs": [
    {
     "name": "stdout",
     "output_type": "stream",
     "text": [
      "d a t a "
     ]
    }
   ],
   "source": [
    "str1='data'\n",
    "for i in str1:\n",
    "    print(i,end=' ')"
   ]
  },
  {
   "cell_type": "code",
   "execution_count": 186,
   "id": "bc5cdeda",
   "metadata": {},
   "outputs": [
    {
     "name": "stdout",
     "output_type": "stream",
     "text": [
      "d a t a "
     ]
    }
   ],
   "source": [
    "str1='data'\n",
    "for i in range(4):\n",
    "    print(str1[i],end=' ')"
   ]
  },
  {
   "cell_type": "code",
   "execution_count": 187,
   "id": "67466718",
   "metadata": {},
   "outputs": [],
   "source": [
    "num1='data science'"
   ]
  },
  {
   "cell_type": "code",
   "execution_count": 188,
   "id": "e3446a32",
   "metadata": {},
   "outputs": [
    {
     "data": {
      "text/plain": [
       "str"
      ]
     },
     "execution_count": 188,
     "metadata": {},
     "output_type": "execute_result"
    }
   ],
   "source": [
    "type(num1)"
   ]
  },
  {
   "cell_type": "code",
   "execution_count": 189,
   "id": "258df361",
   "metadata": {},
   "outputs": [
    {
     "data": {
      "text/plain": [
       "'t'"
      ]
     },
     "execution_count": 189,
     "metadata": {},
     "output_type": "execute_result"
    }
   ],
   "source": [
    "max(num1)"
   ]
  },
  {
   "cell_type": "code",
   "execution_count": 190,
   "id": "80e974b1",
   "metadata": {},
   "outputs": [
    {
     "data": {
      "text/plain": [
       "' '"
      ]
     },
     "execution_count": 190,
     "metadata": {},
     "output_type": "execute_result"
    }
   ],
   "source": [
    "min(num1)"
   ]
  },
  {
   "cell_type": "code",
   "execution_count": 201,
   "id": "928b5750",
   "metadata": {},
   "outputs": [
    {
     "data": {
      "text/plain": [
       "(100, 97, 116, 97, 115, 99, 105, 101, 110, 99, 101)"
      ]
     },
     "execution_count": 201,
     "metadata": {},
     "output_type": "execute_result"
    }
   ],
   "source": [
    "ord('d'),ord('a'),ord('t'),ord('a'),ord('s'),ord('c'),ord('i'),ord('e'),ord('n'),ord('c'),ord('e')"
   ]
  },
  {
   "cell_type": "code",
   "execution_count": 208,
   "id": "23b892cc",
   "metadata": {},
   "outputs": [
    {
     "data": {
      "text/plain": [
       "('d', 'a', '8', 'n', 'c', 'e', 'e')"
      ]
     },
     "execution_count": 208,
     "metadata": {},
     "output_type": "execute_result"
    }
   ],
   "source": [
    "chr(100),chr(97),chr(56),chr(110),chr(99),chr(101),chr(101)"
   ]
  },
  {
   "cell_type": "code",
   "execution_count": 209,
   "id": "9eb17b5d",
   "metadata": {},
   "outputs": [
    {
     "data": {
      "text/plain": [
       "12"
      ]
     },
     "execution_count": 209,
     "metadata": {},
     "output_type": "execute_result"
    }
   ],
   "source": [
    "len(num1)"
   ]
  },
  {
   "cell_type": "code",
   "execution_count": 214,
   "id": "c0dab04a",
   "metadata": {},
   "outputs": [
    {
     "data": {
      "text/plain": [
       "['h', 'n', 'o', 'p', 't', 'y']"
      ]
     },
     "execution_count": 214,
     "metadata": {},
     "output_type": "execute_result"
    }
   ],
   "source": [
    "sorted('python')"
   ]
  },
  {
   "cell_type": "code",
   "execution_count": 216,
   "id": "f5498f96",
   "metadata": {},
   "outputs": [
    {
     "data": {
      "text/plain": [
       "['y', 't', 'p', 'o', 'n', 'h']"
      ]
     },
     "execution_count": 216,
     "metadata": {},
     "output_type": "execute_result"
    }
   ],
   "source": [
    "sorted('python',reverse=True)"
   ]
  },
  {
   "cell_type": "code",
   "execution_count": 217,
   "id": "35e2f506",
   "metadata": {},
   "outputs": [
    {
     "name": "stdout",
     "output_type": "stream",
     "text": [
      "p\n",
      "y\n",
      "t\n",
      "h\n",
      "o\n",
      "n\n"
     ]
    }
   ],
   "source": [
    "for i in 'python':\n",
    "    print(i)"
   ]
  },
  {
   "cell_type": "code",
   "execution_count": 218,
   "id": "d501f639",
   "metadata": {},
   "outputs": [
    {
     "name": "stdout",
     "output_type": "stream",
     "text": [
      "p 112\n",
      "y 121\n",
      "t 116\n",
      "h 104\n",
      "o 111\n",
      "n 110\n"
     ]
    }
   ],
   "source": [
    "for i in 'python':\n",
    "    print(i,ord(i))"
   ]
  },
  {
   "cell_type": "code",
   "execution_count": 219,
   "id": "7df03f41",
   "metadata": {},
   "outputs": [
    {
     "name": "stdout",
     "output_type": "stream",
     "text": [
      "p y t h o n "
     ]
    }
   ],
   "source": [
    "for i in 'python':\n",
    "    print(i,end=' ')"
   ]
  },
  {
   "cell_type": "code",
   "execution_count": 220,
   "id": "78453fb4",
   "metadata": {},
   "outputs": [
    {
     "name": "stdout",
     "output_type": "stream",
     "text": [
      "n\n",
      "o\n",
      "h\n",
      "t\n",
      "y\n",
      "p\n"
     ]
    }
   ],
   "source": [
    "for i in reversed('python'):\n",
    "    print(i)"
   ]
  },
  {
   "cell_type": "code",
   "execution_count": 221,
   "id": "1a5abcb8",
   "metadata": {},
   "outputs": [],
   "source": [
    "num1='python'"
   ]
  },
  {
   "cell_type": "code",
   "execution_count": 222,
   "id": "3d20f387",
   "metadata": {},
   "outputs": [
    {
     "name": "stdout",
     "output_type": "stream",
     "text": [
      "p\n",
      "y\n",
      "t\n",
      "h\n",
      "o\n",
      "n\n"
     ]
    }
   ],
   "source": [
    "num1='python'\n",
    "for i in num1:\n",
    "    print(i)"
   ]
  },
  {
   "cell_type": "code",
   "execution_count": 223,
   "id": "f68915d6",
   "metadata": {},
   "outputs": [],
   "source": [
    "num2='data'"
   ]
  },
  {
   "cell_type": "code",
   "execution_count": 224,
   "id": "c63e1df4",
   "metadata": {},
   "outputs": [
    {
     "data": {
      "text/plain": [
       "str"
      ]
     },
     "execution_count": 224,
     "metadata": {},
     "output_type": "execute_result"
    }
   ],
   "source": [
    "type(num2)"
   ]
  },
  {
   "cell_type": "code",
   "execution_count": 225,
   "id": "78421c9a",
   "metadata": {},
   "outputs": [
    {
     "data": {
      "text/plain": [
       "'a'"
      ]
     },
     "execution_count": 225,
     "metadata": {},
     "output_type": "execute_result"
    }
   ],
   "source": [
    "min(num2)"
   ]
  },
  {
   "cell_type": "code",
   "execution_count": 226,
   "id": "2cd2bf43",
   "metadata": {},
   "outputs": [
    {
     "data": {
      "text/plain": [
       "'t'"
      ]
     },
     "execution_count": 226,
     "metadata": {},
     "output_type": "execute_result"
    }
   ],
   "source": [
    "max(num2)"
   ]
  },
  {
   "cell_type": "code",
   "execution_count": 227,
   "id": "38aeb0df",
   "metadata": {},
   "outputs": [
    {
     "data": {
      "text/plain": [
       "100"
      ]
     },
     "execution_count": 227,
     "metadata": {},
     "output_type": "execute_result"
    }
   ],
   "source": [
    "ord('d')"
   ]
  },
  {
   "cell_type": "code",
   "execution_count": 228,
   "id": "dd4b8854",
   "metadata": {},
   "outputs": [
    {
     "data": {
      "text/plain": [
       "116"
      ]
     },
     "execution_count": 228,
     "metadata": {},
     "output_type": "execute_result"
    }
   ],
   "source": [
    "ord('t')"
   ]
  },
  {
   "cell_type": "code",
   "execution_count": 229,
   "id": "89e16ed9",
   "metadata": {},
   "outputs": [
    {
     "data": {
      "text/plain": [
       "'-'"
      ]
     },
     "execution_count": 229,
     "metadata": {},
     "output_type": "execute_result"
    }
   ],
   "source": [
    "chr(45)"
   ]
  },
  {
   "cell_type": "code",
   "execution_count": 230,
   "id": "4f1a6ca4",
   "metadata": {},
   "outputs": [
    {
     "data": {
      "text/plain": [
       "'2'"
      ]
     },
     "execution_count": 230,
     "metadata": {},
     "output_type": "execute_result"
    }
   ],
   "source": [
    "chr(50)"
   ]
  },
  {
   "cell_type": "code",
   "execution_count": 231,
   "id": "7a0f956b",
   "metadata": {},
   "outputs": [
    {
     "data": {
      "text/plain": [
       "4"
      ]
     },
     "execution_count": 231,
     "metadata": {},
     "output_type": "execute_result"
    }
   ],
   "source": [
    "len(num2)"
   ]
  },
  {
   "cell_type": "code",
   "execution_count": 232,
   "id": "f335b0a6",
   "metadata": {},
   "outputs": [
    {
     "data": {
      "text/plain": [
       "['a', 'a', 'd', 't']"
      ]
     },
     "execution_count": 232,
     "metadata": {},
     "output_type": "execute_result"
    }
   ],
   "source": [
    "sorted('data')"
   ]
  },
  {
   "cell_type": "code",
   "execution_count": 233,
   "id": "2ebb4472",
   "metadata": {},
   "outputs": [
    {
     "name": "stdout",
     "output_type": "stream",
     "text": [
      "a\n",
      "t\n",
      "a\n",
      "d\n"
     ]
    }
   ],
   "source": [
    "for i in reversed('data'):\n",
    "    print(i)"
   ]
  },
  {
   "cell_type": "code",
   "execution_count": 234,
   "id": "0f3b9882",
   "metadata": {},
   "outputs": [
    {
     "name": "stdout",
     "output_type": "stream",
     "text": [
      "a 97 t 116 a 97 d 100 "
     ]
    }
   ],
   "source": [
    "for i in reversed('data'):\n",
    "    print(i,ord(i),end=' ')"
   ]
  },
  {
   "cell_type": "code",
   "execution_count": 235,
   "id": "169dc22f",
   "metadata": {},
   "outputs": [
    {
     "name": "stdout",
     "output_type": "stream",
     "text": [
      "a t a d "
     ]
    }
   ],
   "source": [
    "for i in reversed('data'):\n",
    "    print(i,end=' ')"
   ]
  },
  {
   "cell_type": "code",
   "execution_count": 236,
   "id": "ffa178a8",
   "metadata": {},
   "outputs": [
    {
     "name": "stdout",
     "output_type": "stream",
     "text": [
      "a\n",
      "s\n",
      "i\n",
      "f\n"
     ]
    }
   ],
   "source": [
    "'a' in 'asif'\n",
    "'s' in 'asif'\n",
    "'i' in 'asif'\n",
    "'f' in 'asif'\n",
    "\n",
    "for i in 'asif':\n",
    "    print(i)"
   ]
  },
  {
   "cell_type": "code",
   "execution_count": null,
   "id": "b68a5af4",
   "metadata": {},
   "outputs": [],
   "source": [
    "###########################################################################"
   ]
  },
  {
   "cell_type": "code",
   "execution_count": 4,
   "id": "d479f31c",
   "metadata": {},
   "outputs": [
    {
     "name": "stdout",
     "output_type": "stream",
     "text": [
      "hello\n",
      "hai\n",
      "enter a num1:300\n",
      "enter a nam2:200\n",
      "500\n",
      "over\n"
     ]
    }
   ],
   "source": [
    "print(\"hello\")\n",
    "print(\"hai\")\n",
    "num1=eval(input(\"enter a num1:\"))\n",
    "num2=eval(input(\"enter a nam2:\"))\n",
    "print(num1+num2)\n",
    "print(\"over\")"
   ]
  },
  {
   "cell_type": "code",
   "execution_count": 7,
   "id": "a61f9932",
   "metadata": {},
   "outputs": [
    {
     "name": "stdout",
     "output_type": "stream",
     "text": [
      "enter a num1:2000\n",
      "enter a num2:0\n",
      "division by zero\n"
     ]
    }
   ],
   "source": [
    "try:\n",
    "    num1=eval(input(\"enter a num1:\"))\n",
    "    num2=eval(input(\"enter a num2:\"))\n",
    "    print(num1/num2)\n",
    "    \n",
    "except Exception as e:\n",
    "    print(e)"
   ]
  },
  {
   "cell_type": "code",
   "execution_count": 9,
   "id": "6980471a",
   "metadata": {},
   "outputs": [
    {
     "name": "stdout",
     "output_type": "stream",
     "text": [
      "enter a num1:50000\n",
      "enter a num2:python\n"
     ]
    },
    {
     "ename": "NameError",
     "evalue": "name 'python' is not defined",
     "output_type": "error",
     "traceback": [
      "\u001b[1;31m---------------------------------------------------------------------------\u001b[0m",
      "\u001b[1;31mNameError\u001b[0m                                 Traceback (most recent call last)",
      "Cell \u001b[1;32mIn[9], line 2\u001b[0m\n\u001b[0;32m      1\u001b[0m num1\u001b[38;5;241m=\u001b[39m\u001b[38;5;28meval\u001b[39m(\u001b[38;5;28minput\u001b[39m(\u001b[38;5;124m\"\u001b[39m\u001b[38;5;124menter a num1:\u001b[39m\u001b[38;5;124m\"\u001b[39m))\n\u001b[1;32m----> 2\u001b[0m num2\u001b[38;5;241m=\u001b[39m\u001b[38;5;28meval\u001b[39m(\u001b[38;5;28minput\u001b[39m(\u001b[38;5;124m\"\u001b[39m\u001b[38;5;124menter a num2:\u001b[39m\u001b[38;5;124m\"\u001b[39m))\n\u001b[0;32m      3\u001b[0m \u001b[38;5;28mprint\u001b[39m(num1\u001b[38;5;241m/\u001b[39mnum2)\n",
      "File \u001b[1;32m<string>:1\u001b[0m\n",
      "\u001b[1;31mNameError\u001b[0m: name 'python' is not defined"
     ]
    }
   ],
   "source": [
    "    num1=eval(input(\"enter a num1:\"))\n",
    "    num2=eval(input(\"enter a num2:\"))\n",
    "    print(num1/num2)"
   ]
  },
  {
   "cell_type": "code",
   "execution_count": 16,
   "id": "721d158b",
   "metadata": {},
   "outputs": [
    {
     "name": "stdout",
     "output_type": "stream",
     "text": [
      "enter the num:y\n",
      "name 'y' is not defined\n",
      "7\n"
     ]
    }
   ],
   "source": [
    "try:\n",
    "    num=eval(input(\"enter the num:\"))\n",
    "    if num%2==0:\n",
    "        print(f\"{num} is an even\")\n",
    "    else:\n",
    "        print(f\"{num} is an odd\")\n",
    "except Exception as e:\n",
    "    print(e)\n",
    "    print(3+4)"
   ]
  },
  {
   "cell_type": "code",
   "execution_count": 20,
   "id": "e06681dc",
   "metadata": {},
   "outputs": [
    {
     "name": "stdout",
     "output_type": "stream",
     "text": [
      "enter the number:2000\n",
      "greater than or equal to fifty\n"
     ]
    }
   ],
   "source": [
    "try:\n",
    "    num=eval(input(\"enter the number:\"))\n",
    "    if num>=50:\n",
    "        print(\"greater than or equal to fifty\")\n",
    "    else:\n",
    "        print(\"less than fifty\")\n",
    "except Exception as e:\n",
    "    print(e)"
   ]
  },
  {
   "cell_type": "code",
   "execution_count": null,
   "id": "af921b59",
   "metadata": {},
   "outputs": [
    {
     "name": "stdout",
     "output_type": "stream",
     "text": [
      "conducter:show me yyour id\n",
      "mom:no i forgot my id\n",
      "conducter:pay the money to travel\n",
      "mom:how much i ould pay\n",
      "conducter:how many kms you nwant tavel\n"
     ]
    }
   ],
   "source": [
    "try:\n",
    "    input(\"conducter:\")\n",
    "    id2=input(\"mom:\")\n",
    "    if id2=='yes':\n",
    "        print(\"enjoy the trip\")\n",
    "\n",
    "    else:\n",
    "        input(\"conducter:\")\n",
    "        input(\"mom:\")\n",
    "        input(\"conducter:\")\n",
    "        dis=eval(input(\"mother:\"))\n",
    "        input(\"mom:\")\n",
    "        fare=eval(input(\"conducter:\"))\n",
    "        total+dis*fare\n",
    "        print(f\"for the distance {dis}, total charge is {total}\")\n",
    "\n",
    "except Exception as e:\n",
    "    print(e)"
   ]
  },
  {
   "cell_type": "code",
   "execution_count": 1,
   "id": "1d0b01bd",
   "metadata": {},
   "outputs": [
    {
     "data": {
      "text/plain": [
       "False"
      ]
     },
     "execution_count": 1,
     "metadata": {},
     "output_type": "execute_result"
    }
   ],
   "source": [
    "bool(0)"
   ]
  },
  {
   "cell_type": "code",
   "execution_count": 2,
   "id": "f5dc8668",
   "metadata": {},
   "outputs": [
    {
     "data": {
      "text/plain": [
       "int"
      ]
     },
     "execution_count": 2,
     "metadata": {},
     "output_type": "execute_result"
    }
   ],
   "source": [
    "a=10\n",
    "a\n",
    "type(a)"
   ]
  },
  {
   "cell_type": "code",
   "execution_count": 3,
   "id": "4ae600fa",
   "metadata": {},
   "outputs": [
    {
     "data": {
      "text/plain": [
       "(10+0j)"
      ]
     },
     "execution_count": 3,
     "metadata": {},
     "output_type": "execute_result"
    }
   ],
   "source": [
    "complex(10)"
   ]
  },
  {
   "cell_type": "code",
   "execution_count": 4,
   "id": "96f405d2",
   "metadata": {},
   "outputs": [
    {
     "data": {
      "text/plain": [
       "True"
      ]
     },
     "execution_count": 4,
     "metadata": {},
     "output_type": "execute_result"
    }
   ],
   "source": [
    "bool(12)"
   ]
  },
  {
   "cell_type": "code",
   "execution_count": 5,
   "id": "0c4549f9",
   "metadata": {},
   "outputs": [
    {
     "data": {
      "text/plain": [
       "[]"
      ]
     },
     "execution_count": 5,
     "metadata": {},
     "output_type": "execute_result"
    }
   ],
   "source": [
    "list()"
   ]
  },
  {
   "cell_type": "code",
   "execution_count": 6,
   "id": "51aeada8",
   "metadata": {},
   "outputs": [
    {
     "data": {
      "text/plain": [
       "'20'"
      ]
     },
     "execution_count": 6,
     "metadata": {},
     "output_type": "execute_result"
    }
   ],
   "source": [
    "str(20)"
   ]
  },
  {
   "cell_type": "code",
   "execution_count": 7,
   "id": "efec4ab3",
   "metadata": {},
   "outputs": [
    {
     "data": {
      "text/plain": [
       "'python'"
      ]
     },
     "execution_count": 7,
     "metadata": {},
     "output_type": "execute_result"
    }
   ],
   "source": [
    "str('python')"
   ]
  },
  {
   "cell_type": "code",
   "execution_count": 10,
   "id": "e3cec779",
   "metadata": {},
   "outputs": [
    {
     "data": {
      "text/plain": [
       "1"
      ]
     },
     "execution_count": 10,
     "metadata": {},
     "output_type": "execute_result"
    }
   ],
   "source": [
    "int(1)\n",
    "#float\n",
    "#str\n",
    "#bool\n",
    "#compex\n"
   ]
  },
  {
   "cell_type": "code",
   "execution_count": 11,
   "id": "e511db0f",
   "metadata": {},
   "outputs": [
    {
     "data": {
      "text/plain": [
       "int"
      ]
     },
     "execution_count": 11,
     "metadata": {},
     "output_type": "execute_result"
    }
   ],
   "source": [
    "type(1)"
   ]
  },
  {
   "cell_type": "code",
   "execution_count": 13,
   "id": "672a53b9",
   "metadata": {},
   "outputs": [],
   "source": [
    "b=False\n"
   ]
  },
  {
   "cell_type": "code",
   "execution_count": 14,
   "id": "e3c13fea",
   "metadata": {},
   "outputs": [
    {
     "data": {
      "text/plain": [
       "bool"
      ]
     },
     "execution_count": 14,
     "metadata": {},
     "output_type": "execute_result"
    }
   ],
   "source": [
    "type(b)"
   ]
  },
  {
   "cell_type": "code",
   "execution_count": 17,
   "id": "b57817a7",
   "metadata": {},
   "outputs": [],
   "source": [
    "c=4.4"
   ]
  },
  {
   "cell_type": "code",
   "execution_count": 18,
   "id": "cd5ca936",
   "metadata": {},
   "outputs": [
    {
     "data": {
      "text/plain": [
       "float"
      ]
     },
     "execution_count": 18,
     "metadata": {},
     "output_type": "execute_result"
    }
   ],
   "source": [
    "type(c)"
   ]
  },
  {
   "cell_type": "code",
   "execution_count": 19,
   "id": "c7042ee3",
   "metadata": {},
   "outputs": [
    {
     "ename": "NameError",
     "evalue": "name 'v' is not defined",
     "output_type": "error",
     "traceback": [
      "\u001b[1;31m---------------------------------------------------------------------------\u001b[0m",
      "\u001b[1;31mNameError\u001b[0m                                 Traceback (most recent call last)",
      "Cell \u001b[1;32mIn[19], line 1\u001b[0m\n\u001b[1;32m----> 1\u001b[0m \u001b[38;5;28mprint\u001b[39m(\u001b[38;5;28mtype\u001b[39m(v))\n",
      "\u001b[1;31mNameError\u001b[0m: name 'v' is not defined"
     ]
    }
   ],
   "source": [
    "print(type(v))"
   ]
  },
  {
   "cell_type": "code",
   "execution_count": 20,
   "id": "c00abc3a",
   "metadata": {},
   "outputs": [
    {
     "data": {
      "text/plain": [
       "''"
      ]
     },
     "execution_count": 20,
     "metadata": {},
     "output_type": "execute_result"
    }
   ],
   "source": [
    "str()"
   ]
  },
  {
   "cell_type": "code",
   "execution_count": 21,
   "id": "ccd117b9",
   "metadata": {},
   "outputs": [
    {
     "name": "stdout",
     "output_type": "stream",
     "text": [
      "2.0\n"
     ]
    }
   ],
   "source": [
    "a=2\n",
    "print(float(a))"
   ]
  },
  {
   "cell_type": "code",
   "execution_count": 22,
   "id": "c9eb264f",
   "metadata": {},
   "outputs": [
    {
     "name": "stdout",
     "output_type": "stream",
     "text": [
      "5\n"
     ]
    }
   ],
   "source": [
    "b=5.5\n",
    "print(int(b))"
   ]
  },
  {
   "cell_type": "code",
   "execution_count": null,
   "id": "8eea17c0",
   "metadata": {},
   "outputs": [],
   "source": [
    "\"\"\""
   ]
  },
  {
   "cell_type": "code",
   "execution_count": null,
   "id": "aeb63e3d",
   "metadata": {},
   "outputs": [],
   "source": [
    "data lose ---> explicit type coversion\n",
    "no data-----> implicit type conversion"
   ]
  },
  {
   "cell_type": "code",
   "execution_count": null,
   "id": "0304bda0",
   "metadata": {},
   "outputs": [],
   "source": [
    "\"\"\""
   ]
  },
  {
   "cell_type": "code",
   "execution_count": 25,
   "id": "9753cad0",
   "metadata": {},
   "outputs": [],
   "source": [
    "a=\"python\""
   ]
  },
  {
   "cell_type": "code",
   "execution_count": 26,
   "id": "2ae7a410",
   "metadata": {},
   "outputs": [
    {
     "name": "stdout",
     "output_type": "stream",
     "text": [
      "python\n"
     ]
    }
   ],
   "source": [
    "print(a)"
   ]
  },
  {
   "cell_type": "code",
   "execution_count": 27,
   "id": "22bc1c97",
   "metadata": {},
   "outputs": [
    {
     "data": {
      "text/plain": [
       "str"
      ]
     },
     "execution_count": 27,
     "metadata": {},
     "output_type": "execute_result"
    }
   ],
   "source": [
    "type(a)"
   ]
  },
  {
   "cell_type": "code",
   "execution_count": 28,
   "id": "96a64f6f",
   "metadata": {},
   "outputs": [
    {
     "data": {
      "text/plain": [
       "''"
      ]
     },
     "execution_count": 28,
     "metadata": {},
     "output_type": "execute_result"
    }
   ],
   "source": [
    "str()"
   ]
  },
  {
   "cell_type": "code",
   "execution_count": 29,
   "id": "134ab9a1",
   "metadata": {},
   "outputs": [
    {
     "ename": "SyntaxError",
     "evalue": "cannot assign to literal here. Maybe you meant '==' instead of '='? (3977211659.py, line 1)",
     "output_type": "error",
     "traceback": [
      "\u001b[1;36m  Cell \u001b[1;32mIn[29], line 1\u001b[1;36m\u001b[0m\n\u001b[1;33m    1=\"python\"\u001b[0m\n\u001b[1;37m    ^\u001b[0m\n\u001b[1;31mSyntaxError\u001b[0m\u001b[1;31m:\u001b[0m cannot assign to literal here. Maybe you meant '==' instead of '='?\n"
     ]
    }
   ],
   "source": [
    "1=\"python\""
   ]
  },
  {
   "cell_type": "code",
   "execution_count": 30,
   "id": "5a6c657e",
   "metadata": {},
   "outputs": [
    {
     "ename": "SyntaxError",
     "evalue": "cannot assign to literal here. Maybe you meant '==' instead of '='? (2422234436.py, line 1)",
     "output_type": "error",
     "traceback": [
      "\u001b[1;36m  Cell \u001b[1;32mIn[30], line 1\u001b[1;36m\u001b[0m\n\u001b[1;33m    @123=\"hi\"\u001b[0m\n\u001b[1;37m     ^\u001b[0m\n\u001b[1;31mSyntaxError\u001b[0m\u001b[1;31m:\u001b[0m cannot assign to literal here. Maybe you meant '==' instead of '='?\n"
     ]
    }
   ],
   "source": [
    "@123=\"hi\""
   ]
  },
  {
   "cell_type": "code",
   "execution_count": 33,
   "id": "a7bad3f0",
   "metadata": {},
   "outputs": [],
   "source": []
  },
  {
   "cell_type": "code",
   "execution_count": 34,
   "id": "c2ee7aca",
   "metadata": {},
   "outputs": [
    {
     "name": "stdout",
     "output_type": "stream",
     "text": [
      "pyython\n"
     ]
    }
   ],
   "source": [
    "a=\"python\"\n",
    "print(a)"
   ]
  },
  {
   "cell_type": "code",
   "execution_count": 35,
   "id": "15cf643b",
   "metadata": {},
   "outputs": [],
   "source": [
    "a='python'"
   ]
  },
  {
   "cell_type": "code",
   "execution_count": 36,
   "id": "7eaee503",
   "metadata": {},
   "outputs": [
    {
     "name": "stdout",
     "output_type": "stream",
     "text": [
      "python\n"
     ]
    }
   ],
   "source": [
    "print(a)"
   ]
  },
  {
   "cell_type": "markdown",
   "id": "3ce7a827",
   "metadata": {},
   "source": [
    "$variable$"
   ]
  },
  {
   "cell_type": "code",
   "execution_count": 38,
   "id": "6d10af1a",
   "metadata": {},
   "outputs": [],
   "source": [
    "a=100"
   ]
  },
  {
   "cell_type": "code",
   "execution_count": 39,
   "id": "c3dc08ca",
   "metadata": {},
   "outputs": [
    {
     "data": {
      "text/plain": [
       "int"
      ]
     },
     "execution_count": 39,
     "metadata": {},
     "output_type": "execute_result"
    }
   ],
   "source": [
    "type(a)"
   ]
  },
  {
   "cell_type": "code",
   "execution_count": 43,
   "id": "ed341350",
   "metadata": {},
   "outputs": [
    {
     "name": "stdout",
     "output_type": "stream",
     "text": [
      "100 200 300\n"
     ]
    }
   ],
   "source": [
    "a,b,c=100,200,300\n",
    "print(a,b,c)"
   ]
  },
  {
   "cell_type": "code",
   "execution_count": 45,
   "id": "5f782ab0",
   "metadata": {},
   "outputs": [
    {
     "data": {
      "text/plain": [
       "int"
      ]
     },
     "execution_count": 45,
     "metadata": {},
     "output_type": "execute_result"
    }
   ],
   "source": [
    "type(a)"
   ]
  },
  {
   "cell_type": "code",
   "execution_count": 46,
   "id": "56369510",
   "metadata": {},
   "outputs": [],
   "source": [
    "c=1,2,3"
   ]
  },
  {
   "cell_type": "code",
   "execution_count": 47,
   "id": "dc8f3e68",
   "metadata": {},
   "outputs": [
    {
     "name": "stdout",
     "output_type": "stream",
     "text": [
      "(1, 2, 3)\n"
     ]
    }
   ],
   "source": [
    "print(c)"
   ]
  },
  {
   "cell_type": "code",
   "execution_count": 48,
   "id": "1f9d2795",
   "metadata": {},
   "outputs": [],
   "source": [
    "c=v=x=200"
   ]
  },
  {
   "cell_type": "code",
   "execution_count": 52,
   "id": "d9491272",
   "metadata": {},
   "outputs": [
    {
     "name": "stdout",
     "output_type": "stream",
     "text": [
      "200 200 200\n"
     ]
    }
   ],
   "source": [
    "print(c,v,x)"
   ]
  },
  {
   "cell_type": "code",
   "execution_count": 50,
   "id": "a758684c",
   "metadata": {},
   "outputs": [
    {
     "name": "stdout",
     "output_type": "stream",
     "text": [
      "200\n"
     ]
    }
   ],
   "source": [
    "print(v)"
   ]
  },
  {
   "cell_type": "code",
   "execution_count": 51,
   "id": "4aa0a2b3",
   "metadata": {},
   "outputs": [
    {
     "name": "stdout",
     "output_type": "stream",
     "text": [
      "200\n"
     ]
    }
   ],
   "source": [
    "print(x)"
   ]
  },
  {
   "cell_type": "markdown",
   "id": "75df5ec6",
   "metadata": {},
   "source": [
    "- syntax is nothing bbuut rukes\n"
   ]
  },
  {
   "cell_type": "markdown",
   "id": "c0fb214d",
   "metadata": {},
   "source": [
    "- 1. alphabets\n",
    "- 2.number symbols no\n",
    "- 3. _start\n",
    "- 4. case sensitive"
   ]
  },
  {
   "cell_type": "code",
   "execution_count": 55,
   "id": "82331079",
   "metadata": {},
   "outputs": [
    {
     "name": "stdout",
     "output_type": "stream",
     "text": [
      "200\n"
     ]
    }
   ],
   "source": [
    "number12=200\n",
    "print(number12)"
   ]
  },
  {
   "cell_type": "code",
   "execution_count": 56,
   "id": "8c1b21b0",
   "metadata": {},
   "outputs": [
    {
     "name": "stdout",
     "output_type": "stream",
     "text": [
      "1234\n"
     ]
    }
   ],
   "source": [
    "num1=1234\n",
    "print(num1)"
   ]
  },
  {
   "cell_type": "code",
   "execution_count": null,
   "id": "67fc6b04",
   "metadata": {},
   "outputs": [],
   "source": []
  },
  {
   "cell_type": "code",
   "execution_count": 58,
   "id": "0340a245",
   "metadata": {},
   "outputs": [
    {
     "name": "stdout",
     "output_type": "stream",
     "text": [
      "100\n"
     ]
    }
   ],
   "source": [
    "python=100\n",
    "PYTHON=200\n",
    "print(python)"
   ]
  },
  {
   "cell_type": "code",
   "execution_count": 59,
   "id": "e5fabdb2",
   "metadata": {},
   "outputs": [
    {
     "name": "stdout",
     "output_type": "stream",
     "text": [
      "200\n"
     ]
    }
   ],
   "source": [
    "print(PYTHON)"
   ]
  },
  {
   "cell_type": "markdown",
   "id": "4bdcdfe5",
   "metadata": {},
   "source": [
    "- python is case sensitive"
   ]
  },
  {
   "cell_type": "code",
   "execution_count": 62,
   "id": "c6279b44",
   "metadata": {},
   "outputs": [
    {
     "name": "stdout",
     "output_type": "stream",
     "text": [
      " hello how are you i am good\n"
     ]
    }
   ],
   "source": [
    "print(\" hello how are you i am good\")"
   ]
  },
  {
   "cell_type": "code",
   "execution_count": 63,
   "id": "45d4b57e",
   "metadata": {},
   "outputs": [
    {
     "name": "stdout",
     "output_type": "stream",
     "text": [
      "hello how are you i am good\n"
     ]
    }
   ],
   "source": [
    "print('hello how are you i am good')"
   ]
  },
  {
   "cell_type": "code",
   "execution_count": null,
   "id": "34cc5ede",
   "metadata": {},
   "outputs": [],
   "source": [
    "age=23\n",
    "name=python\n",
    "city=\n",
    "print(f\"my{name},my age is {age},im from {city}\")"
   ]
  },
  {
   "cell_type": "code",
   "execution_count": null,
   "id": "5654f635",
   "metadata": {},
   "outputs": [],
   "source": [
    "eee"
   ]
  },
  {
   "cell_type": "code",
   "execution_count": null,
   "id": "ef8a6462",
   "metadata": {},
   "outputs": [],
   "source": [
    "dff"
   ]
  },
  {
   "cell_type": "code",
   "execution_count": null,
   "id": "ef218c60",
   "metadata": {},
   "outputs": [],
   "source": [
    "############################## strings########################"
   ]
  },
  {
   "cell_type": "code",
   "execution_count": null,
   "id": "3efd2d4f",
   "metadata": {},
   "outputs": [],
   "source": [
    "colllection of characters 3types\n",
    "\n",
    "a, b ,c ----\n",
    "\"python,\",'hyd',\"\"\"  \"\"\""
   ]
  },
  {
   "cell_type": "code",
   "execution_count": 1,
   "id": "1ccbf1a3",
   "metadata": {},
   "outputs": [
    {
     "data": {
      "text/plain": [
       "'PY'"
      ]
     },
     "execution_count": 1,
     "metadata": {},
     "output_type": "execute_result"
    }
   ],
   "source": [
    "a='py'\n",
    "b=\"py\"\n",
    "c=\"\"\"py\"\"\"\n",
    "a.upper()"
   ]
  },
  {
   "cell_type": "code",
   "execution_count": 3,
   "id": "43a1e340",
   "metadata": {},
   "outputs": [
    {
     "name": "stdout",
     "output_type": "stream",
     "text": [
      "18\n"
     ]
    }
   ],
   "source": [
    "a=\"python datascience\"\n",
    "print(len(a))"
   ]
  },
  {
   "cell_type": "code",
   "execution_count": null,
   "id": "5cb61eca",
   "metadata": {},
   "outputs": [],
   "source": [
    "###############################################################"
   ]
  },
  {
   "cell_type": "code",
   "execution_count": null,
   "id": "fd434475",
   "metadata": {},
   "outputs": [],
   "source": [
    "colecction of characters\n",
    "a='pythonlife'\n",
    "b=\"pythonlife\"\n",
    "c='''python life'''\n",
    "\n",
    "lower\n",
    "upper\n",
    "endswith\n",
    "startswith\n",
    "eplace\n",
    "find\n",
    "index\n",
    "count\n",
    "remove prefix\n",
    "remove suffix\n",
    "split\n",
    "strip\n",
    "rstrip\n",
    "lstrip\n"
   ]
  },
  {
   "cell_type": "code",
   "execution_count": 8,
   "id": "24a92c22",
   "metadata": {},
   "outputs": [
    {
     "name": "stdout",
     "output_type": "stream",
     "text": [
      "NAMEISASIF\n"
     ]
    }
   ],
   "source": [
    "A=\"nameisasif\"\n",
    "print(A.upper())"
   ]
  },
  {
   "cell_type": "code",
   "execution_count": 11,
   "id": "5844846d",
   "metadata": {},
   "outputs": [
    {
     "name": "stdout",
     "output_type": "stream",
     "text": [
      "python\n"
     ]
    }
   ],
   "source": [
    "A=\"PYTHON\"\n",
    "print(A.lower())"
   ]
  },
  {
   "cell_type": "code",
   "execution_count": 13,
   "id": "66b43d5b",
   "metadata": {},
   "outputs": [
    {
     "name": "stdout",
     "output_type": "stream",
     "text": [
      "python language\n"
     ]
    }
   ],
   "source": [
    "A=\"python language\"\n",
    "print(A.casefold())"
   ]
  },
  {
   "cell_type": "code",
   "execution_count": 14,
   "id": "1a3db421",
   "metadata": {},
   "outputs": [
    {
     "name": "stdout",
     "output_type": "stream",
     "text": [
      "True\n"
     ]
    }
   ],
   "source": [
    "print(A.endswith(\"e\"))"
   ]
  },
  {
   "cell_type": "code",
   "execution_count": 15,
   "id": "7fc242b5",
   "metadata": {},
   "outputs": [
    {
     "name": "stdout",
     "output_type": "stream",
     "text": [
      "True\n"
     ]
    }
   ],
   "source": [
    "print(A.startswith(\"p\"))"
   ]
  },
  {
   "cell_type": "code",
   "execution_count": 16,
   "id": "8156b4de",
   "metadata": {},
   "outputs": [
    {
     "name": "stdout",
     "output_type": "stream",
     "text": [
      "python programming\n"
     ]
    }
   ],
   "source": [
    "A=\"python language\"\n",
    "print(A.replace(\"language\",\"programming\"))"
   ]
  },
  {
   "cell_type": "markdown",
   "id": "eba556e3",
   "metadata": {},
   "source": [
    "$find$"
   ]
  },
  {
   "cell_type": "code",
   "execution_count": 20,
   "id": "ffd73919",
   "metadata": {},
   "outputs": [
    {
     "name": "stdout",
     "output_type": "stream",
     "text": [
      "-1\n"
     ]
    }
   ],
   "source": [
    "A=\"python language\"\n",
    "#print(A.index(\"asif\"))\n",
    "print(A.find(\"asif\"))"
   ]
  },
  {
   "cell_type": "code",
   "execution_count": 21,
   "id": "1d0bd918",
   "metadata": {},
   "outputs": [
    {
     "name": "stdout",
     "output_type": "stream",
     "text": [
      "2\n"
     ]
    }
   ],
   "source": [
    "A=\"python language\"\n",
    "print(A.count('a'))"
   ]
  },
  {
   "cell_type": "code",
   "execution_count": 22,
   "id": "2c1125b6",
   "metadata": {},
   "outputs": [
    {
     "name": "stdout",
     "output_type": "stream",
     "text": [
      " language\n"
     ]
    }
   ],
   "source": [
    "A=\"python language\"\n",
    "print(A.removeprefix(\"python\"))"
   ]
  },
  {
   "cell_type": "code",
   "execution_count": 23,
   "id": "f4d022d7",
   "metadata": {},
   "outputs": [],
   "source": [
    "# front part =prifix"
   ]
  },
  {
   "cell_type": "code",
   "execution_count": 24,
   "id": "a7ea20ad",
   "metadata": {},
   "outputs": [
    {
     "name": "stdout",
     "output_type": "stream",
     "text": [
      "python \n"
     ]
    }
   ],
   "source": [
    "A=\"python language\"\n",
    "print(A.removesuffix(\"language\"))"
   ]
  },
  {
   "cell_type": "code",
   "execution_count": 25,
   "id": "ba34f5af",
   "metadata": {},
   "outputs": [
    {
     "name": "stdout",
     "output_type": "stream",
     "text": [
      "python language\n"
     ]
    }
   ],
   "source": [
    "A=\"python language\"\n",
    "print(A.removesuffix(\"python\"))"
   ]
  },
  {
   "cell_type": "code",
   "execution_count": 28,
   "id": "8f6e756d",
   "metadata": {},
   "outputs": [
    {
     "name": "stdout",
     "output_type": "stream",
     "text": [
      "['python', 'language']\n"
     ]
    }
   ],
   "source": [
    "A=\"python language\"\n",
    "print(A.split())"
   ]
  },
  {
   "cell_type": "code",
   "execution_count": 30,
   "id": "a14511fe",
   "metadata": {},
   "outputs": [
    {
     "data": {
      "text/plain": [
       "29"
      ]
     },
     "execution_count": 30,
     "metadata": {},
     "output_type": "execute_result"
    }
   ],
   "source": [
    "B=\"     python   data  scince   \"\n",
    "len(B)"
   ]
  },
  {
   "cell_type": "code",
   "execution_count": 31,
   "id": "773a9141",
   "metadata": {},
   "outputs": [
    {
     "name": "stdout",
     "output_type": "stream",
     "text": [
      "python   data  scince\n"
     ]
    }
   ],
   "source": [
    "print(B.strip())  # empty space is gone front and back"
   ]
  },
  {
   "cell_type": "code",
   "execution_count": 32,
   "id": "1b607036",
   "metadata": {},
   "outputs": [
    {
     "name": "stdout",
     "output_type": "stream",
     "text": [
      "python   data  scince   \n"
     ]
    }
   ],
   "source": [
    "B=\"     python   data  scince   \"   # left side spacewilll be removed\n",
    "print(B.lstrip())"
   ]
  },
  {
   "cell_type": "code",
   "execution_count": 33,
   "id": "2dfd3927",
   "metadata": {},
   "outputs": [
    {
     "name": "stdout",
     "output_type": "stream",
     "text": [
      "     python   data  scince\n"
     ]
    }
   ],
   "source": [
    "B=\"     python   data  scince   \"\n",
    "print(B.rstrip())"
   ]
  },
  {
   "cell_type": "code",
   "execution_count": 34,
   "id": "4b23d1ab",
   "metadata": {},
   "outputs": [
    {
     "data": {
      "text/plain": [
       "21"
      ]
     },
     "execution_count": 34,
     "metadata": {},
     "output_type": "execute_result"
    }
   ],
   "source": [
    "B=\"python   data  scince\"\n",
    "len(B)"
   ]
  },
  {
   "cell_type": "code",
   "execution_count": 35,
   "id": "faf5d3cd",
   "metadata": {},
   "outputs": [],
   "source": [
    "##############################################################"
   ]
  },
  {
   "cell_type": "markdown",
   "id": "31c5a12b",
   "metadata": {},
   "source": [
    "## list in strings"
   ]
  },
  {
   "cell_type": "code",
   "execution_count": 36,
   "id": "f6caf158",
   "metadata": {},
   "outputs": [],
   "source": [
    "A=[1,2,3,4,5,True,'python','hyd']\n"
   ]
  },
  {
   "cell_type": "code",
   "execution_count": 39,
   "id": "58f164f3",
   "metadata": {},
   "outputs": [
    {
     "ename": "TypeError",
     "evalue": "'int' object is not subscriptable",
     "output_type": "error",
     "traceback": [
      "\u001b[1;31m---------------------------------------------------------------------------\u001b[0m",
      "\u001b[1;31mTypeError\u001b[0m                                 Traceback (most recent call last)",
      "Cell \u001b[1;32mIn[39], line 1\u001b[0m\n\u001b[1;32m----> 1\u001b[0m \u001b[38;5;28mprint\u001b[39m(A[\u001b[38;5;241m0\u001b[39m][\u001b[38;5;241m2\u001b[39m])\n",
      "\u001b[1;31mTypeError\u001b[0m: 'int' object is not subscriptable"
     ]
    }
   ],
   "source": []
  },
  {
   "cell_type": "code",
   "execution_count": 40,
   "id": "bfe91953",
   "metadata": {},
   "outputs": [
    {
     "name": "stdout",
     "output_type": "stream",
     "text": [
      "5\n"
     ]
    }
   ],
   "source": [
    "A=[]\n",
    "B=[ ]\n",
    "\n",
    "C=[1,2,3,4,5,'hyderabad']\n",
    "print(C[4])"
   ]
  },
  {
   "cell_type": "markdown",
   "id": "94d4a597",
   "metadata": {},
   "source": [
    "$slice$"
   ]
  },
  {
   "cell_type": "code",
   "execution_count": 41,
   "id": "10972e8f",
   "metadata": {},
   "outputs": [
    {
     "name": "stdout",
     "output_type": "stream",
     "text": [
      "hyderabad\n"
     ]
    }
   ],
   "source": [
    "print(C[-1])"
   ]
  },
  {
   "cell_type": "code",
   "execution_count": 46,
   "id": "4dfe2ea8",
   "metadata": {},
   "outputs": [
    {
     "name": "stdout",
     "output_type": "stream",
     "text": [
      "[1, 3, 5]\n"
     ]
    }
   ],
   "source": [
    "print(C[0:6:2])"
   ]
  },
  {
   "cell_type": "code",
   "execution_count": 47,
   "id": "6cd8f32c",
   "metadata": {},
   "outputs": [
    {
     "name": "stdout",
     "output_type": "stream",
     "text": [
      "['hyderabad', 5, 4, 3, 2, 1]\n"
     ]
    }
   ],
   "source": [
    "print(C[::-1])"
   ]
  },
  {
   "cell_type": "code",
   "execution_count": 48,
   "id": "5c22fd4b",
   "metadata": {},
   "outputs": [
    {
     "name": "stdout",
     "output_type": "stream",
     "text": [
      "[1, 2, 3, 4, 5, 'hyderabad']\n"
     ]
    }
   ],
   "source": [
    "print(C[:])"
   ]
  },
  {
   "cell_type": "code",
   "execution_count": 49,
   "id": "8ca83d32",
   "metadata": {},
   "outputs": [
    {
     "name": "stdout",
     "output_type": "stream",
     "text": [
      "[1, 2, 3, 4, 5, 'hyderabad']\n"
     ]
    }
   ],
   "source": [
    "print(C[::])"
   ]
  },
  {
   "cell_type": "code",
   "execution_count": null,
   "id": "2bc37935",
   "metadata": {},
   "outputs": [],
   "source": [
    "\n",
    "append\n",
    "extend\n",
    "count\n",
    "insert\n",
    "pop\n",
    "remove\n",
    "index\n"
   ]
  },
  {
   "cell_type": "code",
   "execution_count": 50,
   "id": "5947186d",
   "metadata": {},
   "outputs": [],
   "source": [
    "A=[100,200,400,500,600,1,2,3,4,'python','gowa']"
   ]
  },
  {
   "cell_type": "code",
   "execution_count": 51,
   "id": "5d40dbaa",
   "metadata": {},
   "outputs": [
    {
     "data": {
      "text/plain": [
       "11"
      ]
     },
     "execution_count": 51,
     "metadata": {},
     "output_type": "execute_result"
    }
   ],
   "source": [
    "len(A)"
   ]
  },
  {
   "cell_type": "code",
   "execution_count": 60,
   "id": "505c9292",
   "metadata": {},
   "outputs": [
    {
     "name": "stdout",
     "output_type": "stream",
     "text": [
      "3\n"
     ]
    }
   ],
   "source": [
    "A=[100,200,400,500,1,1,2,2,600,1,2,3,4,'python','gowa']\n",
    "print(A.count(2))"
   ]
  },
  {
   "cell_type": "code",
   "execution_count": 62,
   "id": "a32dd783",
   "metadata": {},
   "outputs": [
    {
     "name": "stdout",
     "output_type": "stream",
     "text": [
      "[100, 400, 1, 1, 2, 2, 600, 1, 2, 3, 4, 'python', 'gowa']\n"
     ]
    }
   ],
   "source": [
    "A.pop(1)\n",
    "print(A)"
   ]
  },
  {
   "cell_type": "code",
   "execution_count": null,
   "id": "1115157e",
   "metadata": {},
   "outputs": [],
   "source": [
    "A.remove(500)\n",
    "print(A)"
   ]
  },
  {
   "cell_type": "code",
   "execution_count": 64,
   "id": "1910eb8e",
   "metadata": {},
   "outputs": [
    {
     "name": "stdout",
     "output_type": "stream",
     "text": [
      "10\n"
     ]
    }
   ],
   "source": [
    "print(A.index(4))"
   ]
  },
  {
   "cell_type": "code",
   "execution_count": 66,
   "id": "af61479d",
   "metadata": {},
   "outputs": [
    {
     "name": "stdout",
     "output_type": "stream",
     "text": [
      "100 400 1 1 2 2 600 1 2 3 4 python gowa "
     ]
    }
   ],
   "source": [
    "for i in :\n",
    "    print(i,end=' ')"
   ]
  },
  {
   "cell_type": "code",
   "execution_count": null,
   "id": "fcae8c1f",
   "metadata": {},
   "outputs": [],
   "source": [
    "#################### for loop ##################################"
   ]
  },
  {
   "cell_type": "code",
   "execution_count": 9,
   "id": "22b918be",
   "metadata": {},
   "outputs": [],
   "source": [
    "names1=['Asif','Dhoni','mahesh babu','vijay','hyd','Delhi']"
   ]
  },
  {
   "cell_type": "code",
   "execution_count": 16,
   "id": "0d72cf6e",
   "metadata": {},
   "outputs": [
    {
     "name": "stdout",
     "output_type": "stream",
     "text": [
      "['Asif', 'Dhoni', 'mahesh babu', 'vijay', 'hyd', 'Delhi']\n",
      "['Asif', 'Dhoni', 'mahesh babu', 'vijay', 'hyd', 'Delhi']\n",
      "['Asif', 'Dhoni', 'mahesh babu', 'vijay', 'hyd', 'Delhi']\n",
      "['Asif', 'Dhoni', 'mahesh babu', 'vijay', 'hyd', 'Delhi']\n",
      "['Asif', 'Dhoni', 'mahesh babu', 'vijay', 'hyd', 'Delhi']\n",
      "['Asif', 'Dhoni', 'mahesh babu', 'vijay', 'hyd', 'Delhi']\n"
     ]
    }
   ],
   "source": [
    "for i in names1:\n",
    "    print(names1)"
   ]
  },
  {
   "cell_type": "code",
   "execution_count": 18,
   "id": "d37469a2",
   "metadata": {},
   "outputs": [
    {
     "data": {
      "text/plain": [
       "['python']"
      ]
     },
     "execution_count": 18,
     "metadata": {},
     "output_type": "execute_result"
    }
   ],
   "source": [
    "s1=['python']\n",
    "s1"
   ]
  },
  {
   "cell_type": "code",
   "execution_count": 22,
   "id": "dfef054a",
   "metadata": {},
   "outputs": [
    {
     "name": "stdout",
     "output_type": "stream",
     "text": [
      "['python']\n"
     ]
    }
   ],
   "source": [
    "s1=['python']\n",
    "print(s1)"
   ]
  },
  {
   "cell_type": "code",
   "execution_count": 23,
   "id": "b28e2c0a",
   "metadata": {},
   "outputs": [
    {
     "name": "stdout",
     "output_type": "stream",
     "text": [
      "['python']\n",
      "['python']\n",
      "['python']\n",
      "['python']\n",
      "['python']\n"
     ]
    }
   ],
   "source": [
    "for i in range(5):\n",
    "    print(s1)"
   ]
  },
  {
   "cell_type": "code",
   "execution_count": 29,
   "id": "648270d1",
   "metadata": {},
   "outputs": [
    {
     "name": "stdout",
     "output_type": "stream",
     "text": [
      "asif\n",
      "hey its my name\n"
     ]
    }
   ],
   "source": [
    "coco=['asif']\n",
    "for i in coco:\n",
    "    print(i)\n",
    "    if i=='asif':\n",
    "        print(\"hey its my name\")"
   ]
  },
  {
   "cell_type": "code",
   "execution_count": 30,
   "id": "a7a60352",
   "metadata": {},
   "outputs": [
    {
     "name": "stdout",
     "output_type": "stream",
     "text": [
      "1\n",
      "4\n",
      "9\n",
      "16\n",
      "25\n",
      "100\n"
     ]
    }
   ],
   "source": [
    "numbers=[1,2,3,4,-5,10]\n",
    "for i in numbers:\n",
    "    square=i**2\n",
    "    print(square)"
   ]
  },
  {
   "cell_type": "code",
   "execution_count": 32,
   "id": "ff34458e",
   "metadata": {},
   "outputs": [
    {
     "name": "stdout",
     "output_type": "stream",
     "text": [
      "[100]\n",
      "[100, 100]\n",
      "[100, 100, 100]\n",
      "[100, 100, 100, 100]\n",
      "[100, 100, 100, 100, 100]\n",
      "[100, 100, 100, 100, 100, 100]\n"
     ]
    }
   ],
   "source": [
    "numbers=[1,2,3,4,-5,10]\n",
    "squares=[]\n",
    "for i in numbers:\n",
    "    squares.append(square)\n",
    "    print(squares)"
   ]
  },
  {
   "cell_type": "code",
   "execution_count": 34,
   "id": "6f489ff4",
   "metadata": {},
   "outputs": [
    {
     "name": "stdout",
     "output_type": "stream",
     "text": [
      "the list of squares is: [1, 4, 9, 16, 25, 100]\n"
     ]
    }
   ],
   "source": [
    "numbers=[1,2,3,4,-5,10]\n",
    "squares=[]\n",
    "for i in numbers:\n",
    "    square=i**2\n",
    "    squares.append(square)\n",
    "print(\"the list of squares is:\",squares)"
   ]
  },
  {
   "cell_type": "code",
   "execution_count": 35,
   "id": "44ad2a0a",
   "metadata": {},
   "outputs": [
    {
     "name": "stdout",
     "output_type": "stream",
     "text": [
      "the list of squares is: [1]\n",
      "the list of squares is: [1, 4]\n",
      "the list of squares is: [1, 4, 9]\n",
      "the list of squares is: [1, 4, 9, 16]\n",
      "the list of squares is: [1, 4, 9, 16, 25]\n",
      "the list of squares is: [1, 4, 9, 16, 25, 100]\n"
     ]
    }
   ],
   "source": [
    "numbers=[1,2,3,4,-5,10]\n",
    "squares=[]\n",
    "for i in numbers:\n",
    "    square=i**2\n",
    "    squares.append(square)\n",
    "    print(\"the list of squares is:\",squares)"
   ]
  },
  {
   "cell_type": "code",
   "execution_count": null,
   "id": "2aa37b97",
   "metadata": {},
   "outputs": [],
   "source": [
    "##############################################################"
   ]
  },
  {
   "cell_type": "code",
   "execution_count": 40,
   "id": "038aca81",
   "metadata": {},
   "outputs": [
    {
     "name": "stdout",
     "output_type": "stream",
     "text": [
      "difficult\n"
     ]
    }
   ],
   "source": [
    "a=10\n",
    "b=20\n",
    "if a==b:\n",
    "    print(\"a equalse to b \")\n",
    "else:\n",
    "    print(\"difficult\")"
   ]
  },
  {
   "cell_type": "code",
   "execution_count": null,
   "id": "29695157",
   "metadata": {},
   "outputs": [],
   "source": []
  },
  {
   "cell_type": "code",
   "execution_count": 46,
   "id": "6502cc90",
   "metadata": {},
   "outputs": [
    {
     "name": "stdout",
     "output_type": "stream",
     "text": [
      "1\n",
      "2\n",
      "3\n",
      "4\n",
      "-5\n",
      "-6\n",
      "0\n"
     ]
    }
   ],
   "source": [
    "numbers=[1,2,3,4,-5,-6,0,44]\n",
    "for i in numbers:\n",
    "    print(i)\n",
    "    if i==0:\n",
    "        break\n",
    "else:\n",
    "    print(\"sucessfully compleated\")"
   ]
  },
  {
   "cell_type": "code",
   "execution_count": 55,
   "id": "ab7a6385",
   "metadata": {},
   "outputs": [
    {
     "name": "stdout",
     "output_type": "stream",
     "text": [
      "2\n",
      "3\n",
      "4\n",
      "5\n",
      "0\n",
      "33\n",
      "6\n",
      "7\n",
      "88\n",
      "-1\n",
      "loop suceessfully copleted\n",
      "out of for/else\n"
     ]
    }
   ],
   "source": [
    "tuple1=[2,3,4,5,0,33,6,7,88,-1]\n",
    "for i in tuple1:\n",
    "    print(i)\n",
    "    \n",
    "else:\n",
    "    print(\"loop suceessfully copleted\")\n",
    "    print(\"out of for/else\")"
   ]
  },
  {
   "cell_type": "code",
   "execution_count": 57,
   "id": "a17c24c7",
   "metadata": {},
   "outputs": [
    {
     "name": "stdout",
     "output_type": "stream",
     "text": [
      "2\n",
      "3\n",
      "4\n",
      "5\n",
      "0\n",
      "33\n",
      "6\n",
      "7\n",
      "88\n",
      "-1\n",
      "loop suceessfully copleted\n",
      "out of for else\n"
     ]
    }
   ],
   "source": [
    "tuple1=[2,3,4,5,0,33,6,7,88,-1]\n",
    "for i in tuple1:\n",
    "    print(i)\n",
    "    if 1%2==0:\n",
    "        break\n",
    "else:\n",
    "    print(\"loop suceessfully copleted\")\n",
    "    print(\"out of for else\")"
   ]
  },
  {
   "cell_type": "code",
   "execution_count": 59,
   "id": "c7369b25",
   "metadata": {},
   "outputs": [
    {
     "name": "stdout",
     "output_type": "stream",
     "text": [
      "2\n",
      "3\n",
      "4\n",
      "5\n",
      "0\n",
      "33\n",
      "6\n",
      "7\n",
      "88\n",
      "-1\n",
      "loop suceessfully copleted\n",
      "out of for else\n"
     ]
    }
   ],
   "source": [
    "tuple1=[2,3,4,5,0,33,6,7,88,-1]\n",
    "for i in tuple1:\n",
    "    print(i)\n",
    "    if 1%2==0:\n",
    "        break\n",
    "else:\n",
    "    print(\"loop suceessfully copleted\")\n",
    "    print(\"out of for else\")"
   ]
  },
  {
   "cell_type": "code",
   "execution_count": null,
   "id": "7bf74960",
   "metadata": {},
   "outputs": [],
   "source": [
    "######################################################################"
   ]
  },
  {
   "cell_type": "code",
   "execution_count": null,
   "id": "06c6db88",
   "metadata": {},
   "outputs": [],
   "source": [
    "strings"
   ]
  },
  {
   "cell_type": "code",
   "execution_count": 11,
   "id": "6120f4e2",
   "metadata": {},
   "outputs": [
    {
     "name": "stdout",
     "output_type": "stream",
     "text": [
      "4\n",
      "-1\n"
     ]
    }
   ],
   "source": [
    "sbb1='how are you good'\n",
    "scc2='ground floor bike is available'\n",
    "print(sbb1.index(\"are\"))\n",
    "print(sbb1.find(\"kiran\"))"
   ]
  },
  {
   "cell_type": "code",
   "execution_count": 8,
   "id": "e8bb15d5",
   "metadata": {},
   "outputs": [
    {
     "data": {
      "text/plain": [
       "('how are you good',\n",
       " 'GROUND FLOOR BIKE IS AVAILABLE',\n",
       " 'ground floor bike is available')"
      ]
     },
     "execution_count": 8,
     "metadata": {},
     "output_type": "execute_result"
    }
   ],
   "source": [
    "sbb1.lower(),scc2.upper(),scc2.casefold()\n"
   ]
  },
  {
   "cell_type": "code",
   "execution_count": 7,
   "id": "e9969c07",
   "metadata": {},
   "outputs": [
    {
     "name": "stdout",
     "output_type": "stream",
     "text": [
      "why i should are you good\n"
     ]
    }
   ],
   "source": [
    "sbb1='how are you good'\n",
    "print(sbb1.replace('how',\"why i should\"))"
   ]
  },
  {
   "cell_type": "code",
   "execution_count": 26,
   "id": "109e8b3b",
   "metadata": {},
   "outputs": [
    {
     "name": "stdout",
     "output_type": "stream",
     "text": [
      "<built-in method rstrip of str object at 0x000001CE159599D0>\n"
     ]
    }
   ],
   "source": [
    "sbb1='how are you good'\n",
    "\n",
    "#print(sbb1.count(\"o\"))\n",
    "#print(sbb1.removeprefix(\"how\"))\n",
    "#print(sbb1.removesuffix(\"good\"))\n",
    "#sbb1.split()\n",
    "#print(len(sbb1))\n",
    "#rint(sbb1.strip())\n",
    "#print(sbb1.lstrip())\n",
    "print(sbb1.rstrip)"
   ]
  },
  {
   "cell_type": "code",
   "execution_count": null,
   "id": "390dd191",
   "metadata": {},
   "outputs": [],
   "source": []
  },
  {
   "cell_type": "code",
   "execution_count": null,
   "id": "a15e3f37",
   "metadata": {},
   "outputs": [],
   "source": []
  }
 ],
 "metadata": {
  "kernelspec": {
   "display_name": "Python 3 (ipykernel)",
   "language": "python",
   "name": "python3"
  },
  "language_info": {
   "codemirror_mode": {
    "name": "ipython",
    "version": 3
   },
   "file_extension": ".py",
   "mimetype": "text/x-python",
   "name": "python",
   "nbconvert_exporter": "python",
   "pygments_lexer": "ipython3",
   "version": "3.11.5"
  }
 },
 "nbformat": 4,
 "nbformat_minor": 5
}
