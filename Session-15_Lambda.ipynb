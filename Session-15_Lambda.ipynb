{
 "cells": [
  {
   "cell_type": "code",
   "execution_count": null,
   "id": "9461241f",
   "metadata": {},
   "outputs": [],
   "source": [
    "- Lambda functions is also a kind of functions reresentation\n",
    "\n",
    "- More efficient way"
   ]
  },
  {
   "cell_type": "code",
   "execution_count": 2,
   "id": "00aa399f",
   "metadata": {},
   "outputs": [
    {
     "data": {
      "text/plain": [
       "20"
      ]
     },
     "execution_count": 2,
     "metadata": {},
     "output_type": "execute_result"
    }
   ],
   "source": [
    "def summ(num):\n",
    "    return(num+10)\n",
    "\n",
    "summ(10)\n",
    "\n",
    "# the function name is summ\n",
    "# the variable name is num \n",
    "# the return output is num+10"
   ]
  },
  {
   "cell_type": "code",
   "execution_count": null,
   "id": "5ac7465b",
   "metadata": {},
   "outputs": [],
   "source": [
    "<function_name>=lambda <variable_name>:<return output>"
   ]
  },
  {
   "cell_type": "code",
   "execution_count": 1,
   "id": "c2c22f6c",
   "metadata": {},
   "outputs": [
    {
     "data": {
      "text/plain": [
       "20"
      ]
     },
     "execution_count": 1,
     "metadata": {},
     "output_type": "execute_result"
    }
   ],
   "source": [
    "summ=lambda num:num+10\n",
    "summ(10)"
   ]
  },
  {
   "cell_type": "code",
   "execution_count": 5,
   "id": "95246a2c",
   "metadata": {},
   "outputs": [
    {
     "data": {
      "text/plain": [
       "1000"
      ]
     },
     "execution_count": 5,
     "metadata": {},
     "output_type": "execute_result"
    }
   ],
   "source": [
    "def cube(num):\n",
    "    return(num*num*num)\n",
    "\n",
    "cube(10)"
   ]
  },
  {
   "cell_type": "code",
   "execution_count": 7,
   "id": "4ef1a9b3",
   "metadata": {},
   "outputs": [
    {
     "data": {
      "text/plain": [
       "8000"
      ]
     },
     "execution_count": 7,
     "metadata": {},
     "output_type": "execute_result"
    }
   ],
   "source": [
    "cube=lambda num:num*num*num\n",
    "cube(20)"
   ]
  },
  {
   "cell_type": "markdown",
   "id": "e7c951a4",
   "metadata": {},
   "source": [
    "$-Two-arguments$"
   ]
  },
  {
   "cell_type": "code",
   "execution_count": 2,
   "id": "80e25fb7",
   "metadata": {},
   "outputs": [
    {
     "data": {
      "text/plain": [
       "300"
      ]
     },
     "execution_count": 2,
     "metadata": {},
     "output_type": "execute_result"
    }
   ],
   "source": [
    "def add(n1,n2):\n",
    "    return(n1+n2)\n",
    "add(100,200)"
   ]
  },
  {
   "cell_type": "code",
   "execution_count": null,
   "id": "3895ac7f",
   "metadata": {},
   "outputs": [],
   "source": [
    "<function_name>=lambda <var1>,<var2>:<return output>"
   ]
  },
  {
   "cell_type": "code",
   "execution_count": 3,
   "id": "4962a089",
   "metadata": {},
   "outputs": [
    {
     "data": {
      "text/plain": [
       "30"
      ]
     },
     "execution_count": 3,
     "metadata": {},
     "output_type": "execute_result"
    }
   ],
   "source": [
    "add=lambda n1,n2 : n1+n2 \n",
    "add(10,20)"
   ]
  },
  {
   "cell_type": "code",
   "execution_count": 4,
   "id": "3aab19c7",
   "metadata": {},
   "outputs": [
    {
     "data": {
      "text/plain": [
       "200"
      ]
     },
     "execution_count": 4,
     "metadata": {},
     "output_type": "execute_result"
    }
   ],
   "source": [
    "def mul(n1,n2):\n",
    "    return(n1*n2)\n",
    "mul(10,20)"
   ]
  },
  {
   "cell_type": "code",
   "execution_count": 1,
   "id": "5a801c78",
   "metadata": {},
   "outputs": [
    {
     "data": {
      "text/plain": [
       "200"
      ]
     },
     "execution_count": 1,
     "metadata": {},
     "output_type": "execute_result"
    }
   ],
   "source": [
    "mul=lambda n1,n2 :n1*n2\n",
    "mul(10,20)"
   ]
  },
  {
   "cell_type": "code",
   "execution_count": 14,
   "id": "4a9a33a0",
   "metadata": {},
   "outputs": [
    {
     "data": {
      "text/plain": [
       "-10"
      ]
     },
     "execution_count": 14,
     "metadata": {},
     "output_type": "execute_result"
    }
   ],
   "source": [
    "sub=lambda n1,n2 :n1-n2\n",
    "sub(10,20)"
   ]
  },
  {
   "cell_type": "code",
   "execution_count": 6,
   "id": "81da7f74",
   "metadata": {},
   "outputs": [
    {
     "data": {
      "text/plain": [
       "200.0"
      ]
     },
     "execution_count": 6,
     "metadata": {},
     "output_type": "execute_result"
    }
   ],
   "source": [
    "def avg(n1,n2,n3):\n",
    "    return((n1+n2+n3)/3)\n",
    "avg(100,200,300)"
   ]
  },
  {
   "cell_type": "code",
   "execution_count": 5,
   "id": "c7170cdb",
   "metadata": {},
   "outputs": [
    {
     "data": {
      "text/plain": [
       "25.0"
      ]
     },
     "execution_count": 5,
     "metadata": {},
     "output_type": "execute_result"
    }
   ],
   "source": [
    "def avg(num1,num2,num3,num4):\n",
    "    return(num1+num2+num3+num4)/4\n",
    "avg(10,20,30,40)"
   ]
  },
  {
   "cell_type": "code",
   "execution_count": 7,
   "id": "f91ed2df",
   "metadata": {},
   "outputs": [
    {
     "data": {
      "text/plain": [
       "25.0"
      ]
     },
     "execution_count": 7,
     "metadata": {},
     "output_type": "execute_result"
    }
   ],
   "source": [
    "avg=lambda num1,num2,num3,num4:(num1+num2+num3+num4)/4\n",
    "avg(10,20,30,40)"
   ]
  },
  {
   "cell_type": "code",
   "execution_count": 7,
   "id": "a4cd1925",
   "metadata": {},
   "outputs": [
    {
     "data": {
      "text/plain": [
       "20.0"
      ]
     },
     "execution_count": 7,
     "metadata": {},
     "output_type": "execute_result"
    }
   ],
   "source": [
    "avg=lambda n1,n2,n3 :(n1+n2+n3)/3\n",
    "avg(10,20,30)"
   ]
  },
  {
   "cell_type": "code",
   "execution_count": 8,
   "id": "1b655a84",
   "metadata": {},
   "outputs": [
    {
     "data": {
      "text/plain": [
       "200.0"
      ]
     },
     "execution_count": 8,
     "metadata": {},
     "output_type": "execute_result"
    }
   ],
   "source": [
    "def avg(n1,n2,n3=300):\n",
    "    return((n1+n2+n3)/3)\n",
    "avg(100,200)"
   ]
  },
  {
   "cell_type": "code",
   "execution_count": 8,
   "id": "0f6fc608",
   "metadata": {},
   "outputs": [
    {
     "data": {
      "text/plain": [
       "6000"
      ]
     },
     "execution_count": 8,
     "metadata": {},
     "output_type": "execute_result"
    }
   ],
   "source": [
    "def mul(n1,n2,n3):\n",
    "    return(n1*n2*n3)\n",
    "mul(10,20,30)"
   ]
  },
  {
   "cell_type": "code",
   "execution_count": 9,
   "id": "fc0b73b8",
   "metadata": {},
   "outputs": [
    {
     "data": {
      "text/plain": [
       "6000"
      ]
     },
     "execution_count": 9,
     "metadata": {},
     "output_type": "execute_result"
    }
   ],
   "source": [
    "mul=lambda n1,n2,n3: n1*n2*n3\n",
    "mul(10,20,30)"
   ]
  },
  {
   "cell_type": "markdown",
   "id": "2c4fafe8",
   "metadata": {},
   "source": [
    "## default argumentes"
   ]
  },
  {
   "cell_type": "code",
   "execution_count": 10,
   "id": "f049969c",
   "metadata": {},
   "outputs": [
    {
     "data": {
      "text/plain": [
       "600"
      ]
     },
     "execution_count": 10,
     "metadata": {},
     "output_type": "execute_result"
    }
   ],
   "source": [
    "def add(n1,n2,n3=300):\n",
    "    return(n1+n2+n3)\n",
    "add(100,200)"
   ]
  },
  {
   "cell_type": "code",
   "execution_count": 11,
   "id": "4b1f2b0e",
   "metadata": {},
   "outputs": [
    {
     "data": {
      "text/plain": [
       "600"
      ]
     },
     "execution_count": 11,
     "metadata": {},
     "output_type": "execute_result"
    }
   ],
   "source": [
    "add=lambda n1,n2,n3=300:(n1+n2+n3)\n",
    "add(100,200)"
   ]
  },
  {
   "cell_type": "code",
   "execution_count": 11,
   "id": "d2a2cbc8",
   "metadata": {},
   "outputs": [
    {
     "data": {
      "text/plain": [
       "200.0"
      ]
     },
     "execution_count": 11,
     "metadata": {},
     "output_type": "execute_result"
    }
   ],
   "source": [
    "def avg(n1,n2,n3=300):\n",
    "    return((n1+n2+n3)/3)\n",
    "avg(100,200)"
   ]
  },
  {
   "cell_type": "code",
   "execution_count": 10,
   "id": "b64fd5e5",
   "metadata": {},
   "outputs": [
    {
     "data": {
      "text/plain": [
       "20.0"
      ]
     },
     "execution_count": 10,
     "metadata": {},
     "output_type": "execute_result"
    }
   ],
   "source": [
    "avg=lambda n1,n2,n3=30: (n1+n2+n3)/3\n",
    "avg(10,20)"
   ]
  },
  {
   "cell_type": "markdown",
   "id": "195ffe7f",
   "metadata": {},
   "source": [
    "$if-else$"
   ]
  },
  {
   "cell_type": "code",
   "execution_count": 2,
   "id": "8490ec3e",
   "metadata": {},
   "outputs": [
    {
     "data": {
      "text/plain": [
       "200"
      ]
     },
     "execution_count": 2,
     "metadata": {},
     "output_type": "execute_result"
    }
   ],
   "source": [
    "def max(n1,n2):\n",
    "    if n1>n2:\n",
    "        return(n1)\n",
    "    else:\n",
    "        return(n2)\n",
    "max(100,200)    "
   ]
  },
  {
   "cell_type": "code",
   "execution_count": 53,
   "id": "16fc590f",
   "metadata": {},
   "outputs": [
    {
     "name": "stdout",
     "output_type": "stream",
     "text": [
      "400\n"
     ]
    }
   ],
   "source": [
    "max=lambda n1,n2:print(n1) if n1>n2 else print(n2)\n",
    "max(100,400)"
   ]
  },
  {
   "cell_type": "code",
   "execution_count": null,
   "id": "9a1dce7d",
   "metadata": {},
   "outputs": [],
   "source": []
  },
  {
   "cell_type": "code",
   "execution_count": 52,
   "id": "5431bdbf",
   "metadata": {},
   "outputs": [
    {
     "data": {
      "text/plain": [
       "True"
      ]
     },
     "execution_count": 52,
     "metadata": {},
     "output_type": "execute_result"
    }
   ],
   "source": [
    "max=lambda n1,n2:n1>n2\n",
    "#if n1>n2:\n",
    "    #print(n1)\n",
    "#else:\n",
    "    #print(n2)\n",
    "max(1000,200)"
   ]
  },
  {
   "cell_type": "code",
   "execution_count": null,
   "id": "b73669fd",
   "metadata": {},
   "outputs": [],
   "source": []
  },
  {
   "cell_type": "code",
   "execution_count": null,
   "id": "363e59bb",
   "metadata": {},
   "outputs": [],
   "source": [
    "lambda <v1,v2,v3...>:<output>\n",
    "\n",
    "if-else we need write in a single \n",
    "\n",
    "[<if_output> <if_con> else<else_output>]\n",
    "\n",
    "<function_name>=lambda <val1,val2>:<if_output> <if_con> else <else_output> "
   ]
  },
  {
   "cell_type": "code",
   "execution_count": 24,
   "id": "e1c5374f",
   "metadata": {},
   "outputs": [
    {
     "data": {
      "text/plain": [
       "200"
      ]
     },
     "execution_count": 24,
     "metadata": {},
     "output_type": "execute_result"
    }
   ],
   "source": [
    "max=lambda n1,n2: n1 if n1>n2 else n2\n",
    "max(100,200)"
   ]
  },
  {
   "cell_type": "code",
   "execution_count": 39,
   "id": "38f9728f",
   "metadata": {},
   "outputs": [
    {
     "data": {
      "text/plain": [
       "['Hyd', 'Mumbai', 'Chennai']"
      ]
     },
     "execution_count": 39,
     "metadata": {},
     "output_type": "execute_result"
    }
   ],
   "source": [
    "list1=['hyd','mumbai','chennai']\n",
    "#list2=['HYD','MUMBAI','CHENNAI']\n",
    "\n",
    "######################################\n",
    "list2=[]\n",
    "for i in list1:\n",
    "    list2.append(i.capitalize())\n",
    "    \n",
    "##########################################\n",
    "\n",
    "list2=[i.capitalize() for i in list1]\n",
    "list2"
   ]
  },
  {
   "cell_type": "markdown",
   "id": "28b43e50",
   "metadata": {},
   "source": [
    "$map$"
   ]
  },
  {
   "cell_type": "code",
   "execution_count": null,
   "id": "fb04fcc1",
   "metadata": {},
   "outputs": [],
   "source": [
    "list(map(lambda <variable>:<output>,<iterator>))"
   ]
  },
  {
   "cell_type": "code",
   "execution_count": 12,
   "id": "939b39a6",
   "metadata": {},
   "outputs": [
    {
     "data": {
      "text/plain": [
       "['Hyd', 'Mumbai', 'Chennai']"
      ]
     },
     "execution_count": 12,
     "metadata": {},
     "output_type": "execute_result"
    }
   ],
   "source": [
    "list1=['hyd','mumbai','chennai']\n",
    "list(map(lambda i : i.capitalize(),list1)) # list(map(a,b))"
   ]
  },
  {
   "cell_type": "code",
   "execution_count": null,
   "id": "8eedba1f",
   "metadata": {},
   "outputs": [],
   "source": [
    "list1=['hyd','mumbai','chennai']\n",
    "# list2=['Hyd','Mumbai','Chennai']\n",
    "###########################################3\n",
    "\n",
    "list2=[]\n",
    "for i in list1:\n",
    "    list2.append(i,capitalize())\n",
    "\n",
    "#########################################\n",
    "list1=['hyd','mumbai','chennai']\n",
    "list2=list(map(lambda i : i.capitalize(),list1))\n"
   ]
  },
  {
   "cell_type": "code",
   "execution_count": 28,
   "id": "768f84aa",
   "metadata": {},
   "outputs": [
    {
     "data": {
      "text/plain": [
       "[1, 4, 9, 16]"
      ]
     },
     "execution_count": 28,
     "metadata": {},
     "output_type": "execute_result"
    }
   ],
   "source": [
    "l1=[1,2,3,4]\n",
    "l2=[1,4,9,16]\n",
    "\n",
    "list(map(lambda i:i*i,l1))"
   ]
  },
  {
   "cell_type": "code",
   "execution_count": 15,
   "id": "04b89413",
   "metadata": {},
   "outputs": [
    {
     "data": {
      "text/plain": [
       "['hyder#abad', 'Mum#bai', 'Chenn#ai']"
      ]
     },
     "execution_count": 15,
     "metadata": {},
     "output_type": "execute_result"
    }
   ],
   "source": [
    "l1=['hyder#abad','Mum#bai','Chenn#ai','Blr','pune']\n",
    "# l2=['hyder#abad','Mum#bai','Chenn#ai']\n",
    "###################################################\n",
    "l2=[]\n",
    "for i in l1:\n",
    "    if '#' in i:\n",
    "        l2.append(i)\n",
    "l2\n",
    "######################################################\n",
    "l2=[i for i in l1 if '#' in i]\n",
    "l2"
   ]
  },
  {
   "cell_type": "markdown",
   "id": "6d8e0b02",
   "metadata": {},
   "source": [
    "$filter$"
   ]
  },
  {
   "cell_type": "code",
   "execution_count": 13,
   "id": "059687d8",
   "metadata": {},
   "outputs": [
    {
     "data": {
      "text/plain": [
       "[True, True, True, False, False]"
      ]
     },
     "execution_count": 13,
     "metadata": {},
     "output_type": "execute_result"
    }
   ],
   "source": [
    "l1=['hyder#abad','mum#bai','chenn#ai','blr','pune']\n",
    "list(map(lambda i: '#' in i,l1))\n"
   ]
  },
  {
   "cell_type": "code",
   "execution_count": 14,
   "id": "996f751f",
   "metadata": {},
   "outputs": [
    {
     "data": {
      "text/plain": [
       "['hyder#abad', 'mum#bai', 'chenn#ai']"
      ]
     },
     "execution_count": 14,
     "metadata": {},
     "output_type": "execute_result"
    }
   ],
   "source": [
    "l1l1=['hyder#abad','Mum#bai','Chenn#ai','Blr','pune']\n",
    "list(filter(lambda i : '#' in i,l1))"
   ]
  },
  {
   "cell_type": "code",
   "execution_count": null,
   "id": "b1e7268c",
   "metadata": {},
   "outputs": [],
   "source": [
    "map means map the input values to output\n",
    "                    i              i*i\n",
    "                    i              i.capitalize()\n",
    "                    i              '#' in i (T/F)"
   ]
  },
  {
   "cell_type": "code",
   "execution_count": null,
   "id": "132dc0a3",
   "metadata": {},
   "outputs": [],
   "source": [
    "==========================================================="
   ]
  },
  {
   "cell_type": "code",
   "execution_count": null,
   "id": "6d9bb948",
   "metadata": {},
   "outputs": [],
   "source": [
    "$explanation about lambda map and filter$ "
   ]
  },
  {
   "cell_type": "code",
   "execution_count": 16,
   "id": "88bf4b72",
   "metadata": {},
   "outputs": [
    {
     "name": "stdout",
     "output_type": "stream",
     "text": [
      "[2, 4, 6, 8, 10, 12]\n"
     ]
    }
   ],
   "source": [
    "list1=[1,2,3,4,5,6]\n",
    "new_values=map(lambda x: x*2, list1)\n",
    "print(list(new_values))"
   ]
  },
  {
   "cell_type": "code",
   "execution_count": 20,
   "id": "c85e128e",
   "metadata": {},
   "outputs": [
    {
     "name": "stdout",
     "output_type": "stream",
     "text": [
      "[1, 3, 5]\n"
     ]
    }
   ],
   "source": [
    "list2=[1,2,3,4,5,6]\n",
    "odd=filter(lambda x: x%2!=0,list2)\n",
    "print(list(odd))"
   ]
  },
  {
   "cell_type": "markdown",
   "id": "2a57eb75",
   "metadata": {},
   "source": []
  },
  {
   "cell_type": "code",
   "execution_count": null,
   "id": "fa7fe877",
   "metadata": {},
   "outputs": [],
   "source": []
  },
  {
   "cell_type": "code",
   "execution_count": null,
   "id": "6288eda0",
   "metadata": {},
   "outputs": [],
   "source": []
  },
  {
   "cell_type": "code",
   "execution_count": null,
   "id": "acf28b9c",
   "metadata": {},
   "outputs": [],
   "source": []
  }
 ],
 "metadata": {
  "kernelspec": {
   "display_name": "Python 3 (ipykernel)",
   "language": "python",
   "name": "python3"
  },
  "language_info": {
   "codemirror_mode": {
    "name": "ipython",
    "version": 3
   },
   "file_extension": ".py",
   "mimetype": "text/x-python",
   "name": "python",
   "nbconvert_exporter": "python",
   "pygments_lexer": "ipython3",
   "version": "3.11.5"
  }
 },
 "nbformat": 4,
 "nbformat_minor": 5
}
